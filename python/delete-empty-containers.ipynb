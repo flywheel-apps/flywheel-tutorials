{
 "cells": [
  {
   "cell_type": "markdown",
   "metadata": {},
   "source": [
    "# Removing empty containers"
   ]
  },
  {
   "cell_type": "markdown",
   "metadata": {},
   "source": [
    "Problem: empty containers\n",
    "\n",
    "```\n",
    "Group\n",
    "└── Project\n",
    "    └── Subject\n",
    "        └── Session\n",
    "            └── Acquisition\n",
    "```\n",
    "\n",
    "So delete:\n",
    "* acquisition with no files \n",
    "* sessions with no acquisitions\n",
    "* subjects with no sessions\n",
    "\n",
    "But files can be attached to any level so make sure there are none.  What else should be checked?  Options to check for certain metadata, tags, presence in a collection?\n",
    "\n",
    "Needs to be run at various levels but it has to go to the bottom to check for emptyness.  These scripts can be called individually to address a particular level or at the top to get all empty containers.  If running from a gear, run at the level of the destination container."
   ]
  },
  {
   "cell_type": "code",
   "execution_count": null,
   "metadata": {},
   "outputs": [],
   "source": [
    "import flywheel\n",
    "fw = flywheel.Client('', root=True)\n",
    "fw.get_config().site.api_url"
   ]
  },
  {
   "cell_type": "code",
   "execution_count": null,
   "metadata": {},
   "outputs": [],
   "source": [
    "def delete_empty_acqusition(acqusition, dry_run=False):\n",
    "    print(f'    Checking if acqusition \"{acqusition.label}\" is empty')\n",
    "    num_files = len(acqusition.files)\n",
    "    print(f'    Found {num_files} files')\n",
    "    acqusition_has_no_files = num_files == 0\n",
    "    if acqusition_has_no_files:\n",
    "        if dry_run:\n",
    "            print(f'    NOT Deleting acqusition \"{acqusition.label}\"')\n",
    "        else:\n",
    "            print(f'    Deleting acqusition \"{acqusition.label}\"')\n",
    "            print(fw.delete_acquisition(acquisition.id))\n",
    "    return acqusition_has_no_files"
   ]
  },
  {
   "cell_type": "code",
   "execution_count": null,
   "metadata": {},
   "outputs": [],
   "source": [
    "def delete_empty_acqusitions(session, dry_run=False):\n",
    "    acquisitions = session.acquisitions()\n",
    "    num_acquisitions = len(acquisitions)\n",
    "    num_deleted = 0\n",
    "    print(f'Found {num_acquisitions} acquisitions')\n",
    "    for acquisition in acquisitions:\n",
    "        if delete_empty_acqusition(acquisition, dry_run):\n",
    "            num_deleted += 1\n",
    "    msg = 'Almost ' if dry_run else \"\"\n",
    "    print(f'{msg}Deleted {num_deleted}/{num_acquisitions} sessions')\n",
    "    return num_deleted == num_acquisitions"
   ]
  },
  {
   "cell_type": "code",
   "execution_count": null,
   "metadata": {},
   "outputs": [],
   "source": [
    "def delete_empty_session(session, dry_run=False):\n",
    "    print(f'  Checking if session \"{session.label}\" is empty')\n",
    "    num_files = len(session.files)\n",
    "    print(f'  Found {num_files} files')\n",
    "    session_has_no_files = num_files == 0\n",
    "    all_acqusition_empty = delete_empty_acqusitions(session, dry_run)\n",
    "    session_empty = all_acqusition_empty and session_has_no_files\n",
    "    if session_empty:\n",
    "        if dry_run:\n",
    "            print(f'  NOT Deleting session \"{session.label}\"')\n",
    "        else:\n",
    "            print(f'  Deleting session \"{session.label}\"')\n",
    "            print(fw.delete_session(session.id))\n",
    "    return session_empty"
   ]
  },
  {
   "cell_type": "code",
   "execution_count": null,
   "metadata": {},
   "outputs": [],
   "source": [
    "def delete_empty_sessions(subject, dry_run=False):\n",
    "    sessions = subject.sessions()\n",
    "    num_sessions = len(sessions)\n",
    "    num_deleted = 0\n",
    "    print(f'Found {num_sessions} sessions')\n",
    "    for session in sessions:\n",
    "        if delete_empty_session(session, dry_run):\n",
    "            num_deleted += 1\n",
    "    msg = 'Almost ' if dry_run else \"\"\n",
    "    print(f'{msg}Deleted {num_deleted}/{num_sessions} sessions')\n",
    "    return num_deleted == num_sessions"
   ]
  },
  {
   "cell_type": "code",
   "execution_count": null,
   "metadata": {},
   "outputs": [],
   "source": [
    "def delete_empty_subject(subject, dry_run=False):\n",
    "    print(f'Checking if subject \"{subject.label}\" is empty')\n",
    "    num_files = len(subject.files)\n",
    "    print(f'Found {num_files} files')\n",
    "    subject_has_no_files = num_files == 0\n",
    "    all_sessions_empty = delete_empty_sessions(subject, dry_run)\n",
    "    subject_empty = all_sessions_empty and subject_has_no_files\n",
    "    if subject_empty:\n",
    "        if dry_run:\n",
    "            print(f'NOT Deleting subject \"{subject.label}\"')\n",
    "        else:\n",
    "            print(f'Deleting subject \"{subject.label}\"')\n",
    "            print(fw.delete_subject(subject.id))\n",
    "    return subject_empty"
   ]
  },
  {
   "cell_type": "code",
   "execution_count": null,
   "metadata": {},
   "outputs": [],
   "source": [
    "def delete_empty_subjects(project, dry_run=False):\n",
    "    print(f'Deleting empty subjects for project \"{project.label}\"')\n",
    "    subjects = project.subjects()\n",
    "    num_subjects = len(subjects)\n",
    "    num_deleted = 0\n",
    "    print(f'Found {len(subjects)} subjects')\n",
    "    for ii, subject in enumerate(subjects):\n",
    "        print(f'Subject # {ii:3d} ---------------------------------')\n",
    "        if delete_empty_subject(subject, dry_run):\n",
    "            num_deleted += 1\n",
    "    msg = 'Almost ' if dry_run else \"\"\n",
    "    print(f'{msg}Deleted {num_deleted}/{num_subjects} subjects')\n",
    "    return num_deleted == num_subjects"
   ]
  },
  {
   "cell_type": "markdown",
   "metadata": {},
   "source": [
    "## Create Project for testing"
   ]
  },
  {
   "cell_type": "code",
   "execution_count": null,
   "metadata": {},
   "outputs": [],
   "source": [
    "group = fw.get('flywheel')\n",
    "project = group.add_project(label='Deletion Test Project')"
   ]
  },
  {
   "cell_type": "code",
   "execution_count": null,
   "metadata": {},
   "outputs": [],
   "source": [
    "subject = project.add_subject(label='Subject 01')\n",
    "session = subject.add_session(label='Session 01')\n",
    "acquisition = session.add_acquisition(label='Localizer')\n",
    "acquisition.upload_file('FLYWHEEL.dicom.zip')"
   ]
  },
  {
   "cell_type": "code",
   "execution_count": null,
   "metadata": {},
   "outputs": [],
   "source": [
    "delete_empty_subjects(project, dry_run=True)"
   ]
  },
  {
   "cell_type": "markdown",
   "metadata": {},
   "source": [
    "It didn't delete it because it was not empty (and it was a dry-run)"
   ]
  },
  {
   "cell_type": "code",
   "execution_count": null,
   "metadata": {},
   "outputs": [],
   "source": [
    "delete_empty_subjects(project)"
   ]
  },
  {
   "cell_type": "markdown",
   "metadata": {},
   "source": [
    "Again it didn't delete becase the acquisiton had a file.  So delete that file."
   ]
  },
  {
   "cell_type": "code",
   "execution_count": null,
   "metadata": {},
   "outputs": [],
   "source": [
    "acquisition.delete_file('FLYWHEEL.dicom.zip')"
   ]
  },
  {
   "cell_type": "code",
   "execution_count": null,
   "metadata": {},
   "outputs": [],
   "source": [
    "delete_empty_subjects(project, dry_run=True)"
   ]
  },
  {
   "cell_type": "code",
   "execution_count": null,
   "metadata": {},
   "outputs": [],
   "source": [
    "delete_empty_subjects(project)"
   ]
  },
  {
   "cell_type": "markdown",
   "metadata": {},
   "source": [
    "## Now add some files at different levels to the project to be deleted"
   ]
  },
  {
   "cell_type": "code",
   "execution_count": null,
   "metadata": {},
   "outputs": [],
   "source": [
    "subject = project.add_subject(label='Subject 01')\n",
    "subject.upload_file('BIDS.png')\n",
    "session = subject.add_session(label='Session 01')\n",
    "session.upload_file('words.txt')\n",
    "acquisition = session.add_acquisition(label='Localizer')\n",
    "acquisition.upload_file('FLYWHEEL.dicom.zip')\n",
    "acquisition.upload_file('shme.json')"
   ]
  },
  {
   "cell_type": "code",
   "execution_count": null,
   "metadata": {},
   "outputs": [],
   "source": [
    "delete_empty_subjects(project, dry_run=True)"
   ]
  },
  {
   "cell_type": "code",
   "execution_count": null,
   "metadata": {},
   "outputs": [],
   "source": [
    "delete_empty_subjects(project)"
   ]
  },
  {
   "cell_type": "markdown",
   "metadata": {},
   "source": [
    "Now delete files and see things get deleted"
   ]
  },
  {
   "cell_type": "code",
   "execution_count": null,
   "metadata": {},
   "outputs": [],
   "source": [
    "acquisition.delete_file('FLYWHEEL.dicom.zip')"
   ]
  },
  {
   "cell_type": "code",
   "execution_count": null,
   "metadata": {},
   "outputs": [],
   "source": [
    "delete_empty_subjects(project)"
   ]
  },
  {
   "cell_type": "code",
   "execution_count": null,
   "metadata": {},
   "outputs": [],
   "source": [
    "acquisition.delete_file('shme.json')"
   ]
  },
  {
   "cell_type": "code",
   "execution_count": null,
   "metadata": {},
   "outputs": [],
   "source": [
    "delete_empty_subjects(project)"
   ]
  },
  {
   "cell_type": "code",
   "execution_count": null,
   "metadata": {},
   "outputs": [],
   "source": [
    "print(session.delete_file('words.txt'))\n",
    "delete_empty_subjects(project)"
   ]
  },
  {
   "cell_type": "code",
   "execution_count": null,
   "metadata": {},
   "outputs": [],
   "source": [
    "print(subject.delete_file('BIDS.png'))  # file can't be seen in UI because no sessions exist\n",
    "delete_empty_subjects(project)"
   ]
  }
 ],
 "metadata": {
  "kernelspec": {
   "display_name": "Python 3",
   "language": "python",
   "name": "python3"
  },
  "language_info": {
   "codemirror_mode": {
    "name": "ipython",
    "version": 3
   },
   "file_extension": ".py",
   "mimetype": "text/x-python",
   "name": "python",
   "nbconvert_exporter": "python",
   "pygments_lexer": "ipython3",
   "version": "3.7.6"
  }
 },
 "nbformat": 4,
 "nbformat_minor": 4
}
