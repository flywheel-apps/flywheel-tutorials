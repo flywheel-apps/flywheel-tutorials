{
 "cells": [
  {
   "cell_type": "markdown",
   "metadata": {},
   "source": [
    "**Title**: Delete Empty Containers \n",
    "\n",
    "**Date**:  June 24th 2020\n",
    "\n",
    "**Description**:  \n",
    "This notebook demonstrates how to remove empty containers with a top-down method.\n",
    "\n",
    "\n"
   ]
  },
  {
   "cell_type": "markdown",
   "metadata": {
    "colab_type": "text",
    "id": "ay1WSTNnycu9"
   },
   "source": [
    "# Install and Import Dependencies"
   ]
  },
  {
   "cell_type": "code",
   "execution_count": null,
   "metadata": {
    "colab": {
     "base_uri": "https://localhost:8080/",
     "height": 292
    },
    "colab_type": "code",
    "id": "TvSB-YzJycd9",
    "outputId": "88896fc2-0cd1-4745-d1d7-5752fae84b64"
   },
   "outputs": [],
   "source": [
    "# Install specific packages required for this notebook\n",
    "!pip install flywheel-sdk tqdm pandas"
   ]
  },
  {
   "cell_type": "code",
   "execution_count": null,
   "metadata": {
    "colab": {},
    "colab_type": "code",
    "id": "wgIDvfT3yi2B"
   },
   "outputs": [],
   "source": [
    "# Import packages\n",
    "import os\n",
    "from getpass import getpass\n",
    "import logging\n",
    "import time\n",
    "from pathlib import Path\n",
    "\n",
    "import flywheel\n",
    "import pandas as pd\n",
    "from tqdm.notebook import tqdm\n",
    "from permission import check_user_permission"
   ]
  },
  {
   "cell_type": "code",
   "execution_count": null,
   "metadata": {
    "colab": {},
    "colab_type": "code",
    "id": "ZtWGHIEBykZz"
   },
   "outputs": [],
   "source": [
    "# Instantiate a logger\n",
    "logging.basicConfig(level=logging.INFO, format='%(asctime)s %(levelname)s %(message)s')\n",
    "log = logging.getLogger('root')"
   ]
  },
  {
   "cell_type": "markdown",
   "metadata": {
    "colab_type": "text",
    "id": "RAnUF3QkynxV"
   },
   "source": [
    "# Flywheel API Key and Client"
   ]
  },
  {
   "cell_type": "markdown",
   "metadata": {
    "colab_type": "text",
    "id": "P8a20roWpFB-"
   },
   "source": [
    "Get your API_KEY. More on this at in the Flywheel SDK doc [here](https://flywheel-io.gitlab.io/product/backend/sdk/branches/master/python/getting_started.html#api-key)."
   ]
  },
  {
   "cell_type": "code",
   "execution_count": null,
   "metadata": {
    "colab": {
     "base_uri": "https://localhost:8080/",
     "height": 34
    },
    "colab_type": "code",
    "id": "LWkEZ-JTpFB-",
    "outputId": "47a9c115-7839-404b-b73c-69e57887ad5c"
   },
   "outputs": [],
   "source": [
    "API_KEY = getpass('Enter API_KEY here: ')"
   ]
  },
  {
   "cell_type": "markdown",
   "metadata": {
    "colab_type": "text",
    "id": "yl1SuWIdpFCB"
   },
   "source": [
    "Instantiate the Flywheel API client"
   ]
  },
  {
   "cell_type": "code",
   "execution_count": null,
   "metadata": {
    "colab": {},
    "colab_type": "code",
    "id": "yW3kAGFPpFCB"
   },
   "outputs": [],
   "source": [
    "fw = flywheel.Client(API_KEY if ('API_KEY' in locals() and API_KEY) else os.environ.get('FW_KEY'))"
   ]
  },
  {
   "cell_type": "markdown",
   "metadata": {
    "colab_type": "text",
    "id": "XPQg0AFey16p"
   },
   "source": [
    "Show Flywheel logging information"
   ]
  },
  {
   "cell_type": "code",
   "execution_count": null,
   "metadata": {
    "colab": {
     "base_uri": "https://localhost:8080/",
     "height": 54
    },
    "colab_type": "code",
    "id": "88-D948hy3uS",
    "outputId": "21183a89-d336-449b-aabd-df02adac3b55"
   },
   "outputs": [],
   "source": [
    "log.info('You are now logged in as %s to %s', fw.get_current_user()['email'], fw.get_config()['site']['api_url'])"
   ]
  },
  {
   "cell_type": "markdown",
   "metadata": {},
   "source": [
    "***"
   ]
  },
  {
   "cell_type": "markdown",
   "metadata": {},
   "source": [
    "# Overview "
   ]
  },
  {
   "cell_type": "markdown",
   "metadata": {},
   "source": [
    "\n",
    "Flywheel data model relies on hierarchical containers. You can read more about the flywheel containers in our documentation [here](https://flywheel-io.gitlab.io/product/backend/sdk/branches/master/python/data_model.html#hierarchy).  \n",
    "\n",
    "Flywheel Project are structure into the following hierarchy:  \n",
    "\n",
    "```\n",
    "Group\n",
    "└── Project\n",
    "    └── Subject \n",
    "        └── Session\n",
    "            └── Acquisition\n",
    "```\n",
    "\n",
    "Each of Project, Subject, Session and Acquisition are containers. Containers share common properties such as the ability to store files, metadata or analyses. \n",
    "\n",
    "## How does the top-down approach work?\n",
    "Based on the Flywheel Hierarchy above, the top-down approach will start from the Subject container and traverse down through Session and Acquisition containers.  This method will remove Subject, Session and Acquisition containers that have no children containers, and no files nor analyses attached to the container.\n"
   ]
  },
  {
   "cell_type": "markdown",
   "metadata": {},
   "source": [
    "# Requirements"
   ]
  },
  {
   "cell_type": "markdown",
   "metadata": {},
   "source": [
    "In order to run this notebook, you will need to have the right permission on the Group level to create a new Project for testing. "
   ]
  },
  {
   "cell_type": "code",
   "execution_count": null,
   "metadata": {},
   "outputs": [],
   "source": [
    "# Minimum requirements that you will need to remove containers on the Project level. \n",
    "min_reqs = {\n",
    "\"site\": \"user\",\n",
    "\"group\": \"admin\"\n",
    "}"
   ]
  },
  {
   "cell_type": "code",
   "execution_count": null,
   "metadata": {},
   "outputs": [],
   "source": [
    "GROUP_ID = input('Please enter the Group ID that you will be using to create the new project: ')"
   ]
  },
  {
   "cell_type": "code",
   "execution_count": null,
   "metadata": {},
   "outputs": [],
   "source": [
    "check_user_permission(fw, min_reqs, group = GROUP_ID)"
   ]
  },
  {
   "cell_type": "markdown",
   "metadata": {},
   "source": [
    "# Initialize a few values\n",
    "Now, we will be defining a few values that will be use in this notebook. The `GROUP_ID` is the Group ID that you will be using throughout this notebook. \n"
   ]
  },
  {
   "cell_type": "code",
   "execution_count": null,
   "metadata": {},
   "outputs": [],
   "source": [
    "GROUP_ID = input('Please enter the Group that you have admin permission for')"
   ]
  },
  {
   "cell_type": "code",
   "execution_count": null,
   "metadata": {},
   "outputs": [],
   "source": [
    "PROJECT_LABEL = 'test-delete-containers'"
   ]
  },
  {
   "cell_type": "markdown",
   "metadata": {},
   "source": [
    "Please defined below the path to file that you would like to use for testing which will be uploaded to your Flywheel instance"
   ]
  },
  {
   "cell_type": "code",
   "execution_count": null,
   "metadata": {},
   "outputs": [],
   "source": [
    "PATH_TO_TEST_FILE = Path(\"/path/to/a/test/file\")\n",
    "TEST_FILE_BASENAME = PATH_TO_TEST_FILE.name"
   ]
  },
  {
   "cell_type": "markdown",
   "metadata": {},
   "source": [
    "<div class=\"alert alert-block alert-info\" style=\"color:black\"><b>INFO:</b> For tutorial purposes, we are creating a test project and uploading some DICOM files on Acquisition container. Feel free to use one of your test projects and skip the 'Create A New Test Project' section. </div>"
   ]
  },
  {
   "cell_type": "markdown",
   "metadata": {},
   "source": [
    "# Create A New Test Project"
   ]
  },
  {
   "cell_type": "code",
   "execution_count": null,
   "metadata": {},
   "outputs": [],
   "source": [
    "my_group = fw.lookup(GROUP_ID)"
   ]
  },
  {
   "cell_type": "code",
   "execution_count": null,
   "metadata": {},
   "outputs": [],
   "source": [
    "project=my_group.add_project(label=PROJECT_LABEL)"
   ]
  },
  {
   "cell_type": "markdown",
   "metadata": {},
   "source": [
    "# Create Subject, Session and Acquisition container and upload File"
   ]
  },
  {
   "cell_type": "markdown",
   "metadata": {},
   "source": [
    "Here, we will be create one Subject container and in that Subject container, we will be adding one Session and in that Session, there will be one Acquisition added. Here we will also upload the File to the Acquisition that created. "
   ]
  },
  {
   "cell_type": "code",
   "execution_count": null,
   "metadata": {},
   "outputs": [],
   "source": [
    "# Create Subject\n",
    "subject = project.add_subject(label='Subject 01')\n",
    "# Create Session\n",
    "session = subject.add_session(label='Session 01')\n",
    "# Create Acquisition\n",
    "acquisition = session.add_acquisition(label='Localizer')\n",
    "# Upload File\n",
    "acquisition.upload_file(PATH_TO_TEST_FILE)"
   ]
  },
  {
   "cell_type": "markdown",
   "metadata": {},
   "source": [
    "# Helpful Functions"
   ]
  },
  {
   "cell_type": "code",
   "execution_count": null,
   "metadata": {},
   "outputs": [],
   "source": [
    "def delete_empty_acquisition(acquisition, dry_run=True):\n",
    "    \"\"\"Returns True if acquisition was empty and got deleted.\n",
    "    \n",
    "    Args:\n",
    "        acquisition (object): A Flywheel Acquisition.\n",
    "        dry_run (bool): If true, container is not deleted.    \n",
    "        \n",
    "    Returns:\n",
    "        bool: True if container got deleted, False otherwise.\n",
    "    \"\"\"\n",
    "    log.debug(f'Checking if acquisition \"{acquisition.label}\" is empty')\n",
    "    num_files = len(acquisition.files)\n",
    "    log.debug(f'  Found {num_files} files')\n",
    "    delete_acquisition = num_files == 0\n",
    "    if delete_acquisition:\n",
    "        log.info(f'Deleting acquisition \"{acquisition.label}\"')\n",
    "        if not dry_run:\n",
    "            fw.delete_acquisition(acquisition.id)\n",
    "    return delete_acquisition"
   ]
  },
  {
   "cell_type": "code",
   "execution_count": null,
   "metadata": {},
   "outputs": [],
   "source": [
    " def delete_empty_session(session, dry_run=True):\n",
    "    \"\"\"Returns True if session was empty and got deleted.\n",
    "    \n",
    "    Args:\n",
    "        session (object): A Flywheel Session.\n",
    "        dry_run (bool): If true, container is not deleted.    \n",
    "        \n",
    "    Returns:\n",
    "        bool: True if container got deleted, False otherwise.\n",
    "    \"\"\"        \n",
    "    log.debug(f'Checking if session \"{session.label}\" is empty')\n",
    "    num_files = len(session.files)\n",
    "    num_acqs = len(session.acquisitions())\n",
    "    log.debug(f'  Found {num_files} files')\n",
    "    log.debug(f'  Found {num_acqs} acquisitions')\n",
    "    delete_session = (num_acqs == 0) and (num_files == 0)\n",
    "    if (num_acqs == 0) and num_files > 0:\n",
    "        log.warning(f'Empty session but file attachment - Not deleting! ({session.id} / {session.label})')\n",
    "    if delete_session:\n",
    "        log.info(f'Deleting session \"{session.label}\"')\n",
    "        if not dry_run:\n",
    "            fw.delete_session(session.id)\n",
    "    return delete_session"
   ]
  },
  {
   "cell_type": "code",
   "execution_count": null,
   "metadata": {},
   "outputs": [],
   "source": [
    " def delete_empty_subject(subject, dry_run=True):\n",
    "    \"\"\"Returns True if subject was empty and got deleted.\n",
    "    \n",
    "    Args:\n",
    "        subject (object): A Flywheel Subject.\n",
    "        dry_run (bool): If true, container is not deleted.    \n",
    "        \n",
    "    Returns:\n",
    "        bool: True if container got deleted, False otherwise.\n",
    "    \"\"\"        \n",
    "    log.debug(f'Checking if subject \"{subject.label}\" is empty')\n",
    "    num_files = len(subject.files)\n",
    "    num_sessions = len(subject.sessions())\n",
    "    log.debug(f'  Found {num_files} files')\n",
    "    log.debug(f'  Found {num_sessions} sessions')    \n",
    "    delete_subject = (num_files == 0) and (num_sessions == 0)\n",
    "    if (num_sessions == 0) and num_files > 0:\n",
    "        log.warning(f'Empty subject but file attachments! - Not deleting!  ({subject.id} / {subject.label})')\n",
    "    if delete_subject:\n",
    "        log.info(f'Deleting subject \"{subject.label}\"')\n",
    "        if not dry_run:        \n",
    "            fw.delete_subject(subject.id)\n",
    "    return delete_subject"
   ]
  },
  {
   "cell_type": "code",
   "execution_count": null,
   "metadata": {},
   "outputs": [],
   "source": [
    "def delete_empty_containers_in_project(project, dry_run=True):\n",
    "    \"\"\"Delete empty containers in project hierarchy and returns a dataframe of delete containers\n",
    "    \n",
    "    Args:\n",
    "        project (object): A Flywheel project.\n",
    "        dry_run (bool): If true, container is not deleted.    \n",
    "        \n",
    "    Returns:\n",
    "        pandas.DataFrame: A dataframe listing deleted containers\n",
    "    \"\"\"\n",
    "    df = pd.DataFrame(columns=['type', 'label', 'id', 'parents.subject', 'parents.session'])\n",
    "    subjects = project.subjects()\n",
    "    for subject in tqdm(subjects):\n",
    "        for session in subject.sessions.iter():\n",
    "            for acquisition in session.acquisitions.iter():\n",
    "                deleted = delete_empty_acquisition(acquisition, dry_run=dry_run)\n",
    "                if deleted:\n",
    "                    df = df.append(dict(zip(df.columns, ['acq', acquisition.label, acquisition.id, acquisition.parents.subject, acquisition.parents.session])), ignore_index=True)\n",
    "            session = session.reload()\n",
    "            deleted = delete_empty_session(session, dry_run=dry_run)\n",
    "            if deleted:\n",
    "                df = df.append(dict(zip(df.columns, ['ses', session.label, session.id, session.parents.subject, None])), ignore_index=True)\n",
    "        subject = subject.reload()\n",
    "        deleted = delete_empty_subject(subject, dry_run=dry_run)\n",
    "        if deleted:\n",
    "            df = df.append(dict(zip(df.columns, ['sub', subject.label, subject.id, None, None])), ignore_index=True)\n",
    "    return df"
   ]
  },
  {
   "cell_type": "markdown",
   "metadata": {},
   "source": [
    "# Getting Started"
   ]
  },
  {
   "cell_type": "markdown",
   "metadata": {},
   "source": [
    "First, we are going to do a dry run by setting `dry_run` to `True` before actually deleting the Subjects container."
   ]
  },
  {
   "cell_type": "code",
   "execution_count": null,
   "metadata": {},
   "outputs": [],
   "source": [
    "df = delete_empty_containers_in_project(project, dry_run=True)"
   ]
  },
  {
   "cell_type": "code",
   "execution_count": null,
   "metadata": {},
   "outputs": [],
   "source": [
    "len(df)"
   ]
  },
  {
   "cell_type": "markdown",
   "metadata": {},
   "source": [
    "Now we can try to actually delete the empty containers"
   ]
  },
  {
   "cell_type": "code",
   "execution_count": null,
   "metadata": {},
   "outputs": [],
   "source": [
    "df = delete_empty_containers_in_project(project)"
   ]
  },
  {
   "cell_type": "code",
   "execution_count": null,
   "metadata": {},
   "outputs": [],
   "source": [
    "len(df)"
   ]
  },
  {
   "cell_type": "markdown",
   "metadata": {},
   "source": [
    "As expected, it didn't delete the `Subject 01` subject container as the Acquisition contains a file. "
   ]
  },
  {
   "cell_type": "markdown",
   "metadata": {},
   "source": [
    "So let's try to delete the file that we have uploaded earlier to the `acquisition`. If you recall, the file that is being uploaded is named as TEST_FILE_BASENAME. We will be using the `delete_file` method to delete the file from the Acquisition container. \n"
   ]
  },
  {
   "cell_type": "markdown",
   "metadata": {},
   "source": [
    "<div class=\"alert alert-block alert-info\" style=\"color:black\"><b>INFO:</b> You can also use <code>delete_file</code> method to delete file from the Session or Subject container</div>"
   ]
  },
  {
   "cell_type": "code",
   "execution_count": null,
   "metadata": {},
   "outputs": [],
   "source": [
    "acquisition.delete_file(TEST_FILE_BASENAME)"
   ]
  },
  {
   "cell_type": "markdown",
   "metadata": {},
   "source": [
    "After deleting the file, we can try to delete the container again. "
   ]
  },
  {
   "cell_type": "code",
   "execution_count": null,
   "metadata": {},
   "outputs": [],
   "source": [
    "df = delete_empty_containers_in_project(project)"
   ]
  },
  {
   "cell_type": "code",
   "execution_count": null,
   "metadata": {},
   "outputs": [],
   "source": [
    "df"
   ]
  },
  {
   "cell_type": "markdown",
   "metadata": {},
   "source": [
    "# Do I have the proper permissions to delete a container in my project?"
   ]
  },
  {
   "cell_type": "markdown",
   "metadata": {},
   "source": [
    "If you have a project where you would like to remove/delete empty containers, you will need to have the right permissions to delete/modify the containers on the Project level.  Below are the minimum requirements. "
   ]
  },
  {
   "cell_type": "code",
   "execution_count": null,
   "metadata": {},
   "outputs": [],
   "source": [
    "# Minimum requirements that you will need to delete/modify containers within the Project.\n",
    "min_reqs = {\n",
    "\"site\": \"user\",\n",
    "\"group\": \"rw\",\n",
    "\"project\":[\n",
    "    'containers_modify_metadata',\n",
    "    'containers_delete_hierarchy',\n",
    "    'files_create_upload',\n",
    "    'files_modify_metadata',\n",
    "    'files_delete_non_device_data',\n",
    "    'files_delete_device_data',\n",
    "    ]\n",
    "}"
   ]
  },
  {
   "cell_type": "code",
   "execution_count": null,
   "metadata": {},
   "outputs": [],
   "source": [
    "GROUP_ID = input('Please enter the Group ID that you will be using to create the new project: ')"
   ]
  },
  {
   "cell_type": "code",
   "execution_count": null,
   "metadata": {},
   "outputs": [],
   "source": [
    "PROJECT_LABEL = input('Please enter the Project Label that you want to work with in this notebook: ')"
   ]
  },
  {
   "cell_type": "code",
   "execution_count": null,
   "metadata": {},
   "outputs": [],
   "source": [
    "check_user_permission(fw, min_reqs, group = GROUP_ID, project = PROJECT_LABEL)"
   ]
  },
  {
   "cell_type": "markdown",
   "metadata": {},
   "source": [
    "After you have verified that you have the right permissions to delete/remove containers in the desired project, you can get the project container and call `delete_empty_containers_in_project` function again. "
   ]
  },
  {
   "cell_type": "code",
   "execution_count": null,
   "metadata": {},
   "outputs": [],
   "source": [
    "project = fw.projects.find_first('label={PROJECT_LABEL}')"
   ]
  },
  {
   "cell_type": "code",
   "execution_count": null,
   "metadata": {},
   "outputs": [],
   "source": [
    "delete_empty_containers_in_project(project, dry_run=True)"
   ]
  }
 ],
 "metadata": {
  "kernelspec": {
   "display_name": "Python 3",
   "language": "python",
   "name": "python3"
  },
  "language_info": {
   "codemirror_mode": {
    "name": "ipython",
    "version": 3
   },
   "file_extension": ".py",
   "mimetype": "text/x-python",
   "name": "python",
   "nbconvert_exporter": "python",
   "pygments_lexer": "ipython3",
   "version": "3.7.6"
  }
 },
 "nbformat": 4,
 "nbformat_minor": 4
}
