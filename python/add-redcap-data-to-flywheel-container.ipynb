{
 "cells": [
  {
   "cell_type": "markdown",
   "metadata": {},
   "source": [
    "**Title**: Adding REDCap fields to Flywheel metadata  \n",
    "**Date**:  17-04-2020  \n",
    "**Description**:  \n",
    "\n",
    "## Background\n",
    "REDCap is an online tool for acquiring questionnaire style data, typically on subjects, though the range of uses is virtually limitless.  For example, one REDCap site could provide subjects with a series of questions to answer over the course of a study.  Another REDCap site could simply contain one form for each subject to fill, possibly some kind of enrollment data.  Another REDCap site could be made with a series of forms designed to track the progress of a project.  Because of the diverse possibilities of REDCap implementations, there is no single script that can be designed to run for all cases.  The purpose of this notebook is to introduce you to the tools required to integrate REDCap and Flywheel.  Using these tools, a custom script will have to be created based on your specific use case.\n",
    "\n",
    "Before getting started, download and install all required libraries.  It's also highly recommended that you read the PyCap quickstart and Documentation to familiarize yourself with the tools.\n",
    "\n",
    "\n",
    "## Requirements:\n",
    "- **Python** (Preferably >= 3.0) and the following libraries:  \n",
    "  * **flywheel-sdk**  ([Documentation](https://flywheel-io.gitlab.io/product/backend/sdk/branches/master/python/index.html))  \n",
    "  * **PyCap**  ([Documentation](https://pycap.readthedocs.io/en/latest/))  \n",
    "- Optional libraries used in this demo:  \n",
    "  * **getpass**  \n",
    "  * **pprint**  \n",
    "  * **pandas**  \n",
    "\n",
    "\n",
    "## REDCap vs Flywheel Organization:\n",
    "\n",
    "### Flywheel Hierarchy\n",
    "Flywheel and REDCap both organize their data slightly differently.  Flywheel has a straightforward hierarchy:\n",
    "\n",
    "* Project\n",
    "  * Subject\n",
    "    * Session\n",
    "      * Acquisition  \n",
    "  \n",
    "  \n",
    "This Hierarchy is strictly enforced (you will never find an acquisition containing a subject, and a subject cannot have an acquisition without also having a session).  \n",
    "  \n",
    "  \n",
    "* A **Project** is like a \"Study\", it contains all the scans taken for a given research project.  \n",
    "* A **Subject** is an individual person.  The \"Subject\" container has all sessions and acquisitions associated with that subject.  \n",
    "* A **Session** is one distinct instance of scanning.  A session typically contains one or more acquisitions (scans).  In most cases, a session is all the scans taken from when a subject enters a scanner, to when they exit.  If at a later date, the subject returns for more scans, that would be considered a new session for that subject.  \n",
    "* An **Acquisition** is one individual scan (Typically a DICOM file).  There are typically multiple acquisitions per session.\n",
    "\n",
    "Each project can have multiple subjects.  \n",
    "Each subject can have multiple sessions.  \n",
    "Each session can have multiple acquisitions.  \n",
    "  \n",
    "  \n",
    "### REDCap Hierarchy\n",
    "REDCap follows a similar pattern:  \n",
    "\n",
    "* Project\n",
    "  * Arm\n",
    "    * Event\n",
    "      * Form\n",
    "        * Field  \n",
    "         \n",
    "         \n",
    "\n",
    "Although REDCap has a similar structure, it does not rigidly enforce how this hierarchy is utilized.  Here we provide a common use case, but different studies may utilize different strategies:  \n",
    "      \n",
    "* A **Project** is like a \"Study\", it contains all the information gathered for a given research project.  \n",
    "* An **Arm** is a collection of **Events**.  It's used in a longitudinal study to determine which \"Phase\" of the research study the data is acquired from.  For example, \"Arm1\" might be like a \"Phase1\", which involves basic enrollment questions of a subject (Demographics, consent, etc.), as well as some baseline questions.  \"Arm2\" might be a battery of questions that are acquired throughout the study, and \"Arm3\" might be another (or the same) battery of questions for the end of the study, as well as an exit questionnaire. An \"Arm\" doesn't necessarily need to be acquired all at once.\n",
    "* An **Event** is a unique data acquisition session.  For example, in \"Arm2\", let's say the subject is required to fill out a mood questionnaire every week for the duration of the study.  While each questionnaire would fall broadly under \"Arm2\" (The \"during\" phase of the study), every time the form is filled out would be considered a unique **event**.  \n",
    "* A **Form** is a collection of questions/prompts (called **fields**).  \n",
    "* A **Field** is a single question/prompt for data acquisition.   \n",
    "       \n",
    "Each Project can have multiple arms.  \n",
    "Each arm can have multiple events.  \n",
    "Each event can have multiple forms.  \n",
    "Each form can have multiple fields.  \n",
    "  \n",
    "\n",
    "## Integrating REDCap into Flywheel\n",
    "\n",
    "Because of the differences between the hierarchies, and the flexibility that REDCap users have with how they structure their data, the exact method for extracting redcap data and mapping it to the Flywheel project will require intimate knowledge of both the structure of your flywheel project, as well as the REDCap project.  \n",
    "\n",
    "### Matching Subjects/Sessions from REDCap to Flywheel\n",
    "\n",
    "The first and most obvious problem to address for REDCap integration is \"Where should the data go?\".  \n",
    "For example, if a subject comes to the testing center, fills out REDCap forms, then gets a scan, how do we match that REDCap data to our flywheel data?  \n",
    "  \n",
    "### Subject Matching\n",
    "First, REDCap assigns a unique ID (**record ID**) to each subject, but this might not match what the researcher is using for the subject ID in Flywheel.  One way to match the two datasets would be to include a field like \"flywheel subject ID\" in the enrollment data.  That way, this field could be used to determine which Flywheel subject to attach the REDCap data to.  For legacy data, a lookup table can be made, with REDCap ID's in one column, and the corresponding Flywheel ID in the other.  \n",
    "  \n",
    "### Session Matching\n",
    "Second, the REDCap form will be part of a specific REDCap **event**, and that scan will be part of a specific Flywheel **session**.  In this case, it would make sense that we would like to add that event data to the session's metadata.  One possible way to do this would be to have the researcher add a field to the form called \"flywheel session name\", where the session name (Set in the scan terminal) would be entered.  If this field matches the flywheel session name, then we can use that field when we query the REDCap data to determine which session to add the REDCap data to.  For legacy data, a lookup table can be made, with REDCap event names in one column, and Flywheel session names in the other.\n",
    "\n"
   ]
  },
  {
   "cell_type": "markdown",
   "metadata": {},
   "source": [
    "# Environment Setup\n",
    "This section will download the necessary packages and setup our python environment"
   ]
  },
  {
   "cell_type": "code",
   "execution_count": null,
   "metadata": {},
   "outputs": [],
   "source": [
    "# Install specific packages required for this notebook\n",
    "!pip install flywheel-sdk pycap"
   ]
  },
  {
   "cell_type": "code",
   "execution_count": 2,
   "metadata": {},
   "outputs": [],
   "source": [
    "# Import packages\n",
    "\n",
    "# Required Libraries:\n",
    "import flywheel\n",
    "from redcap import Project\n",
    "\n",
    "# Optional, but used in this demo:\n",
    "from getpass import getpass\n",
    "import os\n",
    "import sys\n",
    "import pprint\n",
    "import pandas as pd\n"
   ]
  },
  {
   "cell_type": "markdown",
   "metadata": {},
   "source": [
    "# Initialize Flywheel\n",
    "We will first initialize our flywheel SDK, which entails the following steps:\n",
    "1. Enter your flywheel API key\n",
    "1. Access the flywheel SDK client at your flywheel instance\n",
    "1. Access the flywheel project we're interested in working with\n",
    "1. Examine the subjects/sessions within the project"
   ]
  },
  {
   "cell_type": "code",
   "execution_count": 3,
   "metadata": {},
   "outputs": [
    {
     "name": "stdout",
     "output_type": "stream",
     "text": [
      "Enter API_KEY here: ········\n"
     ]
    }
   ],
   "source": [
    "# We will use getpass to securely enter our API key in this notebook.\n",
    "# If you download this code to run on your own machine, you may\n",
    "# Replace this with a string of your API key\n",
    "API_KEY = getpass('Enter API_KEY here: ')"
   ]
  },
  {
   "cell_type": "code",
   "execution_count": 4,
   "metadata": {},
   "outputs": [
    {
     "name": "stdout",
     "output_type": "stream",
     "text": [
      "You are now logged in as %s to %s davidparker@flywheel.io https://ss.ce.flywheel.io:443/api\n"
     ]
    }
   ],
   "source": [
    "# Initialize the flywheel client and print our login info\n",
    "fw = flywheel.Client(API_KEY or os.environ.get('FW_KEY'))\n",
    "print('You are now logged in as %s to %s', \\\n",
    "      fw.get_current_user()['email'], \\\n",
    "      fw.get_config()['site']['api_url'])"
   ]
  },
  {
   "cell_type": "code",
   "execution_count": 5,
   "metadata": {},
   "outputs": [],
   "source": [
    "# Access the flywheel project we're interested in working with:\n",
    "# We can copy the ID directly from flywheel.  You'll have to\n",
    "# Replace this value with the project ID from your flywheel\n",
    "# Instance.\n",
    "\n",
    "project_id = '5e98a4362971c80073f877d1'\n",
    "\n",
    "# Access the project with the SDK\n",
    "fw_project = fw.get(project_id)\n"
   ]
  },
  {
   "cell_type": "code",
   "execution_count": 6,
   "metadata": {},
   "outputs": [
    {
     "name": "stdout",
     "output_type": "stream",
     "text": [
      "PROJECT: RedcapIntegration\n",
      "|--------> SUBJECT: 098\n",
      "\t|--------> SESSION: flywheel_session_01\n",
      "\t\t|--------> ACQUISITION: flywheel_acquisition_01\n"
     ]
    }
   ],
   "source": [
    "# Examine the subjects/sessions within the project\n",
    "\n",
    "# Access the subjects\n",
    "subjects = fw_project.subjects()\n",
    "\n",
    "# Generate an overview of the subject/session layout of this project\n",
    "print('PROJECT: '+fw_project.label)\n",
    "\n",
    "for sub in subjects:\n",
    "    print('|--------> SUBJECT: '+sub.label)\n",
    "    for ses in sub.sessions():\n",
    "        print('\\t|--------> SESSION: '+ses.label)\n",
    "        for acq in ses.acquisitions():\n",
    "            print('\\t\\t|--------> ACQUISITION: '+acq.label)\n",
    "\n",
    "# Generate a list of all subject ID's (labels) in the project\n",
    "fw_project_subjects = [s.label for s in fw_project.subjects()]\n",
    "\n",
    "# From this, we see that our project is called \"RedcapIntegration\"\n",
    "# It has one subject with the ID \"098\"\n",
    "# That subject has one session named \"flywheel_session_01\"\n",
    "# That session has one acquisition named \"flywheel_acquisition_01\"\n"
   ]
  },
  {
   "cell_type": "markdown",
   "metadata": {},
   "source": [
    "# Initialize PyCap\n",
    "We will now initialize PyCap , which entails the following steps:\n",
    "1. Enter your REDCap API url\n",
    "1. Entering your REDCap API key\n",
    "1. Access the REDCap information we're interested in working with\n",
    "1. Examine the arms/events/forms within the project"
   ]
  },
  {
   "cell_type": "code",
   "execution_count": 7,
   "metadata": {},
   "outputs": [],
   "source": [
    "# Enter your REDCap API URL\n",
    "# Enter the URL associated with your redcap API.\n",
    "# This URL is NOT identical to the usual website\n",
    "# you enter to visit your REDCap data.  This URL\n",
    "# always ends in \"/API/\"\n",
    "\n",
    "# RedCap Login\n",
    "URL = ''\n",
    "\n",
    "# Enter your REDcap API key\n",
    "RC_API_KEY = ''\n",
    "\n",
    "# Access the REDCap information we're interested \n",
    "# in working with. This command creates a python\n",
    "# object \"rc_project\", which allows us to access\n",
    "# all the REDCap data associated with that project.\n",
    "\n",
    "# WARNING: For large projects, using this interface\n",
    "# May be slow, as many of the commands fetch ALL\n",
    "# The data.  Read more about filtering the results\n",
    "# to reduce this time\n",
    "# (https://pycap.readthedocs.io/en/latest/deep.html#exporting-data)\n",
    "\n",
    "rc_project = Project(URL, RC_API_KEY)"
   ]
  },
  {
   "cell_type": "code",
   "execution_count": 8,
   "metadata": {},
   "outputs": [
    {
     "name": "stdout",
     "output_type": "stream",
     "text": [
      "[{'arm_num': 1,\n",
      "  'form': 'enrollment_log',\n",
      "  'unique_event_name': 'timepoint_0_arm_1'},\n",
      " {'arm_num': 1,\n",
      "  'form': 'medical_history',\n",
      "  'unique_event_name': 'timepoint_0_arm_1'},\n",
      " {'arm_num': 1,\n",
      "  'form': 'd1_baseline_questionnaires',\n",
      "  'unique_event_name': 'timepoint_1_arm_1'},\n",
      " {'arm_num': 2,\n",
      "  'form': 'enrollment_log',\n",
      "  'unique_event_name': 'timepoint_0_arm_2'},\n",
      " {'arm_num': 2,\n",
      "  'form': 'd8_post_questionnaires',\n",
      "  'unique_event_name': 'timepoint_1_arm_2'}]\n"
     ]
    }
   ],
   "source": [
    "# Examine the arms/events/forms within the project\n",
    "# This command maps all forms and events filled out.\n",
    "# (https://pycap.readthedocs.io/en/latest/api.html#redcap.project.Project.export_fem)\n",
    "\n",
    "all_forms_and_events = rc_project.export_fem()\n",
    "pprint.pprint(all_forms_and_events)\n",
    "\n",
    "# Here we see that there are two arms to this project,\n",
    "# each with two unique events.  the first event has\n",
    "# two forms associated with it, the second has one.\n"
   ]
  },
  {
   "cell_type": "markdown",
   "metadata": {},
   "source": [
    "# Upload REDCap Enrollment data to Flywheel\n",
    "We will now examine the REDCap data to best determine how to interface with Flywheel.  This will involve:  \n",
    "1. Determine which field REDCap is using to store unique REDCap subject ID's\n",
    "1. The flywheel subject ID is stored in a field in the enrollment_log form.  We will access this field to determine which subject to upload the data to.\n",
    "1. Determine exactly which event to upload the data from\n",
    "1. upload the data to the \"Subject\" container in flywheel"
   ]
  },
  {
   "cell_type": "code",
   "execution_count": 9,
   "metadata": {},
   "outputs": [
    {
     "name": "stdout",
     "output_type": "stream",
     "text": [
      "participant_id\n"
     ]
    }
   ],
   "source": [
    "# Determine which field REDCap is using to store unique REDCap subject ID's\n",
    "\n",
    "# Each project has a field that stores the unique redcap ID for each subject\n",
    "# This field in REDCap may be labeled whatever the investigator wishes,\n",
    "# However this label is always stored in the location project.def_field:\n",
    "rcid_field_name = rc_project.def_field\n",
    "print(rcid_field_name)\n",
    "\n",
    "# From this we see that the rcid_field_name is \"participant_id\".\n",
    "# This stores the record ID (like a subject ID)\n",
    "# within redcap."
   ]
  },
  {
   "cell_type": "code",
   "execution_count": 10,
   "metadata": {},
   "outputs": [
    {
     "name": "stdout",
     "output_type": "stream",
     "text": [
      "[{'consent_date': '2020-01-06',\n",
      "  'enrollment_log_complete': '2',\n",
      "  'hipaa_signed_yes_no': '0',\n",
      "  'participant_id': '1',\n",
      "  'randomization_code': '1',\n",
      "  'redcap_event_name': 'timepoint_0_arm_1',\n",
      "  'subject_fw_id': '098',\n",
      "  'subject_initials': 'jdkf'},\n",
      " {'consent_date': '',\n",
      "  'enrollment_log_complete': '',\n",
      "  'hipaa_signed_yes_no': '',\n",
      "  'participant_id': '1',\n",
      "  'randomization_code': '',\n",
      "  'redcap_event_name': 'timepoint_1_arm_1',\n",
      "  'subject_fw_id': '',\n",
      "  'subject_initials': ''},\n",
      " {'consent_date': '2020-01-06',\n",
      "  'enrollment_log_complete': '2',\n",
      "  'hipaa_signed_yes_no': '1',\n",
      "  'participant_id': '2',\n",
      "  'randomization_code': '2',\n",
      "  'redcap_event_name': 'timepoint_0_arm_2',\n",
      "  'subject_fw_id': '092',\n",
      "  'subject_initials': 'nkjn'},\n",
      " {'consent_date': '',\n",
      "  'enrollment_log_complete': '',\n",
      "  'hipaa_signed_yes_no': '',\n",
      "  'participant_id': '2',\n",
      "  'randomization_code': '',\n",
      "  'redcap_event_name': 'timepoint_1_arm_2',\n",
      "  'subject_fw_id': '',\n",
      "  'subject_initials': ''},\n",
      " {'consent_date': '2020-02-11',\n",
      "  'enrollment_log_complete': '2',\n",
      "  'hipaa_signed_yes_no': '1',\n",
      "  'participant_id': '3',\n",
      "  'randomization_code': '2',\n",
      "  'redcap_event_name': 'timepoint_0_arm_1',\n",
      "  'subject_fw_id': '234',\n",
      "  'subject_initials': 'qwoi'},\n",
      " {'consent_date': '',\n",
      "  'enrollment_log_complete': '',\n",
      "  'hipaa_signed_yes_no': '',\n",
      "  'participant_id': '3',\n",
      "  'randomization_code': '',\n",
      "  'redcap_event_name': 'timepoint_1_arm_1',\n",
      "  'subject_fw_id': '',\n",
      "  'subject_initials': ''},\n",
      " {'consent_date': '2020-01-20',\n",
      "  'enrollment_log_complete': '2',\n",
      "  'hipaa_signed_yes_no': '1',\n",
      "  'participant_id': '4',\n",
      "  'randomization_code': '2',\n",
      "  'redcap_event_name': 'timepoint_0_arm_1',\n",
      "  'subject_fw_id': '744',\n",
      "  'subject_initials': 'udjf'},\n",
      " {'consent_date': '',\n",
      "  'enrollment_log_complete': '',\n",
      "  'hipaa_signed_yes_no': '',\n",
      "  'participant_id': '4',\n",
      "  'randomization_code': '',\n",
      "  'redcap_event_name': 'timepoint_1_arm_1',\n",
      "  'subject_fw_id': '',\n",
      "  'subject_initials': ''}]\n"
     ]
    }
   ],
   "source": [
    "# Now we can print the enrollment data to find our flywheel ID field:\n",
    "# For this query, we're only interested in the \"enrollment_log\" form\n",
    "form_responses = rc_project.export_records(forms=['enrollment_log'])\n",
    "pprint.pprint(form_responses)\n",
    "\n",
    "# We can see here that this lists all the enrollment data from both arms\n",
    "# and for all subjects present.  Browsing through this, we \n",
    "# see the field 'subject_fw_id'.  This field was deliberately\n",
    "# added to this REDCap study by ther PI to help link \n",
    "# REDCap subjects to Flywheel subjects.  "
   ]
  },
  {
   "cell_type": "code",
   "execution_count": 11,
   "metadata": {},
   "outputs": [
    {
     "name": "stdout",
     "output_type": "stream",
     "text": [
      "{'1': '098', '3': '234', '4': '744'}\n"
     ]
    }
   ],
   "source": [
    "# Let's generate a list of REDCap ID's matching them to Flywheel ID's for future use.\n",
    "# Who knows, may come in handy.\n",
    "\n",
    "# It looks like the enrollment data is only present in the enrollment form captured at 'timepoint_0_arm_1'.  \n",
    "# So we will limit our events to this event.\n",
    "form_responses = rc_project.export_records(forms=['enrollment_log'],events=['timepoint_0_arm_1'])\n",
    "\n",
    "record_2_fwid = {}\n",
    "for response in form_responses:\n",
    "    record_2_fwid[response['participant_id']] = response['subject_fw_id']\n",
    "    \n",
    "pprint.pprint(record_2_fwid)\n",
    "\n",
    "# We can also see that\n",
    "# The first subject has Flywheel ID \"098\", which is our subject ID \n",
    "# In the flywheel project of interest.  \n",
    "\n",
    "# This subject also has \"participant_id\" = 1, so their REDCap\n",
    "# Record ID is \"1\".   Now we have the REDCap id and the Flywheel ID.\n",
    "# The enrollment data contains information about the subject that\n",
    "# doesn't change over the course of the study.  Because of this, \n",
    "# We would like to upload this informatino to the flywheel \n",
    "# \"Subject\" container.  With this knowlege, we can filter out all\n",
    "# other subject records."
   ]
  },
  {
   "cell_type": "code",
   "execution_count": 12,
   "metadata": {},
   "outputs": [
    {
     "name": "stdout",
     "output_type": "stream",
     "text": [
      "[{'ckd': '',\n",
      "  'consent_date': '2020-01-06',\n",
      "  'enrollment_log_complete': '2',\n",
      "  'famhx': '',\n",
      "  'hipaa_signed_yes_no': '0',\n",
      "  'htn': '',\n",
      "  'medical_history_complete': '0',\n",
      "  'obesity': '',\n",
      "  'participant_id': '1',\n",
      "  'randomization_code': '1',\n",
      "  'redcap_event_name': 'timepoint_0_arm_1',\n",
      "  'smoke': '',\n",
      "  'subject_fw_id': '098',\n",
      "  'subject_initials': 'jdkf'}]\n"
     ]
    }
   ],
   "source": [
    "# Let's just examine the records from the one subject now.\n",
    "# We know we would like the enrollment data and the medical \n",
    "# History, since these data points won't change session to session.\n",
    "# We will upload these two forms to the \"subject\" container in flywheel\n",
    "\n",
    "form_responses = rc_project.export_records(records=['1'],forms=['enrollment_log','medical_history'],events=['timepoint_0_arm_1'])\n",
    "\n",
    "pprint.pprint(list(form_responses))"
   ]
  },
  {
   "cell_type": "code",
   "execution_count": 13,
   "metadata": {},
   "outputs": [],
   "source": [
    "# Upload the data to flywheel\n",
    "\n",
    "# In this case there is only one response, but if we\n",
    "# expanded our results to include more \"records\" (subjects)\n",
    "# the list would be longer, and this code would loop\n",
    "# through each form response and upload it to the \n",
    "# appropriate flywheel subject.\n",
    "\n",
    "for response in form_responses:\n",
    "    # Check to see if this flywheel subject exists\n",
    "    if response['subject_fw_id'] in fw_project_subjects:\n",
    "        \n",
    "        # Get that subject from flywheel\n",
    "        query = f'label=\"{response[\"subject_fw_id\"]}\"'\n",
    "        subject = fw_project.subjects.find_first(query)\n",
    "        \n",
    "        # Upload the data under a \"REDCap\" object in the metadata\n",
    "        subject.update(info={\"REDCap\":response})\n",
    "        \n"
   ]
  },
  {
   "cell_type": "markdown",
   "metadata": {},
   "source": [
    "# Upload REDCap Questionnaire data to Flywheel\n",
    "We will now upload questionnaire data to a specific session in flyhweel. For the enrollment data, we were able to use the field \"subject_fw_id\" to determine which subject to attach the data to.  Now, we need to upload the data to a specific session.  Since this data has no \"session_fw_id\" tag, we will use a lookup table to match events to sessions.  This will involve:  \n",
    "1. Match events to sessions using a lookup table.  \n",
    "1. upload the data to the \"Session\" container in flywheel"
   ]
  },
  {
   "cell_type": "code",
   "execution_count": 14,
   "metadata": {},
   "outputs": [
    {
     "name": "stdout",
     "output_type": "stream",
     "text": [
      "[{'arm_num': 1,\n",
      "  'form': 'enrollment_log',\n",
      "  'unique_event_name': 'timepoint_0_arm_1'},\n",
      " {'arm_num': 1,\n",
      "  'form': 'medical_history',\n",
      "  'unique_event_name': 'timepoint_0_arm_1'},\n",
      " {'arm_num': 1,\n",
      "  'form': 'd1_baseline_questionnaires',\n",
      "  'unique_event_name': 'timepoint_1_arm_1'},\n",
      " {'arm_num': 2,\n",
      "  'form': 'enrollment_log',\n",
      "  'unique_event_name': 'timepoint_0_arm_2'},\n",
      " {'arm_num': 2,\n",
      "  'form': 'd8_post_questionnaires',\n",
      "  'unique_event_name': 'timepoint_1_arm_2'}]\n"
     ]
    }
   ],
   "source": [
    "# Match events to sessions using a lookup table.  \n",
    "# We can refresh our memory of the structure of this REDCap data:\n",
    "\n",
    "all_forms_and_events = rc_project.export_fem()\n",
    "pprint.pprint(all_forms_and_events)\n"
   ]
  },
  {
   "cell_type": "code",
   "execution_count": 15,
   "metadata": {},
   "outputs": [
    {
     "name": "stdout",
     "output_type": "stream",
     "text": [
      "{'bl_pss_1': '0',\n",
      " 'bl_pss_2': '4',\n",
      " 'bl_pss_3': '3',\n",
      " 'bl_pss_4': '4',\n",
      " 'bl_pss_5': '3',\n",
      " 'd1_baseline_questionnaires_complete': '2',\n",
      " 'd1_date': '2020-03-30',\n",
      " 'participant_id': '1',\n",
      " 'redcap_event_name': 'timepoint_1_arm_1',\n",
      " 'session_label_d1': ''}\n",
      "'flywheel_session_01'\n",
      "{'bl_pss_1': '1',\n",
      " 'bl_pss_2': '1',\n",
      " 'bl_pss_3': '2',\n",
      " 'bl_pss_4': '3',\n",
      " 'bl_pss_5': '3',\n",
      " 'd1_baseline_questionnaires_complete': '2',\n",
      " 'd1_date': '2020-04-01',\n",
      " 'participant_id': '3',\n",
      " 'redcap_event_name': 'timepoint_1_arm_1',\n",
      " 'session_label_d1': ''}\n",
      "{'bl_pss_1': '0',\n",
      " 'bl_pss_2': '0',\n",
      " 'bl_pss_3': '0',\n",
      " 'bl_pss_4': '3',\n",
      " 'bl_pss_5': '2',\n",
      " 'd1_baseline_questionnaires_complete': '2',\n",
      " 'd1_date': '2020-04-02',\n",
      " 'participant_id': '4',\n",
      " 'redcap_event_name': 'timepoint_1_arm_1',\n",
      " 'session_label_d1': ''}\n"
     ]
    }
   ],
   "source": [
    "# We could do this two ways.  We could add forms by arm_num, and just exclude\n",
    "# the enrollment and medical form, or we could directly match unique event\n",
    "# names to sessions.  We will do the latter.\n",
    "\n",
    "event_2_session = {'timepoint_1_arm_1':'flywheel_session_01'}\n",
    "# This list would obviously be longer if we had other subjects/sessions\n",
    "\n",
    "# We will now loop through our desired events and upload them to flywheel:\n",
    "rc_form_name = 'd1_baseline_questionnaires'\n",
    "\n",
    "for event,session in event_2_session.items():\n",
    "    \n",
    "    # We also know that we only want records for subject \"098\".\n",
    "    form_responses = rc_project.export_records(events=[event],forms=[rc_form_name])\n",
    "    \n",
    "    # form_responses is a list with every subject's responses to that event\n",
    "    # So we must loop through and find the one we want\n",
    "    \n",
    "    for response in form_responses:\n",
    "        pprint.pprint(response)\n",
    "        fw_id = record_2_fwid[response['participant_id']]\n",
    "        if fw_id in fw_project_subjects:\n",
    "            query = f'label=\"{fw_id}\"'\n",
    "            subject = fw_project.subjects.find_first(query)\n",
    "            query = f'parents.subject={subject.id}'\n",
    "            session = fw_project.sessions.find_first(query)\n",
    "            pprint.pprint(session.label)\n",
    "            session.update(info={\"REDCap\":response})\n",
    "            "
   ]
  }
 ],
 "metadata": {
  "kernelspec": {
   "display_name": "Python 3",
   "language": "python",
   "name": "python3"
  },
  "language_info": {
   "codemirror_mode": {
    "name": "ipython",
    "version": 3
   },
   "file_extension": ".py",
   "mimetype": "text/x-python",
   "name": "python",
   "nbconvert_exporter": "python",
   "pygments_lexer": "ipython3",
   "version": "3.7.4"
  }
 },
 "nbformat": 4,
 "nbformat_minor": 4
}
