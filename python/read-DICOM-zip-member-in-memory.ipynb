{
 "cells": [
  {
   "cell_type": "markdown",
   "metadata": {},
   "source": [
    "**Title**: Read DICOM in Memory and Download Zip Member <br>\n",
    "**Date**:  10/22/2020  \n",
    "**Description**:  \n",
    "To illustrate how to get archive Zip File from Flywheel and read DICOM file in memory.\n"
   ]
  },
  {
   "cell_type": "markdown",
   "metadata": {},
   "source": [
    "# Requirements\n",
    "- Have a DICOM Zip Archive stored in at least one Acquisition container."
   ]
  },
  {
   "cell_type": "markdown",
   "metadata": {
    "colab_type": "text",
    "id": "ay1WSTNnycu9"
   },
   "source": [
    "# Install and Import Dependencies"
   ]
  },
  {
   "cell_type": "code",
   "execution_count": null,
   "metadata": {
    "colab": {
     "base_uri": "https://localhost:8080/",
     "height": 292
    },
    "colab_type": "code",
    "id": "TvSB-YzJycd9",
    "outputId": "88896fc2-0cd1-4745-d1d7-5752fae84b64"
   },
   "outputs": [],
   "source": [
    "# Install specific packages required for this notebook\n",
    "!pip install flywheel-sdk pydicom"
   ]
  },
  {
   "cell_type": "code",
   "execution_count": null,
   "metadata": {
    "colab": {},
    "colab_type": "code",
    "id": "wgIDvfT3yi2B"
   },
   "outputs": [],
   "source": [
    "# Import packages\n",
    "from getpass import getpass\n",
    "import logging\n",
    "import os\n",
    "from pathlib import Path\n",
    "import time\n",
    "\n",
    "import flywheel\n",
    "from permission import check_user_permission\n",
    "import pydicom\n",
    "import matplotlib.pyplot as plt\n"
   ]
  },
  {
   "cell_type": "code",
   "execution_count": null,
   "metadata": {
    "colab": {},
    "colab_type": "code",
    "id": "ZtWGHIEBykZz"
   },
   "outputs": [],
   "source": [
    "# Instantiate a logger\n",
    "logging.basicConfig(level=logging.INFO, format='%(asctime)s %(levelname)s %(message)s')\n",
    "log = logging.getLogger('root')"
   ]
  },
  {
   "cell_type": "markdown",
   "metadata": {
    "colab_type": "text",
    "id": "RAnUF3QkynxV"
   },
   "source": [
    "# Flywheel API Key and Client"
   ]
  },
  {
   "cell_type": "markdown",
   "metadata": {
    "colab_type": "text",
    "id": "P8a20roWpFB-"
   },
   "source": [
    "Get your API_KEY. More on this in the Flywheel SDK doc [here](https://flywheel-io.gitlab.io/product/backend/sdk/branches/master/python/getting_started.html#api-key)."
   ]
  },
  {
   "cell_type": "code",
   "execution_count": null,
   "metadata": {
    "colab": {
     "base_uri": "https://localhost:8080/",
     "height": 34
    },
    "colab_type": "code",
    "id": "LWkEZ-JTpFB-",
    "outputId": "47a9c115-7839-404b-b73c-69e57887ad5c"
   },
   "outputs": [],
   "source": [
    "API_KEY = getpass('Enter API_KEY here: ')"
   ]
  },
  {
   "cell_type": "markdown",
   "metadata": {
    "colab_type": "text",
    "id": "yl1SuWIdpFCB"
   },
   "source": [
    "Instantiate the Flywheel API client"
   ]
  },
  {
   "cell_type": "code",
   "execution_count": null,
   "metadata": {
    "colab": {},
    "colab_type": "code",
    "id": "yW3kAGFPpFCB"
   },
   "outputs": [],
   "source": [
    "fw = flywheel.Client(API_KEY if 'API_KEY' in locals() else os.environ.get('FW_KEY'))"
   ]
  },
  {
   "cell_type": "markdown",
   "metadata": {
    "colab_type": "text",
    "id": "XPQg0AFey16p"
   },
   "source": [
    "Show Flywheel logging information"
   ]
  },
  {
   "cell_type": "code",
   "execution_count": null,
   "metadata": {
    "colab": {
     "base_uri": "https://localhost:8080/",
     "height": 54
    },
    "colab_type": "code",
    "id": "88-D948hy3uS",
    "outputId": "21183a89-d336-449b-aabd-df02adac3b55"
   },
   "outputs": [],
   "source": [
    "log.info('You are now logged in as %s to %s', fw.get_current_user()['email'], fw.get_config()['site']['api_url'])"
   ]
  },
  {
   "cell_type": "markdown",
   "metadata": {},
   "source": [
    "***"
   ]
  },
  {
   "cell_type": "markdown",
   "metadata": {},
   "source": [
    "# Initialize a few values\n",
    "\n",
    "Define the Group's ID and Project's Label that contain DICOM zip archive files and let's look for it on your Flywheel instance."
   ]
  },
  {
   "cell_type": "markdown",
   "metadata": {},
   "source": [
    "<div class=\"alert alert-block alert-info\" style=\"color:black\"><b>Tip:</b> Group ID and Project Label can be found on top of the Project page on the Flywheel Instance as shown in the snippet below.</div>\n"
   ]
  },
  {
   "cell_type": "markdown",
   "metadata": {},
   "source": [
    "![group-id-proj-label](./assets/find-group-id-and-project-label.png)"
   ]
  },
  {
   "cell_type": "code",
   "execution_count": null,
   "metadata": {},
   "outputs": [],
   "source": [
    "GROUP_ID = input('Please enter your Group ID here:')"
   ]
  },
  {
   "cell_type": "code",
   "execution_count": null,
   "metadata": {},
   "outputs": [],
   "source": [
    "PROJECT_LABEL = input('Please enter your Project Label here: ')"
   ]
  },
  {
   "cell_type": "code",
   "execution_count": null,
   "metadata": {},
   "outputs": [],
   "source": [
    "project = fw.lookup(f'{GROUP_ID}/{PROJECT_LABEL}')"
   ]
  },
  {
   "cell_type": "markdown",
   "metadata": {},
   "source": [
    "***"
   ]
  },
  {
   "cell_type": "markdown",
   "metadata": {},
   "source": [
    "# Requirements\n",
    "\n",
    "Before starting off, we want to check your permission on the Flywheel Instance in order to proceed in this notebook. "
   ]
  },
  {
   "cell_type": "code",
   "execution_count": null,
   "metadata": {},
   "outputs": [],
   "source": [
    "min_reqs = {\n",
    "\"site\": \"user\",\n",
    "\"group\": \"ro\",\n",
    "\"project\": ['analyses_view_metadata','files_view_metadata','files_view_contents','files_download']\n",
    "}"
   ]
  },
  {
   "cell_type": "markdown",
   "metadata": {},
   "source": [
    "`check_user_permission` will return True if both the group and project meet the minimum requirement, else a compatible list will be printed."
   ]
  },
  {
   "cell_type": "code",
   "execution_count": null,
   "metadata": {},
   "outputs": [],
   "source": [
    "check_user_permission(fw, min_reqs, group=GROUP_ID, project=PROJECT_LABEL)"
   ]
  },
  {
   "cell_type": "markdown",
   "metadata": {},
   "source": [
    "***"
   ]
  },
  {
   "cell_type": "markdown",
   "metadata": {},
   "source": [
    "# Helpful Function"
   ]
  },
  {
   "cell_type": "code",
   "execution_count": null,
   "metadata": {},
   "outputs": [],
   "source": [
    "def read_dcm_from_archive(file_entry, acq):\n",
    "    \"\"\"\n",
    "    For a given file entry, read a dicom file from the archive and return a pydicom object.\n",
    "    Function here will get the second zip member from the Dicom zip archive and stream it to memory as a pydicom.DataSet instance\n",
    "    \"\"\"\n",
    "    import pydicom\n",
    "    from pydicom.filebase import DicomBytesIO\n",
    "    \n",
    "    # Check that this file is valid\n",
    "    if file_entry['type'] != 'dicom':\n",
    "        raise TypeError('Must be a DICOM file')\n",
    "    \n",
    "    log.info(f'Loading {file_entry[\"name\"]}')\n",
    "    \n",
    "    # Using the `get_file_zip_info` method to retrieve the files information within the zip file.\n",
    "    zip_info = acq.get_file_zip_info(file_entry['name'])\n",
    "    log.info(f'Reading DICOM file from zip archive')\n",
    "    \n",
    "    # Read the 2nd member from the path\n",
    "    raw_dcm = DicomBytesIO(acq.read_file_zip_member(file_entry['name'], zip_info.members[1].path))\n",
    "    dcm = pydicom.dcmread(raw_dcm, force=True)\n",
    "    \n",
    "    return dcm"
   ]
  },
  {
   "cell_type": "code",
   "execution_count": null,
   "metadata": {},
   "outputs": [],
   "source": [
    "def show_dcm_info(dcm_list):\n",
    "    \"\"\"\n",
    "    Print out DICOM header and metadata.\n",
    "    \"\"\"\n",
    "    for ds in dcm_list: \n",
    "        if ds.SOPClassUID:\n",
    "            # Normal mode:\n",
    "            print()\n",
    "            print(f\"SOP Class........: {ds.SOPClassUID} ({ds.SOPClassUID.name})\")\n",
    "            print()\n",
    "\n",
    "            pat_name = ds.PatientName\n",
    "            display_name = pat_name.family_name + \", \" + pat_name.given_name\n",
    "            print(f\"Patient's Name...: {display_name}\")\n",
    "            print(f\"Patient ID.......: {ds.PatientID}\")\n",
    "            print(f\"Modality.........: {ds.Modality}\")\n",
    "            print(f\"Study Date.......: {ds.StudyDate}\")\n",
    "            print(f\"Image size.......: {ds.Rows} x {ds.Columns}\")\n",
    "            print(f\"Pixel Spacing....: {ds.PixelSpacing}\")\n",
    "\n",
    "            # use .get() if not sure the item exists, and want a default value if missing\n",
    "            print(f\"Slice location...: {ds.get('SliceLocation', '(missing)')}\")\n",
    "\n",
    "            # plot the image using matplotlib\n",
    "            # tell matplotlib to display our image, using a gray-scale lookup table.\n",
    "            plt.imshow(ds.pixel_array, cmap=plt.cm.gray)\n",
    "            plt.show()\n",
    "            print('')\n",
    "        else:\n",
    "            print('Invalid DICOM image')\n",
    "            print('')\n",
    "            \n"
   ]
  },
  {
   "cell_type": "markdown",
   "metadata": {},
   "source": [
    "***"
   ]
  },
  {
   "cell_type": "markdown",
   "metadata": {},
   "source": [
    "# Main Script"
   ]
  },
  {
   "cell_type": "markdown",
   "metadata": {},
   "source": [
    "For the first part of the tutorial, we will go through how to read the DICOM file from the zip archive and read the data with `pydicom`. To illustrate we will be reading the 2nd DICOM image in the zip file. "
   ]
  },
  {
   "cell_type": "code",
   "execution_count": null,
   "metadata": {},
   "outputs": [],
   "source": [
    "dcm_list = list()\n",
    "\n",
    "for sess in project.sessions():\n",
    "    for acq in sess.acquisitions():\n",
    "        for files in acq['files']:\n",
    "            if files['type'] == 'dicom':\n",
    "                dcm = read_dcm_from_archive(files,acq)\n",
    "                dcm_list.append(dcm)\n"
   ]
  },
  {
   "cell_type": "markdown",
   "metadata": {},
   "source": [
    "# View DICOM Image "
   ]
  },
  {
   "cell_type": "markdown",
   "metadata": {},
   "source": [
    "Here we will be using `matplotlib` to plot the DICOM Image that we have selected for each Subject and some DICOM information."
   ]
  },
  {
   "cell_type": "code",
   "execution_count": null,
   "metadata": {},
   "outputs": [],
   "source": [
    "show_dcm_info(dcm_list)"
   ]
  },
  {
   "cell_type": "markdown",
   "metadata": {},
   "source": [
    "***\n",
    "\n",
    "# Read DICOM images of a specific Subject\n"
   ]
  },
  {
   "cell_type": "markdown",
   "metadata": {},
   "source": [
    "## Helpful Function"
   ]
  },
  {
   "cell_type": "code",
   "execution_count": null,
   "metadata": {},
   "outputs": [],
   "source": [
    "def read_all_dcm_from_archive(file_entry, acq):\n",
    "    \"\"\"\n",
    "    For a given file entry, read a dicom file from the archive.\n",
    "    Method here will read the dicom file from the archive as raw data and read that raw data into pydicom.\n",
    "    It will return a list of pydicom objects for the Subject.\n",
    "    \"\"\"\n",
    "    \n",
    "    import pydicom\n",
    "    from pydicom.filebase import DicomBytesIO\n",
    "    \n",
    "    subj_dcm = list()\n",
    "    \n",
    "    # Check that this file is valid\n",
    "    if file_entry['type'] != 'dicom':\n",
    "        raise TypeError('Must be a DICOM file')\n",
    "        \n",
    "    log.info(f'Loading {file_entry[\"name\"]}')\n",
    "    \n",
    "    # Using the `get_file_zip_info` method to retrieve the files information within the zip file.\n",
    "    zip_info = acq.get_file_zip_info(file_entry['name'])\n",
    "    \n",
    "    for member in zip_info.members:\n",
    "        if member.size == 0:\n",
    "            continue\n",
    "        subj_dcm.append(read_dcm_from_archive(file_entry, acq, i))\n",
    "        raw_dcm = DicomBytesIO(acq.read_file_zip_member(file_entry['name'], member.path))\n",
    "        dcm = pydicom.dcmread(raw_dcm, force=True)\n",
    "        if 'SOPClassUID' in dcm:\n",
    "            subj_dcm.append(dcm)\n",
    "\n",
    "    log.info(f'Processed {len(subj_dcm)} DICOM files.')\n",
    "    \n",
    "    return subj_dcm\n",
    "    "
   ]
  },
  {
   "cell_type": "markdown",
   "metadata": {},
   "source": [
    "Let's say you are only interested in a specific Subject and you would like to do some analysis with the Subject's DICOM image."
   ]
  },
  {
   "cell_type": "markdown",
   "metadata": {},
   "source": [
    "Get the `anx_s4` Subject container"
   ]
  },
  {
   "cell_type": "code",
   "execution_count": null,
   "metadata": {},
   "outputs": [],
   "source": [
    "subj_04 = project.subjects.find_first('label=anx_s4')"
   ]
  },
  {
   "cell_type": "markdown",
   "metadata": {},
   "source": [
    "Get the DICOM zip archive for the Subject `anx_s4`."
   ]
  },
  {
   "cell_type": "code",
   "execution_count": null,
   "metadata": {},
   "outputs": [],
   "source": [
    "for sess in subj_04.sessions():\n",
    "    for acq in sess.acquisitions():\n",
    "        for files in acq['files']:\n",
    "            if files['type'] == 'dicom':\n",
    "                subj_dcm = read_all_dcm_from_archive(files,acq)"
   ]
  },
  {
   "cell_type": "markdown",
   "metadata": {},
   "source": [
    "Helpful function that get the zip file member and store all the zip member dicom file for one subject."
   ]
  },
  {
   "cell_type": "code",
   "execution_count": null,
   "metadata": {},
   "outputs": [],
   "source": [
    "show_dcm_info(subj_dcm)"
   ]
  },
  {
   "cell_type": "markdown",
   "metadata": {},
   "source": [
    "## Interactive DICOM viewer \n",
    "\n",
    "We will be using the `ipywidgets.interactive()` method to build a DICOM Viewer from the DICOM image that we have pulled from the Subject."
   ]
  },
  {
   "cell_type": "code",
   "execution_count": 21,
   "metadata": {},
   "outputs": [],
   "source": [
    "from ipywidgets import interact, interactive, fixed, interact_manual\n",
    "import ipywidgets as widgets"
   ]
  },
  {
   "cell_type": "code",
   "execution_count": null,
   "metadata": {},
   "outputs": [],
   "source": [
    "# slide through dicom images using a slide bar \n",
    "plt.figure(10)\n",
    "def dicom_animation(x):\n",
    "    plt.imshow(subj_dcm[x].pixel_array, cmap=plt.cm.gray)\n",
    "    \n",
    "interact(dicom_animation, x=(0, len(subj_dcm)-1))"
   ]
  },
  {
   "cell_type": "markdown",
   "metadata": {},
   "source": [
    "***"
   ]
  },
  {
   "cell_type": "markdown",
   "metadata": {},
   "source": [
    "# Download a Zip member from a Zip Archive in Analysis container via SDK"
   ]
  },
  {
   "cell_type": "markdown",
   "metadata": {},
   "source": [
    "Often a gear will store its output into a large zip file in an analysis container and it can be useful to extract specific file from it across different gear runs. In this section, you will learn how to get a zip file member from Flywheel and download the files into your local directory"
   ]
  },
  {
   "cell_type": "markdown",
   "metadata": {},
   "source": [
    "## Get analyses container"
   ]
  },
  {
   "cell_type": "markdown",
   "metadata": {},
   "source": [
    "First, we get the Subject container first. In this tutorial we will be working with `sub-04`."
   ]
  },
  {
   "cell_type": "code",
   "execution_count": null,
   "metadata": {},
   "outputs": [],
   "source": [
    "subj = project.subjects.find_first('label=sub-04')"
   ]
  },
  {
   "cell_type": "markdown",
   "metadata": {},
   "source": [
    "We will be working with the first Session for Subject `sub-4` and the first Analyses in the Session container."
   ]
  },
  {
   "cell_type": "code",
   "execution_count": null,
   "metadata": {},
   "outputs": [],
   "source": [
    "session_container = subj.sessions()[0]"
   ]
  },
  {
   "cell_type": "code",
   "execution_count": null,
   "metadata": {},
   "outputs": [],
   "source": [
    "analysis = session_container.reload()['analyses'][0]"
   ]
  },
  {
   "cell_type": "markdown",
   "metadata": {},
   "source": [
    "<div class=\"alert alert-block alert-info\" style=\"color:black\"><b>Info:</b> Use <code>reload()</code> method here to retrieve a complete view of the data within the Session container .</div>"
   ]
  },
  {
   "cell_type": "markdown",
   "metadata": {},
   "source": [
    "Now, we will loop through the files within the analyses container in the Session container."
   ]
  },
  {
   "cell_type": "code",
   "execution_count": null,
   "metadata": {},
   "outputs": [],
   "source": [
    "for file in analysis['files']:\n",
    "    print(file.name)"
   ]
  },
  {
   "cell_type": "markdown",
   "metadata": {},
   "source": [
    "After looking at the available files in the Analysis container, we decided to work with the second file in the Analysis container."
   ]
  },
  {
   "cell_type": "code",
   "execution_count": 74,
   "metadata": {},
   "outputs": [],
   "source": [
    "zip_file_name = analysis['files'][1].name"
   ]
  },
  {
   "cell_type": "code",
   "execution_count": null,
   "metadata": {},
   "outputs": [],
   "source": [
    "analysis_id = analysis.id\n",
    "analysis_id"
   ]
  },
  {
   "cell_type": "markdown",
   "metadata": {},
   "source": [
    "To retrieve the files information within the zip file, you can use `get_file_zip_info` which will take the `zip_file_name` as argument. "
   ]
  },
  {
   "cell_type": "code",
   "execution_count": null,
   "metadata": {},
   "outputs": [],
   "source": [
    "zip_info = analysis.get_file_zip_info(zip_file_name)"
   ]
  },
  {
   "cell_type": "code",
   "execution_count": null,
   "metadata": {},
   "outputs": [],
   "source": [
    "len(zip_info.members)"
   ]
  },
  {
   "cell_type": "markdown",
   "metadata": {},
   "source": [
    "Let's see what the archive contains and pinpoint the location of the `.nifti` file."
   ]
  },
  {
   "cell_type": "code",
   "execution_count": null,
   "metadata": {},
   "outputs": [],
   "source": [
    "for ii, file in enumerate(zip_info.members):\n",
    "    if file.path[-1] != '/':\n",
    "        if file.path.endswith('nii.gz'):\n",
    "            print(f'{ii} {Path(file.path).name}')\n",
    "    else:\n",
    "        print(f'dir {file.path}')"
   ]
  },
  {
   "cell_type": "markdown",
   "metadata": {},
   "source": [
    "## Download File"
   ]
  },
  {
   "cell_type": "markdown",
   "metadata": {},
   "source": [
    "To download the file from the zip output file, we will be using `download_file_zip_member` method. It requires three parameters, which is `file_name`: The name of the zip file, `member_path`: the choosen member in the zip file, and `dest_file`: The name of the file you would like to download as.\n",
    "\n",
    "In this example, we are going to download the 86th member in the zip file and save as `vectorRGB.nii.gz` on your local directory."
   ]
  },
  {
   "cell_type": "code",
   "execution_count": null,
   "metadata": {},
   "outputs": [],
   "source": [
    "member_path = zip_info.members[86].path\n",
    "dest_file = Path(zip_info.members[86].path).name\n",
    "\n",
    "analysis.download_file_zip_member(zip_file_name, member_path, dest_file)"
   ]
  },
  {
   "cell_type": "code",
   "execution_count": null,
   "metadata": {},
   "outputs": [],
   "source": []
  }
 ],
 "metadata": {
  "kernelspec": {
   "display_name": "Python 3",
   "language": "python",
   "name": "python3"
  },
  "language_info": {
   "codemirror_mode": {
    "name": "ipython",
    "version": 3
   },
   "file_extension": ".py",
   "mimetype": "text/x-python",
   "name": "python",
   "nbconvert_exporter": "python",
   "pygments_lexer": "ipython3",
   "version": "3.7.6"
  }
 },
 "nbformat": 4,
 "nbformat_minor": 4
}
