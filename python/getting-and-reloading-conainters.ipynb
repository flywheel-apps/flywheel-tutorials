{
 "cells": [
  {
   "cell_type": "markdown",
   "metadata": {},
   "source": [
    "**Title**: Getting and Reloading Containers <br>\n",
    "**Date**:  18-10-2020  \n",
    "**Description**:  \n",
    "* This notebook is intended to provide the best way to get information (metadata) in a Container via SDK."
   ]
  },
  {
   "cell_type": "markdown",
   "metadata": {},
   "source": [
    "# Requirements\n",
    "- Have a dummy projects to test with. \n",
    "- <i>If you do not have one, feel free to create one by following [this notebook](https://gitlab.com/flywheel-io/public/flywheel-tutorials/-/blob/master/python/upload-data-to-a-new-project.ipynb).</i>"
   ]
  },
  {
   "cell_type": "markdown",
   "metadata": {},
   "source": [
    "# Install and import dependencies"
   ]
  },
  {
   "cell_type": "code",
   "execution_count": null,
   "metadata": {},
   "outputs": [],
   "source": [
    "# Install specific packages required for this notebook\n",
    "!pip install flywheel-sdk"
   ]
  },
  {
   "cell_type": "code",
   "execution_count": 1,
   "metadata": {},
   "outputs": [],
   "source": [
    "# Import packages\n",
    "from getpass import getpass\n",
    "import logging\n",
    "import os\n",
    "\n",
    "import flywheel\n",
    "from permission import check_user_permission\n"
   ]
  },
  {
   "cell_type": "code",
   "execution_count": 2,
   "metadata": {},
   "outputs": [],
   "source": [
    "# Instantiate a logger\n",
    "logging.basicConfig(level=logging.INFO, format='%(asctime)s %(levelname)s %(message)s')\n",
    "log = logging.getLogger('root')"
   ]
  },
  {
   "cell_type": "markdown",
   "metadata": {},
   "source": [
    "# Flywheel API Key and Client"
   ]
  },
  {
   "cell_type": "markdown",
   "metadata": {},
   "source": [
    "Get a API_KEY. More on this in the Flywheel SDK doc [here](https://flywheel-io.gitlab.io/product/backend/sdk/branches/master/python/getting_started.html#api-key)."
   ]
  },
  {
   "cell_type": "code",
   "execution_count": null,
   "metadata": {},
   "outputs": [],
   "source": [
    "API_KEY = getpass('Enter API_KEY here: ')"
   ]
  },
  {
   "cell_type": "markdown",
   "metadata": {},
   "source": [
    "Instantiate the Flywheel API client"
   ]
  },
  {
   "cell_type": "code",
   "execution_count": 4,
   "metadata": {},
   "outputs": [],
   "source": [
    "fw = flywheel.Client(API_KEY if 'API_KEY' in locals() else os.environ.get('FW_KEY'))"
   ]
  },
  {
   "cell_type": "markdown",
   "metadata": {},
   "source": [
    "Show Flywheel logging information"
   ]
  },
  {
   "cell_type": "code",
   "execution_count": null,
   "metadata": {},
   "outputs": [],
   "source": [
    "log.info('You are now logged in as %s to %s', fw.get_current_user()['email'], fw.get_config()['site']['api_url'])"
   ]
  },
  {
   "cell_type": "markdown",
   "metadata": {},
   "source": [
    "***"
   ]
  },
  {
   "cell_type": "markdown",
   "metadata": {},
   "source": [
    "# Get a specific type of container\n",
    "\n",
    "If you know what kind of container you want, using `fw.get_<container>()` will be the most efficient/proper way to do so. "
   ]
  },
  {
   "cell_type": "markdown",
   "metadata": {},
   "source": [
    "Here, we are trying to get a specific project container by using`fw.get_project()` method which takes in `project_id` as an argument. "
   ]
  },
  {
   "cell_type": "code",
   "execution_count": 8,
   "metadata": {},
   "outputs": [],
   "source": [
    "anxiety_proj = fw.get_project(project_id='<-enter-project-id-here->')"
   ]
  },
  {
   "cell_type": "code",
   "execution_count": null,
   "metadata": {},
   "outputs": [],
   "source": [
    "anxiety_proj"
   ]
  },
  {
   "cell_type": "markdown",
   "metadata": {},
   "source": [
    "Example Output:\n",
    "```python\n",
    "{'analyses': [],\n",
    " 'created': datetime.datetime(2020, 5, 5, 1, 22, 6, 229000, tzinfo=tzutc()),\n",
    " 'description': None,\n",
    " 'editions': {'lab': False},\n",
    " 'files': [],\n",
    " 'group': 'scien',\n",
    " 'id': '1111111111111111111',\n",
    " 'info': {'BIDS': {'Acknowledgements': '',\n",
    "                   'Authors': [],\n",
    "                   'BIDSVersion': '1.0.2',\n",
    "                   'DatasetDOI': '',\n",
    "                   'Funding': '',\n",
    "                   'HowToAcknowledge': '',\n",
    "                   'License': '',\n",
    "                   'Name': 'AnxietyStudy01',\n",
    "                   'ReferencesAndLinks': [],\n",
    "                   'template': 'project'}},\n",
    " 'info_exists': None,\n",
    " 'label': 'AnxietyStudy01',\n",
    " 'modified': datetime.datetime(2020, 10, 22, 0, 13, 21, 622000, tzinfo=tzutc()),\n",
    " 'notes': [{'created': datetime.datetime(2020, 10, 22, 0, 13, 21, 622000, tzinfo=tzutc()),\n",
    "            'id': '1111111111111111111',\n",
    "            'modified': datetime.datetime(2020, 10, 22, 0, 13, 21, 622000, tzinfo=tzutc()),\n",
    "            'text': 'This is a tutorial project',\n",
    "            'user': 'example02@flywheel.io'}],\n",
    " 'parents': {'acquisition': None,\n",
    "             'analysis': None,\n",
    "             'group': 'scien',\n",
    "             'project': None,\n",
    "             'session': None,\n",
    "             'subject': None},\n",
    " 'permissions': [{'access': None,\n",
    "                  'id': 'example01@flywheel.io',\n",
    "                  'role_ids': ['1111111111111111111']},\n",
    "                 {'access': None,\n",
    "                  'id': 'example02@flywheel.io',\n",
    "                  'role_ids': ['1111111111111111111']}],\n",
    " 'providers': {'compute': None, 'storage': None},\n",
    " 'revision': 6,\n",
    " 'tags': [],\n",
    " 'templates': None}\n",
    "```"
   ]
  },
  {
   "cell_type": "markdown",
   "metadata": {},
   "source": [
    "## What if unsure the type of the container?"
   ]
  },
  {
   "cell_type": "markdown",
   "metadata": {},
   "source": [
    "Another way to get a container is to use `fw.get()`. \n",
    "\n",
    "<div class=\"alert alert-block alert-danger\" style=\"color:black\"><b>Warning:</b> This method is the least efficient way to get a container, and we recommend only use this method only if the type of id is unknown.</div>"
   ]
  },
  {
   "cell_type": "code",
   "execution_count": null,
   "metadata": {},
   "outputs": [],
   "source": [
    "unknown_container = fw.get(id='<-enter-project-id-here->')\n",
    "\n",
    "unknown_container"
   ]
  },
  {
   "cell_type": "markdown",
   "metadata": {},
   "source": [
    "Example Output:\n",
    "```python\n",
    "{'analyses': [],\n",
    " 'created': datetime.datetime(2020, 5, 5, 1, 22, 6, 229000, tzinfo=tzutc()),\n",
    " 'description': None,\n",
    " 'editions': {'lab': False},\n",
    " 'files': [],\n",
    " 'group': 'scien',\n",
    " 'id': '1111111111111111111',\n",
    " 'info': {'BIDS': {'Acknowledgements': '',\n",
    "                   'Authors': [],\n",
    "                   'BIDSVersion': '1.0.2',\n",
    "                   'DatasetDOI': '',\n",
    "                   'Funding': '',\n",
    "                   'HowToAcknowledge': '',\n",
    "                   'License': '',\n",
    "                   'Name': 'AnxietyStudy01',\n",
    "                   'ReferencesAndLinks': [],\n",
    "                   'template': 'project'}},\n",
    " 'info_exists': None,\n",
    " 'label': 'AnxietyStudy01',\n",
    " 'modified': datetime.datetime(2020, 10, 22, 0, 13, 21, 622000, tzinfo=tzutc()),\n",
    " 'notes': [{'created': datetime.datetime(2020, 10, 22, 0, 13, 21, 622000, tzinfo=tzutc()),\n",
    "            'id': '1111111111111111111',\n",
    "            'modified': datetime.datetime(2020, 10, 22, 0, 13, 21, 622000, tzinfo=tzutc()),\n",
    "            'text': 'This is a tutorial projects',\n",
    "            'user': 'example02@flywheel.io'}],\n",
    " 'parents': {'acquisition': None,\n",
    "             'analysis': None,\n",
    "             'group': 'scien',\n",
    "             'project': None,\n",
    "             'session': None,\n",
    "             'subject': None},\n",
    " 'permissions': [{'access': None,\n",
    "                  'id': 'example01@flywheel.io',\n",
    "                  'role_ids': ['1111111111111111111']},\n",
    "                 {'access': None,\n",
    "                  'id': 'example02@flywheel.io',\n",
    "                  'role_ids': ['1111111111111111111']}],\n",
    " 'providers': {'compute': None, 'storage': None},\n",
    " 'revision': 6,\n",
    " 'tags': [],\n",
    " 'templates': None}\n",
    "\n",
    "\n",
    "\n",
    "\n",
    "```"
   ]
  },
  {
   "cell_type": "markdown",
   "metadata": {},
   "source": [
    "## Can I get a container with the label name?"
   ]
  },
  {
   "cell_type": "markdown",
   "metadata": {},
   "source": [
    "Yes, you can use `fw.lookup()` to get the container by the label name instead of id."
   ]
  },
  {
   "cell_type": "markdown",
   "metadata": {},
   "source": [
    "Here, we will demostrate how to get the Project container by using `fw.lookup()` method. This method requires `path` arguement. In our case, it will be `group-name/project-name`. "
   ]
  },
  {
   "cell_type": "code",
   "execution_count": 24,
   "metadata": {},
   "outputs": [],
   "source": [
    "project = fw.lookup('<group-name>/<project-name>')"
   ]
  },
  {
   "cell_type": "code",
   "execution_count": null,
   "metadata": {},
   "outputs": [],
   "source": [
    "project"
   ]
  },
  {
   "cell_type": "markdown",
   "metadata": {},
   "source": [
    "Example Output:\n",
    "```python\n",
    "{'analyses': [],\n",
    " 'created': datetime.datetime(2020, 5, 5, 1, 22, 6, 229000, tzinfo=tzutc()),\n",
    " 'description': None,\n",
    " 'editions': {'lab': False},\n",
    " 'files': [],\n",
    " 'group': 'scien',\n",
    " 'id': '1111111111111111111',\n",
    " 'info': {'BIDS': {'Acknowledgements': '',\n",
    "                   'Authors': [],\n",
    "                   'BIDSVersion': '1.0.2',\n",
    "                   'DatasetDOI': '',\n",
    "                   'Funding': '',\n",
    "                   'HowToAcknowledge': '',\n",
    "                   'License': '',\n",
    "                   'Name': 'AnxietyStudy01',\n",
    "                   'ReferencesAndLinks': [],\n",
    "                   'template': 'project'}},\n",
    " 'info_exists': None,\n",
    " 'label': 'AnxietyStudy01',\n",
    " 'modified': datetime.datetime(2020, 10, 22, 0, 13, 21, 622000, tzinfo=tzutc()),\n",
    " 'notes': [{'created': datetime.datetime(2020, 10, 22, 0, 13, 21, 622000, tzinfo=tzutc()),\n",
    "            'id': '1111111111111111111',\n",
    "            'modified': datetime.datetime(2020, 10, 22, 0, 13, 21, 622000, tzinfo=tzutc()),\n",
    "            'text': 'This is a tutorial projects',\n",
    "            'user': 'huiqiantan@flywheel.io'}],\n",
    " 'parents': {'acquisition': None,\n",
    "             'analysis': None,\n",
    "             'group': 'scien',\n",
    "             'project': None,\n",
    "             'session': None,\n",
    "             'subject': None},\n",
    " 'permissions': [{'access': None,\n",
    "                  'id': 'example01@flywheel.io',\n",
    "                  'role_ids': ['1111111111111111111']},\n",
    "                 {'access': None,\n",
    "                  'id': 'example02@flywheel.io',\n",
    "                  'role_ids': ['1111111111111111111']}],\n",
    " 'providers': {'compute': None, 'storage': None},\n",
    " 'revision': 6,\n",
    " 'tags': [],\n",
    " 'templates': None}\n",
    "\n",
    "```"
   ]
  },
  {
   "cell_type": "markdown",
   "metadata": {},
   "source": [
    "You can also get the Subject container with `fw.lookup()` method. In the example below, we are getting the Subject with a label name, `anx_s1`."
   ]
  },
  {
   "cell_type": "code",
   "execution_count": 13,
   "metadata": {},
   "outputs": [],
   "source": [
    "subj_01_lookup = fw.lookup('<group-name>/<project-name>/<subj-label>')"
   ]
  },
  {
   "cell_type": "code",
   "execution_count": null,
   "metadata": {},
   "outputs": [],
   "source": [
    "subj_01_lookup"
   ]
  },
  {
   "cell_type": "markdown",
   "metadata": {},
   "source": [
    "Example Output:\n",
    "\n",
    "```python\n",
    "{'age': None,\n",
    " 'analyses': [],\n",
    " 'code': 'anx_s1',\n",
    " 'cohort': 'Control',\n",
    " 'created': datetime.datetime(2020, 5, 5, 20, 10, 49, 813000, tzinfo=tzutc()),\n",
    " 'ethnicity': 'Unknown or Not Reported',\n",
    " 'files': [],\n",
    " 'firstname': 'John',\n",
    " 'id': '1111111111111111111',\n",
    " 'info': {'a_complicated_nested_dict': {'key1': [1, 2, 3, 4],\n",
    "                                        'key2': [{'an': 'other',\n",
    "                                                  'list': 'with'},\n",
    "                                                 {'dictionaries': ['in',\n",
    "                                                                   'it']}]}},\n",
    " 'info_exists': None,\n",
    " 'label': 'anx_s1',\n",
    " 'lastname': 'Doe',\n",
    " 'master_code': None,\n",
    " 'modified': datetime.datetime(2020, 10, 22, 0, 12, 4, 83000, tzinfo=tzutc()),\n",
    " 'notes': [],\n",
    " 'parents': {'acquisition': None,\n",
    "             'analysis': None,\n",
    "             'group': 'test',\n",
    "             'project': '1111111111111111111',\n",
    "             'session': None,\n",
    "             'subject': None},\n",
    " 'permissions': [{'access': None,\n",
    "                  'id': 'example01@flywheel.io',\n",
    "                  'role_ids': ['1111111111111111111']},\n",
    "                 {'access': None,\n",
    "                  'id': 'example02@flywheel.io',\n",
    "                  'role_ids': ['1111111111111111111']}],\n",
    " 'project': '1111111111111111111',\n",
    " 'race': 'More Than One Race',\n",
    " 'revision': 45,\n",
    " 'sex': 'male',\n",
    " 'species': None,\n",
    " 'strain': None,\n",
    " 'tags': ['tutorial', 'blue'],\n",
    " 'type': 'human'}\n",
    "\n",
    "\n",
    "```"
   ]
  },
  {
   "cell_type": "markdown",
   "metadata": {},
   "source": [
    "You can also use the `finder` module to get the container by using the label name.\n",
    "\n",
    "In the example below, we will be using `find_first()` method to get the Subject container. This method takes in one argument for this instance, it is the `label` of the container. "
   ]
  },
  {
   "cell_type": "code",
   "execution_count": 20,
   "metadata": {},
   "outputs": [],
   "source": [
    "subj_01_finder = fw.subjects.find_first('label=<subject-label>')"
   ]
  },
  {
   "cell_type": "code",
   "execution_count": null,
   "metadata": {},
   "outputs": [],
   "source": [
    "subj_01_finder"
   ]
  },
  {
   "cell_type": "markdown",
   "metadata": {},
   "source": [
    "Example Output:\n",
    "```python\n",
    "{'age': None,\n",
    " 'analyses': None,\n",
    " 'code': 'anx_s1',\n",
    " 'cohort': 'Control',\n",
    " 'created': datetime.datetime(2020, 5, 5, 20, 10, 49, 813000, tzinfo=tzutc()),\n",
    " 'ethnicity': None,\n",
    " 'files': [],\n",
    " 'firstname': None,\n",
    " 'id': '1111111111111111111',\n",
    " 'info': {},\n",
    " 'info_exists': True,\n",
    " 'label': 'anx_s1',\n",
    " 'lastname': None,\n",
    " 'master_code': None,\n",
    " 'modified': datetime.datetime(2020, 10, 22, 0, 12, 4, 83000, tzinfo=tzutc()),\n",
    " 'notes': [],\n",
    " 'parents': {'acquisition': None,\n",
    "             'analysis': None,\n",
    "             'group': 'test',\n",
    "             'project': '1111111111111111111',\n",
    "             'session': None,\n",
    "             'subject': None},\n",
    " 'permissions': [{'access': None,\n",
    "                  'id': 'example01@flywheel.io',\n",
    "                  'role_ids': ['1111111111111111111']},\n",
    "                 {'access': None,\n",
    "                  'id': 'example02@flywheel.io',\n",
    "                  'role_ids': ['1111111111111111111']}],\n",
    " 'project': '1111111111111111111',\n",
    " 'race': None,\n",
    " 'revision': 45,\n",
    " 'sex': None,\n",
    " 'species': None,\n",
    " 'strain': None,\n",
    " 'tags': ['tutorial', 'blue'],\n",
    " 'type': 'human'}\n",
    "```"
   ]
  },
  {
   "cell_type": "markdown",
   "metadata": {},
   "source": [
    "***"
   ]
  },
  {
   "cell_type": "markdown",
   "metadata": {},
   "source": [
    "### What is the difference between `fw.lookup()` method and `fw.get_<container>()` method?\n",
    "\n",
    "- `fw.get_<container>()` method knows that it is returning a specific container while the `fw.lookup()` method only know that it is returning a container. <br>\n",
    "<p style=\"background:yellow;color:black\">With that being said, <code>fw.lookup()</code> method will only return a generic/common container details but not nessecarily all the unique per layer attributes.</p>"
   ]
  },
  {
   "cell_type": "markdown",
   "metadata": {},
   "source": [
    "***"
   ]
  },
  {
   "cell_type": "markdown",
   "metadata": {},
   "source": [
    "# Reloading a Container"
   ]
  },
  {
   "cell_type": "markdown",
   "metadata": {},
   "source": [
    "One thing you might notice from the output above(`subj_01_finder`) is that, the `info` attribute return as an empty list while the `subj_01_lookup`'s `info` attribute contains some value. This is because different method will return some generic/common metadata but not all due to performance reasons. So, in order to load the complete version of metadata in the container you will need to use `reload()` method. \n"
   ]
  },
  {
   "cell_type": "markdown",
   "metadata": {},
   "source": [
    "## What is `reload()`?\n",
    "\n",
    "A `<container>.reload()` method can be used in two situation.\n",
    "\n",
    "- Can pull in additional information on the container that `fw.get()` or `fw.get_<container>()` did not return.\n",
    "- Refresh information on the container after updating it; so local information matches what was just changed on the platform.\n",
    "\n",
    "## Is it nessecary to use `reload()` method? \n",
    "Yes. This is because some API endpoints contain a very large amount of information. So for performance reasons, different method will return a lot of (but not all) the same attributes. \n",
    "Therefore, `reload()` is helpful to retrieve a consistent view of the data within a container. "
   ]
  },
  {
   "cell_type": "markdown",
   "metadata": {},
   "source": [
    "## When to use `reload()`?\n",
    "\n",
    "One way to identify when you should use `reload()` is when `<container>.info_exists()` is `True`. You should also use it when you are expecting the Container to return a specific attributes.\n",
    "\n",
    "<div class=\"alert alert-block alert-info\" style=\"color:black\"><b>Common Attributes:</b> analyses, file, info, container's metadata (eg:ethnicity, firstname, lastname, race, sex)</div>\n",
    "\n"
   ]
  },
  {
   "cell_type": "markdown",
   "metadata": {},
   "source": [
    "### Let's see some example"
   ]
  },
  {
   "cell_type": "markdown",
   "metadata": {},
   "source": [
    "We will be comparing the Subject container for subject `anx_s1` with and without `reload()`. \n",
    "\n",
    "First, we will get the Subject container by using `find_first()` method. "
   ]
  },
  {
   "cell_type": "markdown",
   "metadata": {},
   "source": [
    "<img src=\"https://gitlab.com/flywheel-io/public/flywheel-tutorials/-/raw/reload-containers/python/assets/subject_find_first.png\" align=\"center\" width=\"1000\"/>"
   ]
  },
  {
   "cell_type": "markdown",
   "metadata": {},
   "source": [
    "Let's see what is being retrieve from the Subject Container. "
   ]
  },
  {
   "cell_type": "markdown",
   "metadata": {},
   "source": [
    "<img src=\"https://gitlab.com/flywheel-io/public/flywheel-tutorials/-/raw/reload-containers/python/assets/subject_without_reload.png\" align=\"center\" height=\"500\" width=\"800\"/>"
   ]
  },
  {
   "cell_type": "markdown",
   "metadata": {},
   "source": [
    "Now, let's see what happend when we use `<container>.reload()` method. "
   ]
  },
  {
   "cell_type": "markdown",
   "metadata": {},
   "source": [
    "<img src=\"https://gitlab.com/flywheel-io/public/flywheel-tutorials/-/raw/reload-containers/python/assets/subject_with_reload.png\" align=\"center\" height=\"500\" width=\"800\"/>"
   ]
  },
  {
   "cell_type": "markdown",
   "metadata": {},
   "source": [
    "As you can see from the two screenshots above, some of the attributes were being returned as `None` or an empty list/dictionary. For the subject container without `reload()` method, the `info_exists` attribute return as `True` whereas with `reload()` method, the `info_exists` attribute return as `None`."
   ]
  },
  {
   "cell_type": "markdown",
   "metadata": {},
   "source": [
    "# Key Takeaway\n",
    "It will be always helpful to keep `reload()` method handy, so that you can retrieve the complete version of the metadata in the container. "
   ]
  },
  {
   "cell_type": "code",
   "execution_count": null,
   "metadata": {},
   "outputs": [],
   "source": []
  }
 ],
 "metadata": {
  "kernelspec": {
   "display_name": "Python 3",
   "language": "python",
   "name": "python3"
  },
  "language_info": {
   "codemirror_mode": {
    "name": "ipython",
    "version": 3
   },
   "file_extension": ".py",
   "mimetype": "text/x-python",
   "name": "python",
   "nbconvert_exporter": "python",
   "pygments_lexer": "ipython3",
   "version": "3.7.6"
  }
 },
 "nbformat": 4,
 "nbformat_minor": 4
}
