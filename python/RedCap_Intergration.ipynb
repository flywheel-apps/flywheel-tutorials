{
  "nbformat": 4,
  "nbformat_minor": 0,
  "metadata": {
    "kernelspec": {
      "display_name": "Python 3",
      "language": "python",
      "name": "python3"
    },
    "language_info": {
      "codemirror_mode": {
        "name": "ipython",
        "version": 3
      },
      "file_extension": ".py",
      "mimetype": "text/x-python",
      "name": "python",
      "nbconvert_exporter": "python",
      "pygments_lexer": "ipython3",
      "version": "3.7.6"
    },
    "colab": {
      "name": "RedCap Intergration.ipynb",
      "provenance": []
    }
  },
  "cells": [
    {
      "cell_type": "markdown",
      "metadata": {
        "id": "dDuyJAjKpFBy",
        "colab_type": "text"
      },
      "source": [
        "**Title**: FW - RC integration notebook  \n",
        "**Date**:  DD-Mmm-YYYY  \n",
        "**Description**:  \n",
        "* This notebook is to intergate forms from RedCap to FW project \n",
        "    "
      ]
    },
    {
      "cell_type": "markdown",
      "metadata": {
        "id": "dF3r6oQypFBy",
        "colab_type": "text"
      },
      "source": [
        "# Install and import dependencies"
      ]
    },
    {
      "cell_type": "code",
      "metadata": {
        "id": "tnHysje2pFBz",
        "colab_type": "code",
        "outputId": "d8f2d8ec-5b90-401f-96b0-2d69929e92eb",
        "colab": {
          "base_uri": "https://localhost:8080/",
          "height": 272
        }
      },
      "source": [
        "# Install specific packages required for this notebook\n",
        "!pip install flywheel-sdk"
      ],
      "execution_count": 2,
      "outputs": [
        {
          "output_type": "stream",
          "text": [
            "Collecting flywheel-sdk\n",
            "\u001b[?25l  Downloading https://files.pythonhosted.org/packages/cc/dd/e02c7c84b0c2b458f500532241343b2eb5ddf9cf1efb21c97cbebd2db5b1/flywheel_sdk-11.3.1-py2.py3-none-any.whl (662kB)\n",
            "\u001b[K     |████████████████████████████████| 665kB 2.7MB/s \n",
            "\u001b[?25hRequirement already satisfied: python-dateutil in /usr/local/lib/python3.6/dist-packages (from flywheel-sdk) (2.8.1)\n",
            "Requirement already satisfied: urllib3>=1.15 in /usr/local/lib/python3.6/dist-packages (from flywheel-sdk) (1.24.3)\n",
            "Requirement already satisfied: requests>=2.18.4 in /usr/local/lib/python3.6/dist-packages (from flywheel-sdk) (2.21.0)\n",
            "Requirement already satisfied: six>=1.10 in /usr/local/lib/python3.6/dist-packages (from flywheel-sdk) (1.12.0)\n",
            "Collecting requests-toolbelt\n",
            "\u001b[?25l  Downloading https://files.pythonhosted.org/packages/60/ef/7681134338fc097acef8d9b2f8abe0458e4d87559c689a8c306d0957ece5/requests_toolbelt-0.9.1-py2.py3-none-any.whl (54kB)\n",
            "\u001b[K     |████████████████████████████████| 61kB 8.0MB/s \n",
            "\u001b[?25hRequirement already satisfied: certifi in /usr/local/lib/python3.6/dist-packages (from flywheel-sdk) (2020.4.5.1)\n",
            "Requirement already satisfied: idna<2.9,>=2.5 in /usr/local/lib/python3.6/dist-packages (from requests>=2.18.4->flywheel-sdk) (2.8)\n",
            "Requirement already satisfied: chardet<3.1.0,>=3.0.2 in /usr/local/lib/python3.6/dist-packages (from requests>=2.18.4->flywheel-sdk) (3.0.4)\n",
            "Installing collected packages: requests-toolbelt, flywheel-sdk\n",
            "Successfully installed flywheel-sdk-11.3.1 requests-toolbelt-0.9.1\n"
          ],
          "name": "stdout"
        }
      ]
    },
    {
      "cell_type": "code",
      "metadata": {
        "id": "VSRqCbbapFB3",
        "colab_type": "code",
        "colab": {}
      },
      "source": [
        "# Import packages\n",
        "from getpass import getpass\n",
        "import logging\n",
        "import os\n",
        "import flywheel\n",
        "import sys\n",
        "import pprint\n",
        "import pandas as pd\n"
      ],
      "execution_count": 0,
      "outputs": []
    },
    {
      "cell_type": "code",
      "metadata": {
        "id": "9Xr_MzEcGhIZ",
        "colab_type": "code",
        "outputId": "115038c8-f3cf-4627-81ef-99071515da63",
        "colab": {
          "base_uri": "https://localhost:8080/",
          "height": 391
        }
      },
      "source": [
        "! git clone git://github.com/sburns/PyCap.git PyCap\n",
        "sys.path.append('/content/PyCap')\n",
        "!pip3 install PyCap/"
      ],
      "execution_count": 4,
      "outputs": [
        {
          "output_type": "stream",
          "text": [
            "Cloning into 'PyCap'...\n",
            "remote: Enumerating objects: 77, done.\u001b[K\n",
            "remote: Counting objects: 100% (77/77), done.\u001b[K\n",
            "remote: Compressing objects: 100% (61/61), done.\u001b[K\n",
            "remote: Total 1244 (delta 39), reused 45 (delta 16), pack-reused 1167\u001b[K\n",
            "Receiving objects: 100% (1244/1244), 661.42 KiB | 911.00 KiB/s, done.\n",
            "Resolving deltas: 100% (575/575), done.\n",
            "Processing ./PyCap\n",
            "Requirement already satisfied: requests>=1.0.0 in /usr/local/lib/python3.6/dist-packages (from PyCap==0.0.0) (2.21.0)\n",
            "Collecting semantic-version>=2.3.1\n",
            "  Downloading https://files.pythonhosted.org/packages/ba/00/098b5c385c3cf8f1ff4d9b909623859de4eb95c115aed81263a4e3b84ea3/semantic_version-2.8.4-py2.py3-none-any.whl\n",
            "Requirement already satisfied: urllib3<1.25,>=1.21.1 in /usr/local/lib/python3.6/dist-packages (from requests>=1.0.0->PyCap==0.0.0) (1.24.3)\n",
            "Requirement already satisfied: idna<2.9,>=2.5 in /usr/local/lib/python3.6/dist-packages (from requests>=1.0.0->PyCap==0.0.0) (2.8)\n",
            "Requirement already satisfied: chardet<3.1.0,>=3.0.2 in /usr/local/lib/python3.6/dist-packages (from requests>=1.0.0->PyCap==0.0.0) (3.0.4)\n",
            "Requirement already satisfied: certifi>=2017.4.17 in /usr/local/lib/python3.6/dist-packages (from requests>=1.0.0->PyCap==0.0.0) (2020.4.5.1)\n",
            "Building wheels for collected packages: PyCap\n",
            "  Building wheel for PyCap (setup.py) ... \u001b[?25l\u001b[?25hdone\n",
            "  Created wheel for PyCap: filename=PyCap-0.0.0-cp36-none-any.whl size=14466 sha256=61bb3cdfc5527eaad32e540df74c4956bc29f809a503b20b78fc02efb407b912\n",
            "  Stored in directory: /tmp/pip-ephem-wheel-cache-_dpcuz2y/wheels/2e/bf/07/8d10ed6bb58bb596b1f6a175f6f2ac565e805aa6187a067a45\n",
            "Successfully built PyCap\n",
            "Installing collected packages: semantic-version, PyCap\n",
            "Successfully installed PyCap-0.0.0 semantic-version-2.8.4\n"
          ],
          "name": "stdout"
        }
      ]
    },
    {
      "cell_type": "code",
      "metadata": {
        "id": "1gXx5Q0AGvTR",
        "colab_type": "code",
        "colab": {}
      },
      "source": [
        "from redcap import Project"
      ],
      "execution_count": 0,
      "outputs": []
    },
    {
      "cell_type": "code",
      "metadata": {
        "id": "vl-njZHWpFB6",
        "colab_type": "code",
        "colab": {}
      },
      "source": [
        "# Instantiate a logger\n",
        "logging.basicConfig(level=logging.INFO, format='%(asctime)s %(levelname)s %(message)s')\n",
        "log = logging.getLogger('root')"
      ],
      "execution_count": 0,
      "outputs": []
    },
    {
      "cell_type": "markdown",
      "metadata": {
        "id": "ESBJdNiJpFB9",
        "colab_type": "text"
      },
      "source": [
        "# Flywheel API Key and Client"
      ]
    },
    {
      "cell_type": "markdown",
      "metadata": {
        "id": "P8a20roWpFB-",
        "colab_type": "text"
      },
      "source": [
        "Get a API_KEY. More on this at in the Flywheel SDK doc [here](https://flywheel-io.gitlab.io/product/backend/sdk/branches/master/python/getting_started.html#api-key)."
      ]
    },
    {
      "cell_type": "code",
      "metadata": {
        "id": "LWkEZ-JTpFB-",
        "colab_type": "code",
        "outputId": "5a39e4d8-5052-4a67-a4a3-5b81a4759652",
        "colab": {
          "base_uri": "https://localhost:8080/",
          "height": 34
        }
      },
      "source": [
        "API_KEY = getpass('Enter API_KEY here: ')"
      ],
      "execution_count": 0,
      "outputs": [
        {
          "output_type": "stream",
          "text": [
            "Enter API_KEY here: ··········\n"
          ],
          "name": "stdout"
        }
      ]
    },
    {
      "cell_type": "markdown",
      "metadata": {
        "id": "yl1SuWIdpFCB",
        "colab_type": "text"
      },
      "source": [
        "Instantiate the Flywheel API client"
      ]
    },
    {
      "cell_type": "code",
      "metadata": {
        "id": "yW3kAGFPpFCB",
        "colab_type": "code",
        "colab": {}
      },
      "source": [
        "fw = flywheel.Client(API_KEY or os.environ.get('FW_KEY'))"
      ],
      "execution_count": 0,
      "outputs": []
    },
    {
      "cell_type": "markdown",
      "metadata": {
        "id": "eav3GTHjpFCE",
        "colab_type": "text"
      },
      "source": [
        "Show Flywheel logging information"
      ]
    },
    {
      "cell_type": "code",
      "metadata": {
        "id": "0vk4MutVpFCF",
        "colab_type": "code",
        "colab": {}
      },
      "source": [
        "log.info('You are now logged in as %s to %s', fw.get_current_user()['email'], fw.get_config()['site']['api_url'])"
      ],
      "execution_count": 0,
      "outputs": []
    },
    {
      "cell_type": "markdown",
      "metadata": {
        "id": "ADS0ARESpFCI",
        "colab_type": "text"
      },
      "source": [
        "## Constants"
      ]
    },
    {
      "cell_type": "code",
      "metadata": {
        "id": "4-ufv-kEpFCJ",
        "colab_type": "code",
        "colab": {}
      },
      "source": [
        "# FW Project ID that you want to use\n",
        "project_id = input('Enter your project ID: ')\n",
        "\n",
        "# RedCap Login (replace this with your RedCap API URL)\n",
        "URL = 'https://redcap.test.edu/redcap_v0.0.01/API/'\n",
        "\n",
        "# Enter your REDcap API key\n",
        "RC_API_KEY = input('Please enter your RedCap API key: ')\n",
        "project = Project(URL, RC_API_KEY)"
      ],
      "execution_count": 0,
      "outputs": []
    },
    {
      "cell_type": "code",
      "metadata": {
        "id": "0HRHU1MYslbF",
        "colab_type": "code",
        "colab": {}
      },
      "source": [
        "#Constant for RedCap form\n",
        "\n",
        "#Metadata\n",
        "subj_metadata = ['enrollment_log'] # or intake form (form that identify the participant)\n",
        "subj_forms = [\n",
        "              {\n",
        "                  'fw_session_label' : 'session01',\n",
        "                  'redcap_form_label': 'd1_baseline_questionnaires'\n",
        "\n",
        "              },\n",
        "              {\n",
        "                  'fw_session_label' : 'session02',\n",
        "                  'redcap_form_label': 'd8_post_questionnaires'\n",
        "              }\n",
        "] # add forms that you have on RedCap that will correspond with data you uploaded on FW\n"
      ],
      "execution_count": 0,
      "outputs": []
    },
    {
      "cell_type": "markdown",
      "metadata": {
        "colab_type": "text",
        "id": "9yQG9H3sHRA5"
      },
      "source": [
        "# Get Information from RedCap\n"
      ]
    },
    {
      "cell_type": "markdown",
      "metadata": {
        "id": "DOJNuE2UKtx6",
        "colab_type": "text"
      },
      "source": [
        "## RedCap Project Information"
      ]
    },
    {
      "cell_type": "code",
      "metadata": {
        "id": "VKnroWAaKy0t",
        "colab_type": "code",
        "outputId": "dffa0181-3c1a-4b1c-893a-29842e7d05ea",
        "colab": {
          "base_uri": "https://localhost:8080/",
          "height": 442
        }
      },
      "source": [
        "project_info = project.export_project_info(format='json')\n",
        "\n",
        "pprint.pprint(project_info)\n"
      ],
      "execution_count": 0,
      "outputs": [
        {
          "output_type": "stream",
          "text": [
            "{'creation_time': '2020-03-27 10:09:59',\n",
            " 'custom_record_label': '',\n",
            " 'ddp_enabled': 0,\n",
            " 'display_today_now_button': 1,\n",
            " 'external_modules': '',\n",
            " 'has_repeating_instruments_or_events': 0,\n",
            " 'in_production': 0,\n",
            " 'is_longitudinal': 1,\n",
            " 'missing_data_codes': '',\n",
            " 'production_time': '',\n",
            " 'project_grant_number': '',\n",
            " 'project_id': 10379,\n",
            " 'project_irb_number': '',\n",
            " 'project_language': 'EnglishUMN',\n",
            " 'project_notes': 'This is the project for testing.',\n",
            " 'project_pi_firstname': '',\n",
            " 'project_pi_lastname': '',\n",
            " 'project_title': 'Test_3b',\n",
            " 'purpose': 0,\n",
            " 'purpose_other': '',\n",
            " 'randomization_enabled': 0,\n",
            " 'record_autonumbering_enabled': 1,\n",
            " 'scheduling_enabled': 1,\n",
            " 'secondary_unique_field': '',\n",
            " 'surveys_enabled': 1}\n"
          ],
          "name": "stdout"
        }
      ]
    },
    {
      "cell_type": "markdown",
      "metadata": {
        "id": "afhASLP8M3Vk",
        "colab_type": "text"
      },
      "source": [
        "### All Events available in the Project"
      ]
    },
    {
      "cell_type": "code",
      "metadata": {
        "colab_type": "code",
        "id": "QPGDTzuhMfNx",
        "outputId": "0d71de31-c1e8-4045-ba81-680714dff348",
        "colab": {
          "base_uri": "https://localhost:8080/",
          "height": 153
        }
      },
      "source": [
        "arm_event = {}\n",
        "event_list = []\n",
        "\n",
        "for event in project.events:\n",
        "\n",
        "  arm_num = event['arm_num']\n",
        "  event_name = event['event_name']\n",
        "  unique_event_name = event['unique_event_name']\n",
        "\n",
        "  if arm_num not in arm_event:\n",
        "    event_list.append(unique_event_name)\n",
        "    arm_event[arm_num] = event_list\n",
        "\n",
        "\n",
        "\n",
        "  print(f'Event Name: {event_name}, Unique Event Name: {unique_event_name}, Arm Number: {arm_num}')\n",
        "\n",
        "print('\\nBelow is the arm number with respective unique event name:')\n",
        "pprint.pprint(arm_event)\n",
        "\n"
      ],
      "execution_count": 0,
      "outputs": [
        {
          "output_type": "stream",
          "text": [
            "Event Name: Timepoint 0, Unique Event Name: timepoint_0_arm_1, Arm Number: 1\n",
            "Event Name: Timepoint 1, Unique Event Name: timepoint_1_arm_1, Arm Number: 1\n",
            "Event Name: Timepoint 0, Unique Event Name: timepoint_0_arm_2, Arm Number: 2\n",
            "Event Name: Timepoint 1, Unique Event Name: timepoint_1_arm_2, Arm Number: 2\n",
            "\n",
            "Below is the arm number with respective unique event name:\n",
            "{1: ['timepoint_0_arm_1', 'timepoint_0_arm_2'],\n",
            " 2: ['timepoint_0_arm_1', 'timepoint_0_arm_2']}\n"
          ],
          "name": "stdout"
        }
      ]
    },
    {
      "cell_type": "markdown",
      "metadata": {
        "id": "6D4f21VdKgCs",
        "colab_type": "text"
      },
      "source": [
        "### Arm Names and Number\n"
      ]
    },
    {
      "cell_type": "code",
      "metadata": {
        "id": "7dSNsglcpFCY",
        "colab_type": "code",
        "outputId": "3e1ca16d-991d-4f5c-963d-6be9840d2d2d",
        "colab": {
          "base_uri": "https://localhost:8080/",
          "height": 51
        }
      },
      "source": [
        "print('Arm Names: ' + str(project.arm_names))\n",
        "print('No of Arms: ' + str(project.arm_nums))"
      ],
      "execution_count": 0,
      "outputs": [
        {
          "output_type": "stream",
          "text": [
            "Arm Names: ('ARM1', 'ARM2')\n",
            "No of Arms: (1, 2)\n"
          ],
          "name": "stdout"
        }
      ]
    },
    {
      "cell_type": "markdown",
      "metadata": {
        "id": "cqDqPBDzXP7k",
        "colab_type": "text"
      },
      "source": [
        "## Forms in the RedCap Project"
      ]
    },
    {
      "cell_type": "code",
      "metadata": {
        "id": "ghBME5MDKk2Y",
        "colab_type": "code",
        "outputId": "5fa72906-6e68-4ce4-d76a-a5c94b897a6a",
        "colab": {
          "base_uri": "https://localhost:8080/",
          "height": 51
        }
      },
      "source": [
        "form_list = []\n",
        "for form in project.forms:\n",
        "  form_list.append(form)\n",
        "\n",
        "print(f'Forms that is in the project: \\n{form_list}')\n"
      ],
      "execution_count": 28,
      "outputs": [
        {
          "output_type": "stream",
          "text": [
            "Forms that is in the project: \n",
            "['d1_baseline_questionnaires', 'd8_post_questionnaires', 'medical_history', 'enrollment_log']\n"
          ],
          "name": "stdout"
        }
      ]
    },
    {
      "cell_type": "markdown",
      "metadata": {
        "id": "eSmeOLJUXlgJ",
        "colab_type": "text"
      },
      "source": [
        "## List all the field name with their field label used in RedCap"
      ]
    },
    {
      "cell_type": "code",
      "metadata": {
        "id": "o6LmK4cbXT9b",
        "colab_type": "code",
        "outputId": "7f04b3ca-acf7-463a-b7d9-2a052ca7fb16",
        "colab": {
          "base_uri": "https://localhost:8080/",
          "height": 479
        }
      },
      "source": [
        "for labels in project.names_labels(do_print= True):\n",
        "  print(labels)"
      ],
      "execution_count": 34,
      "outputs": [
        {
          "output_type": "stream",
          "text": [
            "participant_id --> Participant ID: \n",
            "subject_initials --> Subject Initials:\n",
            "subject_fw_id --> Subject FW ID: \n",
            "consent_date --> Consent date: \n",
            "hipaa_signed_yes_no --> HIPAA signed? \n",
            "randomization_code --> Randomization code: \n",
            "smoke --> Smoker?\n",
            "famhx --> Family History of CAD\n",
            "htn --> Hypertention\n",
            "ckd --> Chronic Kidney Disease\n",
            "obesity --> Obesity\n",
            "d1_date --> Date\n",
            "session_label_d1 --> Session Label (to compare with FW)\n",
            "bl_pss_1 --> 1. In the 30 days before treatment, how often have you been upset because of something that happened unexpectedly?\n",
            "bl_pss_2 --> 2. In the 30 days before treatment, how often have you felt that you were unable to control the important things in your life?\n",
            "bl_pss_3 --> 3. In the 30 days before treatment, how often have you felt nervous and \"stressed\"?\n",
            "bl_pss_4 --> 4. In the 30 days before treatment, how often have you felt confident about your ability to handle your personal problems?\n",
            "bl_pss_5 --> 5. In the 30 days before treatment, how often have you felt that things were going your way?\n",
            "d8_date --> Date\n",
            "post_pss_1 --> 1. Since you started treatment at Lodging Plus, how often have you been upset because of something that happened unexpectedly?\n",
            "post_pss_2 --> 2. Since you started treatment at Lodging Plus, how often have you felt that you were unable to control the important things in your life?\n",
            "post_pss_3 --> 3. Since you started treatment at Lodging Plus, how often have you felt nervous and \"stressed\"?\n",
            "post_pss_4 --> 4. Since you started treatment at Lodging Plus, how often have you felt confident about your ability to handle your personal problems?\n",
            "post_pss_5 --> 5. Since you started treatment at Lodging Plus, how often have you felt that things were going your way?\n",
            "['participant_id', 'subject_initials', 'subject_fw_id', 'consent_date', 'hipaa_signed_yes_no', 'randomization_code', 'smoke', 'famhx', 'htn', 'ckd', 'obesity', 'd1_date', 'session_label_d1', 'bl_pss_1', 'bl_pss_2', 'bl_pss_3', 'bl_pss_4', 'bl_pss_5', 'd8_date', 'post_pss_1', 'post_pss_2', 'post_pss_3', 'post_pss_4', 'post_pss_5']\n",
            "['Participant ID: ', 'Subject Initials:', 'Subject FW ID: ', 'Consent date: ', 'HIPAA signed? ', 'Randomization code: ', 'Smoker?', 'Family History of CAD', 'Hypertention', 'Chronic Kidney Disease', 'Obesity', 'Date', 'Session Label (to compare with FW)', '1. In the 30 days before treatment, how often have you been upset because of something that happened unexpectedly?', '2. In the 30 days before treatment, how often have you felt that you were unable to control the important things in your life?', '3. In the 30 days before treatment, how often have you felt nervous and \"stressed\"?', '4. In the 30 days before treatment, how often have you felt confident about your ability to handle your personal problems?', '5. In the 30 days before treatment, how often have you felt that things were going your way?', 'Date', '1. Since you started treatment at Lodging Plus, how often have you been upset because of something that happened unexpectedly?', '2. Since you started treatment at Lodging Plus, how often have you felt that you were unable to control the important things in your life?', '3. Since you started treatment at Lodging Plus, how often have you felt nervous and \"stressed\"?', '4. Since you started treatment at Lodging Plus, how often have you felt confident about your ability to handle your personal problems?', '5. Since you started treatment at Lodging Plus, how often have you felt that things were going your way?']\n"
          ],
          "name": "stdout"
        }
      ]
    },
    {
      "cell_type": "markdown",
      "metadata": {
        "id": "Un933A65YALn",
        "colab_type": "text"
      },
      "source": [
        "## List out Records that are completed for each participant"
      ]
    },
    {
      "cell_type": "code",
      "metadata": {
        "id": "rRaPnCJkYJms",
        "colab_type": "code",
        "outputId": "64e0df59-fdf0-4a97-ccbd-4d932e896f17",
        "colab": {
          "base_uri": "https://localhost:8080/",
          "height": 153
        }
      },
      "source": [
        "record_list = project.export_records(fields=[project.def_field])\n",
        "pprint.pprint(record_list)"
      ],
      "execution_count": 0,
      "outputs": [
        {
          "output_type": "stream",
          "text": [
            "[{'participant_id': '1', 'redcap_event_name': 'timepoint_0_arm_1'},\n",
            " {'participant_id': '1', 'redcap_event_name': 'timepoint_1_arm_1'},\n",
            " {'participant_id': '2', 'redcap_event_name': 'timepoint_0_arm_2'},\n",
            " {'participant_id': '2', 'redcap_event_name': 'timepoint_1_arm_2'},\n",
            " {'participant_id': '3', 'redcap_event_name': 'timepoint_0_arm_1'},\n",
            " {'participant_id': '3', 'redcap_event_name': 'timepoint_1_arm_1'},\n",
            " {'participant_id': '4', 'redcap_event_name': 'timepoint_0_arm_1'},\n",
            " {'participant_id': '4', 'redcap_event_name': 'timepoint_1_arm_1'}]\n"
          ],
          "name": "stdout"
        }
      ]
    },
    {
      "cell_type": "markdown",
      "metadata": {
        "id": "31dQ5W_gXwaq",
        "colab_type": "text"
      },
      "source": [
        "## Export All of the Records from RedCap project"
      ]
    },
    {
      "cell_type": "code",
      "metadata": {
        "id": "DPDwemUgXs2c",
        "colab_type": "code",
        "colab": {}
      },
      "source": [
        "all_records = project.export_records()\n"
      ],
      "execution_count": 0,
      "outputs": []
    },
    {
      "cell_type": "markdown",
      "metadata": {
        "id": "mA8tz0bfYSJi",
        "colab_type": "text"
      },
      "source": [
        "## Get all the metadata"
      ]
    },
    {
      "cell_type": "code",
      "metadata": {
        "id": "13Jl8ERRX2o9",
        "colab_type": "code",
        "outputId": "2b624239-c407-4580-a6f8-d0bfe6aea496",
        "colab": {
          "base_uri": "https://localhost:8080/",
          "height": 867
        }
      },
      "source": [
        "metaData = project.metadata\n",
        "print('Below is all the field name from the RedCap Project:\\n')\n",
        "for each in metaData:\n",
        "  print('Form: %s, Field Name: %s'% (each['form_name'], each['field_name']))\n",
        "  print()\n"
      ],
      "execution_count": 43,
      "outputs": [
        {
          "output_type": "stream",
          "text": [
            "Below is all the field name from the RedCap Project:\n",
            "\n",
            "Form: enrollment_log, Field Name: participant_id\n",
            "\n",
            "Form: enrollment_log, Field Name: subject_initials\n",
            "\n",
            "Form: enrollment_log, Field Name: subject_fw_id\n",
            "\n",
            "Form: enrollment_log, Field Name: consent_date\n",
            "\n",
            "Form: enrollment_log, Field Name: hipaa_signed_yes_no\n",
            "\n",
            "Form: enrollment_log, Field Name: randomization_code\n",
            "\n",
            "Form: medical_history, Field Name: smoke\n",
            "\n",
            "Form: medical_history, Field Name: famhx\n",
            "\n",
            "Form: medical_history, Field Name: htn\n",
            "\n",
            "Form: medical_history, Field Name: ckd\n",
            "\n",
            "Form: medical_history, Field Name: obesity\n",
            "\n",
            "Form: d1_baseline_questionnaires, Field Name: d1_date\n",
            "\n",
            "Form: d1_baseline_questionnaires, Field Name: session_label_d1\n",
            "\n",
            "Form: d1_baseline_questionnaires, Field Name: bl_pss_1\n",
            "\n",
            "Form: d1_baseline_questionnaires, Field Name: bl_pss_2\n",
            "\n",
            "Form: d1_baseline_questionnaires, Field Name: bl_pss_3\n",
            "\n",
            "Form: d1_baseline_questionnaires, Field Name: bl_pss_4\n",
            "\n",
            "Form: d1_baseline_questionnaires, Field Name: bl_pss_5\n",
            "\n",
            "Form: d8_post_questionnaires, Field Name: d8_date\n",
            "\n",
            "Form: d8_post_questionnaires, Field Name: post_pss_1\n",
            "\n",
            "Form: d8_post_questionnaires, Field Name: post_pss_2\n",
            "\n",
            "Form: d8_post_questionnaires, Field Name: post_pss_3\n",
            "\n",
            "Form: d8_post_questionnaires, Field Name: post_pss_4\n",
            "\n",
            "Form: d8_post_questionnaires, Field Name: post_pss_5\n",
            "\n"
          ],
          "name": "stdout"
        }
      ]
    },
    {
      "cell_type": "markdown",
      "metadata": {
        "id": "vUktLLmgZaHU",
        "colab_type": "text"
      },
      "source": [
        "## Get the event mapping for all the arms\n",
        "### Able to identify their form name and unique event name here  "
      ]
    },
    {
      "cell_type": "code",
      "metadata": {
        "id": "mLgZIRz0Y7vl",
        "colab_type": "code",
        "outputId": "95dd641c-0cd4-4b13-88b7-a1818c6aed1e",
        "colab": {
          "base_uri": "https://localhost:8080/",
          "height": 221
        }
      },
      "source": [
        "all_forms_and_events = project.export_fem()\n",
        "pprint.pprint(all_forms_and_events)"
      ],
      "execution_count": 0,
      "outputs": [
        {
          "output_type": "stream",
          "text": [
            "[{'arm_num': 1,\n",
            "  'form': 'enrollment_log',\n",
            "  'unique_event_name': 'timepoint_0_arm_1'},\n",
            " {'arm_num': 1,\n",
            "  'form': 'd1_baseline_questionnaires',\n",
            "  'unique_event_name': 'timepoint_1_arm_1'},\n",
            " {'arm_num': 2,\n",
            "  'form': 'enrollment_log',\n",
            "  'unique_event_name': 'timepoint_0_arm_2'},\n",
            " {'arm_num': 2,\n",
            "  'form': 'd8_post_questionnaires',\n",
            "  'unique_event_name': 'timepoint_1_arm_2'}]\n"
          ],
          "name": "stdout"
        }
      ]
    },
    {
      "cell_type": "markdown",
      "metadata": {
        "id": "kKqmHvFXaOyb",
        "colab_type": "text"
      },
      "source": [
        "## Get records for one specific events "
      ]
    },
    {
      "cell_type": "code",
      "metadata": {
        "id": "YWUZenVBZqEL",
        "colab_type": "code",
        "outputId": "81a6a34a-4192-4744-f276-9e18fc038f51",
        "colab": {
          "base_uri": "https://localhost:8080/",
          "height": 884
        }
      },
      "source": [
        "# this method will show all the forms in the entire project\n",
        "# `timepoint_0_arm_1` is the unique_event_name \n",
        "project.export_records(events=['timepoint_0_arm_1'])"
      ],
      "execution_count": 0,
      "outputs": [
        {
          "output_type": "execute_result",
          "data": {
            "text/plain": [
              "[{'bl_pss_1': '',\n",
              "  'bl_pss_2': '',\n",
              "  'bl_pss_3': '',\n",
              "  'bl_pss_4': '',\n",
              "  'bl_pss_5': '',\n",
              "  'consent_date': '2020-01-06',\n",
              "  'hipaa_signed_yes_no': '0',\n",
              "  'participant_id': '1',\n",
              "  'post_pss_1': '',\n",
              "  'post_pss_2': '',\n",
              "  'post_pss_3': '',\n",
              "  'post_pss_4': '',\n",
              "  'post_pss_5': '',\n",
              "  'randomization_code': '1',\n",
              "  'redcap_event_name': 'timepoint_0_arm_1',\n",
              "  'subject_fw_id': '098',\n",
              "  'subject_initials': 'jdkf'},\n",
              " {'bl_pss_1': '',\n",
              "  'bl_pss_2': '',\n",
              "  'bl_pss_3': '',\n",
              "  'bl_pss_4': '',\n",
              "  'bl_pss_5': '',\n",
              "  'consent_date': '2020-02-11',\n",
              "  'hipaa_signed_yes_no': '1',\n",
              "  'participant_id': '3',\n",
              "  'post_pss_1': '',\n",
              "  'post_pss_2': '',\n",
              "  'post_pss_3': '',\n",
              "  'post_pss_4': '',\n",
              "  'post_pss_5': '',\n",
              "  'randomization_code': '2',\n",
              "  'redcap_event_name': 'timepoint_0_arm_1',\n",
              "  'subject_fw_id': '234',\n",
              "  'subject_initials': 'qwoi'},\n",
              " {'bl_pss_1': '',\n",
              "  'bl_pss_2': '',\n",
              "  'bl_pss_3': '',\n",
              "  'bl_pss_4': '',\n",
              "  'bl_pss_5': '',\n",
              "  'consent_date': '2020-01-20',\n",
              "  'hipaa_signed_yes_no': '1',\n",
              "  'participant_id': '4',\n",
              "  'post_pss_1': '',\n",
              "  'post_pss_2': '',\n",
              "  'post_pss_3': '',\n",
              "  'post_pss_4': '',\n",
              "  'post_pss_5': '',\n",
              "  'randomization_code': '2',\n",
              "  'redcap_event_name': 'timepoint_0_arm_1',\n",
              "  'subject_fw_id': '744',\n",
              "  'subject_initials': 'udjf'}]"
            ]
          },
          "metadata": {
            "tags": []
          },
          "execution_count": 30
        }
      ]
    },
    {
      "cell_type": "markdown",
      "metadata": {
        "id": "IAwOSZlNdSzh",
        "colab_type": "text"
      },
      "source": [
        "## Get the enrollment log/ subject information for all the arms"
      ]
    },
    {
      "cell_type": "code",
      "metadata": {
        "id": "a1oNhQRIaTJO",
        "colab_type": "code",
        "outputId": "ba586056-0ccb-4952-d460-c2a8aece5e40",
        "colab": {
          "base_uri": "https://localhost:8080/",
          "height": 561
        }
      },
      "source": [
        "## \n",
        "arm1_enrollment = project.export_records(events=['timepoint_0_arm_1'], forms =['enrollment_log'], )\n",
        "arm2_enrollment = project.export_records(events=['timepoint_0_arm_2'], forms =['enrollment_log'])\n",
        "\n",
        "pprint.pprint(arm1_enrollment)\n",
        "pprint.pprint(arm2_enrollment)"
      ],
      "execution_count": 0,
      "outputs": [
        {
          "output_type": "stream",
          "text": [
            "[{'consent_date': '2020-01-06',\n",
            "  'enrollment_log_complete': '2',\n",
            "  'hipaa_signed_yes_no': '0',\n",
            "  'participant_id': '1',\n",
            "  'randomization_code': '1',\n",
            "  'redcap_event_name': 'timepoint_0_arm_1',\n",
            "  'subject_fw_id': '098',\n",
            "  'subject_initials': 'jdkf'},\n",
            " {'consent_date': '2020-02-11',\n",
            "  'enrollment_log_complete': '2',\n",
            "  'hipaa_signed_yes_no': '1',\n",
            "  'participant_id': '3',\n",
            "  'randomization_code': '2',\n",
            "  'redcap_event_name': 'timepoint_0_arm_1',\n",
            "  'subject_fw_id': '234',\n",
            "  'subject_initials': 'qwoi'},\n",
            " {'consent_date': '2020-01-20',\n",
            "  'enrollment_log_complete': '2',\n",
            "  'hipaa_signed_yes_no': '1',\n",
            "  'participant_id': '4',\n",
            "  'randomization_code': '2',\n",
            "  'redcap_event_name': 'timepoint_0_arm_1',\n",
            "  'subject_fw_id': '744',\n",
            "  'subject_initials': 'udjf'}]\n",
            "[{'consent_date': '2020-01-06',\n",
            "  'enrollment_log_complete': '2',\n",
            "  'hipaa_signed_yes_no': '1',\n",
            "  'participant_id': '2',\n",
            "  'randomization_code': '2',\n",
            "  'redcap_event_name': 'timepoint_0_arm_2',\n",
            "  'subject_fw_id': '092',\n",
            "  'subject_initials': 'nkjn'}]\n"
          ],
          "name": "stdout"
        }
      ]
    },
    {
      "cell_type": "markdown",
      "metadata": {
        "id": "ZS7aLszLw5tU",
        "colab_type": "text"
      },
      "source": [
        "## Print result in the dataframe format "
      ]
    },
    {
      "cell_type": "code",
      "metadata": {
        "id": "mM3SG99han42",
        "colab_type": "code",
        "outputId": "87183545-f16c-4013-855a-16bdab994035",
        "colab": {
          "base_uri": "https://localhost:8080/",
          "height": 348
        }
      },
      "source": [
        "all_records_df = project.export_records(format='df', df_kwargs={'index_col': project.field_names[0]})\n",
        "\n",
        "all_records_df"
      ],
      "execution_count": 0,
      "outputs": [
        {
          "output_type": "execute_result",
          "data": {
            "text/html": [
              "<div>\n",
              "<style scoped>\n",
              "    .dataframe tbody tr th:only-of-type {\n",
              "        vertical-align: middle;\n",
              "    }\n",
              "\n",
              "    .dataframe tbody tr th {\n",
              "        vertical-align: top;\n",
              "    }\n",
              "\n",
              "    .dataframe thead th {\n",
              "        text-align: right;\n",
              "    }\n",
              "</style>\n",
              "<table border=\"1\" class=\"dataframe\">\n",
              "  <thead>\n",
              "    <tr style=\"text-align: right;\">\n",
              "      <th></th>\n",
              "      <th>redcap_event_name</th>\n",
              "      <th>subject_initials</th>\n",
              "      <th>subject_fw_id</th>\n",
              "      <th>consent_date</th>\n",
              "      <th>hipaa_signed_yes_no</th>\n",
              "      <th>randomization_code</th>\n",
              "      <th>bl_pss_1</th>\n",
              "      <th>bl_pss_2</th>\n",
              "      <th>bl_pss_3</th>\n",
              "      <th>bl_pss_4</th>\n",
              "      <th>bl_pss_5</th>\n",
              "      <th>post_pss_1</th>\n",
              "      <th>post_pss_2</th>\n",
              "      <th>post_pss_3</th>\n",
              "      <th>post_pss_4</th>\n",
              "      <th>post_pss_5</th>\n",
              "    </tr>\n",
              "    <tr>\n",
              "      <th>participant_id</th>\n",
              "      <th></th>\n",
              "      <th></th>\n",
              "      <th></th>\n",
              "      <th></th>\n",
              "      <th></th>\n",
              "      <th></th>\n",
              "      <th></th>\n",
              "      <th></th>\n",
              "      <th></th>\n",
              "      <th></th>\n",
              "      <th></th>\n",
              "      <th></th>\n",
              "      <th></th>\n",
              "      <th></th>\n",
              "      <th></th>\n",
              "      <th></th>\n",
              "    </tr>\n",
              "  </thead>\n",
              "  <tbody>\n",
              "    <tr>\n",
              "      <th>1</th>\n",
              "      <td>timepoint_0_arm_1</td>\n",
              "      <td>jdkf</td>\n",
              "      <td>98.0</td>\n",
              "      <td>2020-01-06</td>\n",
              "      <td>0.0</td>\n",
              "      <td>1.0</td>\n",
              "      <td>NaN</td>\n",
              "      <td>NaN</td>\n",
              "      <td>NaN</td>\n",
              "      <td>NaN</td>\n",
              "      <td>NaN</td>\n",
              "      <td>NaN</td>\n",
              "      <td>NaN</td>\n",
              "      <td>NaN</td>\n",
              "      <td>NaN</td>\n",
              "      <td>NaN</td>\n",
              "    </tr>\n",
              "    <tr>\n",
              "      <th>1</th>\n",
              "      <td>timepoint_1_arm_1</td>\n",
              "      <td>NaN</td>\n",
              "      <td>NaN</td>\n",
              "      <td>NaN</td>\n",
              "      <td>NaN</td>\n",
              "      <td>NaN</td>\n",
              "      <td>0.0</td>\n",
              "      <td>4.0</td>\n",
              "      <td>3.0</td>\n",
              "      <td>4.0</td>\n",
              "      <td>3.0</td>\n",
              "      <td>NaN</td>\n",
              "      <td>NaN</td>\n",
              "      <td>NaN</td>\n",
              "      <td>NaN</td>\n",
              "      <td>NaN</td>\n",
              "    </tr>\n",
              "    <tr>\n",
              "      <th>2</th>\n",
              "      <td>timepoint_0_arm_2</td>\n",
              "      <td>nkjn</td>\n",
              "      <td>92.0</td>\n",
              "      <td>2020-01-06</td>\n",
              "      <td>1.0</td>\n",
              "      <td>2.0</td>\n",
              "      <td>NaN</td>\n",
              "      <td>NaN</td>\n",
              "      <td>NaN</td>\n",
              "      <td>NaN</td>\n",
              "      <td>NaN</td>\n",
              "      <td>NaN</td>\n",
              "      <td>NaN</td>\n",
              "      <td>NaN</td>\n",
              "      <td>NaN</td>\n",
              "      <td>NaN</td>\n",
              "    </tr>\n",
              "    <tr>\n",
              "      <th>2</th>\n",
              "      <td>timepoint_1_arm_2</td>\n",
              "      <td>NaN</td>\n",
              "      <td>NaN</td>\n",
              "      <td>NaN</td>\n",
              "      <td>NaN</td>\n",
              "      <td>NaN</td>\n",
              "      <td>NaN</td>\n",
              "      <td>NaN</td>\n",
              "      <td>NaN</td>\n",
              "      <td>NaN</td>\n",
              "      <td>NaN</td>\n",
              "      <td>1.0</td>\n",
              "      <td>2.0</td>\n",
              "      <td>2.0</td>\n",
              "      <td>1.0</td>\n",
              "      <td>1.0</td>\n",
              "    </tr>\n",
              "    <tr>\n",
              "      <th>3</th>\n",
              "      <td>timepoint_0_arm_1</td>\n",
              "      <td>qwoi</td>\n",
              "      <td>234.0</td>\n",
              "      <td>2020-02-11</td>\n",
              "      <td>1.0</td>\n",
              "      <td>2.0</td>\n",
              "      <td>NaN</td>\n",
              "      <td>NaN</td>\n",
              "      <td>NaN</td>\n",
              "      <td>NaN</td>\n",
              "      <td>NaN</td>\n",
              "      <td>NaN</td>\n",
              "      <td>NaN</td>\n",
              "      <td>NaN</td>\n",
              "      <td>NaN</td>\n",
              "      <td>NaN</td>\n",
              "    </tr>\n",
              "    <tr>\n",
              "      <th>3</th>\n",
              "      <td>timepoint_1_arm_1</td>\n",
              "      <td>NaN</td>\n",
              "      <td>NaN</td>\n",
              "      <td>NaN</td>\n",
              "      <td>NaN</td>\n",
              "      <td>NaN</td>\n",
              "      <td>1.0</td>\n",
              "      <td>1.0</td>\n",
              "      <td>2.0</td>\n",
              "      <td>3.0</td>\n",
              "      <td>3.0</td>\n",
              "      <td>NaN</td>\n",
              "      <td>NaN</td>\n",
              "      <td>NaN</td>\n",
              "      <td>NaN</td>\n",
              "      <td>NaN</td>\n",
              "    </tr>\n",
              "    <tr>\n",
              "      <th>4</th>\n",
              "      <td>timepoint_0_arm_1</td>\n",
              "      <td>udjf</td>\n",
              "      <td>744.0</td>\n",
              "      <td>2020-01-20</td>\n",
              "      <td>1.0</td>\n",
              "      <td>2.0</td>\n",
              "      <td>NaN</td>\n",
              "      <td>NaN</td>\n",
              "      <td>NaN</td>\n",
              "      <td>NaN</td>\n",
              "      <td>NaN</td>\n",
              "      <td>NaN</td>\n",
              "      <td>NaN</td>\n",
              "      <td>NaN</td>\n",
              "      <td>NaN</td>\n",
              "      <td>NaN</td>\n",
              "    </tr>\n",
              "    <tr>\n",
              "      <th>4</th>\n",
              "      <td>timepoint_1_arm_1</td>\n",
              "      <td>NaN</td>\n",
              "      <td>NaN</td>\n",
              "      <td>NaN</td>\n",
              "      <td>NaN</td>\n",
              "      <td>NaN</td>\n",
              "      <td>0.0</td>\n",
              "      <td>0.0</td>\n",
              "      <td>0.0</td>\n",
              "      <td>3.0</td>\n",
              "      <td>2.0</td>\n",
              "      <td>NaN</td>\n",
              "      <td>NaN</td>\n",
              "      <td>NaN</td>\n",
              "      <td>NaN</td>\n",
              "      <td>NaN</td>\n",
              "    </tr>\n",
              "  </tbody>\n",
              "</table>\n",
              "</div>"
            ],
            "text/plain": [
              "                redcap_event_name subject_initials  ...  post_pss_4 post_pss_5\n",
              "participant_id                                      ...                       \n",
              "1               timepoint_0_arm_1             jdkf  ...         NaN        NaN\n",
              "1               timepoint_1_arm_1              NaN  ...         NaN        NaN\n",
              "2               timepoint_0_arm_2             nkjn  ...         NaN        NaN\n",
              "2               timepoint_1_arm_2              NaN  ...         1.0        1.0\n",
              "3               timepoint_0_arm_1             qwoi  ...         NaN        NaN\n",
              "3               timepoint_1_arm_1              NaN  ...         NaN        NaN\n",
              "4               timepoint_0_arm_1             udjf  ...         NaN        NaN\n",
              "4               timepoint_1_arm_1              NaN  ...         NaN        NaN\n",
              "\n",
              "[8 rows x 16 columns]"
            ]
          },
          "metadata": {
            "tags": []
          },
          "execution_count": 32
        }
      ]
    },
    {
      "cell_type": "markdown",
      "metadata": {
        "id": "-TIrYplcxGvr",
        "colab_type": "text"
      },
      "source": [
        "## Get the participant ID/ Records ID (aka unique keys on RedCap) to compare on the FW instances"
      ]
    },
    {
      "cell_type": "code",
      "metadata": {
        "id": "tZC6ASr0w-dN",
        "colab_type": "code",
        "outputId": "3a3ea928-258f-4442-94fb-2c9d7c253007",
        "colab": {
          "base_uri": "https://localhost:8080/",
          "height": 153
        }
      },
      "source": [
        "raw_records_id = project.export_records(fields=['participant_id'])\n",
        "pprint.pprint(raw_records_id)"
      ],
      "execution_count": 0,
      "outputs": [
        {
          "output_type": "stream",
          "text": [
            "[{'participant_id': '1', 'redcap_event_name': 'timepoint_0_arm_1'},\n",
            " {'participant_id': '1', 'redcap_event_name': 'timepoint_1_arm_1'},\n",
            " {'participant_id': '2', 'redcap_event_name': 'timepoint_0_arm_2'},\n",
            " {'participant_id': '2', 'redcap_event_name': 'timepoint_1_arm_2'},\n",
            " {'participant_id': '3', 'redcap_event_name': 'timepoint_0_arm_1'},\n",
            " {'participant_id': '3', 'redcap_event_name': 'timepoint_1_arm_1'},\n",
            " {'participant_id': '4', 'redcap_event_name': 'timepoint_0_arm_1'},\n",
            " {'participant_id': '4', 'redcap_event_name': 'timepoint_1_arm_1'}]\n"
          ],
          "name": "stdout"
        }
      ]
    },
    {
      "cell_type": "code",
      "metadata": {
        "id": "d-gDdeWXxTbu",
        "colab_type": "code",
        "outputId": "0ae5d511-1c27-4f1e-94d5-2eb2d20edf0d",
        "colab": {
          "base_uri": "https://localhost:8080/",
          "height": 34
        }
      },
      "source": [
        "# Save the records id into a list (without any repeat records)\n",
        "records_id = []\n",
        "\n",
        "for each in raw_records_id:\n",
        "  if each['participant_id'] not in records_id:\n",
        "    records_id.append(each['participant_id'])\n",
        "#the participant ID\n",
        "print(records_id)"
      ],
      "execution_count": 0,
      "outputs": [
        {
          "output_type": "stream",
          "text": [
            "['1', '2', '3', '4']\n"
          ],
          "name": "stdout"
        }
      ]
    },
    {
      "cell_type": "code",
      "metadata": {
        "id": "m6w8AE7LyDhk",
        "colab_type": "code",
        "outputId": "8652184f-ee96-40ad-b563-44ab3ab3ca3e",
        "colab": {
          "base_uri": "https://localhost:8080/",
          "height": 221
        }
      },
      "source": [
        "all_forms_and_events"
      ],
      "execution_count": 0,
      "outputs": [
        {
          "output_type": "execute_result",
          "data": {
            "text/plain": [
              "[{'arm_num': 1,\n",
              "  'form': 'enrollment_log',\n",
              "  'unique_event_name': 'timepoint_0_arm_1'},\n",
              " {'arm_num': 1,\n",
              "  'form': 'd1_baseline_questionnaires',\n",
              "  'unique_event_name': 'timepoint_1_arm_1'},\n",
              " {'arm_num': 2,\n",
              "  'form': 'enrollment_log',\n",
              "  'unique_event_name': 'timepoint_0_arm_2'},\n",
              " {'arm_num': 2,\n",
              "  'form': 'd8_post_questionnaires',\n",
              "  'unique_event_name': 'timepoint_1_arm_2'}]"
            ]
          },
          "metadata": {
            "tags": []
          },
          "execution_count": 35
        }
      ]
    },
    {
      "cell_type": "code",
      "metadata": {
        "id": "sgzqKIj50xpo",
        "colab_type": "code",
        "outputId": "4a04a29b-1690-4edd-a93f-b4340d2192be",
        "colab": {
          "base_uri": "https://localhost:8080/",
          "height": 425
        }
      },
      "source": [
        "arm1_enrollment"
      ],
      "execution_count": 0,
      "outputs": [
        {
          "output_type": "execute_result",
          "data": {
            "text/plain": [
              "[{'consent_date': '2020-01-06',\n",
              "  'enrollment_log_complete': '2',\n",
              "  'hipaa_signed_yes_no': '0',\n",
              "  'participant_id': '1',\n",
              "  'randomization_code': '1',\n",
              "  'redcap_event_name': 'timepoint_0_arm_1',\n",
              "  'subject_fw_id': '098',\n",
              "  'subject_initials': 'jdkf'},\n",
              " {'consent_date': '2020-02-11',\n",
              "  'enrollment_log_complete': '2',\n",
              "  'hipaa_signed_yes_no': '1',\n",
              "  'participant_id': '3',\n",
              "  'randomization_code': '2',\n",
              "  'redcap_event_name': 'timepoint_0_arm_1',\n",
              "  'subject_fw_id': '234',\n",
              "  'subject_initials': 'qwoi'},\n",
              " {'consent_date': '2020-01-20',\n",
              "  'enrollment_log_complete': '2',\n",
              "  'hipaa_signed_yes_no': '1',\n",
              "  'participant_id': '4',\n",
              "  'randomization_code': '2',\n",
              "  'redcap_event_name': 'timepoint_0_arm_1',\n",
              "  'subject_fw_id': '744',\n",
              "  'subject_initials': 'udjf'}]"
            ]
          },
          "metadata": {
            "tags": []
          },
          "execution_count": 36
        }
      ]
    },
    {
      "cell_type": "code",
      "metadata": {
        "id": "o2X4euHGALdK",
        "colab_type": "code",
        "outputId": "d210b738-8ca9-4d64-a190-0f98ff7d2591",
        "colab": {
          "base_uri": "https://localhost:8080/",
          "height": 34
        }
      },
      "source": [
        "form_list"
      ],
      "execution_count": 0,
      "outputs": [
        {
          "output_type": "execute_result",
          "data": {
            "text/plain": [
              "['d1_baseline_questionnaires', 'd8_post_questionnaires', 'enrollment_log']"
            ]
          },
          "metadata": {
            "tags": []
          },
          "execution_count": 37
        }
      ]
    },
    {
      "cell_type": "code",
      "metadata": {
        "id": "Qk2_rCwuAZ07",
        "colab_type": "code",
        "colab": {}
      },
      "source": [
        "# all_forms_and_events\n",
        "\n",
        "form_records = {}\n",
        "\n",
        "for each in all_forms_and_events:\n",
        "  if each['form'] not in form_records.keys():\n",
        "    records = project.export_records(events=[each['unique_event_name']], forms=[each['form']])\n",
        "    \n",
        "    form_records[each['form']] = records\n",
        "  else:\n",
        "    records = project.export_records(events=[each['unique_event_name']], forms=[each['form']])\n",
        "\n",
        "    for record in records:\n",
        "      form_records[ each['form']].append(record)\n"
      ],
      "execution_count": 0,
      "outputs": []
    },
    {
      "cell_type": "code",
      "metadata": {
        "id": "Te2X8jasDBm9",
        "colab_type": "code",
        "colab": {}
      },
      "source": [
        "pprint.pprint(form_records)"
      ],
      "execution_count": 0,
      "outputs": []
    },
    {
      "cell_type": "markdown",
      "metadata": {
        "id": "7CEivGrtHOLN",
        "colab_type": "text"
      },
      "source": [
        "**View all records from RedCap in table view**\n"
      ]
    },
    {
      "cell_type": "code",
      "metadata": {
        "id": "uGKXuXv-yJeM",
        "colab_type": "code",
        "colab": {}
      },
      "source": [
        "forms_info = []\n",
        "forms_info_df = pd.DataFrame()\n",
        "\n",
        "for event in all_forms_and_events:\n",
        "  records = project.export_records(events=[event['unique_event_name']], forms=[event['form']])\n",
        "  for record in records:\n",
        "    forms_info.append(record)\n",
        "    forms_info_df = forms_info_df.append(record, ignore_index=True)\n"
      ],
      "execution_count": 0,
      "outputs": []
    },
    {
      "cell_type": "code",
      "metadata": {
        "id": "Xf0a8sR-9-Ws",
        "colab_type": "code",
        "outputId": "2b8a7104-20ce-46c5-a35c-23b8fa1ade84",
        "colab": {
          "base_uri": "https://localhost:8080/",
          "height": 385
        }
      },
      "source": [
        "pd.set_option('display.max_columns', None)\n",
        "display(forms_info_df)"
      ],
      "execution_count": 0,
      "outputs": [
        {
          "output_type": "display_data",
          "data": {
            "text/html": [
              "<div>\n",
              "<style scoped>\n",
              "    .dataframe tbody tr th:only-of-type {\n",
              "        vertical-align: middle;\n",
              "    }\n",
              "\n",
              "    .dataframe tbody tr th {\n",
              "        vertical-align: top;\n",
              "    }\n",
              "\n",
              "    .dataframe thead th {\n",
              "        text-align: right;\n",
              "    }\n",
              "</style>\n",
              "<table border=\"1\" class=\"dataframe\">\n",
              "  <thead>\n",
              "    <tr style=\"text-align: right;\">\n",
              "      <th></th>\n",
              "      <th>consent_date</th>\n",
              "      <th>enrollment_log_complete</th>\n",
              "      <th>hipaa_signed_yes_no</th>\n",
              "      <th>participant_id</th>\n",
              "      <th>randomization_code</th>\n",
              "      <th>redcap_event_name</th>\n",
              "      <th>subject_fw_id</th>\n",
              "      <th>subject_initials</th>\n",
              "      <th>bl_pss_1</th>\n",
              "      <th>bl_pss_2</th>\n",
              "      <th>bl_pss_3</th>\n",
              "      <th>bl_pss_4</th>\n",
              "      <th>bl_pss_5</th>\n",
              "      <th>d1_baseline_questionnaires_complete</th>\n",
              "      <th>d1_date</th>\n",
              "      <th>session_label_d1</th>\n",
              "      <th>d8_date</th>\n",
              "      <th>d8_post_questionnaires_complete</th>\n",
              "      <th>post_pss_1</th>\n",
              "      <th>post_pss_2</th>\n",
              "      <th>post_pss_3</th>\n",
              "      <th>post_pss_4</th>\n",
              "      <th>post_pss_5</th>\n",
              "    </tr>\n",
              "  </thead>\n",
              "  <tbody>\n",
              "    <tr>\n",
              "      <th>0</th>\n",
              "      <td>2020-01-06</td>\n",
              "      <td>2</td>\n",
              "      <td>0</td>\n",
              "      <td>1</td>\n",
              "      <td>1</td>\n",
              "      <td>timepoint_0_arm_1</td>\n",
              "      <td>098</td>\n",
              "      <td>jdkf</td>\n",
              "      <td>NaN</td>\n",
              "      <td>NaN</td>\n",
              "      <td>NaN</td>\n",
              "      <td>NaN</td>\n",
              "      <td>NaN</td>\n",
              "      <td>NaN</td>\n",
              "      <td>NaN</td>\n",
              "      <td>NaN</td>\n",
              "      <td>NaN</td>\n",
              "      <td>NaN</td>\n",
              "      <td>NaN</td>\n",
              "      <td>NaN</td>\n",
              "      <td>NaN</td>\n",
              "      <td>NaN</td>\n",
              "      <td>NaN</td>\n",
              "    </tr>\n",
              "    <tr>\n",
              "      <th>1</th>\n",
              "      <td>2020-02-11</td>\n",
              "      <td>2</td>\n",
              "      <td>1</td>\n",
              "      <td>3</td>\n",
              "      <td>2</td>\n",
              "      <td>timepoint_0_arm_1</td>\n",
              "      <td>234</td>\n",
              "      <td>qwoi</td>\n",
              "      <td>NaN</td>\n",
              "      <td>NaN</td>\n",
              "      <td>NaN</td>\n",
              "      <td>NaN</td>\n",
              "      <td>NaN</td>\n",
              "      <td>NaN</td>\n",
              "      <td>NaN</td>\n",
              "      <td>NaN</td>\n",
              "      <td>NaN</td>\n",
              "      <td>NaN</td>\n",
              "      <td>NaN</td>\n",
              "      <td>NaN</td>\n",
              "      <td>NaN</td>\n",
              "      <td>NaN</td>\n",
              "      <td>NaN</td>\n",
              "    </tr>\n",
              "    <tr>\n",
              "      <th>2</th>\n",
              "      <td>2020-01-20</td>\n",
              "      <td>2</td>\n",
              "      <td>1</td>\n",
              "      <td>4</td>\n",
              "      <td>2</td>\n",
              "      <td>timepoint_0_arm_1</td>\n",
              "      <td>744</td>\n",
              "      <td>udjf</td>\n",
              "      <td>NaN</td>\n",
              "      <td>NaN</td>\n",
              "      <td>NaN</td>\n",
              "      <td>NaN</td>\n",
              "      <td>NaN</td>\n",
              "      <td>NaN</td>\n",
              "      <td>NaN</td>\n",
              "      <td>NaN</td>\n",
              "      <td>NaN</td>\n",
              "      <td>NaN</td>\n",
              "      <td>NaN</td>\n",
              "      <td>NaN</td>\n",
              "      <td>NaN</td>\n",
              "      <td>NaN</td>\n",
              "      <td>NaN</td>\n",
              "    </tr>\n",
              "    <tr>\n",
              "      <th>3</th>\n",
              "      <td>NaN</td>\n",
              "      <td>NaN</td>\n",
              "      <td>NaN</td>\n",
              "      <td>1</td>\n",
              "      <td>NaN</td>\n",
              "      <td>timepoint_1_arm_1</td>\n",
              "      <td>NaN</td>\n",
              "      <td>NaN</td>\n",
              "      <td>0</td>\n",
              "      <td>4</td>\n",
              "      <td>3</td>\n",
              "      <td>4</td>\n",
              "      <td>3</td>\n",
              "      <td>2</td>\n",
              "      <td>2020-03-30</td>\n",
              "      <td></td>\n",
              "      <td>NaN</td>\n",
              "      <td>NaN</td>\n",
              "      <td>NaN</td>\n",
              "      <td>NaN</td>\n",
              "      <td>NaN</td>\n",
              "      <td>NaN</td>\n",
              "      <td>NaN</td>\n",
              "    </tr>\n",
              "    <tr>\n",
              "      <th>4</th>\n",
              "      <td>NaN</td>\n",
              "      <td>NaN</td>\n",
              "      <td>NaN</td>\n",
              "      <td>3</td>\n",
              "      <td>NaN</td>\n",
              "      <td>timepoint_1_arm_1</td>\n",
              "      <td>NaN</td>\n",
              "      <td>NaN</td>\n",
              "      <td>1</td>\n",
              "      <td>1</td>\n",
              "      <td>2</td>\n",
              "      <td>3</td>\n",
              "      <td>3</td>\n",
              "      <td>2</td>\n",
              "      <td>2020-04-01</td>\n",
              "      <td></td>\n",
              "      <td>NaN</td>\n",
              "      <td>NaN</td>\n",
              "      <td>NaN</td>\n",
              "      <td>NaN</td>\n",
              "      <td>NaN</td>\n",
              "      <td>NaN</td>\n",
              "      <td>NaN</td>\n",
              "    </tr>\n",
              "    <tr>\n",
              "      <th>5</th>\n",
              "      <td>NaN</td>\n",
              "      <td>NaN</td>\n",
              "      <td>NaN</td>\n",
              "      <td>4</td>\n",
              "      <td>NaN</td>\n",
              "      <td>timepoint_1_arm_1</td>\n",
              "      <td>NaN</td>\n",
              "      <td>NaN</td>\n",
              "      <td>0</td>\n",
              "      <td>0</td>\n",
              "      <td>0</td>\n",
              "      <td>3</td>\n",
              "      <td>2</td>\n",
              "      <td>2</td>\n",
              "      <td>2020-04-02</td>\n",
              "      <td></td>\n",
              "      <td>NaN</td>\n",
              "      <td>NaN</td>\n",
              "      <td>NaN</td>\n",
              "      <td>NaN</td>\n",
              "      <td>NaN</td>\n",
              "      <td>NaN</td>\n",
              "      <td>NaN</td>\n",
              "    </tr>\n",
              "    <tr>\n",
              "      <th>6</th>\n",
              "      <td>2020-01-06</td>\n",
              "      <td>2</td>\n",
              "      <td>1</td>\n",
              "      <td>2</td>\n",
              "      <td>2</td>\n",
              "      <td>timepoint_0_arm_2</td>\n",
              "      <td>092</td>\n",
              "      <td>nkjn</td>\n",
              "      <td>NaN</td>\n",
              "      <td>NaN</td>\n",
              "      <td>NaN</td>\n",
              "      <td>NaN</td>\n",
              "      <td>NaN</td>\n",
              "      <td>NaN</td>\n",
              "      <td>NaN</td>\n",
              "      <td>NaN</td>\n",
              "      <td>NaN</td>\n",
              "      <td>NaN</td>\n",
              "      <td>NaN</td>\n",
              "      <td>NaN</td>\n",
              "      <td>NaN</td>\n",
              "      <td>NaN</td>\n",
              "      <td>NaN</td>\n",
              "    </tr>\n",
              "    <tr>\n",
              "      <th>7</th>\n",
              "      <td>NaN</td>\n",
              "      <td>NaN</td>\n",
              "      <td>NaN</td>\n",
              "      <td>2</td>\n",
              "      <td>NaN</td>\n",
              "      <td>timepoint_1_arm_2</td>\n",
              "      <td>NaN</td>\n",
              "      <td>NaN</td>\n",
              "      <td>NaN</td>\n",
              "      <td>NaN</td>\n",
              "      <td>NaN</td>\n",
              "      <td>NaN</td>\n",
              "      <td>NaN</td>\n",
              "      <td>NaN</td>\n",
              "      <td>NaN</td>\n",
              "      <td>NaN</td>\n",
              "      <td>2020-04-03</td>\n",
              "      <td>2</td>\n",
              "      <td>1</td>\n",
              "      <td>2</td>\n",
              "      <td>2</td>\n",
              "      <td>1</td>\n",
              "      <td>1</td>\n",
              "    </tr>\n",
              "  </tbody>\n",
              "</table>\n",
              "</div>"
            ],
            "text/plain": [
              "  consent_date enrollment_log_complete hipaa_signed_yes_no participant_id  \\\n",
              "0   2020-01-06                       2                   0              1   \n",
              "1   2020-02-11                       2                   1              3   \n",
              "2   2020-01-20                       2                   1              4   \n",
              "3          NaN                     NaN                 NaN              1   \n",
              "4          NaN                     NaN                 NaN              3   \n",
              "5          NaN                     NaN                 NaN              4   \n",
              "6   2020-01-06                       2                   1              2   \n",
              "7          NaN                     NaN                 NaN              2   \n",
              "\n",
              "  randomization_code  redcap_event_name subject_fw_id subject_initials  \\\n",
              "0                  1  timepoint_0_arm_1           098             jdkf   \n",
              "1                  2  timepoint_0_arm_1           234             qwoi   \n",
              "2                  2  timepoint_0_arm_1           744             udjf   \n",
              "3                NaN  timepoint_1_arm_1           NaN              NaN   \n",
              "4                NaN  timepoint_1_arm_1           NaN              NaN   \n",
              "5                NaN  timepoint_1_arm_1           NaN              NaN   \n",
              "6                  2  timepoint_0_arm_2           092             nkjn   \n",
              "7                NaN  timepoint_1_arm_2           NaN              NaN   \n",
              "\n",
              "  bl_pss_1 bl_pss_2 bl_pss_3 bl_pss_4 bl_pss_5  \\\n",
              "0      NaN      NaN      NaN      NaN      NaN   \n",
              "1      NaN      NaN      NaN      NaN      NaN   \n",
              "2      NaN      NaN      NaN      NaN      NaN   \n",
              "3        0        4        3        4        3   \n",
              "4        1        1        2        3        3   \n",
              "5        0        0        0        3        2   \n",
              "6      NaN      NaN      NaN      NaN      NaN   \n",
              "7      NaN      NaN      NaN      NaN      NaN   \n",
              "\n",
              "  d1_baseline_questionnaires_complete     d1_date session_label_d1  \\\n",
              "0                                 NaN         NaN              NaN   \n",
              "1                                 NaN         NaN              NaN   \n",
              "2                                 NaN         NaN              NaN   \n",
              "3                                   2  2020-03-30                    \n",
              "4                                   2  2020-04-01                    \n",
              "5                                   2  2020-04-02                    \n",
              "6                                 NaN         NaN              NaN   \n",
              "7                                 NaN         NaN              NaN   \n",
              "\n",
              "      d8_date d8_post_questionnaires_complete post_pss_1 post_pss_2  \\\n",
              "0         NaN                             NaN        NaN        NaN   \n",
              "1         NaN                             NaN        NaN        NaN   \n",
              "2         NaN                             NaN        NaN        NaN   \n",
              "3         NaN                             NaN        NaN        NaN   \n",
              "4         NaN                             NaN        NaN        NaN   \n",
              "5         NaN                             NaN        NaN        NaN   \n",
              "6         NaN                             NaN        NaN        NaN   \n",
              "7  2020-04-03                               2          1          2   \n",
              "\n",
              "  post_pss_3 post_pss_4 post_pss_5  \n",
              "0        NaN        NaN        NaN  \n",
              "1        NaN        NaN        NaN  \n",
              "2        NaN        NaN        NaN  \n",
              "3        NaN        NaN        NaN  \n",
              "4        NaN        NaN        NaN  \n",
              "5        NaN        NaN        NaN  \n",
              "6        NaN        NaN        NaN  \n",
              "7          2          1          1  "
            ]
          },
          "metadata": {
            "tags": []
          }
        }
      ]
    },
    {
      "cell_type": "markdown",
      "metadata": {
        "id": "Bv4Ka6BlIDRl",
        "colab_type": "text"
      },
      "source": [
        "# Integrate RedCap records into FW UI"
      ]
    },
    {
      "cell_type": "markdown",
      "metadata": {
        "id": "uYPsqFMjuMqF",
        "colab_type": "text"
      },
      "source": [
        "## Get Subject Container Info (id and label)"
      ]
    },
    {
      "cell_type": "code",
      "metadata": {
        "id": "ndgDuXFk_C4m",
        "colab_type": "code",
        "outputId": "bae9a6f7-2774-44af-83fe-50f0753f0eaa",
        "colab": {
          "base_uri": "https://localhost:8080/",
          "height": 105
        }
      },
      "source": [
        "# get the project\n",
        "fw_project = fw.get_project(project_id)\n",
        "fw_project = fw_project.reload()\n",
        "\n",
        "subj_info = {}\n",
        "all_subj_info = []\n",
        "\n",
        "for subject in fw_project.subjects.iter():\n",
        "  subject = subject.reload()\n",
        "  subj_info[subject.label] = subject.id\n",
        "  info = {\n",
        "      'subj_label' : subject.label,\n",
        "      'subj_id' : subject.id,\n",
        "      'subj_info_label' : subject.info\n",
        "  }\n",
        "  # Lookup table for FW instances to compare with RedCap \n",
        "  all_subj_info.append(info)\n",
        "\n",
        "\n"
      ],
      "execution_count": 0,
      "outputs": [
        {
          "output_type": "stream",
          "text": [
            "{'fw_id': '098', 'enrollment_log': {'subject_initials': 'jdkf', 'subject_fw_id': '098', 'redcap_event_name': 'timepoint_0_arm_1', 'hipaa_signed_yes_no': '0', 'enrollment_log_complete': '2', 'participant_id': '1', 'randomization_code': '1', 'consent_date': '2020-01-06'}, 'initials': 'jdkf'}\n",
            "{'fw_id': '092', 'enrollment_log': {'subject_initials': 'nkjn', 'subject_fw_id': '092', 'redcap_event_name': 'timepoint_0_arm_2', 'hipaa_signed_yes_no': '1', 'enrollment_log_complete': '2', 'participant_id': '2', 'randomization_code': '2', 'consent_date': '2020-01-06'}, 'initials': 'nkjn'}\n",
            "{'fw_id': '234', 'enrollment_log': {'subject_initials': 'qwoi', 'subject_fw_id': '234', 'redcap_event_name': 'timepoint_0_arm_1', 'hipaa_signed_yes_no': '1', 'enrollment_log_complete': '2', 'participant_id': '3', 'randomization_code': '2', 'consent_date': '2020-02-11'}, 'initials': 'qwoi'}\n",
            "{'fw_id': '744', 'enrollment_log': {'subject_initials': 'udjf', 'subject_fw_id': '744', 'redcap_event_name': 'timepoint_0_arm_1', 'hipaa_signed_yes_no': '1', 'enrollment_log_complete': '2', 'participant_id': '4', 'randomization_code': '2', 'consent_date': '2020-01-20'}, 'initials': 'udjf'}\n"
          ],
          "name": "stdout"
        }
      ]
    },
    {
      "cell_type": "markdown",
      "metadata": {
        "id": "6HH6rZmqZO9t",
        "colab_type": "text"
      },
      "source": [
        "**Compare subjects in RedCap and FW instance**\n",
        "\n",
        "- If there is subjects on RedCap but not on FW, the script will create new subject on FW with the `enrollment_log` or intake forms from RedCap\n",
        "- If the subject has been created on FW, then it will search whether the `enrollment_log` or intake forms exist on the FW Subject info attributes."
      ]
    },
    {
      "cell_type": "code",
      "metadata": {
        "id": "8tJ-6p5y_Eoo",
        "colab_type": "code",
        "colab": {}
      },
      "source": [
        "subj_in_fw = [subj['subj_label'] for subj in all_subj_info]\n",
        "\n",
        "enrollment_data = form_records['enrollment_log']\n",
        "\n",
        "# Check if the RedCap subj is the same as FW subj\n",
        "if set(records_id) not in set(subj_in_fw):\n",
        "  missing_id = list(set(records_id)-set(subj_in_fw))\n",
        "  for new_id in missing_id:\n",
        "    tmp_data = {'enrollment_log': data for data in enrollment_data if data['participant_id'] == new_id}\n",
        "    new_subj = fw_project.add_subject(label = new_id, project=project_id, info = tmp_data)\n",
        "else:\n",
        "  # if subj number is same then check if enrollment log is there\n",
        "  for sub in all_subj_info:\n",
        "    if 'enrollment_log' not in sub['subj_info_label'].keys():\n",
        "      enrollment_data = form_records['enrollment_log']\n",
        "      tmp = {'enrollment_log': data for data in enrollment_data if data['participant_id'] == sub['subj_label']}\n",
        "      update_subj = flywheel.models.Subject(info = tmp)\n",
        "      fw.modify_subject(sub['subj_id'], update_subj)\n",
        "    \n",
        "\n",
        "\n",
        "  "
      ],
      "execution_count": 0,
      "outputs": []
    },
    {
      "cell_type": "markdown",
      "metadata": {
        "id": "YpqD5mR0tGDr",
        "colab_type": "text"
      },
      "source": [
        "##Adding custom info label on Session existed on FW instance\n",
        "\n",
        "<small>*Assume Session/Acquisition has already created on FW*\n"
      ]
    },
    {
      "cell_type": "markdown",
      "metadata": {
        "id": "9RtImQ4x_JgN",
        "colab_type": "text"
      },
      "source": [
        "*You can run the cells below to create new session with the `subj_forms` lookup table*"
      ]
    },
    {
      "cell_type": "code",
      "metadata": {
        "id": "rLgdDNqqve1F",
        "colab_type": "code",
        "colab": {}
      },
      "source": [
        "# This variable has all the form (include the enrollment_log) along with the data\n",
        "form_records"
      ],
      "execution_count": 0,
      "outputs": []
    },
    {
      "cell_type": "code",
      "metadata": {
        "id": "eFSDVchLxdnf",
        "colab_type": "code",
        "colab": {}
      },
      "source": [
        "# This cell will add the participant ID into the subj_forms listof dictionaries \n",
        "# Add on the participant/subj ID into the lookup table for fw_session_label and redcap_form_label\n",
        "\n",
        "for form, data in form_records.items():\n",
        "  # Exclude the enrollment_log (as everyone should have the same enrollment log)\n",
        "  if form != 'enrollment_log':\n",
        "    for i in subj_forms:\n",
        "      label = i['redcap_form_label']\n",
        "      if label == form:\n",
        "        tmp = [d['participant_id'] for d in data]\n",
        "        i['records_id'] = tmp\n"
      ],
      "execution_count": 0,
      "outputs": []
    },
    {
      "cell_type": "code",
      "metadata": {
        "id": "jnkCvinwvAya",
        "colab_type": "code",
        "outputId": "5a146289-50d7-478a-8933-a8636cec01b8",
        "colab": {
          "base_uri": "https://localhost:8080/",
          "height": 119
        }
      },
      "source": [
        "# View the added information on the list\n",
        "subj_forms"
      ],
      "execution_count": 0,
      "outputs": [
        {
          "output_type": "execute_result",
          "data": {
            "text/plain": [
              "[{'fw_session_label': 'session01',\n",
              "  'records_id': ['1', '3', '4'],\n",
              "  'redcap_form_label': 'd1_baseline_questionnaires'},\n",
              " {'fw_session_label': 'session02',\n",
              "  'records_id': ['2'],\n",
              "  'redcap_form_label': 'd8_post_questionnaires'}]"
            ]
          },
          "metadata": {
            "tags": []
          },
          "execution_count": 110
        }
      ]
    },
    {
      "cell_type": "markdown",
      "metadata": {
        "id": "2vr-vBxKFzxq",
        "colab_type": "text"
      },
      "source": [
        "*The cell below will then create a new session on FW UI*"
      ]
    },
    {
      "cell_type": "code",
      "metadata": {
        "id": "TKatYPyFt3w5",
        "colab_type": "code",
        "colab": {}
      },
      "source": [
        "for subj in fw_project.subjects.iter():\n",
        "  subj = subj.reload()\n",
        "  label = subj.label\n",
        "  for i in subj_forms:\n",
        "    if label in i['records_id']:\n",
        "      new_sess = subj.add_session(label = i['fw_session_label'])\n",
        "      new_sess.update(label=i['fw_session_label'])"
      ],
      "execution_count": 0,
      "outputs": []
    },
    {
      "cell_type": "markdown",
      "metadata": {
        "id": "wZNr03aX_oOG",
        "colab_type": "text"
      },
      "source": [
        "###**Add data from RedCap into the FW Instance**\n",
        "*This will only work if you have created corresponded sessions on the FW instance*"
      ]
    },
    {
      "cell_type": "code",
      "metadata": {
        "id": "0DUDPUOcucuj",
        "colab_type": "code",
        "colab": {}
      },
      "source": [
        "for sess in fw_project.sessions.iter():\n",
        "  sess = sess.reload()\n",
        "  for i in subj_forms:\n",
        "    if i['fw_session_label'] == sess.label and i['redcap_form_label'] not in sess.info :\n",
        "      rc_label = i['redcap_form_label']\n",
        "      tmp_info = { rc_label: data  for data in form_records[rc_label] if data['participant_id'] == sess.subject['label']}\n",
        "      update_sess = flywheel.models.Session(info = tmp_info)\n",
        "      fw.modify_session(sess.id, update_sess)\n",
        "      "
      ],
      "execution_count": 0,
      "outputs": []
    }
  ]
}