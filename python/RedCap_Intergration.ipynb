{
 "cells": [
  {
   "cell_type": "markdown",
   "metadata": {
    "colab_type": "text",
    "id": "dDuyJAjKpFBy"
   },
   "source": [
    "**Title**: Flywheel - RC integration notebook  \n",
    "**Date**:  16-04-2020 \n",
    "\n",
    "**Description**:  \n",
    "* This notebook is to intergate forms from RedCap to Flywheel Project \n",
    "\n",
    "    "
   ]
  },
  {
   "cell_type": "markdown",
   "metadata": {},
   "source": [
    "# Requirements\n",
    "- Access to at least one Flywheel Project that contains some test dataset\n",
    "- Access to at least one REDCap project"
   ]
  },
  {
   "cell_type": "markdown",
   "metadata": {
    "colab_type": "text",
    "id": "dF3r6oQypFBy"
   },
   "source": [
    "# Install and import dependencies"
   ]
  },
  {
   "cell_type": "code",
   "execution_count": null,
   "metadata": {
    "colab": {
     "base_uri": "https://localhost:8080/",
     "height": 272
    },
    "colab_type": "code",
    "id": "tnHysje2pFBz",
    "outputId": "d8f2d8ec-5b90-401f-96b0-2d69929e92eb"
   },
   "outputs": [],
   "source": [
    "# Install specific packages required for this notebook\n",
    "!pip install flywheel-sdk"
   ]
  },
  {
   "cell_type": "code",
   "execution_count": null,
   "metadata": {
    "colab": {},
    "colab_type": "code",
    "id": "VSRqCbbapFB3"
   },
   "outputs": [],
   "source": [
    "# Import packages\n",
    "from getpass import getpass\n",
    "import logging\n",
    "import os\n",
    "import flywheel\n",
    "import sys\n",
    "import pprint\n",
    "import pandas as pd\n",
    "from permission import check_user_permission\n"
   ]
  },
  {
   "cell_type": "code",
   "execution_count": null,
   "metadata": {
    "colab": {
     "base_uri": "https://localhost:8080/",
     "height": 391
    },
    "colab_type": "code",
    "id": "9Xr_MzEcGhIZ",
    "outputId": "115038c8-f3cf-4627-81ef-99071515da63"
   },
   "outputs": [],
   "source": [
    "! git clone git://github.com/sburns/PyCap.git PyCap\n",
    "sys.path.append('/content/PyCap')\n",
    "!pip3 install PyCap/"
   ]
  },
  {
   "cell_type": "code",
   "execution_count": null,
   "metadata": {
    "colab": {},
    "colab_type": "code",
    "id": "1gXx5Q0AGvTR"
   },
   "outputs": [],
   "source": [
    "from redcap import Project"
   ]
  },
  {
   "cell_type": "code",
   "execution_count": null,
   "metadata": {
    "colab": {},
    "colab_type": "code",
    "id": "vl-njZHWpFB6"
   },
   "outputs": [],
   "source": [
    "# Instantiate a logger\n",
    "logging.basicConfig(level=logging.INFO, format='%(asctime)s %(levelname)s %(message)s')\n",
    "log = logging.getLogger('root')"
   ]
  },
  {
   "cell_type": "markdown",
   "metadata": {
    "colab_type": "text",
    "id": "ESBJdNiJpFB9"
   },
   "source": [
    "# Flywheel API Key and Client"
   ]
  },
  {
   "cell_type": "markdown",
   "metadata": {
    "colab_type": "text",
    "id": "P8a20roWpFB-"
   },
   "source": [
    "Get a API_KEY. More on this at in the Flywheel SDK doc [here](https://flywheel-io.gitlab.io/product/backend/sdk/branches/master/python/getting_started.html#api-key)."
   ]
  },
  {
   "cell_type": "code",
   "execution_count": null,
   "metadata": {
    "colab": {
     "base_uri": "https://localhost:8080/",
     "height": 34
    },
    "colab_type": "code",
    "id": "LWkEZ-JTpFB-",
    "outputId": "5a39e4d8-5052-4a67-a4a3-5b81a4759652"
   },
   "outputs": [],
   "source": [
    "API_KEY = getpass('Enter API_KEY here: ')"
   ]
  },
  {
   "cell_type": "markdown",
   "metadata": {
    "colab_type": "text",
    "id": "yl1SuWIdpFCB"
   },
   "source": [
    "Instantiate the Flywheel API client"
   ]
  },
  {
   "cell_type": "code",
   "execution_count": null,
   "metadata": {
    "colab": {},
    "colab_type": "code",
    "id": "yW3kAGFPpFCB"
   },
   "outputs": [],
   "source": [
    "fw = flywheel.Client(API_KEY if 'API_KEY' in locals() else os.environ.get('FW_KEY'))"
   ]
  },
  {
   "cell_type": "markdown",
   "metadata": {
    "colab_type": "text",
    "id": "eav3GTHjpFCE"
   },
   "source": [
    "Show Flywheel logging information"
   ]
  },
  {
   "cell_type": "code",
   "execution_count": null,
   "metadata": {
    "colab": {},
    "colab_type": "code",
    "id": "0vk4MutVpFCF"
   },
   "outputs": [],
   "source": [
    "log.info('You are now logged in as %s to %s', fw.get_current_user()['email'], fw.get_config()['site']['api_url'])"
   ]
  },
  {
   "cell_type": "markdown",
   "metadata": {
    "colab_type": "text",
    "id": "ADS0ARESpFCI"
   },
   "source": [
    "## Constants"
   ]
  },
  {
   "cell_type": "code",
   "execution_count": null,
   "metadata": {
    "colab": {},
    "colab_type": "code",
    "id": "4-ufv-kEpFCJ"
   },
   "outputs": [],
   "source": [
    "# RedCap Login (replace this with your RedCap API URL)\n",
    "URL = 'https://redcap.test.edu/redcap_v0.0.01/API/'\n",
    "\n",
    "# Enter your REDcap API key\n",
    "RC_API_KEY = input('Please enter your RedCap API key: ')\n",
    "project = Project(URL, RC_API_KEY)"
   ]
  },
  {
   "cell_type": "code",
   "execution_count": null,
   "metadata": {
    "colab": {},
    "colab_type": "code",
    "id": "0HRHU1MYslbF"
   },
   "outputs": [],
   "source": [
    "#Constant for RedCap form\n",
    "\n",
    "#Metadata\n",
    "subj_metadata = ['enrollment_log'] # or intake form (form that identify the participant)\n",
    "subj_forms = [\n",
    "              {\n",
    "                  'fw_session_label' : 'session01',\n",
    "                  'redcap_form_label': 'd1_baseline_questionnaires'\n",
    "\n",
    "              },\n",
    "              {\n",
    "                  'fw_session_label' : 'session02',\n",
    "                  'redcap_form_label': 'd8_post_questionnaires'\n",
    "              }\n",
    "] # add forms that you have on RedCap that will correspond with data you uploaded on FW\n"
   ]
  },
  {
   "cell_type": "code",
   "execution_count": null,
   "metadata": {},
   "outputs": [],
   "source": [
    "# FW Project ID that you want to use\n",
    "PROJECT_LABEL = input('Enter your project label here: ')\n",
    "\n",
    "fw_project = fw.projects.find_first(f'label={PROJECT_LABEL}')"
   ]
  },
  {
   "cell_type": "markdown",
   "metadata": {},
   "source": [
    "# Requirements\n",
    "\n",
    "Before starting off, we want to check your permission on the Flywheel Instance in order to proceed in this notebook. "
   ]
  },
  {
   "cell_type": "code",
   "execution_count": null,
   "metadata": {},
   "outputs": [],
   "source": [
    "min_reqs = {\n",
    "\"site\": \"user\",\n",
    "\"group\": \"ro\",\n",
    "\"project\": ['containers_modify_metadata']\n",
    "}"
   ]
  },
  {
   "cell_type": "markdown",
   "metadata": {},
   "source": [
    "<div class=\"alert alert-block alert-info\" style=\"color:black\"><b>Tip:</b> Group ID and Project Label can be found on top of the Project page on the Flywheel Instance as shown in the snippet below.</div>\n",
    "\n",
    "<img src=\"https://gitlab.com/flywheel-io/public/flywheel-tutorials/-/raw/master/python/assets/find-group-id-and-project-label.png\" title=\"how-to-find-group-id-and-project-label\"/>"
   ]
  },
  {
   "cell_type": "markdown",
   "metadata": {},
   "source": [
    "`check_user_permission` will return True if both the group and project meet the minimum requirement, else a compatible list will be printed."
   ]
  },
  {
   "cell_type": "code",
   "execution_count": null,
   "metadata": {},
   "outputs": [],
   "source": [
    "check_user_permission(fw, min_reqs, group=GROUP_ID, project=PROJECT_LABEL)"
   ]
  },
  {
   "cell_type": "markdown",
   "metadata": {
    "colab_type": "text",
    "id": "9yQG9H3sHRA5"
   },
   "source": [
    "# Get Information from RedCap\n"
   ]
  },
  {
   "cell_type": "markdown",
   "metadata": {
    "colab_type": "text",
    "id": "DOJNuE2UKtx6"
   },
   "source": [
    "## RedCap Project Information"
   ]
  },
  {
   "cell_type": "code",
   "execution_count": null,
   "metadata": {
    "colab": {
     "base_uri": "https://localhost:8080/",
     "height": 442
    },
    "colab_type": "code",
    "id": "VKnroWAaKy0t",
    "outputId": "dffa0181-3c1a-4b1c-893a-29842e7d05ea"
   },
   "outputs": [],
   "source": [
    "project_info = project.export_project_info(format='json')\n",
    "\n",
    "pprint.pprint(project_info)\n"
   ]
  },
  {
   "cell_type": "markdown",
   "metadata": {
    "colab_type": "text",
    "id": "afhASLP8M3Vk"
   },
   "source": [
    "### All Events available in the Project"
   ]
  },
  {
   "cell_type": "code",
   "execution_count": null,
   "metadata": {
    "colab": {
     "base_uri": "https://localhost:8080/",
     "height": 153
    },
    "colab_type": "code",
    "id": "QPGDTzuhMfNx",
    "outputId": "0d71de31-c1e8-4045-ba81-680714dff348"
   },
   "outputs": [],
   "source": [
    "arm_event = {}\n",
    "event_list = []\n",
    "\n",
    "for event in project.events:\n",
    "    arm_num = event['arm_num']\n",
    "    event_name = event['event_name']\n",
    "    unique_event_name = event['unique_event_name']\n",
    "    \n",
    "    if arm_num not in arm_event:\n",
    "        event_list.append(unique_event_name)\n",
    "        arm_event[arm_num] = event_list\n",
    "\n",
    "\n",
    "\n",
    "    print(f'Event Name: {event_name}, Unique Event Name: {unique_event_name}, Arm Number: {arm_num}')\n",
    "\n",
    "print('\\nBelow is the arm number with respective unique event name:')\n",
    "pprint.pprint(arm_event)\n",
    "\n"
   ]
  },
  {
   "cell_type": "markdown",
   "metadata": {
    "colab_type": "text",
    "id": "6D4f21VdKgCs"
   },
   "source": [
    "### Arm Names and Number\n"
   ]
  },
  {
   "cell_type": "code",
   "execution_count": null,
   "metadata": {
    "colab": {
     "base_uri": "https://localhost:8080/",
     "height": 51
    },
    "colab_type": "code",
    "id": "7dSNsglcpFCY",
    "outputId": "3e1ca16d-991d-4f5c-963d-6be9840d2d2d"
   },
   "outputs": [],
   "source": [
    "print('Arm Names: ' + str(project.arm_names))\n",
    "print('No of Arms: ' + str(project.arm_nums))"
   ]
  },
  {
   "cell_type": "markdown",
   "metadata": {
    "colab_type": "text",
    "id": "cqDqPBDzXP7k"
   },
   "source": [
    "## Forms in the RedCap Project"
   ]
  },
  {
   "cell_type": "code",
   "execution_count": null,
   "metadata": {
    "colab": {
     "base_uri": "https://localhost:8080/",
     "height": 51
    },
    "colab_type": "code",
    "id": "ghBME5MDKk2Y",
    "outputId": "5fa72906-6e68-4ce4-d76a-a5c94b897a6a"
   },
   "outputs": [],
   "source": [
    "form_list = []\n",
    "for form in project.forms:\n",
    "    form_list.append(form)\n",
    "\n",
    "print(f'Forms that is in the project: \\n{form_list}')\n"
   ]
  },
  {
   "cell_type": "markdown",
   "metadata": {
    "colab_type": "text",
    "id": "eSmeOLJUXlgJ"
   },
   "source": [
    "## List all the field name with their field label used in RedCap"
   ]
  },
  {
   "cell_type": "code",
   "execution_count": null,
   "metadata": {
    "colab": {
     "base_uri": "https://localhost:8080/",
     "height": 479
    },
    "colab_type": "code",
    "id": "o6LmK4cbXT9b",
    "outputId": "7f04b3ca-acf7-463a-b7d9-2a052ca7fb16"
   },
   "outputs": [],
   "source": [
    "for labels in project.names_labels(do_print= True):\n",
    "    print(labels)"
   ]
  },
  {
   "cell_type": "markdown",
   "metadata": {
    "colab_type": "text",
    "id": "Un933A65YALn"
   },
   "source": [
    "## List out Records that are completed for each participant"
   ]
  },
  {
   "cell_type": "code",
   "execution_count": null,
   "metadata": {
    "colab": {
     "base_uri": "https://localhost:8080/",
     "height": 153
    },
    "colab_type": "code",
    "id": "rRaPnCJkYJms",
    "outputId": "64e0df59-fdf0-4a97-ccbd-4d932e896f17"
   },
   "outputs": [],
   "source": [
    "record_list = project.export_records(fields=[project.def_field])\n",
    "pprint.pprint(record_list)"
   ]
  },
  {
   "cell_type": "markdown",
   "metadata": {
    "colab_type": "text",
    "id": "31dQ5W_gXwaq"
   },
   "source": [
    "## Export All of the Records from RedCap project"
   ]
  },
  {
   "cell_type": "code",
   "execution_count": null,
   "metadata": {
    "colab": {},
    "colab_type": "code",
    "id": "DPDwemUgXs2c"
   },
   "outputs": [],
   "source": [
    "all_records = project.export_records()"
   ]
  },
  {
   "cell_type": "markdown",
   "metadata": {
    "colab_type": "text",
    "id": "mA8tz0bfYSJi"
   },
   "source": [
    "## Get all the metadata"
   ]
  },
  {
   "cell_type": "code",
   "execution_count": null,
   "metadata": {
    "colab": {
     "base_uri": "https://localhost:8080/",
     "height": 867
    },
    "colab_type": "code",
    "id": "13Jl8ERRX2o9",
    "outputId": "2b624239-c407-4580-a6f8-d0bfe6aea496"
   },
   "outputs": [],
   "source": [
    "metaData = project.metadata\n",
    "print('Below is all the field name from the RedCap Project:\\n')\n",
    "for each in metaData:\n",
    "    print('Form: %s, Field Name: %s'% (each['form_name'], each['field_name']))\n",
    "    print()\n"
   ]
  },
  {
   "cell_type": "markdown",
   "metadata": {
    "colab_type": "text",
    "id": "vUktLLmgZaHU"
   },
   "source": [
    "## Get the event mapping for all the arms\n",
    "### Able to identify their form name and unique event name here  "
   ]
  },
  {
   "cell_type": "code",
   "execution_count": null,
   "metadata": {
    "colab": {
     "base_uri": "https://localhost:8080/",
     "height": 221
    },
    "colab_type": "code",
    "id": "mLgZIRz0Y7vl",
    "outputId": "95dd641c-0cd4-4b13-88b7-a1818c6aed1e"
   },
   "outputs": [],
   "source": [
    "all_forms_and_events = project.export_fem()\n",
    "pprint.pprint(all_forms_and_events)"
   ]
  },
  {
   "cell_type": "markdown",
   "metadata": {
    "colab_type": "text",
    "id": "kKqmHvFXaOyb"
   },
   "source": [
    "## Get records for one specific events "
   ]
  },
  {
   "cell_type": "code",
   "execution_count": null,
   "metadata": {
    "colab": {
     "base_uri": "https://localhost:8080/",
     "height": 884
    },
    "colab_type": "code",
    "id": "YWUZenVBZqEL",
    "outputId": "81a6a34a-4192-4744-f276-9e18fc038f51"
   },
   "outputs": [],
   "source": [
    "# this method will show all the forms in the entire project\n",
    "# `timepoint_0_arm_1` is the unique_event_name \n",
    "project.export_records(events=['timepoint_0_arm_1'])"
   ]
  },
  {
   "cell_type": "markdown",
   "metadata": {
    "colab_type": "text",
    "id": "IAwOSZlNdSzh"
   },
   "source": [
    "## Get the enrollment log/ subject information for all the arms"
   ]
  },
  {
   "cell_type": "code",
   "execution_count": null,
   "metadata": {
    "colab": {
     "base_uri": "https://localhost:8080/",
     "height": 561
    },
    "colab_type": "code",
    "id": "a1oNhQRIaTJO",
    "outputId": "ba586056-0ccb-4952-d460-c2a8aece5e40"
   },
   "outputs": [],
   "source": [
    "arm1_enrollment = project.export_records(events=['timepoint_0_arm_1'], forms =['enrollment_log'], )\n",
    "arm2_enrollment = project.export_records(events=['timepoint_0_arm_2'], forms =['enrollment_log'])\n",
    "\n",
    "pprint.pprint(arm1_enrollment)\n",
    "pprint.pprint(arm2_enrollment)"
   ]
  },
  {
   "cell_type": "markdown",
   "metadata": {
    "colab_type": "text",
    "id": "ZS7aLszLw5tU"
   },
   "source": [
    "## Print result in the dataframe format "
   ]
  },
  {
   "cell_type": "code",
   "execution_count": null,
   "metadata": {
    "colab": {
     "base_uri": "https://localhost:8080/",
     "height": 348
    },
    "colab_type": "code",
    "id": "mM3SG99han42",
    "outputId": "87183545-f16c-4013-855a-16bdab994035"
   },
   "outputs": [],
   "source": [
    "all_records_df = project.export_records(format='df', df_kwargs={'index_col': project.field_names[0]})\n",
    "\n",
    "all_records_df"
   ]
  },
  {
   "cell_type": "markdown",
   "metadata": {
    "colab_type": "text",
    "id": "-TIrYplcxGvr"
   },
   "source": [
    "## Get the participant ID/ Records ID (aka unique keys on RedCap) to compare on the FW instances"
   ]
  },
  {
   "cell_type": "code",
   "execution_count": null,
   "metadata": {
    "colab": {
     "base_uri": "https://localhost:8080/",
     "height": 153
    },
    "colab_type": "code",
    "id": "tZC6ASr0w-dN",
    "outputId": "3a3ea928-258f-4442-94fb-2c9d7c253007"
   },
   "outputs": [],
   "source": [
    "raw_records_id = project.export_records(fields=['participant_id'])\n",
    "pprint.pprint(raw_records_id)"
   ]
  },
  {
   "cell_type": "code",
   "execution_count": null,
   "metadata": {
    "colab": {
     "base_uri": "https://localhost:8080/",
     "height": 34
    },
    "colab_type": "code",
    "id": "d-gDdeWXxTbu",
    "outputId": "0ae5d511-1c27-4f1e-94d5-2eb2d20edf0d"
   },
   "outputs": [],
   "source": [
    "# Save the records id into a list (without any repeat records)\n",
    "records_id = []\n",
    "\n",
    "for each in raw_records_id:\n",
    "    if each['participant_id'] not in records_id:\n",
    "        records_id.append(each['participant_id'])\n",
    "#the participant ID\n",
    "print(records_id)"
   ]
  },
  {
   "cell_type": "code",
   "execution_count": null,
   "metadata": {
    "colab": {
     "base_uri": "https://localhost:8080/",
     "height": 221
    },
    "colab_type": "code",
    "id": "m6w8AE7LyDhk",
    "outputId": "8652184f-ee96-40ad-b563-44ab3ab3ca3e"
   },
   "outputs": [],
   "source": [
    "all_forms_and_events"
   ]
  },
  {
   "cell_type": "code",
   "execution_count": null,
   "metadata": {
    "colab": {
     "base_uri": "https://localhost:8080/",
     "height": 425
    },
    "colab_type": "code",
    "id": "sgzqKIj50xpo",
    "outputId": "4a04a29b-1690-4edd-a93f-b4340d2192be"
   },
   "outputs": [],
   "source": [
    "arm1_enrollment"
   ]
  },
  {
   "cell_type": "code",
   "execution_count": null,
   "metadata": {
    "colab": {
     "base_uri": "https://localhost:8080/",
     "height": 34
    },
    "colab_type": "code",
    "id": "o2X4euHGALdK",
    "outputId": "d210b738-8ca9-4d64-a190-0f98ff7d2591"
   },
   "outputs": [],
   "source": [
    "form_list"
   ]
  },
  {
   "cell_type": "code",
   "execution_count": null,
   "metadata": {
    "colab": {},
    "colab_type": "code",
    "id": "Qk2_rCwuAZ07"
   },
   "outputs": [],
   "source": [
    "# all_forms_and_events\n",
    "\n",
    "form_records = {}\n",
    "\n",
    "for each in all_forms_and_events:\n",
    "    if each['form'] not in form_records.keys():\n",
    "        records = project.export_records(events=[each['unique_event_name']], forms=[each['form']])\n",
    "\n",
    "        form_records[each['form']] = records\n",
    "    else:\n",
    "        records = project.export_records(events=[each['unique_event_name']], forms=[each['form']])\n",
    "\n",
    "    for record in records:\n",
    "        form_records[ each['form']].append(record)\n"
   ]
  },
  {
   "cell_type": "code",
   "execution_count": null,
   "metadata": {
    "colab": {},
    "colab_type": "code",
    "id": "Te2X8jasDBm9"
   },
   "outputs": [],
   "source": [
    "pprint.pprint(form_records)"
   ]
  },
  {
   "cell_type": "markdown",
   "metadata": {
    "colab_type": "text",
    "id": "7CEivGrtHOLN"
   },
   "source": [
    "**View all records from RedCap in table view**\n"
   ]
  },
  {
   "cell_type": "code",
   "execution_count": null,
   "metadata": {
    "colab": {},
    "colab_type": "code",
    "id": "uGKXuXv-yJeM"
   },
   "outputs": [],
   "source": [
    "forms_info = []\n",
    "forms_info_df = pd.DataFrame()\n",
    "\n",
    "for event in all_forms_and_events:\n",
    "    records = project.export_records(events=[event['unique_event_name']], forms=[event['form']])\n",
    "    for record in records:\n",
    "        forms_info.append(record)\n",
    "        forms_info_df = forms_info_df.append(record, ignore_index=True)\n"
   ]
  },
  {
   "cell_type": "code",
   "execution_count": null,
   "metadata": {
    "colab": {
     "base_uri": "https://localhost:8080/",
     "height": 385
    },
    "colab_type": "code",
    "id": "Xf0a8sR-9-Ws",
    "outputId": "2b8a7104-20ce-46c5-a35c-23b8fa1ade84"
   },
   "outputs": [],
   "source": [
    "pd.set_option('display.max_columns', None)\n",
    "display(forms_info_df)"
   ]
  },
  {
   "cell_type": "markdown",
   "metadata": {
    "colab_type": "text",
    "id": "Bv4Ka6BlIDRl"
   },
   "source": [
    "# Integrate RedCap records into Flywheel Instance"
   ]
  },
  {
   "cell_type": "markdown",
   "metadata": {
    "colab_type": "text",
    "id": "uYPsqFMjuMqF"
   },
   "source": [
    "## Get Subject Container Info (ID and Label)"
   ]
  },
  {
   "cell_type": "code",
   "execution_count": null,
   "metadata": {
    "colab": {
     "base_uri": "https://localhost:8080/",
     "height": 105
    },
    "colab_type": "code",
    "id": "ndgDuXFk_C4m",
    "outputId": "bae9a6f7-2774-44af-83fe-50f0753f0eaa"
   },
   "outputs": [],
   "source": [
    "# get the project\n",
    "fw_project = fw_project.reload()\n",
    "\n",
    "subj_info = {}\n",
    "all_subj_info = []\n",
    "\n",
    "for subject in fw_project.subjects.iter():\n",
    "    subject = subject.reload()\n",
    "    subj_info[subject.label] = subject.id\n",
    "    info = {\n",
    "      'subj_label' : subject.label,\n",
    "      'subj_id' : subject.id,\n",
    "      'subj_info_label' : subject.info\n",
    "    }\n",
    "  # Lookup table for FW instances to compare with RedCap \n",
    "  all_subj_info.append(info)\n"
   ]
  },
  {
   "cell_type": "markdown",
   "metadata": {
    "colab_type": "text",
    "id": "6HH6rZmqZO9t"
   },
   "source": [
    "**Compare subjects in RedCap and FW instance**\n",
    "\n",
    "- If there is subjects on RedCap but not on FW, the script will create new subject on FW with the `enrollment_log` or intake forms from RedCap\n",
    "- If the subject has been created on FW, then it will search whether the `enrollment_log` or intake forms exist on the FW Subject info attributes."
   ]
  },
  {
   "cell_type": "code",
   "execution_count": null,
   "metadata": {
    "colab": {},
    "colab_type": "code",
    "id": "8tJ-6p5y_Eoo"
   },
   "outputs": [],
   "source": [
    "subj_in_fw = [subj['subj_label'] for subj in all_subj_info]\n",
    "\n",
    "enrollment_data = form_records['enrollment_log']\n",
    "\n",
    "# Check if the RedCap subj is the same as FW subj\n",
    "if set(records_id) not in set(subj_in_fw):\n",
    "    missing_id = list(set(records_id)-set(subj_in_fw))\n",
    "    for new_id in missing_id:\n",
    "        tmp_data = {'enrollment_log': data for data in enrollment_data if data['participant_id'] == new_id}\n",
    "        new_subj = fw_project.add_subject(label = new_id, project=project_id, info = tmp_data)\n",
    "else:\n",
    "    # if subj number is same then check if enrollment log is there\n",
    "    for sub in all_subj_info:\n",
    "        if 'enrollment_log' not in sub['subj_info_label'].keys():\n",
    "            enrollment_data = form_records['enrollment_log']\n",
    "            tmp = {'enrollment_log': data for data in enrollment_data if data['participant_id'] == sub['subj_label']}\n",
    "            update_subj = flywheel.models.Subject(info = tmp)\n",
    "            fw.modify_subject(sub['subj_id'], update_subj)\n",
    "\n"
   ]
  },
  {
   "cell_type": "markdown",
   "metadata": {
    "colab_type": "text",
    "id": "YpqD5mR0tGDr"
   },
   "source": [
    "## Adding custom info label on Session existed on FW instance\n",
    "\n",
    "\n",
    "<div class=\"alert alert-block alert-warning\"><b>WARNING:</b> We assume that Session and Acquisition has already created on your Flywheel Project.</div>"
   ]
  },
  {
   "cell_type": "markdown",
   "metadata": {
    "colab_type": "text",
    "id": "9RtImQ4x_JgN"
   },
   "source": [
    "*You can run the cells below to create new session with the `subj_forms` lookup table*"
   ]
  },
  {
   "cell_type": "code",
   "execution_count": null,
   "metadata": {
    "colab": {},
    "colab_type": "code",
    "id": "rLgdDNqqve1F"
   },
   "outputs": [],
   "source": [
    "# This variable has all the form (include the enrollment_log) along with the data\n",
    "form_records"
   ]
  },
  {
   "cell_type": "code",
   "execution_count": null,
   "metadata": {
    "colab": {},
    "colab_type": "code",
    "id": "eFSDVchLxdnf"
   },
   "outputs": [],
   "source": [
    "# This cell will add the participant ID into the subj_forms listof dictionaries \n",
    "# Add on the participant/subj ID into the lookup table for fw_session_label and redcap_form_label\n",
    "\n",
    "for form, data in form_records.items():\n",
    "  # Exclude the enrollment_log (as everyone should have the same enrollment log)\n",
    "  if form != 'enrollment_log':\n",
    "    for i in subj_forms:\n",
    "        label = i['redcap_form_label']\n",
    "        if label == form:\n",
    "            tmp = [d['participant_id'] for d in data]\n",
    "            i['records_id'] = tmp\n"
   ]
  },
  {
   "cell_type": "code",
   "execution_count": null,
   "metadata": {
    "colab": {
     "base_uri": "https://localhost:8080/",
     "height": 119
    },
    "colab_type": "code",
    "id": "jnkCvinwvAya",
    "outputId": "5a146289-50d7-478a-8933-a8636cec01b8"
   },
   "outputs": [],
   "source": [
    "# View the added information on the list\n",
    "subj_forms"
   ]
  },
  {
   "cell_type": "markdown",
   "metadata": {
    "colab_type": "text",
    "id": "2vr-vBxKFzxq"
   },
   "source": [
    "*The cell below will then create a new session on FW UI*"
   ]
  },
  {
   "cell_type": "code",
   "execution_count": null,
   "metadata": {
    "colab": {},
    "colab_type": "code",
    "id": "TKatYPyFt3w5"
   },
   "outputs": [],
   "source": [
    "for subj in fw_project.subjects.iter():\n",
    "    subj = subj.reload()\n",
    "    label = subj.label\n",
    "    for i in subj_forms:\n",
    "        if label in i['records_id']:\n",
    "            new_sess = subj.add_session(label = i['fw_session_label'])\n",
    "            new_sess.update(label=i['fw_session_label'])"
   ]
  },
  {
   "cell_type": "markdown",
   "metadata": {
    "colab_type": "text",
    "id": "wZNr03aX_oOG"
   },
   "source": [
    "### Add data from RedCap into the FW Instance\n",
    "This will only work if you have created corresponded sessions on the FW instance"
   ]
  },
  {
   "cell_type": "code",
   "execution_count": null,
   "metadata": {
    "colab": {},
    "colab_type": "code",
    "id": "0DUDPUOcucuj"
   },
   "outputs": [],
   "source": [
    "for sess in fw_project.sessions.iter():\n",
    "    sess = sess.reload()\n",
    "    for i in subj_forms:\n",
    "        if i['fw_session_label'] == sess.label and i['redcap_form_label'] not in sess.info :\n",
    "            rc_label = i['redcap_form_label']\n",
    "            tmp_info = { rc_label: data  for data in form_records[rc_label] if data['participant_id'] == sess.subject['label']}\n",
    "            update_sess = flywheel.models.Session(info = tmp_info)\n",
    "            fw.modify_session(sess.id, update_sess)\n",
    "      "
   ]
  }
 ],
 "metadata": {
  "colab": {
   "name": "RedCap Intergration.ipynb",
   "provenance": []
  },
  "kernelspec": {
   "display_name": "Python 3",
   "language": "python",
   "name": "python3"
  },
  "language_info": {
   "codemirror_mode": {
    "name": "ipython",
    "version": 3
   },
   "file_extension": ".py",
   "mimetype": "text/x-python",
   "name": "python",
   "nbconvert_exporter": "python",
   "pygments_lexer": "ipython3",
   "version": "3.7.6"
  }
 },
 "nbformat": 4,
 "nbformat_minor": 4
}
