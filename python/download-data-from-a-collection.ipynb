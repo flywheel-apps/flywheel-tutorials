{
 "cells": [
  {
   "cell_type": "markdown",
   "metadata": {},
   "source": [
    "**Title**: Download all data from a collection\n",
    "**Date**: 25 Oct 2021  \n",
    "**Description**:  \n",
    "* Download all data from a collection  "
   ]
  },
  {
   "cell_type": "markdown",
   "metadata": {},
   "source": [
    "# Install and import dependencies"
   ]
  },
  {
   "cell_type": "code",
   "execution_count": null,
   "metadata": {},
   "outputs": [],
   "source": [
    "# Install specific packages required for this notebook\n",
    "!pip install flywheel-sdk tqdm pandas fw-meta backoff"
   ]
  },
  {
   "cell_type": "code",
   "execution_count": null,
   "metadata": {},
   "outputs": [],
   "source": [
    "# Import packages\n",
    "import logging\n",
    "import os\n",
    "import re\n",
    "from getpass import getpass\n",
    "from functools import lru_cache\n",
    "from pathlib import Path\n",
    "\n",
    "import pandas as pd\n",
    "import backoff\n",
    "import pandas as pd\n",
    "import flywheel\n",
    "from tqdm.notebook import tqdm\n",
    "\n",
    "from permission import check_user_permission"
   ]
  },
  {
   "cell_type": "code",
   "execution_count": null,
   "metadata": {
    "tags": []
   },
   "outputs": [],
   "source": [
    "# Instantiate a logger\n",
    "logging.basicConfig(level=logging.INFO, format='%(asctime)s %(levelname)s %(message)s')\n",
    "log = logging.getLogger('root')"
   ]
  },
  {
   "cell_type": "markdown",
   "metadata": {},
   "source": [
    "# Flywheel API Key and Client"
   ]
  },
  {
   "cell_type": "markdown",
   "metadata": {},
   "source": [
    "Get a API_KEY. More on this in the Flywheel SDK doc [here](https://flywheel-io.gitlab.io/product/backend/sdk/branches/master/python/getting_started.html#api-key)."
   ]
  },
  {
   "cell_type": "code",
   "execution_count": null,
   "metadata": {},
   "outputs": [],
   "source": [
    "API_KEY = getpass('Enter API_KEY here: ')"
   ]
  },
  {
   "cell_type": "markdown",
   "metadata": {},
   "source": [
    "Instantiate the Flywheel API client"
   ]
  },
  {
   "cell_type": "code",
   "execution_count": null,
   "metadata": {},
   "outputs": [],
   "source": [
    "fw = flywheel.Client(API_KEY if 'API_KEY' in locals() else os.environ.get('FW_KEY'))"
   ]
  },
  {
   "cell_type": "markdown",
   "metadata": {},
   "source": [
    "Show Flywheel logging information"
   ]
  },
  {
   "cell_type": "code",
   "execution_count": null,
   "metadata": {},
   "outputs": [],
   "source": [
    "log.info('You are now logged in as %s to %s', fw.get_current_user()['email'], fw.get_config()['site']['api_url'])"
   ]
  },
  {
   "cell_type": "markdown",
   "metadata": {},
   "source": [
    "# Constants"
   ]
  },
  {
   "cell_type": "code",
   "execution_count": null,
   "metadata": {},
   "outputs": [],
   "source": [
    "# Collection ID\n",
    "COLLECTION_ID = '<collection-id>'\n",
    "# Local root path where to download data\n",
    "ROOT_DATA = Path('/tmp')\n",
    "# File type of filter on\n",
    "FILE_TYPE = 'nifti'"
   ]
  },
  {
   "cell_type": "markdown",
   "metadata": {},
   "source": [
    "# Helper functions"
   ]
  },
  {
   "cell_type": "code",
   "execution_count": null,
   "metadata": {},
   "outputs": [],
   "source": [
    "# wrapper around `get_project` caching result. Help to reduce repeated calls.\n",
    "@lru_cache()\n",
    "def get_project(fw, project_id):\n",
    "    return fw.get_project(project_id)"
   ]
  },
  {
   "cell_type": "code",
   "execution_count": null,
   "metadata": {},
   "outputs": [],
   "source": [
    "def is_not_500_502_504(exc):\n",
    "    if hasattr(exc, \"status\"):\n",
    "        if exc.status in [504, 502, 500]:\n",
    "            # 500: Internal Server Error\n",
    "            # 502: Bad Gateway\n",
    "            # 504: Gateway Timeout\n",
    "            return False\n",
    "    return True\n",
    "\n",
    "\n",
    "@backoff.on_exception(\n",
    "    backoff.expo, flywheel.rest.ApiException, max_time=60, giveup=is_not_500_502_504\n",
    ")\n",
    "# will retry for 60s, waiting an exponentially increasing delay between retries\n",
    "# e.g. 1s, 2s, 4s, 8s, etc, giving up if exception is in 500, 502, 504.\n",
    "def robust_download(file, dst_path):\n",
    "    file.download(dst_path)"
   ]
  },
  {
   "cell_type": "markdown",
   "metadata": {},
   "source": [
    "# Main script"
   ]
  },
  {
   "cell_type": "markdown",
   "metadata": {},
   "source": [
    "## Get the collection"
   ]
  },
  {
   "cell_type": "code",
   "execution_count": null,
   "metadata": {},
   "outputs": [],
   "source": [
    "collection = fw.get_collection(COLLECTION_ID)\n",
    "if not collection:\n",
    "    log.error(f'Collection {f} not found.')"
   ]
  },
  {
   "cell_type": "markdown",
   "metadata": {},
   "source": [
    "## Download all files in the collection matching FILE_TYPE"
   ]
  },
  {
   "cell_type": "code",
   "execution_count": null,
   "metadata": {},
   "outputs": [],
   "source": [
    "for session in tqdm(collection.sessions.iter()):\n",
    "    project = get_project(fw, session.project)\n",
    "    for acq in session.acquisitions.iter():\n",
    "        for file in acq.files:\n",
    "            if file.type == FILE_TYPE:\n",
    "                # assuming labels are POSIX compliant\n",
    "                dst_path = ROOT_DATA / project.label / session.subject.label / session.label / acq.label / file.name\n",
    "                dst_path.parent.mkdir(parents=True, exist_ok=True)\n",
    "                robust_download(file, str(dst_path))"
   ]
  },
  {
   "cell_type": "code",
   "execution_count": null,
   "metadata": {},
   "outputs": [],
   "source": []
  }
 ],
 "metadata": {
  "kernelspec": {
   "display_name": "Python 3",
   "language": "python",
   "name": "python3"
  },
  "language_info": {
   "codemirror_mode": {
    "name": "ipython",
    "version": 3
   },
   "file_extension": ".py",
   "mimetype": "text/x-python",
   "name": "python",
   "nbconvert_exporter": "python",
   "pygments_lexer": "ipython3",
   "version": "3.9.1"
  }
 },
 "nbformat": 4,
 "nbformat_minor": 4
}
