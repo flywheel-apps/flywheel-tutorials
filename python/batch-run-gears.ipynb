{
 "cells": [
  {
   "cell_type": "markdown",
   "metadata": {},
   "source": [
    "**Title**: Batch Run Flywheel Gears with SDK\n",
    "\n",
    "**Date**:  May 13th 2020 \n",
    "\n",
    "**Description**:  \n",
    "This notebook provides an overview of the Flywheel Gears and how to run gears as a batch with SDK.\n",
    "Topics that will be covered:\n",
    "- Overview of Flywheel Gears\n",
    "- Upload gears to Flywheel\n",
    "- Batch Run Gears\n",
    "- Gear Output \n",
    "- Gear Rules VS Batch Run Gears"
   ]
  },
  {
   "cell_type": "markdown",
   "metadata": {},
   "source": [
    "### **Requirements**:\n",
    "1. Access to a Flywheel instance.\n",
    "4. No Gear Rules applied in the Test Project.\n",
    "2. A Flywheel Project with ideally the dataset used in the [upload-data notebook](https://gitlab.com/flywheel-io/public/flywheel-tutorials/-/blob/master/python/upload-data-to-a-new-project.ipynb)."
   ]
  },
  {
   "cell_type": "markdown",
   "metadata": {},
   "source": [
    "<div class=\"alert alert-block alert-warning\" >\n",
    "    <b>NOTE:</b> This notebook is using a test dataset provided by the <a href=\"https://gitlab.com/flywheel-io/public/flywheel-tutorials/-/blob/master/python/upload-data-to-a-new-project.ipynb\" style=\"color:black\">upload-data notebook</a>. If you have not uploaded this test dataset yet, we strongly recommend you do so now following steps in <a href=\"https://gitlab.com/flywheel-io/public/flywheel-tutorials/-/blob/master/python/upload-data-to-a-new-project.ipynb\" style=\"color:black\">here</a> before proceeding because this notebook is based on a specific project structure.\n",
    "</div>"
   ]
  },
  {
   "cell_type": "markdown",
   "metadata": {},
   "source": [
    "<div class=\"alert alert-block alert-danger\" >\n",
    "    <b>WARNING:</b> The metadata of the acquisitions in your test project will be updated and new files will be created after running the scripts below. \n",
    "</div>"
   ]
  },
  {
   "cell_type": "markdown",
   "metadata": {},
   "source": [
    "# An Overview of Flywheel Gears\n",
    "Flywheel categorizes the gears into <u>Utility Gears</u> and <u>Analysis Gears</u>. \n",
    "- <b>Utility Gear</b> is typically a basic pipeline that generates another representation of the data (e.g. convert DICOM to NifTI), perform QA (e.g. A QA tool that generates a reqport) or a Classifier (e.g. extracts the data/header info of a file).\n",
    "- <b>Analysis Gear</b> is a pipeline which processes the data with and algorithm, such as signal processing algorithm, and generates one or more files to be used for statistical analysis and/or machine learning.  See [below](#gear_rule_note) for a note on using analysis gears in gear rules.\n",
    "\n",
    "\n",
    "In this notebook, we will be mainly focusing on <b>Utility Gears</b> but the same principle can be applied to <b>Analysis Gears</b>. "
   ]
  },
  {
   "cell_type": "markdown",
   "metadata": {},
   "source": [
    "***"
   ]
  },
  {
   "cell_type": "markdown",
   "metadata": {
    "colab_type": "text",
    "id": "ay1WSTNnycu9"
   },
   "source": [
    "# Install and Import Dependencies"
   ]
  },
  {
   "cell_type": "code",
   "execution_count": null,
   "metadata": {
    "colab": {
     "base_uri": "https://localhost:8080/",
     "height": 292
    },
    "colab_type": "code",
    "id": "TvSB-YzJycd9",
    "outputId": "88896fc2-0cd1-4745-d1d7-5752fae84b64"
   },
   "outputs": [],
   "source": [
    "# Install specific packages required for this notebook\n",
    "!pip install flywheel-sdk pydicom pandas"
   ]
  },
  {
   "cell_type": "code",
   "execution_count": null,
   "metadata": {
    "colab": {},
    "colab_type": "code",
    "id": "wgIDvfT3yi2B"
   },
   "outputs": [],
   "source": [
    "# Import packages\n",
    "from getpass import getpass\n",
    "import logging\n",
    "import os\n",
    "from pathlib import Path\n",
    "import re\n",
    "import time\n",
    "import pprint\n",
    "\n",
    "from IPython.display import display, Image\n",
    "import flywheel\n",
    "import pandas as pd\n",
    "from permission import check_user_permission\n"
   ]
  },
  {
   "cell_type": "code",
   "execution_count": null,
   "metadata": {
    "colab": {},
    "colab_type": "code",
    "id": "ZtWGHIEBykZz"
   },
   "outputs": [],
   "source": [
    "# Instantiate a logger\n",
    "logging.basicConfig(level=logging.INFO, format='%(asctime)s %(levelname)s %(message)s')\n",
    "log = logging.getLogger('root')"
   ]
  },
  {
   "cell_type": "markdown",
   "metadata": {
    "colab_type": "text",
    "id": "RAnUF3QkynxV"
   },
   "source": [
    "# Flywheel API Key and Client"
   ]
  },
  {
   "cell_type": "markdown",
   "metadata": {
    "colab_type": "text",
    "id": "P8a20roWpFB-"
   },
   "source": [
    "Get a API_KEY. More on this at in the Flywheel SDK doc [here](https://flywheel-io.gitlab.io/product/backend/sdk/branches/master/python/getting_started.html#api-key)."
   ]
  },
  {
   "cell_type": "code",
   "execution_count": null,
   "metadata": {
    "colab": {
     "base_uri": "https://localhost:8080/",
     "height": 34
    },
    "colab_type": "code",
    "id": "LWkEZ-JTpFB-",
    "outputId": "47a9c115-7839-404b-b73c-69e57887ad5c"
   },
   "outputs": [],
   "source": [
    "API_KEY = getpass('Enter API_KEY here: ')"
   ]
  },
  {
   "cell_type": "markdown",
   "metadata": {
    "colab_type": "text",
    "id": "yl1SuWIdpFCB"
   },
   "source": [
    "Instantiate the Flywheel API client"
   ]
  },
  {
   "cell_type": "code",
   "execution_count": null,
   "metadata": {
    "colab": {},
    "colab_type": "code",
    "id": "yW3kAGFPpFCB"
   },
   "outputs": [],
   "source": [
    "fw = flywheel.Client(API_KEY if 'API_KEY' in locals() else os.environ.get('FW_KEY'))"
   ]
  },
  {
   "cell_type": "markdown",
   "metadata": {
    "colab_type": "text",
    "id": "XPQg0AFey16p"
   },
   "source": [
    "Show Flywheel logging information"
   ]
  },
  {
   "cell_type": "code",
   "execution_count": null,
   "metadata": {
    "colab": {
     "base_uri": "https://localhost:8080/",
     "height": 54
    },
    "colab_type": "code",
    "id": "88-D948hy3uS",
    "outputId": "21183a89-d336-449b-aabd-df02adac3b55"
   },
   "outputs": [],
   "source": [
    "log.info('You are now logged in as %s to %s', fw.get_current_user()['email'], fw.get_config()['site']['api_url'])"
   ]
  },
  {
   "cell_type": "markdown",
   "metadata": {},
   "source": [
    "***"
   ]
  },
  {
   "cell_type": "markdown",
   "metadata": {},
   "source": [
    "# Initialize a few values\n",
    "\n",
    "Define your test Project's Label and let's look for it on your Flywheel instance."
   ]
  },
  {
   "cell_type": "code",
   "execution_count": null,
   "metadata": {},
   "outputs": [],
   "source": [
    "PROJECT_LABEL = input('Please enter your Project Label here: ')"
   ]
  },
  {
   "cell_type": "code",
   "execution_count": null,
   "metadata": {},
   "outputs": [],
   "source": [
    "project = fw.projects.find_first(f'label={PROJECT_LABEL}')"
   ]
  },
  {
   "cell_type": "markdown",
   "metadata": {},
   "source": [
    "***"
   ]
  },
  {
   "cell_type": "markdown",
   "metadata": {},
   "source": [
    "# Requirements\n",
    "\n",
    "Before starting off, we want to check your permission on the Flywheel Instance in order to proceed in this notebook. "
   ]
  },
  {
   "cell_type": "code",
   "execution_count": null,
   "metadata": {},
   "outputs": [],
   "source": [
    "min_reqs = {\n",
    "\"site\": \"developer\",\n",
    "\"group\": \"ro\",\n",
    "\"project\": ['jobs_view',\n",
    "             'jobs_run_cancel']\n",
    "}"
   ]
  },
  {
   "cell_type": "markdown",
   "metadata": {},
   "source": [
    "<div class=\"alert alert-block alert-info\" style=\"color:black\"><b>Tip:</b> Group ID and Project Label can be found on top of the Project page on the Flywheel Instance as shown in the snippet below.</div>\n",
    "\n",
    "<img src=\"https://gitlab.com/flywheel-io/public/flywheel-tutorials/-/raw/update-old-notebooks-and-TOC/python/assets/find-group-id-and-project-label.png\" title=\"how-to-find-group-id-and-project-label\"/>"
   ]
  },
  {
   "cell_type": "code",
   "execution_count": null,
   "metadata": {},
   "outputs": [],
   "source": [
    "GROUP_ID = input('Please enter the Group ID that you will be working with: ')"
   ]
  },
  {
   "cell_type": "markdown",
   "metadata": {},
   "source": [
    "`check_user_permission` will return True if both the group and project meet the minimum requirement, else a compatible list will be printed."
   ]
  },
  {
   "cell_type": "code",
   "execution_count": null,
   "metadata": {},
   "outputs": [],
   "source": [
    "check_user_permission(fw, min_reqs, group=GROUP_ID, project=PROJECT_LABEL)"
   ]
  },
  {
   "cell_type": "markdown",
   "metadata": {},
   "source": [
    "***"
   ]
  },
  {
   "cell_type": "markdown",
   "metadata": {},
   "source": [
    "# Set Up Flywheel CLI "
   ]
  },
  {
   "cell_type": "markdown",
   "metadata": {},
   "source": [
    "Flywheel Gears can be uploaded via the Flywheel CLI, which is a tool that allows us to interact with Flywheel and out data from the command line. \n",
    "\n",
    "<div class=\"alert alert-block alert-info\">\n",
    "    <b>TIP: </b> If you are curious what you can do with Flywheel CLI, <a href=\"https://docs.flywheel.io/hc/en-us/articles/360008285193\" style=\"color:black\">see our article here</a>.\n",
    "</div>\n",
    "\n",
    "\n",
    "\n"
   ]
  },
  {
   "cell_type": "markdown",
   "metadata": {},
   "source": [
    "Here we will be showing you how you can install the CLI for Linux Operating System, such as the one used by Binder or Google Collab environments.\n"
   ]
  },
  {
   "cell_type": "markdown",
   "metadata": {},
   "source": [
    "First we will be getting your instance specific CLI version.\n"
   ]
  },
  {
   "cell_type": "code",
   "execution_count": null,
   "metadata": {},
   "outputs": [],
   "source": [
    "LATEST_CLI_VERSION = fw.get_version().cli_version"
   ]
  },
  {
   "cell_type": "markdown",
   "metadata": {},
   "source": [
    "<!-- # TODO build a url with CLI version instead \n",
    "# using LINUX and mention it  -->\n",
    "\n",
    "The Flywheel CLI builds are hosted on google storage at the following URL:"
   ]
  },
  {
   "cell_type": "code",
   "execution_count": null,
   "metadata": {},
   "outputs": [],
   "source": [
    "CLI_URL = f'https://storage.googleapis.com/flywheel-dist/cli/{LATEST_CLI_VERSION}/fw-linux_amd64.zip'"
   ]
  },
  {
   "cell_type": "markdown",
   "metadata": {},
   "source": [
    "<div class=\"alert alert-block alert-warning\">\n",
    " <b>NOTE: </b>  \n",
    "    If you are interested for more detailed instruction and installation guide for other Operating system, please refer to our <a href=\"https://docs.flywheel.io/hc/en-us/articles/360008162214-Installing-the-Command-Line-Interface-CLI-\" style=\"color:black\">docs</a>.\n",
    "\n",
    "</div>\n"
   ]
  },
  {
   "cell_type": "markdown",
   "metadata": {},
   "source": [
    "To install the Flywheel CLI we need to donwload, unzip and add the `fw` to somewhere in your `$PATH` (here we will be using your current working directory)."
   ]
  },
  {
   "cell_type": "code",
   "execution_count": null,
   "metadata": {},
   "outputs": [],
   "source": [
    "# create a directory\n",
    "! mkdir cli"
   ]
  },
  {
   "cell_type": "code",
   "execution_count": null,
   "metadata": {},
   "outputs": [],
   "source": [
    "# Download Flywheel CLI to ./cli\n",
    "! wget {CLI_URL} -O ./cli/fw-cli.zip\n",
    "# unzip\n",
    "! unzip ./cli/fw-cli.zip -d ./cli/\n",
    "# move fw CLI to current directory\n",
    "! cp ./cli/linux_amd64/fw fw"
   ]
  },
  {
   "cell_type": "markdown",
   "metadata": {},
   "source": [
    "You can use `fw -h` to view all the commands available on Flywheel CLI"
   ]
  },
  {
   "cell_type": "code",
   "execution_count": null,
   "metadata": {},
   "outputs": [],
   "source": [
    "!./fw -h"
   ]
  },
  {
   "cell_type": "markdown",
   "metadata": {},
   "source": [
    "You should be able to log in with your API key with the command below."
   ]
  },
  {
   "cell_type": "code",
   "execution_count": null,
   "metadata": {},
   "outputs": [],
   "source": [
    "!./fw login {API_KEY}"
   ]
  },
  {
   "cell_type": "markdown",
   "metadata": {},
   "source": [
    "If you successfully logged in with you API key, then you should see the message:\n",
    "\n",
    "`You are now logged in as <username>!`\n"
   ]
  },
  {
   "cell_type": "markdown",
   "metadata": {},
   "source": [
    "***"
   ]
  },
  {
   "cell_type": "markdown",
   "metadata": {},
   "source": [
    "<a id='Upload_fw_gears'></a>\n",
    "## Upload Flywheel Gears to Flywheel Instance\n",
    "\n",
    "Now, we will upload the following Gears to your Flywheel Instance using the Flywheel CLI: \n",
    "- DCM2NIIX (a Converter Gear).\n",
    "- MRIQC (a Quality Assessment of MRI). \n",
    "\n",
    "You can find a list of available Gears at our [Flywheel Gear Exchange](https://flywheel.io/gear-exchange/) page. \n"
   ]
  },
  {
   "cell_type": "code",
   "execution_count": null,
   "metadata": {},
   "outputs": [],
   "source": [
    "# create a new directory to store the gear files.\n",
    "!mkdir fw-gears\n",
    "\n",
    "# git clone dcm2niix gear from github repo\n",
    "!git clone https://github.com/scitran-apps/dcm2niix.git ./fw-gears/dcm2niix\n",
    "    \n",
    "# git clone mriqc gear from the github repo \n",
    "!git clone https://github.com/flywheel-apps/mriqc.git ./fw-gears/mriqc"
   ]
  },
  {
   "cell_type": "markdown",
   "metadata": {},
   "source": [
    "Now we will be uploading the MRIQC gear into the flywheel instance using the `fw gear upload` command."
   ]
  },
  {
   "cell_type": "code",
   "execution_count": null,
   "metadata": {},
   "outputs": [],
   "source": [
    "# change your path to the gear directory\n",
    "os.chdir('./fw-gears/mriqc')"
   ]
  },
  {
   "cell_type": "code",
   "execution_count": null,
   "metadata": {},
   "outputs": [],
   "source": [
    "!./fw gear upload"
   ]
  },
  {
   "cell_type": "markdown",
   "metadata": {},
   "source": [
    "<div class=\"alert alert-block alert-warning\">\n",
    "    <b>NOTE: </b>These gears might be alrady installed on your Flywheel instance. So, you might receive a message saying that the gears exist when you are uploading the gear to your Flywheel instance.\n",
    "</div>"
   ]
  },
  {
   "cell_type": "markdown",
   "metadata": {},
   "source": [
    "We will be repeating the same process for DCM2NIIX Gear"
   ]
  },
  {
   "cell_type": "code",
   "execution_count": null,
   "metadata": {},
   "outputs": [],
   "source": [
    "# change your path to the gear directory\n",
    "os.chdir('../dcm2niix')"
   ]
  },
  {
   "cell_type": "code",
   "execution_count": null,
   "metadata": {},
   "outputs": [],
   "source": [
    "!./fw gear upload"
   ]
  },
  {
   "cell_type": "markdown",
   "metadata": {},
   "source": [
    "***"
   ]
  },
  {
   "cell_type": "markdown",
   "metadata": {},
   "source": [
    "# Batch Run Gears"
   ]
  },
  {
   "cell_type": "markdown",
   "metadata": {},
   "source": [
    "## Useful Function"
   ]
  },
  {
   "cell_type": "markdown",
   "metadata": {},
   "source": [
    "This `run_gear` function will be used to run gears in this notebook. "
   ]
  },
  {
   "cell_type": "code",
   "execution_count": null,
   "metadata": {},
   "outputs": [],
   "source": [
    "def run_gear(gear, inputs, dest):\n",
    "    \"\"\"Submits a job with specified gear and inputs.\n",
    "    \n",
    "    Args:\n",
    "        gear (flywheel.Gear): A Flywheel Gear.\n",
    "        inputs (dict): Input dictionary for the gear.\n",
    "        dest (flywheel.container): A Flywheel Container where the output will be stored.\n",
    "        \n",
    "    Returns:\n",
    "        str: The id of the submitted job.\n",
    "        \n",
    "    \"\"\"\n",
    "    try:\n",
    "        # Run the gear on the inputs provided, stored output in dest constainer and returns job ID\n",
    "        gear_job_id = gear.run(inputs=inputs, destination=dest)\n",
    "        log.debug('Submitted job %s', gear_job_id)\n",
    "        return gear_job_id\n",
    "    except flywheel.rest.ApiException:\n",
    "        log.exception('An exception was raised when attempting to submit a job for %s',\n",
    "                      file_obj.name)"
   ]
  },
  {
   "cell_type": "markdown",
   "metadata": {},
   "source": [
    "## Main Scripts"
   ]
  },
  {
   "cell_type": "markdown",
   "metadata": {},
   "source": [
    "### Run DICOM-2-NifTI Gear"
   ]
  },
  {
   "cell_type": "markdown",
   "metadata": {},
   "source": [
    "We first retrieve the gear by looking it up:"
   ]
  },
  {
   "cell_type": "code",
   "execution_count": null,
   "metadata": {},
   "outputs": [],
   "source": [
    "dcm_2_nifti_gear =  fw.lookup('gears/dcm2niix')"
   ]
  },
  {
   "cell_type": "markdown",
   "metadata": {},
   "source": [
    "Then, for each acquisition container in each session container we:\n",
    "1. Get the dicom file and define it as `inputs`.\n",
    "2. Get the destination container (here defined as the parent container of the file, i.e. the Acquisition Container the file is in in this example). \n",
    "3. Submit the job."
   ]
  },
  {
   "cell_type": "code",
   "execution_count": null,
   "metadata": {},
   "outputs": [],
   "source": [
    "# Initialize dcm_2_nifti_job_list\n",
    "dcm_2_nifti_job_list = list()\n",
    "# Iterate over project sessions\n",
    "for session in project.sessions.iter():\n",
    "    # Iterate over sessions acquisition\n",
    "    for i, acq in enumerate(session.acquisitions.iter()):\n",
    "        for file_obj in acq.files:\n",
    "            # We only want DICOMs\n",
    "            if file_obj.type == 'dicom':\n",
    "                inputs = {'dcm2niix_input':file_obj}\n",
    "                dest = file_obj.parent\n",
    "                job_id = run_gear(dcm_2_nifti_gear, inputs, dest)\n",
    "                dcm_2_nifti_job_list.append(job_id)\n",
    "        if i > 5:\n",
    "            # we process only the first 5 acquisition in each session\n",
    "            break"
   ]
  },
  {
   "cell_type": "markdown",
   "metadata": {},
   "source": [
    "<div class=\"alert alert-block alert-info\">\n",
    "    <b>TIP:</b> The format for the <code>inputs</code> for a given gear is a dictionary of key-value pairs, where the key corresponds to the manifest input label (which can be found on the Flywheel Instance, see the figure below) and the value is the value of the item.\n",
    "</div>\n",
    "\n",
    "<img src=\"https://gitlab.com/flywheel-io/public/flywheel-tutorials/-/raw/master/python/assets/manifest-input-label.png\" >\n",
    "\n",
    "\n",
    "For `dicom-2-nifti` gear, the required manifest input label is `dcm2niix_input` and the value of the input is the `file_obj`."
   ]
  },
  {
   "cell_type": "markdown",
   "metadata": {},
   "source": [
    "### Run MRIQC Gear\n",
    "\n",
    "\n"
   ]
  },
  {
   "cell_type": "markdown",
   "metadata": {},
   "source": [
    "We can repeat the same operation for the MRIQC gear."
   ]
  },
  {
   "cell_type": "code",
   "execution_count": null,
   "metadata": {},
   "outputs": [],
   "source": [
    "mriqc_gear = fw.lookup('gears/mriqc')"
   ]
  },
  {
   "cell_type": "code",
   "execution_count": null,
   "metadata": {},
   "outputs": [],
   "source": [
    "# Initialize mriqc_job_list\n",
    "mriqc_job_list = list()\n",
    "# Iterate over project sessions\n",
    "for session in project.sessions.iter():\n",
    "    # Iterate over sessions acquisition\n",
    "    for i, acq in enumerate(session.acquisitions.iter()):\n",
    "        for file_obj in acq.files:\n",
    "            # We only want DICOMs\n",
    "            if file_obj.type == 'nifti':\n",
    "                inputs = {'nifti':file_obj}\n",
    "                dest = file_obj.parent\n",
    "                job_id = run_gear(mriqc_gear, inputs, dest)\n",
    "                mriqc_job_list.append(job_id)\n",
    "            if i > 5:\n",
    "                break"
   ]
  },
  {
   "cell_type": "markdown",
   "metadata": {},
   "source": [
    "<div class=\"alert alert-block alert-warning\">\n",
    "    <b>NOTE</b>: This gear might takes more than 5 minutes to execute.\n",
    "</div>\n"
   ]
  },
  {
   "cell_type": "markdown",
   "metadata": {},
   "source": [
    "## Checking Job Status"
   ]
  },
  {
   "cell_type": "markdown",
   "metadata": {},
   "source": [
    "You can check your job status by using the `get_job()` method."
   ]
  },
  {
   "cell_type": "code",
   "execution_count": null,
   "metadata": {},
   "outputs": [],
   "source": [
    "for job in mriqc_job_list:\n",
    "    job_info = fw.get_job(job)\n",
    "    log.info('Submitted Job Status: %s', job_info.state)"
   ]
  },
  {
   "cell_type": "markdown",
   "metadata": {},
   "source": [
    "You can also check the job status on the Flywheel Instance as well. \n",
    "\n",
    "This can be done on the `Provenance` tab as shown on the snippets below:\n",
    "\n",
    "<img src=\"https://gitlab.com/flywheel-io/public/flywheel-tutorials/-/raw/batch-run-gears/python/assets/check-gear-status.png\">\n",
    "\n",
    "\n",
    "You can also find other gears' status that have been completed earlier. "
   ]
  },
  {
   "cell_type": "markdown",
   "metadata": {},
   "source": [
    "***"
   ]
  },
  {
   "cell_type": "markdown",
   "metadata": {},
   "source": [
    "# Gear Outputs"
   ]
  },
  {
   "cell_type": "markdown",
   "metadata": {},
   "source": [
    "## Output on the Flywheel Instance\n",
    "On the `Provenance` tab, you can also find out the output name that generated after the job has been processed. These output files can be downloaded or viewed from the UI as shown below:\n",
    "\n",
    "\n",
    "<img src=\"https://gitlab.com/flywheel-io/public/flywheel-tutorials/-/raw/master/python/assets/download-view-output-file-pt1.png\" style=\"max-height: 500px; max-width: 500px;\" >\n",
    "<img src=\"https://gitlab.com/flywheel-io/public/flywheel-tutorials/-/raw/master/python/assets/download-view-output-file-pt2.png\"style=\"max-height: 500px; max-width: 500px;\" >\n",
    "\n",
    "\n"
   ]
  },
  {
   "cell_type": "markdown",
   "metadata": {},
   "source": [
    "## Download/View Output with SDK "
   ]
  },
  {
   "cell_type": "markdown",
   "metadata": {},
   "source": [
    "You can also view or download all of the outputs to your destination path\n",
    "\n",
    "In this section, we will be demonstrating how to download all of the outputs that were generated from the `mriqc` Gears by our batch run."
   ]
  },
  {
   "cell_type": "code",
   "execution_count": null,
   "metadata": {},
   "outputs": [],
   "source": [
    "# Path where the input files will be download\n",
    "PATH_TO_DOWNLOAD = Path('results')\n",
    "PATH_TO_DOWNLOAD.mkdir(exist_ok=True, parents=True)"
   ]
  },
  {
   "cell_type": "code",
   "execution_count": null,
   "metadata": {},
   "outputs": [],
   "source": [
    "# Iterate over project sessions\n",
    "for session in project.sessions.iter():\n",
    "    session = session.reload()\n",
    "    # Create a new directory for each session\n",
    "    session_path = PATH_TO_DOWNLOAD / session.label\n",
    "    # Here we will create the session directory if it does not exist in the path\n",
    "    session_path.mkdir(exist_ok=True, parents=True)\n",
    "    # Iterate over the acquisitions containers\n",
    "    for acq in session.acquisitions.iter():\n",
    "        for file_obj in acq.files:\n",
    "            # We only want QA \n",
    "            if file_obj.type == 'qa':\n",
    "                # Download the file to dest_path with the same file name on FW\n",
    "                dest_path = session_path / file_obj.name\n",
    "                # Here we will download the file if it is not there.\n",
    "                if not dest_path.exists():\n",
    "                    file_obj.download(dest_path)\n",
    "                else:\n",
    "                    print(\"File exists!\")    "
   ]
  },
  {
   "cell_type": "markdown",
   "metadata": {},
   "source": [
    "You can also generate a summary table of the QC values from each output file."
   ]
  },
  {
   "cell_type": "code",
   "execution_count": null,
   "metadata": {},
   "outputs": [],
   "source": [
    "# Create a new DataFrame\n",
    "mriqc_df = pd.DataFrame()\n",
    "\n",
    "# Path to directory you want to store the csv files\n",
    "dest_path = PATH_TO_DOWNLOAD"
   ]
  },
  {
   "cell_type": "code",
   "execution_count": null,
   "metadata": {},
   "outputs": [],
   "source": [
    "# Iterate over project sessions\n",
    "for session in project.sessions.iter():\n",
    "    session = session.reload()\n",
    "    # Iterate all the acquisitions container\n",
    "    for acq in session.acquisitions.iter():\n",
    "        acq = acq.reload()\n",
    "        for file_obj in acq.files:\n",
    "            # We only want QA \n",
    "            if file_obj.type == 'qa':\n",
    "                tmp_dict = {}\n",
    "                for info, value in file_obj.info.items():\n",
    "                    # This is used to check if the value is a dictionary and whether they are bids metadata\n",
    "                    if isinstance(value, dict) and info == \"bids_meta\":\n",
    "                        tmp_dict.update(value)\n",
    "                    elif isinstance(value, dict) == False:\n",
    "                        tmp_dict[info] = value\n",
    "\n",
    "                # Appending all of the info into the DataFrame\n",
    "                mriqc_df = mriqc_df.append(tmp_dict, ignore_index=True).drop(\n",
    "                    \"dataset\", axis=1\n",
    "                )\n",
    "                    "
   ]
  },
  {
   "cell_type": "code",
   "execution_count": null,
   "metadata": {},
   "outputs": [],
   "source": [
    "# Create a new path with desired CSV file name\n",
    "dest_path = PATH_TO_DOWNLOAD / \"mriqc_output.csv\"\n",
    "\n",
    "# Display the DataFrame\n",
    "display(mriqc_df)\n",
    "\n",
    "# Convert DF to CSV file and save to the path initialize earlier\n",
    "mriqc_df.to_csv(dest_path, index=False)"
   ]
  },
  {
   "cell_type": "markdown",
   "metadata": {},
   "source": [
    "***"
   ]
  },
  {
   "cell_type": "markdown",
   "metadata": {},
   "source": [
    "<span id=\"gear_rule_note\"></span>\n",
    "# Gear Rules VS Batch Run Gears"
   ]
  },
  {
   "cell_type": "markdown",
   "metadata": {},
   "source": [
    "With Gear Rules, you can automatically run the gears above when new data is added to a project."
   ]
  },
  {
   "cell_type": "markdown",
   "metadata": {},
   "source": [
    "<div class=\"alert alert-block alert-info\">\n",
    "    <b>TIP:</b> A default Gear Rules might have already set up for the gears above, this can be found in the <code>Gear Rules</code> tab in your project container.\n",
    "</div>"
   ]
  },
  {
   "cell_type": "markdown",
   "metadata": {},
   "source": [
    "However, Gear Rules can not be applied to gears that use Flywheel SDK unless these gears have the <a href=\"https://github.com/flywheel-io/gears/tree/master/spec#api-keys\">`read-only` key</a> added to them. Click <a href=\"https://docs.flywheel.io/hc/en-us/articles/360039790914-Can-I-choose-an-analysis-gear-in-a-Gear-Rule-\" >here</a> to read more about this topic."
   ]
  },
  {
   "cell_type": "markdown",
   "metadata": {},
   "source": [
    "<div class=\"alert alert-block alert-info\">\n",
    "    <b>TIP:</b> To learn more about gear rules and how to use them, please visit our documentations <a href=\"https://docs.flywheel.io/hc/en-us/articles/360008553133-Project-Gear-Rules\" style=\"color:black\">here</a>.\n",
    "\n",
    "</div>"
   ]
  },
  {
   "cell_type": "markdown",
   "metadata": {},
   "source": [
    "***"
   ]
  }
 ],
 "metadata": {
  "kernelspec": {
   "display_name": "Python 3",
   "language": "python",
   "name": "python3"
  },
  "language_info": {
   "codemirror_mode": {
    "name": "ipython",
    "version": 3
   },
   "file_extension": ".py",
   "mimetype": "text/x-python",
   "name": "python",
   "nbconvert_exporter": "python",
   "pygments_lexer": "ipython3",
   "version": "3.7.6"
  }
 },
 "nbformat": 4,
 "nbformat_minor": 4
}
