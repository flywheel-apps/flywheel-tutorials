{
  "nbformat": 4,
  "nbformat_minor": 0,
  "metadata": {
    "colab": {
      "provenance": []
    },
    "kernelspec": {
      "name": "python3",
      "display_name": "Python 3"
    },
    "language_info": {
      "name": "python"
    }
  },
  "cells": [
    {
      "cell_type": "markdown",
      "source": [
        "# Illustrate reading CSV files within Dataviews in the SDK\n",
        "\n",
        "Flywheel v16.8 or higher\n",
        "\n",
        "This notebook shows the approach for loading CSV files into a dataview.\n",
        "\n",
        "See the online SDK help for more details: https://flywheel-io.gitlab.io/product/backend/sdk/branches/master/python/data_views.html#files\n",
        "\n"
      ],
      "metadata": {
        "id": "-mgvQHHx2cgk"
      }
    },
    {
      "cell_type": "markdown",
      "source": [
        "## Install SDK and start client"
      ],
      "metadata": {
        "id": "p5ccwpkZ3I5c"
      }
    },
    {
      "cell_type": "code",
      "execution_count": null,
      "metadata": {
        "colab": {
          "base_uri": "https://localhost:8080/"
        },
        "id": "bmPklET52U38",
        "outputId": "d1627749-f07a-42c0-bd51-a985834e2c51"
      },
      "outputs": [
        {
          "output_type": "stream",
          "name": "stdout",
          "text": [
            "Looking in indexes: https://pypi.org/simple, https://us-python.pkg.dev/colab-wheels/public/simple/\n",
            "Collecting flywheel-sdk\n",
            "  Downloading flywheel_sdk-16.15.9-py2.py3-none-any.whl (1.0 MB)\n",
            "\u001b[2K     \u001b[90m━━━━━━━━━━━━━━━━━━━━━━━━━━━━━━━━━━━━━━━━\u001b[0m \u001b[32m1.0/1.0 MB\u001b[0m \u001b[31m9.6 MB/s\u001b[0m eta \u001b[36m0:00:00\u001b[0m\n",
            "\u001b[?25hRequirement already satisfied: six>=1.10 in /usr/local/lib/python3.8/dist-packages (from flywheel-sdk) (1.15.0)\n",
            "Requirement already satisfied: packaging in /usr/local/lib/python3.8/dist-packages (from flywheel-sdk) (23.0)\n",
            "Requirement already satisfied: requests>=2.18.4 in /usr/local/lib/python3.8/dist-packages (from flywheel-sdk) (2.25.1)\n",
            "Requirement already satisfied: urllib3>=1.15 in /usr/local/lib/python3.8/dist-packages (from flywheel-sdk) (1.24.3)\n",
            "Requirement already satisfied: python-dateutil in /usr/local/lib/python3.8/dist-packages (from flywheel-sdk) (2.8.2)\n",
            "Requirement already satisfied: certifi in /usr/local/lib/python3.8/dist-packages (from flywheel-sdk) (2022.12.7)\n",
            "Collecting requests-toolbelt\n",
            "  Downloading requests_toolbelt-0.10.1-py2.py3-none-any.whl (54 kB)\n",
            "\u001b[2K     \u001b[90m━━━━━━━━━━━━━━━━━━━━━━━━━━━━━━━━━━━━━━━━\u001b[0m \u001b[32m54.5/54.5 KB\u001b[0m \u001b[31m3.7 MB/s\u001b[0m eta \u001b[36m0:00:00\u001b[0m\n",
            "\u001b[?25hRequirement already satisfied: chardet<5,>=3.0.2 in /usr/local/lib/python3.8/dist-packages (from requests>=2.18.4->flywheel-sdk) (4.0.0)\n",
            "Requirement already satisfied: idna<3,>=2.5 in /usr/local/lib/python3.8/dist-packages (from requests>=2.18.4->flywheel-sdk) (2.10)\n",
            "Installing collected packages: requests-toolbelt, flywheel-sdk\n",
            "Successfully installed flywheel-sdk-16.15.9 requests-toolbelt-0.10.1\n"
          ]
        }
      ],
      "source": [
        "!pip install flywheel-sdk"
      ]
    },
    {
      "cell_type": "code",
      "source": [
        "import pandas as pd"
      ],
      "metadata": {
        "id": "0ACtXvzmHhdV"
      },
      "execution_count": null,
      "outputs": []
    },
    {
      "cell_type": "code",
      "source": [
        "import flywheel\n",
        "from getpass import getpass\n",
        "try:\n",
        "    with open(\"api_key.txt\") as file:\n",
        "      api_key = file.read()\n",
        "except FileNotFoundError:\n",
        "    api_key = getpass(\"Enter your Flywheel API Key:\")\n",
        "    with open(\"api_key.txt\",'w') as file:\n",
        "      file.write(api_key)"
      ],
      "metadata": {
        "id": "MT79ZAGv3Q1r",
        "colab": {
          "base_uri": "https://localhost:8080/"
        },
        "outputId": "6adacb27-e311-4249-aa9c-55087b62105e"
      },
      "execution_count": null,
      "outputs": [
        {
          "name": "stdout",
          "output_type": "stream",
          "text": [
            "Enter your Flywheel API Key:··········\n"
          ]
        }
      ]
    },
    {
      "cell_type": "code",
      "source": [
        "fw = flywheel.Client(api_key)\n",
        "self = fw.get_current_user()\n",
        "config = fw.get_config()\n",
        "print('I am %s %s, connected to %s.' % (self.firstname, self.lastname, config['site']['api_url']))\n",
        "version = fw.get_version()\n",
        "print('Flywheel release: %s\\nCLI version: %s\\nDatabase version: %s' % (version.flywheel_release, version.cli_version, version.database))\n",
        "\n",
        "print(\"API Docs:\", config['site']['api_url']+\"/docs\")"
      ],
      "metadata": {
        "id": "i_CQORVT3m_7"
      },
      "execution_count": null,
      "outputs": []
    },
    {
      "cell_type": "code",
      "source": [],
      "metadata": {
        "id": "bt-MDBrn1KsM"
      },
      "execution_count": null,
      "outputs": []
    },
    {
      "cell_type": "markdown",
      "source": [
        "# Set up the Example Project\n"
      ],
      "metadata": {
        "id": "QTA8hOrftnZA"
      }
    },
    {
      "cell_type": "code",
      "source": [
        "GROUP_ID = 'fmm'\n",
        "PROJECT_LABEL = 'Test Dataview CSV File Reads'"
      ],
      "metadata": {
        "id": "LFbVG2XatrgV"
      },
      "execution_count": null,
      "outputs": []
    },
    {
      "cell_type": "code",
      "source": [
        "my_group = fw.lookup(GROUP_ID)\n",
        "\n",
        "\n",
        "project = my_group.projects.find_first(f'label={PROJECT_LABEL}')\n",
        "if not project: \n",
        "    project=my_group.add_project(label=PROJECT_LABEL)\n",
        "    print(\"Project Created\")\n",
        "else:\n",
        "  print(\"That project is already taken\")"
      ],
      "metadata": {
        "colab": {
          "base_uri": "https://localhost:8080/"
        },
        "id": "YUqYBSQVuJOe",
        "outputId": "444d2399-1e4f-4436-ec5b-38de8258a124"
      },
      "execution_count": null,
      "outputs": [
        {
          "output_type": "stream",
          "name": "stdout",
          "text": [
            "Project Created\n"
          ]
        }
      ]
    },
    {
      "cell_type": "markdown",
      "source": [
        "### Add some files at the subject level\n",
        "We are going to use some csv files that is provided within the colab notebook under the 'sample data' directory - 'california_housing_train.csv'"
      ],
      "metadata": {
        "id": "SIz9AfxbGfWX"
      }
    },
    {
      "cell_type": "code",
      "source": [
        "df = pd.read_csv('/content/sample_data/california_housing_train.csv')\n",
        "df.columns=['file_X1', 'file_X2', 'file_X3', 'file_X4', 'file_X5', 'file_X6', 'file_X7', 'file_X8', 'file_X9']\n",
        "df.to_csv('data_file.csv')"
      ],
      "metadata": {
        "id": "e654dqBAHZFu"
      },
      "execution_count": null,
      "outputs": []
    },
    {
      "cell_type": "code",
      "source": [
        "#Create 10 subjects and put a file under each\n",
        "for s in range(0,10):\n",
        "  subject_dict ={}\n",
        "  subject_dict['label'] = \"Subject\" + str(s)\n",
        "  subject = project.add_subject(subject_dict)\n",
        "  subject = subject.reload()\n",
        "  subject.upload_file('data_file.csv')"
      ],
      "metadata": {
        "id": "7jaLHsY9v4kM"
      },
      "execution_count": null,
      "outputs": []
    },
    {
      "cell_type": "markdown",
      "source": [
        "# Create and Run the Data View"
      ],
      "metadata": {
        "id": "FlpMihK7MoWq"
      }
    },
    {
      "cell_type": "markdown",
      "source": [
        "### What columns do we want from the csv file?\n",
        "\n",
        "Requires consistency in file and column naming\n"
      ],
      "metadata": {
        "id": "l2n14dZGHHkx"
      }
    },
    {
      "cell_type": "code",
      "source": [
        "csv_columns = ['file_X1', 'file_X3', 'file_X5', 'file_X7', 'file_X9']"
      ],
      "metadata": {
        "id": "TbEqWl9FJApM"
      },
      "execution_count": null,
      "outputs": []
    },
    {
      "cell_type": "markdown",
      "source": [
        "## Create the dataview"
      ],
      "metadata": {
        "id": "_SxHFG5R2n0l"
      }
    },
    {
      "cell_type": "code",
      "source": [
        "#pick the columns in the metadata\n",
        "columns = ['subject.label',\n",
        "           'file.file_id',\n",
        "           'file.name' ] "
      ],
      "metadata": {
        "id": "wySS2Ss6zLod"
      },
      "execution_count": null,
      "outputs": []
    },
    {
      "cell_type": "code",
      "source": [
        "# Specify the dataview\n",
        "builder = flywheel.ViewBuilder(label='SDK CSV Aggregation',\n",
        "                              columns = columns,\n",
        "                              container='subject', #Needed for file metadata\n",
        "                              filename='data_file.csv', # Needed for file metadata\n",
        "                              match='newest',\n",
        "                              process_files=True,\n",
        "                              include_ids=False,\n",
        "                              include_labels=False,\n",
        "                              sort=False,\n",
        "                              )\n"
      ],
      "metadata": {
        "id": "zfvJ9CQ-4n5U"
      },
      "execution_count": null,
      "outputs": []
    },
    {
      "cell_type": "code",
      "source": [
        "#Use the newest file if there are dups in the match\n",
        "#builder.file_match('newest')\n",
        "\n"
      ],
      "metadata": {
        "id": "H707TZhq5lnp"
      },
      "execution_count": null,
      "outputs": []
    },
    {
      "cell_type": "code",
      "source": [
        "#Add our CSV columns to the builder\n",
        "for c in csv_columns:\n",
        "  builder.file_column(c, type='float')\n"
      ],
      "metadata": {
        "id": "ObPuFOyHBe0Z"
      },
      "execution_count": null,
      "outputs": []
    },
    {
      "cell_type": "code",
      "source": [
        "# Create the dataview specification\n",
        "sdk_dataview = builder.build()"
      ],
      "metadata": {
        "id": "SBk8tv0E5HrG"
      },
      "execution_count": null,
      "outputs": []
    },
    {
      "cell_type": "code",
      "source": [
        "# Create the Dataview in Flywheel\n",
        "view_id = fw.add_view(project.id, sdk_dataview)"
      ],
      "metadata": {
        "id": "jUAdMp7D5gSl"
      },
      "execution_count": null,
      "outputs": []
    },
    {
      "cell_type": "code",
      "source": [
        "#Create the dataview and execute it, waiting for return\n",
        "#This may take a couple minutes\n",
        "df = fw.read_view_dataframe(sdk_dataview, project.id)"
      ],
      "metadata": {
        "id": "BjllrvnC6VNb"
      },
      "execution_count": null,
      "outputs": []
    },
    {
      "cell_type": "code",
      "source": [
        "df"
      ],
      "metadata": {
        "colab": {
          "base_uri": "https://localhost:8080/"
        },
        "id": "phh8UTgo7bFu",
        "outputId": "a16216a4-cc6f-4d9d-ec3f-308f79e8b24d"
      },
      "execution_count": null,
      "outputs": [
        {
          "output_type": "execute_result",
          "data": {
            "text/plain": [
              "       subject.label              file.file_id      file.name  file_X1  \\\n",
              "0           Subject0  63e423a417c0b262ffe542be  data_file.csv  -114.31   \n",
              "1           Subject0  63e423a417c0b262ffe542be  data_file.csv  -114.47   \n",
              "2           Subject0  63e423a417c0b262ffe542be  data_file.csv  -114.56   \n",
              "3           Subject0  63e423a417c0b262ffe542be  data_file.csv  -114.57   \n",
              "4           Subject0  63e423a417c0b262ffe542be  data_file.csv  -114.57   \n",
              "...              ...                       ...            ...      ...   \n",
              "169995      Subject9  63e423ac17c0b262ffe542c7  data_file.csv  -124.26   \n",
              "169996      Subject9  63e423ac17c0b262ffe542c7  data_file.csv  -124.27   \n",
              "169997      Subject9  63e423ac17c0b262ffe542c7  data_file.csv  -124.30   \n",
              "169998      Subject9  63e423ac17c0b262ffe542c7  data_file.csv  -124.30   \n",
              "169999      Subject9  63e423ac17c0b262ffe542c7  data_file.csv  -124.35   \n",
              "\n",
              "        file_X3  file_X5  file_X7  file_X9 errors  \n",
              "0            15     1283      472    66900         \n",
              "1            19     1901      463    80100         \n",
              "2            17      174      117    85700         \n",
              "3            14      337      226    73400         \n",
              "4            20      326      262    65500         \n",
              "...         ...      ...      ...      ...    ...  \n",
              "169995       52      394      369   111400         \n",
              "169996       36      528      465    79000         \n",
              "169997       17      531      456   103600         \n",
              "169998       19      552      478    85800         \n",
              "169999       52      300      270    94600         \n",
              "\n",
              "[170000 rows x 9 columns]"
            ],
            "text/html": [
              "\n",
              "  <div id=\"df-889cb65e-582e-4568-83e5-72dde832c63f\">\n",
              "    <div class=\"colab-df-container\">\n",
              "      <div>\n",
              "<style scoped>\n",
              "    .dataframe tbody tr th:only-of-type {\n",
              "        vertical-align: middle;\n",
              "    }\n",
              "\n",
              "    .dataframe tbody tr th {\n",
              "        vertical-align: top;\n",
              "    }\n",
              "\n",
              "    .dataframe thead th {\n",
              "        text-align: right;\n",
              "    }\n",
              "</style>\n",
              "<table border=\"1\" class=\"dataframe\">\n",
              "  <thead>\n",
              "    <tr style=\"text-align: right;\">\n",
              "      <th></th>\n",
              "      <th>subject.label</th>\n",
              "      <th>file.file_id</th>\n",
              "      <th>file.name</th>\n",
              "      <th>file_X1</th>\n",
              "      <th>file_X3</th>\n",
              "      <th>file_X5</th>\n",
              "      <th>file_X7</th>\n",
              "      <th>file_X9</th>\n",
              "      <th>errors</th>\n",
              "    </tr>\n",
              "  </thead>\n",
              "  <tbody>\n",
              "    <tr>\n",
              "      <th>0</th>\n",
              "      <td>Subject0</td>\n",
              "      <td>63e423a417c0b262ffe542be</td>\n",
              "      <td>data_file.csv</td>\n",
              "      <td>-114.31</td>\n",
              "      <td>15</td>\n",
              "      <td>1283</td>\n",
              "      <td>472</td>\n",
              "      <td>66900</td>\n",
              "      <td></td>\n",
              "    </tr>\n",
              "    <tr>\n",
              "      <th>1</th>\n",
              "      <td>Subject0</td>\n",
              "      <td>63e423a417c0b262ffe542be</td>\n",
              "      <td>data_file.csv</td>\n",
              "      <td>-114.47</td>\n",
              "      <td>19</td>\n",
              "      <td>1901</td>\n",
              "      <td>463</td>\n",
              "      <td>80100</td>\n",
              "      <td></td>\n",
              "    </tr>\n",
              "    <tr>\n",
              "      <th>2</th>\n",
              "      <td>Subject0</td>\n",
              "      <td>63e423a417c0b262ffe542be</td>\n",
              "      <td>data_file.csv</td>\n",
              "      <td>-114.56</td>\n",
              "      <td>17</td>\n",
              "      <td>174</td>\n",
              "      <td>117</td>\n",
              "      <td>85700</td>\n",
              "      <td></td>\n",
              "    </tr>\n",
              "    <tr>\n",
              "      <th>3</th>\n",
              "      <td>Subject0</td>\n",
              "      <td>63e423a417c0b262ffe542be</td>\n",
              "      <td>data_file.csv</td>\n",
              "      <td>-114.57</td>\n",
              "      <td>14</td>\n",
              "      <td>337</td>\n",
              "      <td>226</td>\n",
              "      <td>73400</td>\n",
              "      <td></td>\n",
              "    </tr>\n",
              "    <tr>\n",
              "      <th>4</th>\n",
              "      <td>Subject0</td>\n",
              "      <td>63e423a417c0b262ffe542be</td>\n",
              "      <td>data_file.csv</td>\n",
              "      <td>-114.57</td>\n",
              "      <td>20</td>\n",
              "      <td>326</td>\n",
              "      <td>262</td>\n",
              "      <td>65500</td>\n",
              "      <td></td>\n",
              "    </tr>\n",
              "    <tr>\n",
              "      <th>...</th>\n",
              "      <td>...</td>\n",
              "      <td>...</td>\n",
              "      <td>...</td>\n",
              "      <td>...</td>\n",
              "      <td>...</td>\n",
              "      <td>...</td>\n",
              "      <td>...</td>\n",
              "      <td>...</td>\n",
              "      <td>...</td>\n",
              "    </tr>\n",
              "    <tr>\n",
              "      <th>169995</th>\n",
              "      <td>Subject9</td>\n",
              "      <td>63e423ac17c0b262ffe542c7</td>\n",
              "      <td>data_file.csv</td>\n",
              "      <td>-124.26</td>\n",
              "      <td>52</td>\n",
              "      <td>394</td>\n",
              "      <td>369</td>\n",
              "      <td>111400</td>\n",
              "      <td></td>\n",
              "    </tr>\n",
              "    <tr>\n",
              "      <th>169996</th>\n",
              "      <td>Subject9</td>\n",
              "      <td>63e423ac17c0b262ffe542c7</td>\n",
              "      <td>data_file.csv</td>\n",
              "      <td>-124.27</td>\n",
              "      <td>36</td>\n",
              "      <td>528</td>\n",
              "      <td>465</td>\n",
              "      <td>79000</td>\n",
              "      <td></td>\n",
              "    </tr>\n",
              "    <tr>\n",
              "      <th>169997</th>\n",
              "      <td>Subject9</td>\n",
              "      <td>63e423ac17c0b262ffe542c7</td>\n",
              "      <td>data_file.csv</td>\n",
              "      <td>-124.30</td>\n",
              "      <td>17</td>\n",
              "      <td>531</td>\n",
              "      <td>456</td>\n",
              "      <td>103600</td>\n",
              "      <td></td>\n",
              "    </tr>\n",
              "    <tr>\n",
              "      <th>169998</th>\n",
              "      <td>Subject9</td>\n",
              "      <td>63e423ac17c0b262ffe542c7</td>\n",
              "      <td>data_file.csv</td>\n",
              "      <td>-124.30</td>\n",
              "      <td>19</td>\n",
              "      <td>552</td>\n",
              "      <td>478</td>\n",
              "      <td>85800</td>\n",
              "      <td></td>\n",
              "    </tr>\n",
              "    <tr>\n",
              "      <th>169999</th>\n",
              "      <td>Subject9</td>\n",
              "      <td>63e423ac17c0b262ffe542c7</td>\n",
              "      <td>data_file.csv</td>\n",
              "      <td>-124.35</td>\n",
              "      <td>52</td>\n",
              "      <td>300</td>\n",
              "      <td>270</td>\n",
              "      <td>94600</td>\n",
              "      <td></td>\n",
              "    </tr>\n",
              "  </tbody>\n",
              "</table>\n",
              "<p>170000 rows × 9 columns</p>\n",
              "</div>\n",
              "      <button class=\"colab-df-convert\" onclick=\"convertToInteractive('df-889cb65e-582e-4568-83e5-72dde832c63f')\"\n",
              "              title=\"Convert this dataframe to an interactive table.\"\n",
              "              style=\"display:none;\">\n",
              "        \n",
              "  <svg xmlns=\"http://www.w3.org/2000/svg\" height=\"24px\"viewBox=\"0 0 24 24\"\n",
              "       width=\"24px\">\n",
              "    <path d=\"M0 0h24v24H0V0z\" fill=\"none\"/>\n",
              "    <path d=\"M18.56 5.44l.94 2.06.94-2.06 2.06-.94-2.06-.94-.94-2.06-.94 2.06-2.06.94zm-11 1L8.5 8.5l.94-2.06 2.06-.94-2.06-.94L8.5 2.5l-.94 2.06-2.06.94zm10 10l.94 2.06.94-2.06 2.06-.94-2.06-.94-.94-2.06-.94 2.06-2.06.94z\"/><path d=\"M17.41 7.96l-1.37-1.37c-.4-.4-.92-.59-1.43-.59-.52 0-1.04.2-1.43.59L10.3 9.45l-7.72 7.72c-.78.78-.78 2.05 0 2.83L4 21.41c.39.39.9.59 1.41.59.51 0 1.02-.2 1.41-.59l7.78-7.78 2.81-2.81c.8-.78.8-2.07 0-2.86zM5.41 20L4 18.59l7.72-7.72 1.47 1.35L5.41 20z\"/>\n",
              "  </svg>\n",
              "      </button>\n",
              "      \n",
              "  <style>\n",
              "    .colab-df-container {\n",
              "      display:flex;\n",
              "      flex-wrap:wrap;\n",
              "      gap: 12px;\n",
              "    }\n",
              "\n",
              "    .colab-df-convert {\n",
              "      background-color: #E8F0FE;\n",
              "      border: none;\n",
              "      border-radius: 50%;\n",
              "      cursor: pointer;\n",
              "      display: none;\n",
              "      fill: #1967D2;\n",
              "      height: 32px;\n",
              "      padding: 0 0 0 0;\n",
              "      width: 32px;\n",
              "    }\n",
              "\n",
              "    .colab-df-convert:hover {\n",
              "      background-color: #E2EBFA;\n",
              "      box-shadow: 0px 1px 2px rgba(60, 64, 67, 0.3), 0px 1px 3px 1px rgba(60, 64, 67, 0.15);\n",
              "      fill: #174EA6;\n",
              "    }\n",
              "\n",
              "    [theme=dark] .colab-df-convert {\n",
              "      background-color: #3B4455;\n",
              "      fill: #D2E3FC;\n",
              "    }\n",
              "\n",
              "    [theme=dark] .colab-df-convert:hover {\n",
              "      background-color: #434B5C;\n",
              "      box-shadow: 0px 1px 3px 1px rgba(0, 0, 0, 0.15);\n",
              "      filter: drop-shadow(0px 1px 2px rgba(0, 0, 0, 0.3));\n",
              "      fill: #FFFFFF;\n",
              "    }\n",
              "  </style>\n",
              "\n",
              "      <script>\n",
              "        const buttonEl =\n",
              "          document.querySelector('#df-889cb65e-582e-4568-83e5-72dde832c63f button.colab-df-convert');\n",
              "        buttonEl.style.display =\n",
              "          google.colab.kernel.accessAllowed ? 'block' : 'none';\n",
              "\n",
              "        async function convertToInteractive(key) {\n",
              "          const element = document.querySelector('#df-889cb65e-582e-4568-83e5-72dde832c63f');\n",
              "          const dataTable =\n",
              "            await google.colab.kernel.invokeFunction('convertToInteractive',\n",
              "                                                     [key], {});\n",
              "          if (!dataTable) return;\n",
              "\n",
              "          const docLinkHtml = 'Like what you see? Visit the ' +\n",
              "            '<a target=\"_blank\" href=https://colab.research.google.com/notebooks/data_table.ipynb>data table notebook</a>'\n",
              "            + ' to learn more about interactive tables.';\n",
              "          element.innerHTML = '';\n",
              "          dataTable['output_type'] = 'display_data';\n",
              "          await google.colab.output.renderOutput(dataTable, element);\n",
              "          const docLink = document.createElement('div');\n",
              "          docLink.innerHTML = docLinkHtml;\n",
              "          element.appendChild(docLink);\n",
              "        }\n",
              "      </script>\n",
              "    </div>\n",
              "  </div>\n",
              "  "
            ]
          },
          "metadata": {},
          "execution_count": 25
        }
      ]
    },
    {
      "cell_type": "markdown",
      "source": [
        "# Clean up the Flywheel Example Project"
      ],
      "metadata": {
        "id": "Vj1oQWlZPnfk"
      }
    },
    {
      "cell_type": "markdown",
      "source": [
        "### Delete the Dataview"
      ],
      "metadata": {
        "id": "pkknfm76U0V4"
      }
    },
    {
      "cell_type": "code",
      "source": [
        "for dv in fw.get_views(project.id):\n",
        "  print(dv.label,end='---> ')\n",
        "  if dv.label in ['SDK CSV Aggregation']:\n",
        "    fw.delete_view(dv.id)\n",
        "    print('deleted')\n",
        "  else:\n",
        "    print('remaining')"
      ],
      "metadata": {
        "colab": {
          "base_uri": "https://localhost:8080/"
        },
        "id": "HVjSL6RJB5s0",
        "outputId": "e2b4a8f2-24e9-4e30-cb78-ea2b8bff69bc"
      },
      "execution_count": null,
      "outputs": [
        {
          "output_type": "stream",
          "name": "stdout",
          "text": [
            "Files stats---> remaining\n",
            "File Stats 2---> remaining\n",
            "THIS IS A UX ISSUE---> remaining\n",
            "13605---> remaining\n",
            "SDK CSV Aggregation---> deleted\n"
          ]
        }
      ]
    },
    {
      "cell_type": "markdown",
      "source": [
        "### Delete the subjects and the project"
      ],
      "metadata": {
        "id": "l_oNh23BIi5q"
      }
    },
    {
      "cell_type": "code",
      "source": [
        "# Clean up subjects\n",
        "for s in range(0,10):\n",
        "\n",
        "  subject_label = \"Subject\" + str(s)\n",
        "  subject = project.subjects.find_first(f'label={subject_label}')\n",
        "  fw.delete_subject(subject['_id'])"
      ],
      "metadata": {
        "id": "DsGlsdnNzLbd"
      },
      "execution_count": null,
      "outputs": []
    },
    {
      "cell_type": "code",
      "source": [
        "#Clean up project\n",
        "fw.delete_project(project['_id'])"
      ],
      "metadata": {
        "colab": {
          "base_uri": "https://localhost:8080/"
        },
        "id": "SLCJwfW90PMg",
        "outputId": "75c0c71c-5dc5-4990-907b-fce6774b8c62"
      },
      "execution_count": null,
      "outputs": [
        {
          "output_type": "execute_result",
          "data": {
            "text/plain": [
              "{'deleted': 1}"
            ]
          },
          "metadata": {},
          "execution_count": 11
        }
      ]
    },
    {
      "cell_type": "code",
      "source": [],
      "metadata": {
        "id": "To1rYiZrDAVe"
      },
      "execution_count": null,
      "outputs": []
    }
  ]
}