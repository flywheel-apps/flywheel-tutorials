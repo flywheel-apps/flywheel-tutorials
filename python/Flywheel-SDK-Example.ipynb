{
 "cells": [
  {
   "cell_type": "markdown",
   "metadata": {},
   "source": [
    "**Title**: Flywheel SDK Example\n",
    "\n",
    "**Date**:  April 24th 2020 \n",
    "\n",
    "**Description**: \n",
    "This notebook is used to showcase a live version of commands used in the Flywheel SDK Documentation [Examples](https://flywheel-io.gitlab.io/product/backend/sdk/branches/master/python/examples.html#examples) section."
   ]
  },
  {
   "cell_type": "markdown",
   "metadata": {
    "colab_type": "text",
    "id": "ay1WSTNnycu9"
   },
   "source": [
    "# Install and Import Dependencies"
   ]
  },
  {
   "cell_type": "code",
   "execution_count": null,
   "metadata": {
    "colab": {
     "base_uri": "https://localhost:8080/",
     "height": 292
    },
    "colab_type": "code",
    "id": "TvSB-YzJycd9",
    "outputId": "88896fc2-0cd1-4745-d1d7-5752fae84b64"
   },
   "outputs": [],
   "source": [
    "# Install specific packages required for this notebook\n",
    "!pip install flywheel-sdk "
   ]
  },
  {
   "cell_type": "code",
   "execution_count": 37,
   "metadata": {
    "colab": {},
    "colab_type": "code",
    "id": "wgIDvfT3yi2B"
   },
   "outputs": [],
   "source": [
    "# Import packages\n",
    "from getpass import getpass\n",
    "from pathlib import Path\n",
    "import os\n",
    "import logging\n",
    "\n",
    "import pandas as pd\n",
    "import flywheel\n"
   ]
  },
  {
   "cell_type": "code",
   "execution_count": 2,
   "metadata": {
    "colab": {},
    "colab_type": "code",
    "id": "ZtWGHIEBykZz"
   },
   "outputs": [],
   "source": [
    "# Instantiate a logger\n",
    "logging.basicConfig(level=logging.INFO, format='%(asctime)s %(levelname)s %(message)s')\n",
    "log = logging.getLogger('root')"
   ]
  },
  {
   "cell_type": "markdown",
   "metadata": {
    "colab_type": "text",
    "id": "RAnUF3QkynxV"
   },
   "source": [
    "# Flywheel API Key and Client"
   ]
  },
  {
   "cell_type": "markdown",
   "metadata": {
    "colab_type": "text",
    "id": "P8a20roWpFB-"
   },
   "source": [
    "Get a API_KEY. More on this at in the Flywheel SDK doc [here](https://flywheel-io.gitlab.io/product/backend/sdk/branches/master/python/getting_started.html#api-key)."
   ]
  },
  {
   "cell_type": "code",
   "execution_count": 7,
   "metadata": {
    "colab": {
     "base_uri": "https://localhost:8080/",
     "height": 34
    },
    "colab_type": "code",
    "id": "LWkEZ-JTpFB-",
    "outputId": "47a9c115-7839-404b-b73c-69e57887ad5c"
   },
   "outputs": [
    {
     "name": "stdout",
     "output_type": "stream",
     "text": [
      "Enter API_KEY here: ··········\n"
     ]
    }
   ],
   "source": [
    "API_KEY = getpass('Enter API_KEY here: ')"
   ]
  },
  {
   "cell_type": "markdown",
   "metadata": {
    "colab_type": "text",
    "id": "yl1SuWIdpFCB"
   },
   "source": [
    "Instantiate the Flywheel API client"
   ]
  },
  {
   "cell_type": "code",
   "execution_count": 6,
   "metadata": {
    "colab": {},
    "colab_type": "code",
    "id": "yW3kAGFPpFCB"
   },
   "outputs": [],
   "source": [
    "fw = flywheel.Client(API_KEY or os.environ.get('FW_KEY'))"
   ]
  },
  {
   "cell_type": "markdown",
   "metadata": {
    "colab_type": "text",
    "id": "XPQg0AFey16p"
   },
   "source": [
    "Show Flywheel logging information"
   ]
  },
  {
   "cell_type": "code",
   "execution_count": null,
   "metadata": {
    "colab": {
     "base_uri": "https://localhost:8080/",
     "height": 54
    },
    "colab_type": "code",
    "id": "88-D948hy3uS",
    "outputId": "21183a89-d336-449b-aabd-df02adac3b55"
   },
   "outputs": [],
   "source": [
    "log.info('You are now logged in as %s to %s', fw.get_current_user()['email'], fw.get_config()['site']['api_url'])"
   ]
  },
  {
   "cell_type": "markdown",
   "metadata": {},
   "source": [
    "***"
   ]
  },
  {
   "cell_type": "markdown",
   "metadata": {},
   "source": [
    "# Group\n",
    "To learn more about different roles and respective permissions, please see [Permissions](https://flywheel-io.gitlab.io/product/backend/sdk/branches/master/python/data_model.html#data-model-permissions).\n",
    "\n",
    "<div class=\"alert alert-warning\" style=\"color:black\">\n",
    "    <title><b>Notes:</b> Be sure you have the right permission to run the cells below.</title>\n",
    "</div>"
   ]
  },
  {
   "cell_type": "markdown",
   "metadata": {},
   "source": [
    "## [Add a New Group](https://flywheel-io.gitlab.io/product/backend/sdk/branches/master/python/examples.html#add-group)\n",
    "\n",
    "Create a new group, with an id of `new_group` and a label of `New Group`:"
   ]
  },
  {
   "cell_type": "code",
   "execution_count": 18,
   "metadata": {},
   "outputs": [],
   "source": [
    "group_id = fw.add_group(flywheel.Group('new_group', 'New Group'))"
   ]
  },
  {
   "cell_type": "markdown",
   "metadata": {},
   "source": [
    "## [List Groups](https://flywheel-io.gitlab.io/product/backend/sdk/branches/master/python/examples.html#list-groups)\n",
    "\n",
    "List all Groups that you have access to:"
   ]
  },
  {
   "cell_type": "code",
   "execution_count": null,
   "metadata": {},
   "outputs": [],
   "source": [
    "for group in fw.groups():\n",
    "    print(f'Group Name/Label: {group.label}; Group ID: {group.id} ')"
   ]
  },
  {
   "cell_type": "markdown",
   "metadata": {},
   "source": [
    "## [Modify Group Tags](https://flywheel-io.gitlab.io/product/backend/sdk/branches/master/python/examples.html#modify-group-tags)\n",
    "\n",
    "In this example, you will be adding tags named `Control` and `Study` to a Group"
   ]
  },
  {
   "cell_type": "code",
   "execution_count": null,
   "metadata": {},
   "outputs": [],
   "source": [
    "for group in fw.groups():\n",
    "    if group.label == 'new_group':\n",
    "        # Get the group ID for `my_test_group` group label\n",
    "        group_id = group.id\n",
    "\n",
    "# Get the group container by using the group ID\n",
    "group = fw.get(group_id)\n",
    "\n",
    "# Add tag to the selected group \n",
    "group.add_tag('Control')\n",
    "group.add_tag('Study')\n",
    "\n",
    "# Reload is nessecary to load the entire container\n",
    "group = group.reload()\n",
    "\n",
    "# Printing all the tags available in the selected group\n",
    "print(', '.join(group.tags))\n"
   ]
  },
  {
   "cell_type": "markdown",
   "metadata": {},
   "source": [
    "\n",
    "<div class=\"alert alert-block alert-info\" >\n",
    "<b>Tip:</b> To learn more about different types of Containers and managing tags, files, notes or info, see <a href=\"https://flywheel-io.gitlab.io/product/backend/sdk/branches/master/python/data_model.html#data-model-containers\" style=\"color:black\">Containers</a>.</div>"
   ]
  },
  {
   "cell_type": "markdown",
   "metadata": {},
   "source": [
    "## [List Projects in Group](https://flywheel-io.gitlab.io/product/backend/sdk/branches/master/python/examples.html#list-projects-in-group)\n",
    "\n",
    "List all of the projects belonging to a Group.\n"
   ]
  },
  {
   "cell_type": "code",
   "execution_count": null,
   "metadata": {},
   "outputs": [],
   "source": [
    "for project in group.projects():\n",
    "    print(f'Project Label: {project.label}; Project ID: {project.id}')"
   ]
  },
  {
   "cell_type": "markdown",
   "metadata": {},
   "source": [
    "***"
   ]
  },
  {
   "cell_type": "markdown",
   "metadata": {
    "colab_type": "text",
    "id": "Pl8Hza6-yWeX"
   },
   "source": [
    "# Projects"
   ]
  },
  {
   "cell_type": "markdown",
   "metadata": {},
   "source": [
    "## [How to Create a New Project](https://flywheel-io.gitlab.io/product/backend/sdk/branches/master/python/examples.html#add-project)\n",
    "\n",
    "In this use case, you will be creating a new Project that belongs to the Group Label named `my_group` with a label of `new_project_label`. "
   ]
  },
  {
   "cell_type": "code",
   "execution_count": 19,
   "metadata": {},
   "outputs": [],
   "source": [
    "# Grab the group container\n",
    "my_group = fw.lookup('new_group')\n",
    "\n",
    "# Define the project label\n",
    "my_project_label = 'new_project_label'"
   ]
  },
  {
   "cell_type": "markdown",
   "metadata": {},
   "source": [
    "Then, you can use `add_project` method to create a new Project with the label you have pre-defined earlier. "
   ]
  },
  {
   "cell_type": "code",
   "execution_count": 20,
   "metadata": {},
   "outputs": [],
   "source": [
    "new_project = my_group.add_project(label = my_project_label)"
   ]
  },
  {
   "cell_type": "markdown",
   "metadata": {},
   "source": [
    "## [List All Projects that You Have Access to](https://flywheel-io.gitlab.io/product/backend/sdk/branches/master/python/examples.html#list-projects)\n"
   ]
  },
  {
   "cell_type": "markdown",
   "metadata": {},
   "source": [
    "1. Access your Project via the Project Label, which is `new_project_label`."
   ]
  },
  {
   "cell_type": "code",
   "execution_count": 38,
   "metadata": {},
   "outputs": [],
   "source": [
    "# Replace this with the project label you want to access.\n",
    "my_project_label = 'new_project_label'\n",
    "new_project = fw.projects.find_first(f'label={my_project_label}')\n"
   ]
  },
  {
   "cell_type": "markdown",
   "metadata": {},
   "source": [
    "2. Access your Project via Flywheel path (Group/ProjectLabel)\n",
    "You can find the path in the Project Homepage \n",
    "\n",
    "  * EX: (fw://new_group/new_project_label)"
   ]
  },
  {
   "cell_type": "code",
   "execution_count": 64,
   "metadata": {},
   "outputs": [],
   "source": [
    "new_project = fw.lookup('new_group/new_project_label')"
   ]
  },
  {
   "cell_type": "markdown",
   "metadata": {},
   "source": [
    "3. Access Project container with Project ID\n",
    "    * You can get your Project ID on the URL path OR via the Project container"
   ]
  },
  {
   "cell_type": "code",
   "execution_count": 48,
   "metadata": {},
   "outputs": [],
   "source": [
    "# Access project ID in the project container\n",
    "project_id = new_project.id\n",
    "get_project = fw.get_project(project_id)"
   ]
  },
  {
   "cell_type": "markdown",
   "metadata": {},
   "source": [
    "# Project Container Property and Info Attributes"
   ]
  },
  {
   "cell_type": "markdown",
   "metadata": {},
   "source": [
    "## Discover the Property in the Project container.\n",
    "\n",
    "<div class=\"alert alert-block alert-info\" >\n",
    "<b>Tip: </b>For more information about each property, visit the <a href=\"https://flywheel-io.gitlab.io/product/backend/sdk/branches/master/python/flywheel.models.html#module-flywheel.models.project\" style=\"color:black\">SDK Documentations</a>. </div>"
   ]
  },
  {
   "cell_type": "markdown",
   "metadata": {},
   "source": [
    "You will be working with the `new_project` in this section. \n",
    "\n",
    "*Please make sure you have followed the steps above before moving forward.*"
   ]
  },
  {
   "cell_type": "code",
   "execution_count": 158,
   "metadata": {},
   "outputs": [
    {
     "data": {
      "text/plain": [
       "dict_keys(['label', 'info', 'description', 'group', 'providers', 'editions', '_id', 'parents', 'info_exists', 'created', 'modified', 'revision', 'templates', 'permissions', 'files', 'notes', 'tags', 'analyses'])"
      ]
     },
     "execution_count": 158,
     "metadata": {},
     "output_type": "execute_result"
    }
   ],
   "source": [
    "# This will shows all the property available in the project\n",
    "new_project.keys()"
   ]
  },
  {
   "cell_type": "markdown",
   "metadata": {},
   "source": [
    "## Modify/Update Information in Property\n",
    "\n",
    "In this section, you are going to add new information to the `info` property."
   ]
  },
  {
   "cell_type": "code",
   "execution_count": null,
   "metadata": {},
   "outputs": [],
   "source": [
    "new_info_label = input('Enter a descriptive name for your info label: ')\n",
    "new_info = input('Enter a short description you want to be added to the info property: ')"
   ]
  },
  {
   "cell_type": "markdown",
   "metadata": {},
   "source": [
    "Based on your inputs above, they will be stored in dictionary format."
   ]
  },
  {
   "cell_type": "code",
   "execution_count": null,
   "metadata": {},
   "outputs": [],
   "source": [
    "tmp_info = {new_info_label : new_info}"
   ]
  },
  {
   "cell_type": "markdown",
   "metadata": {},
   "source": [
    "We are going to use `update_info()` to update the Project Info with the `tmp_info` we define above.<br>\n",
    "\n",
    "This is a more **\"user-friendly\"** way to add the metadata (or overwrite if the key already exists) to the Project container."
   ]
  },
  {
   "cell_type": "code",
   "execution_count": null,
   "metadata": {},
   "outputs": [],
   "source": [
    "new_project.update_info(tmp_info)"
   ]
  },
  {
   "cell_type": "markdown",
   "metadata": {},
   "source": [
    "<h3>Check if it has been successfully modified</h3>"
   ]
  },
  {
   "cell_type": "code",
   "execution_count": null,
   "metadata": {},
   "outputs": [],
   "source": [
    "# Reload is nessecary to load the entire container\n",
    "new_project = new_project.reload()\n",
    "\n",
    "# View all keys that are stored in the `info` attribute\n",
    "new_project['info'].keys()"
   ]
  },
  {
   "cell_type": "code",
   "execution_count": null,
   "metadata": {},
   "outputs": [],
   "source": [
    "# Print the content in the `info` attribute \n",
    "new_project['info']"
   ]
  },
  {
   "cell_type": "markdown",
   "metadata": {},
   "source": [
    "## Replace Metadata\n",
    "\n",
    "You can also removes all information on the Project and only adds back what's in `tmp_info`."
   ]
  },
  {
   "cell_type": "code",
   "execution_count": null,
   "metadata": {},
   "outputs": [],
   "source": [
    "# Re-define the tmp_info with the key and value you have entered earlier\n",
    "tmp_info = {new_info_label : new_info}\n",
    "\n",
    "new_project.replace_info(tmp_info)"
   ]
  },
  {
   "cell_type": "markdown",
   "metadata": {},
   "source": [
    "<div class=\"alert alert-block alert-info\" >\n",
    "<b>Tip:</b> Useful command to learn more about the Project object.</div>"
   ]
  },
  {
   "cell_type": "code",
   "execution_count": null,
   "metadata": {},
   "outputs": [],
   "source": [
    "help(new_project)"
   ]
  },
  {
   "cell_type": "markdown",
   "metadata": {},
   "source": [
    "***"
   ]
  },
  {
   "cell_type": "markdown",
   "metadata": {},
   "source": [
    "<div class=\"alert alert-block alert-danger\">\n",
    "<b style = \"font-weight: bold\">IMPORTANT :</b> For the following sections, you will need a <b>testing project</b> that you own and contains some dummy data which you can tinker with in this notebook.<br>If you don't have one already, please visit <a href=\"https://gitlab.com/flywheel-io/public/flywheel-tutorials/-/blob/master/python/Demo-Project-Notebook.ipynb\" style=\"color:black\"><u>this repo</u></a> before proceeding. Otherwise, please specify below the Group and Project labels.\n",
    "</div> \n"
   ]
  },
  {
   "cell_type": "markdown",
   "metadata": {},
   "source": [
    "# Constants"
   ]
  },
  {
   "cell_type": "code",
   "execution_count": null,
   "metadata": {},
   "outputs": [],
   "source": [
    "YOUR_GROUP = input('Enter the group label here: ')\n",
    "\n",
    "YOUR_PROJECT = input('Enter the project label here: ')\n",
    "# Hit 'Enter' after you have entered the value."
   ]
  },
  {
   "cell_type": "markdown",
   "metadata": {},
   "source": [
    "# Search the Project Container\n",
    "\n",
    "This project variable will be used throughout the next few sections."
   ]
  },
  {
   "cell_type": "code",
   "execution_count": 32,
   "metadata": {},
   "outputs": [],
   "source": [
    "FW_PROJ = fw.lookup(f'{YOUR_GROUP}/{YOUR_PROJECT}')"
   ]
  },
  {
   "cell_type": "markdown",
   "metadata": {},
   "source": [
    "***"
   ]
  },
  {
   "cell_type": "markdown",
   "metadata": {},
   "source": [
    "# Subjects"
   ]
  },
  {
   "cell_type": "markdown",
   "metadata": {},
   "source": [
    "## [List Subjects](https://flywheel-io.gitlab.io/product/backend/sdk/branches/master/python/examples.html#list-subjects)"
   ]
  },
  {
   "cell_type": "markdown",
   "metadata": {},
   "source": [
    "1. List all Subjects that belong to the Project."
   ]
  },
  {
   "cell_type": "code",
   "execution_count": null,
   "metadata": {},
   "outputs": [],
   "source": [
    "for subject in FW_PROJ.subjects():\n",
    "    print('%s: %s' % (subject.id, subject.label))\n",
    "    "
   ]
  },
  {
   "cell_type": "markdown",
   "metadata": {},
   "source": [
    "2. List all of the Subjects that you have access to."
   ]
  },
  {
   "cell_type": "code",
   "execution_count": null,
   "metadata": {},
   "outputs": [],
   "source": [
    "for subject in fw.subjects():\n",
    "    print('%s: %s' % (subject.id, subject.label))"
   ]
  },
  {
   "cell_type": "markdown",
   "metadata": {},
   "source": [
    "3. List all of the Sessions belonging to Subject."
   ]
  },
  {
   "cell_type": "code",
   "execution_count": null,
   "metadata": {},
   "outputs": [],
   "source": [
    "for subject in fw.subjects():\n",
    "    # Loop through all sessions in the subject container. \n",
    "    for session in subject.sessions():\n",
    "            print('%s: %s' % (session.id, session.label))"
   ]
  },
  {
   "cell_type": "markdown",
   "metadata": {},
   "source": [
    "## [Add Subject](https://flywheel-io.gitlab.io/product/backend/sdk/branches/master/python/examples.html#add-subject)\n",
    "\n",
    "Create a new Subject with a desired label to the `FW_PROJ`.\n",
    "\n",
    "<i style='color:blue'>Notes: The `subject.label` should be unique for the Project</i>"
   ]
  },
  {
   "cell_type": "code",
   "execution_count": null,
   "metadata": {},
   "outputs": [],
   "source": [
    "new_subj_label = input('Enter an unique label for the new subject: ')"
   ]
  },
  {
   "cell_type": "code",
   "execution_count": 34,
   "metadata": {},
   "outputs": [],
   "source": [
    "new_subj = FW_PROJ.add_subject(label= new_subj_label)"
   ]
  },
  {
   "cell_type": "markdown",
   "metadata": {},
   "source": [
    "## [Modify/Edit Subject metadata](https://flywheel-io.gitlab.io/product/backend/sdk/branches/master/python/examples.html#modify-subject)\n"
   ]
  },
  {
   "cell_type": "markdown",
   "metadata": {},
   "source": [
    "Update the details for the `new_subj`."
   ]
  },
  {
   "cell_type": "code",
   "execution_count": null,
   "metadata": {},
   "outputs": [],
   "source": [
    "new_subj.update(\n",
    "        firstname='John',\n",
    "        lastname='Doe',\n",
    "        cohort='Study',\n",
    "        type='human',\n",
    "        sex='male',\n",
    "        race='Unknown or Not Reported'\n",
    ")"
   ]
  },
  {
   "cell_type": "markdown",
   "metadata": {},
   "source": [
    "Check whether the update went through."
   ]
  },
  {
   "cell_type": "code",
   "execution_count": null,
   "metadata": {},
   "outputs": [],
   "source": [
    "# Reload is nessecary to load the entire container.\n",
    "new_subj = new_subj.reload()\n",
    "\n",
    "# Display the specific subject container\n",
    "print(new_subj)\n"
   ]
  },
  {
   "cell_type": "markdown",
   "metadata": {},
   "source": [
    "***"
   ]
  },
  {
   "cell_type": "markdown",
   "metadata": {},
   "source": [
    "# Sessions"
   ]
  },
  {
   "cell_type": "markdown",
   "metadata": {},
   "source": [
    "## [Add Session](https://flywheel-io.gitlab.io/product/backend/sdk/branches/master/python/examples.html#add-session)\n",
    "\n",
    "Here, you will be attaching a new Session container with label `Session 01` to a Subject container. You will add this Session to the Subject you created earlier."
   ]
  },
  {
   "cell_type": "code",
   "execution_count": 40,
   "metadata": {},
   "outputs": [],
   "source": [
    "new_session = new_subj.add_session(label='Session 01')"
   ]
  },
  {
   "cell_type": "markdown",
   "metadata": {},
   "source": [
    "## [List Sessions](https://flywheel-io.gitlab.io/product/backend/sdk/branches/master/python/examples.html#list-sessions)\n"
   ]
  },
  {
   "cell_type": "markdown",
   "metadata": {},
   "source": [
    "1. List all of the Sessions that you have access to."
   ]
  },
  {
   "cell_type": "code",
   "execution_count": null,
   "metadata": {},
   "outputs": [],
   "source": [
    "for session in fw.sessions():\n",
    "    print('%s: %s' % (session.id, session.label))"
   ]
  },
  {
   "cell_type": "markdown",
   "metadata": {},
   "source": [
    "2. List all of the Sessions belonging to the `FW_PROJ`."
   ]
  },
  {
   "cell_type": "code",
   "execution_count": null,
   "metadata": {},
   "outputs": [],
   "source": [
    "for session in anxiety_project.sessions():\n",
    "        print('%s: %s' % (session.id, session.label))"
   ]
  },
  {
   "cell_type": "markdown",
   "metadata": {},
   "source": [
    "3. List all of the Sessions belonging to Subject."
   ]
  },
  {
   "cell_type": "code",
   "execution_count": null,
   "metadata": {},
   "outputs": [],
   "source": [
    "for subject in anxiety_project.subjects():\n",
    "    for session in subject.sessions():\n",
    "        print('%s: %s' % (session.id, session.label))\n"
   ]
  },
  {
   "cell_type": "markdown",
   "metadata": {},
   "source": [
    "4. List all of the Acquisitions belonging to Session."
   ]
  },
  {
   "cell_type": "code",
   "execution_count": null,
   "metadata": {},
   "outputs": [],
   "source": [
    "for session in anxiety_project.sessions.iter():\n",
    "    print('This is the session label: %s' % ( session.label))\n",
    "    for acquisition in session.acquisitions.iter():\n",
    "        acquisition = acquisition.reload()\n",
    "        print('%s: %s' % (acquisition.id, acquisition.label))\n",
    "        for file in acquisition.files:\n",
    "            print(file.name)"
   ]
  },
  {
   "cell_type": "markdown",
   "metadata": {},
   "source": [
    "***"
   ]
  },
  {
   "cell_type": "markdown",
   "metadata": {},
   "source": [
    "# Acquisitions"
   ]
  },
  {
   "cell_type": "markdown",
   "metadata": {},
   "source": [
    "## [Add Acquisition](https://flywheel-io.gitlab.io/product/backend/sdk/branches/master/python/examples.html#add-acquisition)\n",
    "\n",
    "Create a new Acquisition with a label of `Localizer`, and upload a file.\n",
    "\n",
    "<i style=\"color: blue\">Notes: You will be using the `new_session` that you created earlier.</i>"
   ]
  },
  {
   "cell_type": "code",
   "execution_count": 41,
   "metadata": {},
   "outputs": [],
   "source": [
    "new_acquisition = new_session.add_acquisition(label='Localizer')"
   ]
  },
  {
   "cell_type": "markdown",
   "metadata": {},
   "source": [
    "## [List Acquisitions](https://flywheel-io.gitlab.io/product/backend/sdk/branches/master/python/examples.html#list-acquisitions)\n",
    "\n",
    "List all of the Acqusitions that you have access to. \n",
    "\n",
    "<div class=\"alert alert-warning\" style=\"color:black\">\n",
    "    <b>Notes:</b>This will take a long time to run if you have accessed to a significant number of Acquisitions. Therefore, in this example, you will only get the first 10 Acquisitions.\n",
    "</div>\n",
    "\n",
    "\n"
   ]
  },
  {
   "cell_type": "code",
   "execution_count": null,
   "metadata": {},
   "outputs": [],
   "source": [
    "for i, acquisition in enumerate(fw.acquisitions.iter()):\n",
    "    print('%s: %s' % (acquisition.id, acquisition.label))\n",
    "    if i > 9:\n",
    "        break"
   ]
  },
  {
   "cell_type": "markdown",
   "metadata": {},
   "source": [
    "## [List all of the files on an acquisition](https://flywheel-io.gitlab.io/product/backend/sdk/branches/master/python/examples.html#list-files-in-acquisition)\n"
   ]
  },
  {
   "cell_type": "code",
   "execution_count": null,
   "metadata": {},
   "outputs": [],
   "source": [
    "for acquisition in fw.acquisitions.iter():\n",
    "    for file in acquisition.files:\n",
    "        # printing all the file that is stored under each acquisition containter.\n",
    "        print(file.name)"
   ]
  },
  {
   "cell_type": "markdown",
   "metadata": {},
   "source": [
    "<div class=\"alert alert-block alert-info\" >\n",
    "<b>Tip:</b> Click <a href=\"https://flywheel-io.gitlab.io/product/backend/sdk/branches/master/python/flywheel.models.html?highlight=file%20name#module-flywheel.models.file_entry\" style=\"color:black\"><u>here</u></a> to learn more about different property in the file module.</div>"
   ]
  },
  {
   "cell_type": "markdown",
   "metadata": {},
   "source": [
    "***"
   ]
  },
  {
   "cell_type": "markdown",
   "metadata": {},
   "source": [
    "# Analyses"
   ]
  },
  {
   "cell_type": "markdown",
   "metadata": {},
   "source": [
    "## List Analyses"
   ]
  },
  {
   "cell_type": "markdown",
   "metadata": {},
   "source": [
    "List all of the Analyses which belong to the Project container"
   ]
  },
  {
   "cell_type": "code",
   "execution_count": null,
   "metadata": {},
   "outputs": [],
   "source": [
    "anxiety_project = anxiety_project.reload()\n",
    "for analysis in anxiety_project.analyses:\n",
    "    print('%s: %s' % (analysis.id, analysis.label))"
   ]
  },
  {
   "cell_type": "markdown",
   "metadata": {},
   "source": [
    "List all of the Analyses belong to the Session container"
   ]
  },
  {
   "cell_type": "code",
   "execution_count": 66,
   "metadata": {},
   "outputs": [
    {
     "name": "stdout",
     "output_type": "stream",
     "text": [
      "Session name: anx_s5_anx_ses2_protB\n",
      "5e9609675201f11a1244d87b: Test Analysis\n",
      "Session name: anx_s5_anx_ses2_protB\n",
      "5e960f905201f11a1744d8a2: fsl-fast 04/14/2020 14:31:20\n"
     ]
    }
   ],
   "source": [
    "for session in anxiety_project.sessions.iter():\n",
    "    session = session.reload()\n",
    "    for analysis in session.analyses:\n",
    "        print('Session name: %s' % (session.label))\n",
    "        analysis = analysis.reload()\n",
    "        print('%s: %s' % (analysis.id, analysis.label))"
   ]
  },
  {
   "cell_type": "markdown",
   "metadata": {},
   "source": [
    "Use `get_analyses` function to get the nested analyses for a container"
   ]
  },
  {
   "cell_type": "code",
   "execution_count": null,
   "metadata": {},
   "outputs": [],
   "source": [
    "fw.get_analyses(\"projects\", anxiety_project.id, \"sessions\")"
   ]
  },
  {
   "cell_type": "markdown",
   "metadata": {},
   "source": [
    "## [Jobs and Analyses](https://flywheel-io.gitlab.io/product/backend/sdk/branches/master/python/examples.html#what-gear-to-run)"
   ]
  },
  {
   "cell_type": "markdown",
   "metadata": {},
   "source": [
    "Get the details about a specific Gear in Flywheel\n",
    "\n",
    "*You can list of Gear that is available from this link https://flywheel.io/gear-exchange/*\n"
   ]
  },
  {
   "cell_type": "code",
   "execution_count": null,
   "metadata": {},
   "outputs": [],
   "source": [
    "# Get the latest version of the example gear\n",
    "gear = fw.lookup('gears/afq')\n",
    "\n",
    "# Get a specific version of the example gear\n",
    "gear = fw.lookup('gears/afq/0.0.2')\n",
    "\n",
    "# Print details about the gear\n",
    "gear.print_details()"
   ]
  },
  {
   "cell_type": "code",
   "execution_count": null,
   "metadata": {},
   "outputs": [],
   "source": [
    "destination_file = PATH_TO_PROJECT /'download_files'\n",
    "analysis = fw.lookup('group-id/project-label/subject-label/session-label/analyses/analysis-label')\n",
    "analysis.download_tar('destination_file')"
   ]
  },
  {
   "cell_type": "markdown",
   "metadata": {},
   "source": [
    "# [Utility Job Example](https://flywheel-io.gitlab.io/product/backend/sdk/branches/master/python/examples.html#utility-job-example)"
   ]
  },
  {
   "cell_type": "code",
   "execution_count": null,
   "metadata": {},
   "outputs": [],
   "source": [
    "# Get the Flywheel Example Utility gear\n",
    "gear = fw.lookup('gears/flywheel-example-gear')\n",
    "\n",
    "# Find the input files, the acquisition will be the destination container\n",
    "# You will need the group label, project label and specific session label to get the acquisition container\n",
    "acquisition = fw.lookup('my_group/anxiety-study-101/anx_s1_anx_ses1_protA /3Plane Loc SSFSE')\n",
    "\n",
    "# Here we get the DICOM input \n",
    "inputs = {\n",
    "        \n",
    "    'dicom': acquisition.get_file('4784_1_1_loc.dcm.zip')\n",
    "}\n",
    "\n",
    "# Override some configuration values, the rest will use defaults\n",
    "config = {\n",
    "        'number': 42,\n",
    "        'string': 'Hello World!'\n",
    "}\n",
    "\n",
    "# Schedule the job, adding the \"my-job\" tag\n",
    "job_id = gear.run(config=config, inputs=inputs, destination=acquisition, tags=['my-job'])"
   ]
  }
 ],
 "metadata": {
  "colab": {
   "name": "FW Workflow.ipynb",
   "provenance": []
  },
  "kernelspec": {
   "display_name": "Python 3",
   "language": "python",
   "name": "python3"
  },
  "language_info": {
   "codemirror_mode": {
    "name": "ipython",
    "version": 3
   },
   "file_extension": ".py",
   "mimetype": "text/x-python",
   "name": "python",
   "nbconvert_exporter": "python",
   "pygments_lexer": "ipython3",
   "version": "3.7.6"
  }
 },
 "nbformat": 4,
 "nbformat_minor": 4
}
