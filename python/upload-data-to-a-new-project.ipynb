{
 "cells": [
  {
   "cell_type": "markdown",
   "metadata": {},
   "source": [
    "**Title**: Upload data to a Flywheel project  \n",
    "**Date**:  April 28th 2020  \n",
    "**Description**:  \n",
    "This notebook shows how to upload data to a new project using the Flywheel SDK.  \n",
    "Topics that will be covered:\n",
    "- Project, subjects, sessions, and acquisitions creation.\n",
    "- Upload of file(s) to an acquisition container.\n",
    "- Simple Metadata Editing."
   ]
  },
  {
   "cell_type": "markdown",
   "metadata": {},
   "source": [
    "# Requirements\n",
    "- Access to a Flywheel instance.\n",
    "- Read/Write permission to at least one Flywheel Group."
   ]
  },
  {
   "cell_type": "markdown",
   "metadata": {
    "colab_type": "text",
    "id": "ay1WSTNnycu9"
   },
   "source": [
    "# Install and Import Dependencies"
   ]
  },
  {
   "cell_type": "code",
   "execution_count": null,
   "metadata": {
    "colab": {
     "base_uri": "https://localhost:8080/",
     "height": 292
    },
    "colab_type": "code",
    "id": "TvSB-YzJycd9",
    "outputId": "88896fc2-0cd1-4745-d1d7-5752fae84b64"
   },
   "outputs": [],
   "source": [
    "# Install specific packages required for this notebook\n",
    "!pip install flywheel-sdk pydicom"
   ]
  },
  {
   "cell_type": "code",
   "execution_count": null,
   "metadata": {
    "colab": {},
    "colab_type": "code",
    "id": "wgIDvfT3yi2B"
   },
   "outputs": [],
   "source": [
    "# Import packages\n",
    "from getpass import getpass\n",
    "import logging\n",
    "import os\n",
    "from pathlib import Path\n",
    "import re\n",
    "import time\n",
    "\n",
    "from IPython.display import display, Image\n",
    "import flywheel"
   ]
  },
  {
   "cell_type": "code",
   "execution_count": null,
   "metadata": {
    "colab": {},
    "colab_type": "code",
    "id": "ZtWGHIEBykZz"
   },
   "outputs": [],
   "source": [
    "# Instantiate a logger\n",
    "logging.basicConfig(level=logging.INFO, format='%(asctime)s %(levelname)s %(message)s')\n",
    "log = logging.getLogger('root')"
   ]
  },
  {
   "cell_type": "markdown",
   "metadata": {},
   "source": [
    "# Download some test data"
   ]
  },
  {
   "cell_type": "markdown",
   "metadata": {},
   "source": [
    "In this notebook we will be uploading images to a Flywheel Instance.  \n",
    "To get started, your first need to download the test dataset that will be used in this notebook."
   ]
  },
  {
   "cell_type": "markdown",
   "metadata": {},
   "source": [
    "On mybinder.org or any Mac/Linux system, the following commands will download a zip archive and unzip the data into a folder called `data-upload-notebook` in your current directory:"
   ]
  },
  {
   "cell_type": "code",
   "execution_count": null,
   "metadata": {},
   "outputs": [],
   "source": [
    "!curl -L -o data.zip \"https://drive.google.com/uc?export=download&id=1aDgZhm94-N0x2WKAIxr2QpwD4M20va0W\"\n",
    "!unzip -qf data.zip -d data-upload-notebook"
   ]
  },
  {
   "cell_type": "markdown",
   "metadata": {},
   "source": [
    "If the previous commands return an errors, download the file directly using the link provided to the `curl` command\n",
    "above and extract the archive in the current working directory to a folder named `data-upload-notebook`"
   ]
  },
  {
   "cell_type": "markdown",
   "metadata": {},
   "source": [
    "The file tree of `data-uplodate-notebook` should like this:\n",
    "```\n",
    "data-uplodate-notebook\n",
    "├── anx_s1\n",
    "│   └── anx_s1_anx_ses1_protA\n",
    "│       └── T1_high-res_inplane_Ret_knk_0\n",
    "│           └── 6879_3_1_t1.dcm.zip\n",
    "├── anx_s2\n",
    "│   └── anx_s2_anx_ses1_protA\n",
    "│       └── T1\\ high-res\\ inplane\\ FSPGR\\ BRAVO_0\n",
    "│           └── 4784_3_1_t1.dcm.zip\n",
    "├── anx_s3\n",
    "│   └── anx_s3_anx_ses1_protA\n",
    "│       └── T1_high-res_inplane_Ret_knk_0\n",
    "│           └── 6879_3_1_t1.dcm.zip\n",
    "├── anx_s4\n",
    "│   └── anx_s4_anx_ses2_protB\n",
    "│       └── T1_high-res_inplane_Ret_knk_1\n",
    "│           └── 8403_4_1_t1.dcm.zip\n",
    "├── anx_s5\n",
    "│   └── anx_s5_anx_ses1_protA\n",
    "│       └── T1_high-res_inplane_Ret_knk_1\n",
    "│           └── 8403_4_1_t1.dcm.zip\n",
    "└── participants.csv\n",
    "\n",
    "```"
   ]
  },
  {
   "cell_type": "markdown",
   "metadata": {
    "colab_type": "text",
    "id": "RAnUF3QkynxV"
   },
   "source": [
    "# Flywheel API Key and Client"
   ]
  },
  {
   "cell_type": "markdown",
   "metadata": {
    "colab_type": "text",
    "id": "P8a20roWpFB-"
   },
   "source": [
    "Get your API_KEY. More on this at in the Flywheel SDK doc [here](https://flywheel-io.gitlab.io/product/backend/sdk/branches/master/python/getting_started.html#api-key)."
   ]
  },
  {
   "cell_type": "code",
   "execution_count": null,
   "metadata": {
    "colab": {
     "base_uri": "https://localhost:8080/",
     "height": 34
    },
    "colab_type": "code",
    "id": "LWkEZ-JTpFB-",
    "outputId": "47a9c115-7839-404b-b73c-69e57887ad5c"
   },
   "outputs": [],
   "source": [
    "API_KEY = getpass('Enter API_KEY here: ')"
   ]
  },
  {
   "cell_type": "markdown",
   "metadata": {
    "colab_type": "text",
    "id": "yl1SuWIdpFCB"
   },
   "source": [
    "Instantiate the Flywheel API client"
   ]
  },
  {
   "cell_type": "code",
   "execution_count": null,
   "metadata": {
    "colab": {},
    "colab_type": "code",
    "id": "yW3kAGFPpFCB"
   },
   "outputs": [],
   "source": [
    "fw = flywheel.Client(API_KEY if 'API_KEY' in locals() else os.environ.get('FW_KEY'))"
   ]
  },
  {
   "cell_type": "markdown",
   "metadata": {
    "colab_type": "text",
    "id": "XPQg0AFey16p"
   },
   "source": [
    "Show Flywheel logging information"
   ]
  },
  {
   "cell_type": "code",
   "execution_count": null,
   "metadata": {
    "colab": {
     "base_uri": "https://localhost:8080/",
     "height": 54
    },
    "colab_type": "code",
    "id": "88-D948hy3uS",
    "outputId": "21183a89-d336-449b-aabd-df02adac3b55"
   },
   "outputs": [],
   "source": [
    "log.info('You are now logged in as %s to %s', fw.get_current_user()['email'], fw.get_config()['site']['api_url'])"
   ]
  },
  {
   "cell_type": "markdown",
   "metadata": {},
   "source": [
    "# Understand the Flywheel Hierarchy"
   ]
  },
  {
   "cell_type": "markdown",
   "metadata": {},
   "source": [
    "Flywheel data model relies on hierarchical containers. You can read more about the flywheel containers in our documentation [here](https://flywheel-io.gitlab.io/product/backend/sdk/branches/master/python/data_model.html#hierarchy).  \n",
    "In flywheel project are structure into the following hierarchy:  \n",
    "\n",
    "```\n",
    "Group\n",
    "└── Project\n",
    "    └── Subject \n",
    "        └── Session\n",
    "            └── Acquisition\n",
    "```\n",
    "\n",
    "Each of Project, Subject, Session and Acquisition are containers. Containers shared common properties such as the ability to store files, metadata or analyses.  \n",
    "\n",
    "In this notebook we will be:\n",
    "1. Creating the Project to host our data.\n",
    "2. Creating the hierarchy of Subject/Session/Acquisition matching our data input.\n",
    "3. Uploading the DICOM archive to each Acquisition.\n",
    "4. Showing how to update metadata of a container."
   ]
  },
  {
   "cell_type": "markdown",
   "metadata": {},
   "source": [
    "# Initialize a few values\n",
    "\n",
    "In this notebook, we will be uploading data to a Project. The label of the Project will be defined by the `PROJECT_LABEL` variable defined below. \n",
    "Here we set it up to be `AnxietyStudy01` but feel free to change it to something that makes more sense to you. "
   ]
  },
  {
   "cell_type": "code",
   "execution_count": null,
   "metadata": {},
   "outputs": [],
   "source": [
    "PROJECT_LABEL = 'AnxietyStudy01'"
   ]
  },
  {
   "cell_type": "markdown",
   "metadata": {},
   "source": [
    "In Flywheel each project belongs to a Group. The label of the Group that will be used to create the Project is defined by the `GROUP_LABEL` variable below.\n",
    "\n",
    "<div class=\"alert alert-warning\" style=\"color:black\">\n",
    "To be able to create a Project in a Group, you must at least have read/write permission for this Group. If you don't have read/write permission on any Group please contact you site admin.\n",
    "</div>\n",
    "\n",
    "Specify the Group you have r/w permission on and where the Project will be created:"
   ]
  },
  {
   "cell_type": "code",
   "execution_count": null,
   "metadata": {},
   "outputs": [],
   "source": [
    "GROUP_LABEL = '<your-group-label>'"
   ]
  },
  {
   "cell_type": "code",
   "execution_count": null,
   "metadata": {},
   "outputs": [],
   "source": [
    "GROUP_LABEL = 'test0110'"
   ]
  },
  {
   "cell_type": "markdown",
   "metadata": {},
   "source": [
    "We also define a varibale that pointed to the root directory where the data got downloaded. If you have followed the steps above to download your data, you should have all the data in a folder called `data-upload-notebook`. If that's not the case, edit the below variable accordingly."
   ]
  },
  {
   "cell_type": "code",
   "execution_count": null,
   "metadata": {},
   "outputs": [],
   "source": [
    "PATH_TO_DATA = Path('data-upload-notebook')"
   ]
  },
  {
   "cell_type": "markdown",
   "metadata": {},
   "source": [
    "# Add a New Project\n",
    "\n",
    "In this section, we will be creating a new project with label `PROJECT_LABEL` in the Group's `GROUP_LABEL`.\n"
   ]
  },
  {
   "cell_type": "markdown",
   "metadata": {},
   "source": [
    "First, we will be getting the Group using the `lookup` method. "
   ]
  },
  {
   "cell_type": "code",
   "execution_count": null,
   "metadata": {},
   "outputs": [],
   "source": [
    "my_group = fw.lookup(GROUP_LABEL)"
   ]
  },
  {
   "cell_type": "markdown",
   "metadata": {},
   "source": [
    "Before creating a new project, it is a good practice to check if the Project you are trying to create exists in the Flywheel instance or not. We can do this by checking if a Project with label=PROJECT_LABEL exists in the Group you have specified:"
   ]
  },
  {
   "cell_type": "code",
   "execution_count": null,
   "metadata": {},
   "outputs": [],
   "source": [
    "project = my_group.projects.find_first(f'label={PROJECT_LABEL}')\n",
    "if project:\n",
    "    log.info(f'Project {GROUP_LABEL}/{PROJECT_LABEL} already exists. Please update your PROJECT_LABEL variable.')\n",
    "else:\n",
    "    log.info(f'Project {GROUP_LABEL}/{PROJECT_LABEL} does not exit. Looking all good.')    "
   ]
  },
  {
   "cell_type": "markdown",
   "metadata": {},
   "source": [
    "If the Project does not exist, it will return False and we can create it. If a Project was found, it will return the Project and in that case, **either update the PROJECT_LABEL to something different to create a new project OR make sure that the data that you are about to upload will not interfere with the data already present in the Project**"
   ]
  },
  {
   "cell_type": "code",
   "execution_count": null,
   "metadata": {},
   "outputs": [],
   "source": [
    "if not project:\n",
    "    project = my_group.add_project(label=PROJECT_LABEL)\n",
    "else:\n",
    "    raise ValueError(f'Project {PROJECT_LABEL} already exists in group {GROUP_LABEL}, please pick another project label.')"
   ]
  },
  {
   "cell_type": "markdown",
   "metadata": {},
   "source": [
    "# Modify Project Gear Rules\n",
    "\n",
    "After a new Project is being created, we will be disabling the Gear Rules for demo purposes.\n",
    "\n",
    "First, we use `get_project_rules` to get a list of all rules for a project."
   ]
  },
  {
   "cell_type": "code",
   "execution_count": null,
   "metadata": {},
   "outputs": [],
   "source": [
    "gear_rules = fw.get_project_rules(project.id)"
   ]
  },
  {
   "cell_type": "markdown",
   "metadata": {},
   "source": [
    "If the Gear Rules does not exist, `gear_rules` will return False. If there is Gear Rules setup in the project, it will return True, and disable the Gear Rule if `disabled == False`."
   ]
  },
  {
   "cell_type": "code",
   "execution_count": null,
   "metadata": {},
   "outputs": [],
   "source": [
    "if gear_rules:\n",
    "    for rule in gear_rules:\n",
    "        if rule.disabled == False:\n",
    "            rule_obj = {'disabled': True}\n",
    "            fw.modify_project_rule(project.id, rule.id, rule_obj)\n"
   ]
  },
  {
   "cell_type": "markdown",
   "metadata": {},
   "source": [
    "# Create Subjects, Sessions and Acquisitions and upload files\n",
    "\n",
    "Now that we have a Project, we can create all the containers that are required to host our dataset.\n",
    "\n",
    "## What's the plan?\n",
    "\n",
    "Following the Flywheel Hierarchy, we will loop through each subject folders and either get the Subject if it exists in the Project already or create it not ( we will use the `get_or_create_subject` function below for this). We will do the same to create the Session and Acquisition containers. Once we get down to the Acqusition container, we will upload the corresponding DICOM archive to it (we will use the `upload_file_to_acquistion` function below for this)"
   ]
  },
  {
   "cell_type": "markdown",
   "metadata": {},
   "source": [
    "## Helpful Functions"
   ]
  },
  {
   "cell_type": "code",
   "execution_count": null,
   "metadata": {},
   "outputs": [],
   "source": [
    "def get_or_create_subject(project, label, update=True, **kwargs):\n",
    "    \"\"\"Get the Subject container if it exists, else create a new Subject container.\n",
    "    \n",
    "    Args:\n",
    "        project (flywheel.Project): A Flywheel Project.\n",
    "        label (str): The subject label.\n",
    "        update (bool): If true, update container with key/value passed as kwargs.\n",
    "        kwargs (dict): Any key/value properties of subject you would like to update.\n",
    "\n",
    "    Returns:\n",
    "        (flywheel.Subject): A Flywheel Subject container.\n",
    "    \"\"\"\n",
    "    \n",
    "    if not label:\n",
    "        raise ValueError(f'label is required (currently {label})')\n",
    "        \n",
    "    subject = project.subjects.find_first(f'label={label}')\n",
    "    if not subject:\n",
    "        subject = project.add_subject(label=label)\n",
    "        \n",
    "    if update and kwargs:\n",
    "        subject.update(**kwargs)\n",
    "\n",
    "    if subject:\n",
    "        subject = subject.reload()\n",
    "\n",
    "    return subject"
   ]
  },
  {
   "cell_type": "code",
   "execution_count": null,
   "metadata": {},
   "outputs": [],
   "source": [
    "def get_or_create_session(subject, label, update=True, **kwargs):\n",
    "    \"\"\"Get the Session container if it exists, else create a new Session container.\n",
    "    \n",
    "    Args:\n",
    "        subject (flywheel.Subject): A Flywheel Subject.\n",
    "        label (str): The session label.\n",
    "        update (bool): If true, update container with key/value passed as kwargs.        \n",
    "        kwargs (dict): Any key/value properties of Session you would like to update.\n",
    "\n",
    "    Returns:\n",
    "        (flywheel.Session): A flywheel Session container.\n",
    "    \"\"\"\n",
    "    \n",
    "    if not label:\n",
    "        raise ValueError(f'label is required (currently {label})')\n",
    "        \n",
    "    session = subject.sessions.find_first(f'label={label}')\n",
    "    if not session:\n",
    "        session = subject.add_session(label=label)\n",
    "        \n",
    "    if update and kwargs:\n",
    "        session.update(**kwargs)\n",
    "\n",
    "    if session:\n",
    "        session = session.reload()\n",
    "\n",
    "    return session"
   ]
  },
  {
   "cell_type": "code",
   "execution_count": null,
   "metadata": {},
   "outputs": [],
   "source": [
    "def get_or_create_acquisition(session, label, update=True, **kwargs):\n",
    "    \"\"\"Get the Acquisition container if it exists, else create a new Acquisition container.\n",
    "    \n",
    "    Args:\n",
    "        session (flywheel.Session): A Flywheel Session.\n",
    "        label (str): The Acquisition label.\n",
    "        update (bool): If true, update container with key/value passed as kwargs.        \n",
    "        kwargs (dict): Any key/value properties of Acquisition you would like to update.\n",
    "\n",
    "    Returns:\n",
    "        (flywheel.Acquisition): A Flywheel Acquisition container.\n",
    "    \"\"\"\n",
    "    \n",
    "    if not label:\n",
    "        raise ValueError(f'label is required (currently {label})')\n",
    "        \n",
    "    acquisition = session.acquisitions.find_first(f'label={label}')\n",
    "    if not acquisition:\n",
    "        acquisition = session.add_acquisition(label=label)\n",
    "        \n",
    "    if update and kwargs:\n",
    "        acquisition.update(**kwargs)\n",
    "\n",
    "    if acquisition:\n",
    "        acquisition = acquisition.reload()\n",
    "\n",
    "    return acquisition"
   ]
  },
  {
   "cell_type": "code",
   "execution_count": null,
   "metadata": {},
   "outputs": [],
   "source": [
    "def upload_file_to_acquistion(acquistion, fp, update=True, **kwargs):\n",
    "    \"\"\"Upload file to Acquisition container and update info if `update=True`\n",
    "    \n",
    "    Args:\n",
    "        acquisition (flywheel.Acquisition): A Flywheel Acquisition\n",
    "        fp (Path-like): Path to file to upload\n",
    "        update (bool): If true, update container with key/value passed as kwargs.        \n",
    "        kwargs (dict): Any key/value properties of Acquisition you would like to update.        \n",
    "    \"\"\"\n",
    "    basename = os.path.basename(fp)\n",
    "    if not os.path.isfile(fp):\n",
    "        raise ValueError(f'{fp} is not file.')\n",
    "        \n",
    "    if acquistion.get_file(basename):\n",
    "        log.info(f'File {basename} already exists in container. Skipping.')\n",
    "        return\n",
    "    else:\n",
    "        log.info(f'Uploading {fp} to acquisition {acquistion.id}')\n",
    "        acquistion.upload_file(fp)\n",
    "        while not acquistion.get_file(basename):   # to make sure the file is available before performing an update\n",
    "            acquistion = acquistion.reload()\n",
    "            time.sleep(1)\n",
    "            \n",
    "    if update and kwargs:\n",
    "        f = acquisition.get_file(basename)\n",
    "        f.update(**kwargs)"
   ]
  },
  {
   "cell_type": "markdown",
   "metadata": {},
   "source": [
    "## Processing"
   ]
  },
  {
   "cell_type": "markdown",
   "metadata": {},
   "source": [
    "### Getting ready"
   ]
  },
  {
   "cell_type": "markdown",
   "metadata": {},
   "source": [
    "The files we want to upload are DICOM zip archive. Let's get a list of all of them:"
   ]
  },
  {
   "cell_type": "code",
   "execution_count": null,
   "metadata": {},
   "outputs": [],
   "source": [
    "files_to_upload = list(PATH_TO_DATA.rglob('*.dcm.zip'))\n",
    "dl = '\\n'\n",
    "print(f'Files to upload: \\n{dl.join(map(str, files_to_upload))}')"
   ]
  },
  {
   "cell_type": "markdown",
   "metadata": {},
   "source": [
    "In this notebook we will parse the Subject, Session and Acquisition labels from the folders and subfolder path directly. If we wanted to do more, we could use regular expression on the path (e.g. something like `r'^data-upload-notebook/(?P<sub_label>[\\w\\d]+)/.+(?P<ses_label>ses[\\d\\w\\_]+)/(?P<acq_label>.+)'`) "
   ]
  },
  {
   "cell_type": "markdown",
   "metadata": {},
   "source": [
    "<div class=\"alert alert-block alert-info\" >\n",
    "    <b>Tip:</b> Use <a href=\"https://regex101.com/\" style=\"color:black\">Regex101</a>, an online regex tester and debugger, to write and test on example inputs before putting it in your code .</div>"
   ]
  },
  {
   "cell_type": "markdown",
   "metadata": {},
   "source": [
    "### Getting the work done"
   ]
  },
  {
   "cell_type": "markdown",
   "metadata": {},
   "source": [
    "We are now ready to walk our folders, create the containers accordingly and upload the DICOM zip archive to the Acquisition container."
   ]
  },
  {
   "cell_type": "code",
   "execution_count": null,
   "metadata": {},
   "outputs": [],
   "source": [
    "log.info('Starting upload...')\n",
    "for subj in PATH_TO_DATA.glob('anx*'):\n",
    "    log.info('Processing subject %s', str(subj))\n",
    "    subject = get_or_create_subject(project, subj.name, update=True, type='human', sex='female')  # passing some value for the sake of the example\n",
    "#     print(f'{subject.sex}')\n",
    "    for ses in subj.glob('anx*'):\n",
    "        log.info('Processing session %s', str(ses))\n",
    "        session = get_or_create_session(subject, ses.name)\n",
    "        for acq in ses.glob('T1*'):            \n",
    "            log.info('Processing acquisition %s', str(acq))            \n",
    "            acquisition = get_or_create_acquisition(session, acq.name)\n",
    "            for file in acq.glob('*.dcm.zip'):\n",
    "                upload_file_to_acquistion(acquisition, file)\n",
    "log.info('DONE')"
   ]
  },
  {
   "cell_type": "markdown",
   "metadata": {},
   "source": [
    "Once the upload is done, you should have all your data available in your Flywheel Project, which should look like this:  \n",
    "\n",
    "<img src=\"https://gitlab.com/flywheel-io/public/flywheel-tutorials/-/raw/master/python/assets/anxiety_project_session_view.png\" align=\"center\"/>"
   ]
  },
  {
   "cell_type": "markdown",
   "metadata": {},
   "source": [
    "# Update Subject Metadata\n",
    "\n",
    "For sake of example, let's demonstarate how we can update the metadata for Subject `anx_s1`.\n",
    "\n",
    "Let's first find that specific Subject:"
   ]
  },
  {
   "cell_type": "code",
   "execution_count": null,
   "metadata": {},
   "outputs": [],
   "source": [
    "anx_s1 = project.subjects.find_first('label=anx_s1').reload()"
   ]
  },
  {
   "cell_type": "markdown",
   "metadata": {},
   "source": [
    "<div class=\"alert alert-block alert-info\" >\n",
    "    <b>Tip:</b> Using <code>reload()</code> is <b>nessecary</b> to load the entire container.\n",
    "</div>"
   ]
  },
  {
   "cell_type": "markdown",
   "metadata": {},
   "source": [
    "We are going to update the firstname, lastname and the sex of this Subject. Let's check what we have currently:"
   ]
  },
  {
   "cell_type": "code",
   "execution_count": null,
   "metadata": {},
   "outputs": [],
   "source": [
    "print(f'Subject anx_s1 sex is: {anx_s1.sex}, first name is: {anx_s1.firstname}, last name is: {anx_s1.lastname}')"
   ]
  },
  {
   "cell_type": "markdown",
   "metadata": {},
   "source": [
    "We can update it with the `update` method of the container:"
   ]
  },
  {
   "cell_type": "code",
   "execution_count": null,
   "metadata": {},
   "outputs": [],
   "source": [
    "anx_s1.update(\n",
    "            firstname='John',\n",
    "            lastname='Doe',\n",
    "            sex='male',\n",
    ")    "
   ]
  },
  {
   "cell_type": "markdown",
   "metadata": {},
   "source": [
    "Let's reload the subject from the database to make sure the update went through:"
   ]
  },
  {
   "cell_type": "code",
   "execution_count": null,
   "metadata": {},
   "outputs": [],
   "source": [
    "anx_s1 = project.subjects.find_first('label=anx_s1').reload()\n",
    "print(f'Subject anx_s1 sex is: {anx_s1.sex}, first name is: {anx_s1.firstname}, last name is: {anx_s1.lastname}')"
   ]
  },
  {
   "cell_type": "markdown",
   "metadata": {},
   "source": [
    "Each container also contains a field called `info` which can be used to stored unstructured information in a dictionary."
   ]
  },
  {
   "cell_type": "code",
   "execution_count": null,
   "metadata": {},
   "outputs": [],
   "source": [
    "complicated_nested_dict = {'a_complicated_nested_dict': {'key1': [1, 2, 3, 4], \n",
    "                                                        'key2': [{'an': 'other', 'list': 'with'}, \n",
    "                                                                {'dictionaries': ['in', 'it']}]\n",
    "                                                        }\n",
    "                            }"
   ]
  },
  {
   "cell_type": "code",
   "execution_count": null,
   "metadata": {},
   "outputs": [],
   "source": [
    "anx_s1.update_info(complicated_nested_dict)"
   ]
  },
  {
   "cell_type": "code",
   "execution_count": null,
   "metadata": {},
   "outputs": [],
   "source": [
    "anx_s1 = project.subjects.find_first('label=anx_s1').reload()\n",
    "pprint.pprint(f'Info field: {anx_s1.info}')"
   ]
  },
  {
   "cell_type": "markdown",
   "metadata": {},
   "source": [
    "You can find the same information in Flywheel under the custom information field of the `anx_s1` Subject:\n",
    "\n",
    "<img src=\"https://gitlab.com/flywheel-io/public/flywheel-tutorials/-/raw/master/python/assets/anxiety_project_subject_custom_info.png\" align=\"center\"/>"
   ]
  },
  {
   "cell_type": "markdown",
   "metadata": {},
   "source": [
    "All the metadata shown in the UI are also accessible from the SDK. For instance if you would like to show all the properties of the `anx_s1` Subject, just display its container:"
   ]
  },
  {
   "cell_type": "code",
   "execution_count": null,
   "metadata": {},
   "outputs": [],
   "source": [
    "anx_s1"
   ]
  },
  {
   "cell_type": "markdown",
   "metadata": {},
   "source": [
    "## Bonus: Update Subject Metadata with a CSV file\n",
    "\n",
    "Updating Subject Metadata/Info can be made by parsing CSV file or TSV file. By using this method, you can modify metadata for each Subject all at once. \n",
    "\n",
    "In this example, you will need to access the `participants.csv` file which can be found in the .zip folder you downloaded earlier. \n",
    "\n",
    "First, you will need read the csv file with `pandas` (which imported as `pd`)."
   ]
  },
  {
   "cell_type": "code",
   "execution_count": null,
   "metadata": {},
   "outputs": [],
   "source": [
    "metadata = pd.read_csv(PATH_TO_DATA/'participants.csv')"
   ]
  },
  {
   "cell_type": "code",
   "execution_count": null,
   "metadata": {},
   "outputs": [],
   "source": [
    "# View the data in the csv file \n",
    "display(metadata)"
   ]
  },
  {
   "cell_type": "markdown",
   "metadata": {},
   "source": [
    "We are going to loop through each Subjects in the Flywheel instance and check if there is any metadata stored in the `metadata` dataframe.\n",
    "\n",
    "If the Subject is in the `metadata` dataframe, we will add the `age` and `treatment` information into the Subject container and update the `sex` metadata for each Subject. "
   ]
  },
  {
   "cell_type": "code",
   "execution_count": null,
   "metadata": {},
   "outputs": [],
   "source": [
    "for subj in project.subjects.iter():\n",
    "    if (metadata[\"participant_id\"] == subj.label).any():\n",
    "        # Get data of the subject from the `metadata`\n",
    "        tmp_info = metadata.loc[(metadata[\"participant_id\"] == subj.label)]\n",
    "        # Get the age and treatment for the subject\n",
    "        # Convert the information to dictionary with value stored in a list\n",
    "        other_metadata = tmp_info[['age', 'treatment']].to_dict('l')\n",
    "        # Update the metadata contains in the subject container\n",
    "        sex = tmp_info.iloc[0]['sex']\n",
    "        subj.update(type='human', sex = sex)\n",
    "        subj.update_info(other_metadata)\n",
    "    else:\n",
    "        print(subj.label + ' does not have metadata stored in the CSV file.')"
   ]
  },
  {
   "cell_type": "markdown",
   "metadata": {},
   "source": [
    "View the updated metadata in the Subject container"
   ]
  },
  {
   "cell_type": "code",
   "execution_count": null,
   "metadata": {},
   "outputs": [],
   "source": [
    "for subj in project.subjects.iter():\n",
    "    subj = subj.reload()\n",
    "    print(f'Subject Label: {subj.label}, Sex: {subj.sex}, Info: {subj.info}')"
   ]
  },
  {
   "cell_type": "markdown",
   "metadata": {},
   "source": [
    "You can also check the updated information in Flywheel under the Subject container.\n",
    "\n",
    "<img src=\"https://gitlab.com/flywheel-io/public/flywheel-tutorials/-/raw/master/python/assets/anxiety_project_modify_metadata_w:csv-file.png\" align=\"center\"/>"
   ]
  },
  {
   "cell_type": "code",
   "execution_count": null,
   "metadata": {},
   "outputs": [],
   "source": []
  }
 ],
 "metadata": {
  "colab": {
   "name": "FW Workflow.ipynb",
   "provenance": []
  },
  "kernelspec": {
   "display_name": "Python 3",
   "language": "python",
   "name": "python3"
  },
  "language_info": {
   "codemirror_mode": {
    "name": "ipython",
    "version": 3
   },
   "file_extension": ".py",
   "mimetype": "text/x-python",
   "name": "python",
   "nbconvert_exporter": "python",
   "pygments_lexer": "ipython3",
   "version": "3.7.6"
  }
 },
 "nbformat": 4,
 "nbformat_minor": 4
}
