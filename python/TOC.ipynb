{
 "cells": [
  {
   "cell_type": "markdown",
   "metadata": {},
   "source": [
    "# Table of contents"
   ]
  },
  {
   "cell_type": "markdown",
   "metadata": {},
   "source": [
    "Below is a list of jupyter notebooks that you can quickly jump to.  \n",
    "If you want to go back to the dashboard and manually explore the notebook library instead, go to File/Open from the jupyter notebook menu. "
   ]
  },
  {
   "cell_type": "markdown",
   "metadata": {
    "pycharm": {
     "name": "#%% md\n"
    }
   },
   "source": [
    "<table class=\"tg\"><thead><tr><th>Title</th><th>Description</th></tr></thead>\n",
    "    <tbody>\n",
    "        <tr><td><a href=\"https://gitlab.com/flywheel-io/public/flywheel-tutorials/-/blob/master/python/template.ipynb\">Template</a></td><td>Template notebook to serve as reference for structuring notebooks in this repository</td></tr>\n",
    "        <tr><td style=\"background-color:#E1F5FE;\"><a href=\"https://gitlab.com/flywheel-io/public/flywheel-tutorials/-/blob/master/python/Flywheel-SDK-Example.ipynb\">Flywheel SDK Example</a></td><td><ul><li> A a real-time example in guiding user how to use Flywheel SDK, adapted from Flywheel SDK Documentation.</li></td></tr>\n",
    "        <tr><td style=\"background-color:#E1F5FE;\"><a href=\"https://gitlab.com/flywheel-io/public/flywheel-tutorials/-/blob/master/python/upload-data-to-a-new-project.ipynb\">Upload data to a new project</a></td><td><ul><li> A simple notebook to create a test project with some dummy data which you can tinker with. Recommeded for novice Flywheel SDK user.</li></td></tr>\n",
    "        <tr><td style=\"background-color:#E1F5FE;\"><a href=\"https://gitlab.com/flywheel-io/public/flywheel-tutorials/-/blob/master/python/add-to-collection-excluding-subjects-in-csv.ipynb\">Add subjects to a collection</a></td><td><ul><li>Get the project label and collection label (if you have one) you want to edit </li><li>Parse CSV file that contain Subject Label you want to exclude or any restrain you are looking for </li></td></tr>\n",
    "        <tr><td style=\"background-color:#B3E5FC;\"><a href=\"https://gitlab.com/flywheel-io/public/flywheel-tutorials/-/blob/master/python/batch-run-gears.ipynb\">Batch Run Gears</a></td><td><ul><li> An overview of the Flywheel Gears and how to run gears as a batch via SDK </li></td></tr>\n",
    "        <tr><td style=\"background-color:#B3E5FC;\"><a href=\"https://gitlab.com/flywheel-io/public/flywheel-tutorials/-/blob/master/python/job-monitoring-non-admin-version.ipynb\">Job Monitoring - Non Admin Version</a></td><td><ul><li> A simple tutorial about job monitoring for user and developer only </li></td></tr>\n",
    "        <tr><td style=\"background-color:#81D4FA;\"><a href=\"https://gitlab.com/flywheel-io/public/flywheel-tutorials/-/blob/master/python/find-outdated-gear-rule-and-update-with-latest-version.ipynb\">List outdated gear rules and update gear rules for project(s) with latest gear version</a></td><td><ul><li> List all project(s) available and gear rules for the project<br><li>Functions :<br> a. `get_gear_latest_version(fw, gear_id)` function - To get the latest version of a gear<br> b. `cleanup_rule(rule, project=None)` function - Formulate gear rule by taking a rule input object </td></tr>\n",
    "        <tr><td style=\"background-color:#81D4FA;\"><a href=\"https://gitlab.com/flywheel-io/public/flywheel-tutorials/-/blob/master/python/rename-moco-and-acq-label.ipynb\">Rename MoCo Series Acquisition Label</a></td><td><ul><li> Rename MoCo series by adding '_moco' and run time <br><li>Functions : <br> a.  `get_scan_moco_label` : Identify the original scan label<br>b.  `modify_acq_name` : Modify Acquisition name based on the session timepoint<br>c.  `update_acq_label` : Update the acquisition label on the FW instances </td></tr>\n",
    "        <tr><td style=\"background-color:#81D4FA;\"><a href=\"https://gitlab.com/flywheel-io/public/flywheel-tutorials/-/blob/master/python/edit-acquisition-timestamp.ipynb\">Update Acquisition container timestamp (shown in UI) from Dicom Tag SeriesTime in Dicom file</a></td><td><ul><li>Update the Acquisition container timestamp (shown in UI) that is incorrect.<br><li>Functions :<br> a.  `get_updated_timestamp` : Get the updated timestamp <br>b.`modify_time` : Comparing the timestamp shows on the Acquisition container and SeriesTime in Dicom file <br>c.`update_container_timestamp` : Update the acquisition timestamp</td></tr>\n",
    "        <tr><td style=\"background-color:#81D4FA;\"><a href=\"https://gitlab.com/flywheel-io/public/flywheel-tutorials/-/blob/master/python/local-analysis-notebook-on-ss-ce.ipynb\">Run local analysis and upload back to Flywheel</a></td><td>Find and download input file from flywheel, process locally, create an analysis container and upload local process outputs to it.</td></tr>\n",
    "        <tr><td style=\"background-color:#EB984E;\"><a href=\"https://gitlab.com/flywheel-io/public/flywheel-tutorials/-/blob/master/python/RedCap_Intergration.ipynb\">Example calls to REDCap using PyCap</a></td><td><ul><li>An exensive collection of example calls to access various REDCap data using PyCap, in ways that would be useful given the hierarchy of Flywheel Containers.</td></tr>\n",
    "        <tr><td style=\"background-color:#EB984E;\"><a href=\"https://gitlab.com/flywheel-io/public/flywheel-tutorials/-/blob/master/python/add-redcap-data-to-flywheel-container.ipynb\">Full example of adding REDCap data to a Flywheel Container</a></td><td><ul><li> A real example demonstrating how to access REDCap through PyCap, how to search and view the data, and how to add the data to the appropriate flywheel container </li></td></tr></tbody></table>"
   ]
  },
  {
   "cell_type": "code",
   "execution_count": null,
   "metadata": {},
   "outputs": [],
   "source": []
  }
 ],
 "metadata": {
  "kernelspec": {
   "display_name": "Python 3",
   "language": "python",
   "name": "python3"
  },
  "language_info": {
   "codemirror_mode": {
    "name": "ipython",
    "version": 3
   },
   "file_extension": ".py",
   "mimetype": "text/x-python",
   "name": "python",
   "nbconvert_exporter": "python",
   "pygments_lexer": "ipython3",
   "version": "3.7.6"
  },
  "pycharm": {
   "stem_cell": {
    "cell_type": "raw",
    "metadata": {
     "collapsed": false
    },
    "source": []
   }
  }
 },
 "nbformat": 4,
 "nbformat_minor": 4
}
