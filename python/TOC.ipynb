{
 "cells": [
  {
   "cell_type": "markdown",
   "metadata": {},
   "source": [
    "# Table of contents"
   ]
  },
  {
   "cell_type": "markdown",
   "metadata": {},
   "source": [
    "Below is a list of jupyter notebooks that you can quickly jump to.  \n",
    "If you want to go back to the dashboard and manually explore the notebook library instead, go to File/Open from the jupyter notebook menu. "
   ]
  },
  {
   "cell_type": "markdown",
   "metadata": {
    "pycharm": {
     "name": "#%% md\n"
    }
   },
   "source": [
    "|     | Title        | Description             |\n",
    "| --- |:-------------|:------------------------|\n",
    "| 1 | [Add subjects to a collection](add-to-collection-excluding-subjects-in-csv.ipynb )|  <ul><li>Get the project label and collection label (if you have one) you want to edit </li> <li>Parse CSV file that contain Subject Label you want to exclude or any restrain you are looking for </li>|\n",
    "| 2 | [List outdated gear rules and update gear rules for project(s) with latest gear version](find-outdated-gear-rule-and-update-with-latest-version.ipynb)  | <ul><li> List all project(s) available and gear rules for the project  <br> <li>Functions :<br> a. `get_gear_latest_version(fw, gear_id)` function - To get the latest version of a gear <br> b. `cleanup_rule(rule, project=None)` function - Formulate gear rule by taking a rule input object  |\n",
    "| 3 | [Update MoCo Acquisition Label](rename-moco-and-acq-label.ipynb) | <ul><li> Rename MoCo series by adding '_moco' and run time <br><li>Functions : <br> a.  `get_scan_moco_label` : Identify the original scan label<br>b.  `modify_acq_name` : Modify Acquisition name based on the session timepoint<br>c.  `update_acq_label` : Update the acquisition label on the FW instances |\n",
    "| 4 | [Update Acquisition container timestamp (shown in UI) from Dicom Tag SeriesTime in Dicom file](edit-acquisition-timestamp.ipynb) | <ul><li>Update the Acquisition container timestamp (shown in UI) that is incorrect.<br><li>Functions :<br> a.  `get_updated_timestamp` : Get the updated timestamp <br>b.`modify_time` : Comparing the timestamp shows on the Acquisition container and SeriesTime in Dicom file <br>c.`update_container_timestamp` : Update the acquisition timestamp  <br> |\n",
    "| 5 | [Run local analysis and upload back to Flywheel](download-process-locally-upload-to-analysis.ipynb) | Find and download input file from flywheel, process locally, create an analysis container and upload local process outputs to it. |\n",
    "| 6 | [Example calls to REDCap using PyCap](RedCap_Intergration.ipynb) | <ul><li>An exensive collection of example calls to access various REDCap data using PyCap, in ways that would be useful given the hierarchy of Flywheel Containers. <br> |\n",
    "| 7 | [Full example of adding REDCap data to a Flywheel Container](add-redcap-data-to-flywheel-container.ipynb) | <ul><li> A real example demonstrating how to access REDCap through PyCap, how to search and view the data, and how to add the data to the appropriate flywheel container </li><br> |\n",
    "| 8 | [Upload data to a new project](upload-data-to-a-new-project.ipynb) | <ul><li> A simple notebook to create a test project with some dummy data which you can tinker with. Recommeded for novice Flywheel SDK user.</li><br> |\n",
    "| 9 | [Flywheel SDK Example](Flywheel-SDK-Example.ipynb) | <ul><li> A a real-time example in guiding user how to use Flywheel SDK, adapted from Flywheel SDK Documentation.</li><br> |"
   ]
  },
  {
   "cell_type": "code",
   "execution_count": null,
   "metadata": {},
   "outputs": [],
   "source": []
  }
 ],
 "metadata": {
  "kernelspec": {
   "display_name": "Python 3",
   "language": "python",
   "name": "python3"
  },
  "language_info": {
   "codemirror_mode": {
    "name": "ipython",
    "version": 3
   },
   "file_extension": ".py",
   "mimetype": "text/x-python",
   "name": "python",
   "nbconvert_exporter": "python",
   "pygments_lexer": "ipython3",
   "version": "3.7.6"
  },
  "pycharm": {
   "stem_cell": {
    "cell_type": "raw",
    "metadata": {
     "collapsed": false
    },
    "source": []
   }
  }
 },
 "nbformat": 4,
 "nbformat_minor": 4
}
