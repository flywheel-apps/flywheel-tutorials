{
 "cells": [
  {
   "cell_type": "markdown",
   "metadata": {},
   "source": [
    "**Title**: Delete Empty Container with Search <br>\n",
    "**Date**:  09/08/2020 <br>\n",
    "**Description**:  \n",
    "* This notebook will demonstrates how to delete empty acquisitions, sessions and subjects container if only they are empty. \n",
    "* Delete containers by searching for any acquisitions that have no files and remove the parent sessions and subjects container as well. "
   ]
  },
  {
   "cell_type": "markdown",
   "metadata": {},
   "source": [
    "# Install and Import Dependencies"
   ]
  },
  {
   "cell_type": "code",
   "execution_count": null,
   "metadata": {},
   "outputs": [],
   "source": [
    "# Install specific packages required for this notebook\n",
    "!pip install 'flywheel-sdk>=12.0.0' "
   ]
  },
  {
   "cell_type": "code",
   "execution_count": 1,
   "metadata": {},
   "outputs": [],
   "source": [
    "# Import packages\n",
    "from getpass import getpass\n",
    "import logging\n",
    "import datetime\n",
    "from pathlib import Path\n",
    "import os\n",
    "import csv\n",
    "from tqdm.notebook import tqdm\n",
    "\n",
    "import flywheel\n",
    "from permission import check_user_permission\n",
    "import pandas as pd"
   ]
  },
  {
   "cell_type": "code",
   "execution_count": 2,
   "metadata": {},
   "outputs": [],
   "source": [
    " # Instantiate a logger\n",
    "logging.basicConfig(level=logging.INFO, format='%(asctime)s %(levelname)s %(message)s')\n",
    "log = logging.getLogger('root')"
   ]
  },
  {
   "cell_type": "markdown",
   "metadata": {},
   "source": [
    "# Flywheel API Key and Client\n"
   ]
  },
  {
   "cell_type": "markdown",
   "metadata": {},
   "source": [
    "Get your API_KEY. More on this at in the Flywheel SDK doc [here](https://flywheel-io.gitlab.io/product/backend/sdk/branches/master/python/getting_started.html#api-key)."
   ]
  },
  {
   "cell_type": "code",
   "execution_count": null,
   "metadata": {},
   "outputs": [],
   "source": [
    "API_KEY = getpass('Enter API_KEY here: ')"
   ]
  },
  {
   "cell_type": "markdown",
   "metadata": {},
   "source": [
    "Instantiate the Flywheel API client"
   ]
  },
  {
   "cell_type": "code",
   "execution_count": null,
   "metadata": {},
   "outputs": [],
   "source": [
    "fw = flywheel.Client(API_KEY if 'API_KEY' in locals() else os.environ.get('FW_KEY'))\n",
    "\n",
    "del API_KEY"
   ]
  },
  {
   "cell_type": "markdown",
   "metadata": {},
   "source": [
    "Show Flywheel logging information"
   ]
  },
  {
   "cell_type": "code",
   "execution_count": null,
   "metadata": {},
   "outputs": [],
   "source": [
    "log.info('You are now logged in as %s to %s', fw.get_current_user()['email'], fw.get_config()['site']['api_url'])"
   ]
  },
  {
   "cell_type": "markdown",
   "metadata": {},
   "source": [
    "# Overview"
   ]
  },
  {
   "cell_type": "markdown",
   "metadata": {},
   "source": [
    "- How this notebook differs from the top-down delete containers version?\n",
    "- Able to iterate through each acquisition to grab a list of empty acquisition -> then delete the acq and its parent session and subject container."
   ]
  },
  {
   "cell_type": "markdown",
   "metadata": {},
   "source": [
    "# Requirements"
   ]
  },
  {
   "cell_type": "markdown",
   "metadata": {},
   "source": [
    "In order to run this notebook, you will need to have the right permission on the Group level to create a new Project for testing."
   ]
  },
  {
   "cell_type": "code",
   "execution_count": 3,
   "metadata": {},
   "outputs": [],
   "source": [
    "# Minimum requirements that you will need to remove containers on the Project level. \n",
    "min_reqs = {\n",
    "\"site\": \"user\",\n",
    "\"group\": \"admin\"\n",
    "}"
   ]
  },
  {
   "cell_type": "code",
   "execution_count": null,
   "metadata": {},
   "outputs": [],
   "source": [
    "GROUP_ID = input('Please enter the Group ID that you will be using to create the new project: ')"
   ]
  },
  {
   "cell_type": "code",
   "execution_count": null,
   "metadata": {},
   "outputs": [],
   "source": [
    "check_user_permission(fw, min_reqs, group = GROUP_ID)"
   ]
  },
  {
   "cell_type": "markdown",
   "metadata": {},
   "source": [
    "# Initialize a few values\n",
    "Now, we will be defining a few values that will be use in this notebook. The `GROUP_ID` is the Group ID that you will be using throughout this notebook. \n"
   ]
  },
  {
   "cell_type": "code",
   "execution_count": null,
   "metadata": {},
   "outputs": [],
   "source": [
    "GROUP_ID = input('Please enter the Group that you have admin permission for')"
   ]
  },
  {
   "cell_type": "code",
   "execution_count": null,
   "metadata": {},
   "outputs": [],
   "source": [
    "PROJECT_LABEL = 'test-delete-containers-project'"
   ]
  },
  {
   "cell_type": "code",
   "execution_count": null,
   "metadata": {},
   "outputs": [],
   "source": [
    "path_to_test_file = Path(\"source_folder/to_your/test_file.dicom.zip\")"
   ]
  },
  {
   "cell_type": "code",
   "execution_count": 4,
   "metadata": {},
   "outputs": [],
   "source": [
    "dummy_filename = '/tmp/dummy.txt'\n",
    "filename = 'dummy.txt'"
   ]
  },
  {
   "cell_type": "code",
   "execution_count": null,
   "metadata": {},
   "outputs": [],
   "source": [
    "with open(dummy_filename, 'w') as fp:\n",
    "    fp.writelines(['Just a dummy text file.'])"
   ]
  },
  {
   "cell_type": "markdown",
   "metadata": {},
   "source": [
    "# Create a Dummy Project"
   ]
  },
  {
   "cell_type": "code",
   "execution_count": null,
   "metadata": {},
   "outputs": [],
   "source": [
    "my_group = fw.lookup(GROUP_ID)"
   ]
  },
  {
   "cell_type": "code",
   "execution_count": null,
   "metadata": {},
   "outputs": [],
   "source": [
    "project=my_group.add_project(label=PROJECT_LABEL)"
   ]
  },
  {
   "cell_type": "markdown",
   "metadata": {},
   "source": [
    "- Talk about having a function `add_subject` to add subject to the dummy project\n"
   ]
  },
  {
   "cell_type": "code",
   "execution_count": null,
   "metadata": {},
   "outputs": [],
   "source": [
    "def add_subject(subj_label, session_label, acq_label):\n",
    "    \"\"\"Add a subject with empty session and acquisition container.\n",
    "    \n",
    "    Args:\n",
    "    \n",
    "    Return:\n",
    "    \n",
    "    \"\"\"\n",
    "    subject = project.add_subject(label=subj_label)\n",
    "    session = subject.add_session(label=session_label)\n",
    "    acquisition = session.add_acquisition(label=acq_label)\n",
    "    return subject"
   ]
  },
  {
   "cell_type": "markdown",
   "metadata": {},
   "source": [
    "First, we will be adding new subjects with a session and an acquisition that have no files."
   ]
  },
  {
   "cell_type": "code",
   "execution_count": null,
   "metadata": {},
   "outputs": [],
   "source": [
    "# Empty dict to store subject container\n",
    "subjects = {}\n",
    "\n",
    "for subj in ['hooky', 'mooky', 'zooky', 'kooky', 'oooky', 'looky', 'pooky']:\n",
    "    subjects[subj] = add_subject(subj, f\"{subj}-sess\", f\"{subj}-acq\")\n",
    "    print(f\"added {subj}\")"
   ]
  },
  {
   "cell_type": "markdown",
   "metadata": {},
   "source": [
    "## Set Up Dummy Project"
   ]
  },
  {
   "cell_type": "markdown",
   "metadata": {},
   "source": [
    "Add a Session with multiple Acquisitions that contain no files to the first Subject `hooky`. "
   ]
  },
  {
   "cell_type": "code",
   "execution_count": null,
   "metadata": {},
   "outputs": [],
   "source": [
    "session = subjects['hooky'].add_session(label='test-multiple-acq')\n",
    "acquisition_1 = session.add_acquisition(label='first-acq')\n",
    "acquisition_2 = session.add_acquisition(label='second-acq')"
   ]
  },
  {
   "cell_type": "markdown",
   "metadata": {},
   "source": [
    "For the second Subject, `mooky`, we will be adding a Session with multiple Acquisitions which contain some files. "
   ]
  },
  {
   "cell_type": "code",
   "execution_count": null,
   "metadata": {},
   "outputs": [],
   "source": [
    "session = subjects['mooky'].add_session(label='test-multiple-acq-with-files')\n",
    "acquisition_1 = session.add_acquisition(label='first-acq')\n",
    "acquisition_1.upload_file(path_to_test_file)\n",
    "acquisition_2 = session.add_acquisition(label='second-acq')\n",
    "acquisition_2.upload_file(dummy_filename) "
   ]
  },
  {
   "cell_type": "markdown",
   "metadata": {},
   "source": [
    "As for the third Subject, `zooky`, a Session will be added with an empty Acquisition and a file will be uploaded to the Session container. "
   ]
  },
  {
   "cell_type": "code",
   "execution_count": null,
   "metadata": {},
   "outputs": [],
   "source": [
    "session = subjects['zooky'].add_session(label='test-session-has-file')\n",
    "acquisition_1 = session.add_acquisition(label='first-acq')\n",
    "acquisition_2 = session.add_acquisition(label='second-acq')\n",
    "session.upload_file(dummy_filename)"
   ]
  },
  {
   "cell_type": "markdown",
   "metadata": {},
   "source": [
    "The fourth Subject, `kooky`, will have two Session container with two Acquisitions and one file will be uploaded to the Subject container"
   ]
  },
  {
   "cell_type": "code",
   "execution_count": null,
   "metadata": {},
   "outputs": [],
   "source": [
    "subjects['kooky'].upload_file(dummy_filename)\n",
    "session = subjects['kooky'].add_session(label='test-multiple-sess1')\n",
    "acquisition_1 = session.add_acquisition(label='first-acq')\n",
    "acquisition_2 = session.add_acquisition(label='second-acq')\n",
    "\n",
    "session_2 = subjects['kooky'].add_session(label='kooky-test-multiple-sess2')\n",
    "acquisition_1 = session_2.add_acquisition(label='kooky-ses2-first-acq')\n",
    "acquisition_2 = session_2.add_acquisition(label='kooky-ses2-second-acq')"
   ]
  },
  {
   "cell_type": "code",
   "execution_count": null,
   "metadata": {},
   "outputs": [],
   "source": []
  },
  {
   "cell_type": "code",
   "execution_count": null,
   "metadata": {},
   "outputs": [],
   "source": []
  },
  {
   "cell_type": "code",
   "execution_count": null,
   "metadata": {},
   "outputs": [],
   "source": []
  },
  {
   "cell_type": "code",
   "execution_count": null,
   "metadata": {},
   "outputs": [],
   "source": []
  },
  {
   "cell_type": "code",
   "execution_count": null,
   "metadata": {},
   "outputs": [],
   "source": []
  },
  {
   "cell_type": "code",
   "execution_count": null,
   "metadata": {},
   "outputs": [],
   "source": []
  }
 ],
 "metadata": {
  "kernelspec": {
   "display_name": "Python 3",
   "language": "python",
   "name": "python3"
  },
  "language_info": {
   "codemirror_mode": {
    "name": "ipython",
    "version": 3
   },
   "file_extension": ".py",
   "mimetype": "text/x-python",
   "name": "python",
   "nbconvert_exporter": "python",
   "pygments_lexer": "ipython3",
   "version": "3.7.6"
  }
 },
 "nbformat": 4,
 "nbformat_minor": 4
}
