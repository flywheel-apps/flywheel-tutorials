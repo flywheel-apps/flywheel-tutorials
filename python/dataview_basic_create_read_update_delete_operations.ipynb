{
  "cells": [
    {
      "cell_type": "markdown",
      "metadata": {
        "id": "-75Bl4DMU6fq"
      },
      "source": [
        "**Title**: Dataviews - basic create, read, update, and delete operations  \n",
        "**Date**:  10-Jun-2022  \n",
        "**Description**:  \n",
        "* This notebook shows the basic CRUD operations for a Dataview, which is a specification for retrieving data from Flywheel.\n",
        "* Also shown are the create and read functions for a Dataview Execution, which represents a run of a dataview.\n"
      ]
    },
    {
      "cell_type": "markdown",
      "metadata": {
        "id": "cndNWjxEU6fu"
      },
      "source": [
        "# Requirements\n",
        "- Access to a Flywheel instance V16.8 or greater where you can create and run dataviews\n",
        "- A project with data (Subjects, Sessions, Acquisitions, and Files)"
      ]
    },
    {
      "cell_type": "markdown",
      "metadata": {
        "id": "t4udzpwOU6fv"
      },
      "source": [
        "The next 2 sections ([Setup](#Setup) and [Flywheel API Key and Client](#Flywheel-API-Key-and-Client)) should be found in any notebook and kept as consistent as possible."
      ]
    },
    {
      "cell_type": "markdown",
      "metadata": {
        "id": "bfA0wFhTU6fv"
      },
      "source": [
        "# <a id='setup'>Setup</a>"
      ]
    },
    {
      "cell_type": "markdown",
      "metadata": {
        "id": "RiE-Rwi-U6fv"
      },
      "source": [
        "Packages required for the execution of this notebook should be installed with `pip` (using the `!` jupyter operator to run shell commands). This is required to ensure that the notebook is \"standalone\" and to avoid any issue with undefined package requirements. It also allows the notebook to be run out of the box on jupyter third party-platforms such as [google collab](https://colab.research.google.com/) or [mybinder.org](https://mybinder.org/)."
      ]
    },
    {
      "cell_type": "code",
      "execution_count": null,
      "metadata": {
        "colab": {
          "base_uri": "https://localhost:8080/"
        },
        "id": "wCIx-kO1U6fw",
        "outputId": "fc9c0cd6-b870-4b35-d3aa-399fd650fa07"
      },
      "outputs": [
        {
          "output_type": "stream",
          "name": "stdout",
          "text": [
            "Looking in indexes: https://pypi.org/simple, https://us-python.pkg.dev/colab-wheels/public/simple/\n",
            "Collecting flywheel-sdk\n",
            "  Downloading flywheel_sdk-16.8.2-py2.py3-none-any.whl (782 kB)\n",
            "\u001b[K     |████████████████████████████████| 782 kB 10.0 MB/s \n",
            "\u001b[?25hCollecting requests-toolbelt\n",
            "  Downloading requests_toolbelt-0.9.1-py2.py3-none-any.whl (54 kB)\n",
            "\u001b[K     |████████████████████████████████| 54 kB 1.0 MB/s \n",
            "\u001b[?25hRequirement already satisfied: requests>=2.18.4 in /usr/local/lib/python3.7/dist-packages (from flywheel-sdk) (2.23.0)\n",
            "Requirement already satisfied: urllib3>=1.15 in /usr/local/lib/python3.7/dist-packages (from flywheel-sdk) (1.24.3)\n",
            "Requirement already satisfied: six>=1.10 in /usr/local/lib/python3.7/dist-packages (from flywheel-sdk) (1.15.0)\n",
            "Requirement already satisfied: python-dateutil in /usr/local/lib/python3.7/dist-packages (from flywheel-sdk) (2.8.2)\n",
            "Requirement already satisfied: certifi in /usr/local/lib/python3.7/dist-packages (from flywheel-sdk) (2022.5.18.1)\n",
            "Requirement already satisfied: chardet<4,>=3.0.2 in /usr/local/lib/python3.7/dist-packages (from requests>=2.18.4->flywheel-sdk) (3.0.4)\n",
            "Requirement already satisfied: idna<3,>=2.5 in /usr/local/lib/python3.7/dist-packages (from requests>=2.18.4->flywheel-sdk) (2.10)\n",
            "Installing collected packages: requests-toolbelt, flywheel-sdk\n",
            "Successfully installed flywheel-sdk-16.8.2 requests-toolbelt-0.9.1\n"
          ]
        }
      ],
      "source": [
        "# Here is an example to install the flywheel SDK\n",
        "!pip install flywheel-sdk"
      ]
    },
    {
      "cell_type": "markdown",
      "metadata": {
        "id": "iBaMZ9auU6fx"
      },
      "source": [
        "Once installed packages get imported. Import should first list Python standard packages and then Third-party packages."
      ]
    },
    {
      "cell_type": "code",
      "execution_count": null,
      "metadata": {
        "id": "DOoRsJaAU6fx"
      },
      "outputs": [],
      "source": [
        "# Python standard package come first\n",
        "from getpass import getpass\n",
        "import logging\n",
        "import os\n",
        "\n",
        "# Third party packages come second\n",
        "import flywheel\n"
      ]
    },
    {
      "cell_type": "markdown",
      "metadata": {
        "id": "2d7TDC2mU6fy"
      },
      "source": [
        "If useful, a logger can be instantiated to display information during notebook execution (e.g. useful to keep track of runtime). "
      ]
    },
    {
      "cell_type": "code",
      "execution_count": null,
      "metadata": {
        "id": "YeIMfMRSU6fz"
      },
      "outputs": [],
      "source": [
        "# Instantiate a logger\n",
        "logging.basicConfig(level=logging.INFO)\n",
        "log = logging.getLogger('root')"
      ]
    },
    {
      "cell_type": "markdown",
      "metadata": {
        "id": "7i87HIvJU6fz"
      },
      "source": [
        "# Flywheel API Key and Client"
      ]
    },
    {
      "cell_type": "markdown",
      "metadata": {
        "id": "C9fLtgdKU6f0"
      },
      "source": [
        "Tutorials based on Jupyter notebooks aim at illustrating interactions with a Flywheel instance using the Flywheel SDK.  \n",
        "To communicate with a Flywheel instance your first need to authenticate with the Flywheel API which required getting an API_KEY for your account. You can get you API_KEY by following the steps described in the Flywheel SDK doc [here](https://flywheel-io.gitlab.io/product/backend/sdk/branches/master/python/getting_started.html#api-key)."
      ]
    },
    {
      "cell_type": "markdown",
      "metadata": {
        "id": "UUaSd7__U6f0"
      },
      "source": [
        "<div class=\"alert alert-block alert-danger\">\n",
        "<b>DANGER:</b> \n",
        "    Do NOT share your API key with anyone for any reason - it is the same as sharing your password and constitutes a HIPAA violation. ALWAYS obscure credentials from your code, especially when sharing with others/commiting to a shared repository.\n",
        "</div>"
      ]
    },
    {
      "cell_type": "code",
      "execution_count": null,
      "metadata": {
        "colab": {
          "base_uri": "https://localhost:8080/"
        },
        "id": "1YwR9a_UU6f0",
        "outputId": "9704ee0f-1353-4126-dafe-85fc282aad29"
      },
      "outputs": [
        {
          "name": "stdout",
          "output_type": "stream",
          "text": [
            "Enter API_KEY here: ··········\n"
          ]
        }
      ],
      "source": [
        "API_KEY = getpass('Enter API_KEY here: ')"
      ]
    },
    {
      "cell_type": "markdown",
      "metadata": {
        "id": "vMEpeH2dU6f1"
      },
      "source": [
        "Instantiate the Flywheel API client either using the API_KEY provided by the user input above or by reading it from the environment variable `FW_KEY`."
      ]
    },
    {
      "cell_type": "code",
      "execution_count": null,
      "metadata": {
        "id": "t-WiaeDOU6f1"
      },
      "outputs": [],
      "source": [
        "fw = flywheel.Client(API_KEY if 'API_KEY' in locals() else os.environ.get('FW_KEY'))"
      ]
    },
    {
      "cell_type": "markdown",
      "metadata": {
        "id": "hU-Uq3cFU6f1"
      },
      "source": [
        "You can check which Flywheel instance you have been authenticated against with the following:"
      ]
    },
    {
      "cell_type": "code",
      "execution_count": null,
      "metadata": {
        "id": "9go3Hc9jU6f1",
        "colab": {
          "base_uri": "https://localhost:8080/"
        },
        "outputId": "4ca155df-1462-4e89-8eb3-6c171c672be5"
      },
      "outputs": [
        {
          "output_type": "stream",
          "name": "stdout",
          "text": [
            "You are now logged in as %s to %s filipmulier@flywheel.io https://rc.qa.flywheel.io/api\n"
          ]
        }
      ],
      "source": [
        "print('You are now logged in as %s to %s', fw.get_current_user()['email'], fw.get_config()['site']['api_url'])"
      ]
    },
    {
      "cell_type": "markdown",
      "metadata": {
        "id": "BeyrKqd8U6f2"
      },
      "source": [
        "# Dataview Example"
      ]
    },
    {
      "cell_type": "markdown",
      "metadata": {
        "id": "WfwHwhZKU6f2"
      },
      "source": [
        "## Constants"
      ]
    },
    {
      "cell_type": "markdown",
      "metadata": {
        "id": "Nty1Qh74U6f2"
      },
      "source": [
        "This notebook requires access to an existing project with data and it will create and execute some dataviews.  The project is specified by providing the path to the project like `group/project` where group is the group id and project is the project label. \n",
        "\n",
        "\n"
      ]
    },
    {
      "cell_type": "code",
      "execution_count": null,
      "metadata": {
        "id": "_GrSUyfeU6f2"
      },
      "outputs": [],
      "source": [
        "PROJECT_PATH = 'prod/Alzheimers'"
      ]
    },
    {
      "cell_type": "markdown",
      "metadata": {
        "id": "BLp61dFJU6f5"
      },
      "source": [
        "## Dataview CRUD"
      ]
    },
    {
      "cell_type": "markdown",
      "source": [
        "This section covers create, read, update, and delete operations for the Dataview.  Each of these starts with specifying the project."
      ],
      "metadata": {
        "id": "pZg1YixIH00p"
      }
    },
    {
      "cell_type": "markdown",
      "source": [
        "### Create a Dataview"
      ],
      "metadata": {
        "id": "6SRygpKWGcSb"
      }
    },
    {
      "cell_type": "code",
      "source": [
        "# select the project\n",
        "project = fw.lookup(PROJECT_PATH)"
      ],
      "metadata": {
        "id": "Zs7k5YZ7GbSj"
      },
      "execution_count": null,
      "outputs": []
    },
    {
      "cell_type": "code",
      "source": [
        "#pick the columns\n",
        "columns = ['subject.label',\n",
        "           'subject.mlset',\n",
        "           'session.info.age_years',\n",
        "           'acquisition.id',\n",
        "           'file.file_id',\n",
        "           'file.name' ] "
      ],
      "metadata": {
        "id": "u07kscvFGmxD"
      },
      "execution_count": null,
      "outputs": []
    },
    {
      "cell_type": "code",
      "source": [
        "# Specify the dataview\n",
        "builder = flywheel.ViewBuilder(label='SDK Data View', #label of the dataview as shown in Flywheel\n",
        "                              columns = columns,\n",
        "                              container='acquisition', #Needed for file metadata at acquisition level\n",
        "                              filename='*.*', # Needed for file metadata\n",
        "                              match='all',\n",
        "                              process_files=False,\n",
        "                              include_ids=False,\n",
        "                              include_labels=False,\n",
        "                              sort=False,\n",
        "                              )"
      ],
      "metadata": {
        "id": "cAHPKvN3G-kG"
      },
      "execution_count": null,
      "outputs": []
    },
    {
      "cell_type": "code",
      "source": [
        "# Create the dataview specification\n",
        "sdk_dataview = builder.build()"
      ],
      "metadata": {
        "id": "zD8s6vM_HOa7"
      },
      "execution_count": null,
      "outputs": []
    },
    {
      "cell_type": "code",
      "source": [
        "# Create the Dataview in Flywheel\n",
        "view_id = fw.add_view(project.id, sdk_dataview)"
      ],
      "metadata": {
        "id": "8BCXwLC_HYdy"
      },
      "execution_count": null,
      "outputs": []
    },
    {
      "cell_type": "markdown",
      "source": [
        "You should now see a dataview called 'SDK Data View' in the list of project dataviews."
      ],
      "metadata": {
        "id": "-t47Faa3HiGF"
      }
    },
    {
      "cell_type": "markdown",
      "metadata": {
        "id": "uuZdzx9fU6f5"
      },
      "source": [
        "### Read Dataviews"
      ]
    },
    {
      "cell_type": "code",
      "source": [
        "# select the project\n",
        "project = fw.lookup(PROJECT_PATH)"
      ],
      "metadata": {
        "id": "jknMFZLRItfE"
      },
      "execution_count": null,
      "outputs": []
    },
    {
      "cell_type": "code",
      "source": [
        "# get all the data views in the project\n",
        "view_list = fw.get_views(project.id)\n",
        "\n",
        "#Build a dictionary to be able to lookup the ID given a dataview label\n",
        "#Note this assumes the list of dataview labels are unique\n",
        "dv_to_id = dict(list(map(lambda x: (x['label'],x['_id']),view_list))) "
      ],
      "metadata": {
        "id": "d2Xxr136ItW-"
      },
      "execution_count": null,
      "outputs": []
    },
    {
      "cell_type": "code",
      "source": [
        "view = fw.get_view(dv_to_id['SDK Data View'])\n",
        "print(view)"
      ],
      "metadata": {
        "colab": {
          "base_uri": "https://localhost:8080/"
        },
        "id": "LZXZMno9ItOY",
        "outputId": "b040ec4b-2de4-4a50-f866-5f7cc3c220ea"
      },
      "execution_count": null,
      "outputs": [
        {
          "output_type": "stream",
          "name": "stdout",
          "text": [
            "{'columns': [{'accumulator': None,\n",
            "              'dst': None,\n",
            "              'expr': None,\n",
            "              'src': 'subject.label',\n",
            "              'type': None},\n",
            "             {'accumulator': None,\n",
            "              'dst': None,\n",
            "              'expr': None,\n",
            "              'src': 'subject.mlset',\n",
            "              'type': None},\n",
            "             {'accumulator': None,\n",
            "              'dst': None,\n",
            "              'expr': None,\n",
            "              'src': 'session.info.age_years',\n",
            "              'type': None},\n",
            "             {'accumulator': None,\n",
            "              'dst': None,\n",
            "              'expr': None,\n",
            "              'src': 'acquisition.id',\n",
            "              'type': None},\n",
            "             {'accumulator': None,\n",
            "              'dst': None,\n",
            "              'expr': None,\n",
            "              'src': 'file.file_id',\n",
            "              'type': None},\n",
            "             {'accumulator': None,\n",
            "              'dst': None,\n",
            "              'expr': None,\n",
            "              'src': 'file.name',\n",
            "              'type': None}],\n",
            " 'description': None,\n",
            " 'error_column': True,\n",
            " 'file_spec': {'analysis_filter': None,\n",
            "               'columns': [],\n",
            "               'container': 'acquisition',\n",
            "               'filter': {'regex': None, 'value': '*.*'},\n",
            "               'format': None,\n",
            "               'format_options': {},\n",
            "               'match': 'all',\n",
            "               'process_files': False,\n",
            "               'zip_member': None},\n",
            " 'filter': None,\n",
            " 'group_by': None,\n",
            " 'id': '62a39ed3fd07ebb0ca2b80aa',\n",
            " 'include_ids': False,\n",
            " 'include_labels': False,\n",
            " 'label': 'SDK Data View',\n",
            " 'missing_data_strategy': None,\n",
            " 'origin': {'id': 'filipmulier@flywheel.io', 'type': 'user'},\n",
            " 'parent': '626c3557221ec26437d1675e',\n",
            " 'sort': None}\n"
          ]
        }
      ]
    },
    {
      "cell_type": "markdown",
      "source": [
        "### Update the Dataview"
      ],
      "metadata": {
        "id": "fpnGhkBQJxL3"
      }
    },
    {
      "cell_type": "code",
      "source": [
        "# Here are the keys we can update\n",
        "view.keys()"
      ],
      "metadata": {
        "colab": {
          "base_uri": "https://localhost:8080/"
        },
        "id": "rRjCRpdIJ0D9",
        "outputId": "ababe76b-2b0d-4499-de8d-d854bba28262"
      },
      "execution_count": null,
      "outputs": [
        {
          "output_type": "execute_result",
          "data": {
            "text/plain": [
              "dict_keys(['parent', 'label', 'description', 'columns', 'groupBy', 'filter', 'fileSpec', 'includeIds', 'includeLabels', 'errorColumn', 'missingDataStrategy', 'sort', '_id', 'origin'])"
            ]
          },
          "metadata": {},
          "execution_count": 16
        }
      ]
    },
    {
      "cell_type": "code",
      "source": [
        "# change the description\n",
        "changes = {'description':\"This is a test DV\"}\n",
        "fw.modify_view(view.id, changes)"
      ],
      "metadata": {
        "colab": {
          "base_uri": "https://localhost:8080/"
        },
        "id": "bUroKNQAKB0K",
        "outputId": "8e16da81-df61-434e-88f1-fcfc69afefd0"
      },
      "execution_count": null,
      "outputs": [
        {
          "output_type": "execute_result",
          "data": {
            "text/plain": [
              "{'modified': 1}"
            ]
          },
          "metadata": {},
          "execution_count": 17
        }
      ]
    },
    {
      "cell_type": "code",
      "source": [
        "# Check that its changed\n",
        "view = fw.get_view(dv_to_id['SDK Data View'])\n",
        "view.description"
      ],
      "metadata": {
        "colab": {
          "base_uri": "https://localhost:8080/",
          "height": 35
        },
        "id": "cMTRvuvDKE8w",
        "outputId": "52f8588a-127d-41c4-ec0d-ff04cae95375"
      },
      "execution_count": null,
      "outputs": [
        {
          "output_type": "execute_result",
          "data": {
            "text/plain": [
              "'This is a test DV'"
            ],
            "application/vnd.google.colaboratory.intrinsic+json": {
              "type": "string"
            }
          },
          "metadata": {},
          "execution_count": 18
        }
      ]
    },
    {
      "cell_type": "code",
      "source": [
        "#Lets change a column next \n",
        "new_cols = {}\n",
        "#Isolate all the columns\n",
        "new_cols['columns'] = view.columns "
      ],
      "metadata": {
        "id": "hYqMGd1HKNTg"
      },
      "execution_count": null,
      "outputs": []
    },
    {
      "cell_type": "code",
      "source": [
        "# Show the second column\n",
        "new_cols['columns'][1]"
      ],
      "metadata": {
        "colab": {
          "base_uri": "https://localhost:8080/"
        },
        "id": "xv78P6iyKPMf",
        "outputId": "2b222abc-4fb0-4a7a-eba8-0816288763c5"
      },
      "execution_count": null,
      "outputs": [
        {
          "output_type": "execute_result",
          "data": {
            "text/plain": [
              "{'accumulator': None,\n",
              " 'dst': None,\n",
              " 'expr': None,\n",
              " 'src': 'subject.mlset',\n",
              " 'type': None}"
            ]
          },
          "metadata": {},
          "execution_count": 20
        }
      ]
    },
    {
      "cell_type": "code",
      "source": [
        "# Modify the column\n",
        "new_cols['columns'][1]['src'] = \"subject.cohort\"\n",
        "fw.modify_view(view.id, new_cols)"
      ],
      "metadata": {
        "colab": {
          "base_uri": "https://localhost:8080/"
        },
        "id": "LJaNRg_4KXxI",
        "outputId": "2e23879f-6227-4cd1-fb57-704bac080ab2"
      },
      "execution_count": null,
      "outputs": [
        {
          "output_type": "execute_result",
          "data": {
            "text/plain": [
              "{'modified': 1}"
            ]
          },
          "metadata": {},
          "execution_count": 21
        }
      ]
    },
    {
      "cell_type": "code",
      "source": [
        "# Check that its changed\n",
        "view = fw.get_view(dv_to_id['SDK Data View'])\n",
        "view"
      ],
      "metadata": {
        "colab": {
          "base_uri": "https://localhost:8080/"
        },
        "id": "r_qJ2ZQiKh1F",
        "outputId": "fb9ab5e4-2abf-423b-a6e5-f897c192f8ea"
      },
      "execution_count": null,
      "outputs": [
        {
          "output_type": "execute_result",
          "data": {
            "text/plain": [
              "{'columns': [{'accumulator': None,\n",
              "              'dst': None,\n",
              "              'expr': None,\n",
              "              'src': 'subject.label',\n",
              "              'type': None},\n",
              "             {'accumulator': None,\n",
              "              'dst': None,\n",
              "              'expr': None,\n",
              "              'src': 'subject.cohort',\n",
              "              'type': None},\n",
              "             {'accumulator': None,\n",
              "              'dst': None,\n",
              "              'expr': None,\n",
              "              'src': 'session.info.age_years',\n",
              "              'type': None},\n",
              "             {'accumulator': None,\n",
              "              'dst': None,\n",
              "              'expr': None,\n",
              "              'src': 'acquisition.id',\n",
              "              'type': None},\n",
              "             {'accumulator': None,\n",
              "              'dst': None,\n",
              "              'expr': None,\n",
              "              'src': 'file.file_id',\n",
              "              'type': None},\n",
              "             {'accumulator': None,\n",
              "              'dst': None,\n",
              "              'expr': None,\n",
              "              'src': 'file.name',\n",
              "              'type': None}],\n",
              " 'description': 'This is a test DV',\n",
              " 'error_column': True,\n",
              " 'file_spec': None,\n",
              " 'filter': None,\n",
              " 'group_by': None,\n",
              " 'id': '62a39ed3fd07ebb0ca2b80aa',\n",
              " 'include_ids': False,\n",
              " 'include_labels': False,\n",
              " 'label': 'SDK Data View',\n",
              " 'missing_data_strategy': None,\n",
              " 'origin': {'id': 'filipmulier@flywheel.io', 'type': 'user'},\n",
              " 'parent': '626c3557221ec26437d1675e',\n",
              " 'sort': None}"
            ]
          },
          "metadata": {},
          "execution_count": 22
        }
      ]
    },
    {
      "cell_type": "markdown",
      "source": [
        "### Delete a Dataview"
      ],
      "metadata": {
        "id": "fTZAEgpXK0ny"
      }
    },
    {
      "cell_type": "code",
      "source": [
        "# We just need the id to delete a dataview\n",
        "fw.delete_view(dv_to_id['SDK Data View'])"
      ],
      "metadata": {
        "colab": {
          "base_uri": "https://localhost:8080/"
        },
        "id": "8FkvMHL5K3nf",
        "outputId": "95dabd6d-8e29-4d10-beb4-34fbf593dfe2"
      },
      "execution_count": null,
      "outputs": [
        {
          "output_type": "execute_result",
          "data": {
            "text/plain": [
              "{'deleted': 1}"
            ]
          },
          "metadata": {},
          "execution_count": 23
        }
      ]
    },
    {
      "cell_type": "markdown",
      "metadata": {
        "id": "v8d4-gbZU6f5"
      },
      "source": [
        "In this script, we will be retrieving the Project ID and a message will be printed to notify the user whether the project exist or not."
      ]
    },
    {
      "cell_type": "code",
      "execution_count": null,
      "metadata": {
        "id": "MwlWVXcZU6f5"
      },
      "outputs": [],
      "source": [
        "project_id = get_project_id(fw, PROJECT_LABEL)\n",
        "if project_id:\n",
        "    print(f'Project ID is: {project_id}.')\n",
        "else:\n",
        "    print(f'No Project with label {PROJECT_LABEL} found.')"
      ]
    },
    {
      "cell_type": "markdown",
      "source": [
        "## Dataview Executions - Create, Read\n",
        "Beginning with Flywheel V16.8 Dataview execution is managed in a queue. This section cover creating a Dataview, executing it, reading the data into a dataframe, and reading the queue."
      ],
      "metadata": {
        "id": "soeVjm3AMLn5"
      }
    },
    {
      "cell_type": "markdown",
      "source": [
        "## Create a Dataview Execution\n",
        " The operations in this section cover creating a Dataview and executing it.  "
      ],
      "metadata": {
        "id": "QSa8HhvHLM-N"
      }
    },
    {
      "cell_type": "code",
      "source": [
        "# select the project\n",
        "project = fw.lookup(PROJECT_PATH)"
      ],
      "metadata": {
        "id": "lzb2nO66NFlv"
      },
      "execution_count": null,
      "outputs": []
    },
    {
      "cell_type": "code",
      "source": [
        "#pick the columns\n",
        "columns = ['subject.label',\n",
        "           'subject.mlset',\n",
        "           'session.info.age_years',\n",
        "           'acquisition.id',\n",
        "           'file.file_id',\n",
        "           'file.name' ] "
      ],
      "metadata": {
        "id": "RnZTgE9uNFl9"
      },
      "execution_count": null,
      "outputs": []
    },
    {
      "cell_type": "code",
      "source": [
        "# Specify the dataview\n",
        "builder = flywheel.ViewBuilder(label='SDK Data View', #label of the dataview as shown in Flywheel\n",
        "                              columns = columns,\n",
        "                              container='acquisition', #Needed for file metadata at acquisition level\n",
        "                              filename='*.*', # Needed for file metadata\n",
        "                              match='all',\n",
        "                              process_files=False,\n",
        "                              include_ids=False,\n",
        "                              include_labels=False,\n",
        "                              sort=False,\n",
        "                              )"
      ],
      "metadata": {
        "id": "K9QxeCb_NFl9"
      },
      "execution_count": null,
      "outputs": []
    },
    {
      "cell_type": "code",
      "source": [
        "# Create the dataview specification\n",
        "sdk_dataview = builder.build()"
      ],
      "metadata": {
        "id": "jC3zQP2uNFl9"
      },
      "execution_count": null,
      "outputs": []
    },
    {
      "cell_type": "code",
      "source": [
        "# Create the Dataview in Flywheel, execute it, and wait for return.\n",
        "df = fw.read_view_dataframe(sdk_dataview, project.id)"
      ],
      "metadata": {
        "id": "TudUDU8gNFl9"
      },
      "execution_count": null,
      "outputs": []
    },
    {
      "cell_type": "code",
      "source": [
        "display(df)"
      ],
      "metadata": {
        "colab": {
          "base_uri": "https://localhost:8080/",
          "height": 424
        },
        "id": "jz_LQOFVNXfN",
        "outputId": "e13fcbba-1179-4d39-931c-a525d2c78b22"
      },
      "execution_count": null,
      "outputs": [
        {
          "output_type": "display_data",
          "data": {
            "text/plain": [
              "      subject.label subject.mlset  session.info.age_years  \\\n",
              "0                 1                                   NaN   \n",
              "1                 1                                   NaN   \n",
              "2                 1                                   NaN   \n",
              "3                 1                                   NaN   \n",
              "4                 1                                   NaN   \n",
              "...             ...           ...                     ...   \n",
              "1803             10                                   NaN   \n",
              "1804             10                                   NaN   \n",
              "1805             10                                   NaN   \n",
              "1806             10                                   NaN   \n",
              "1807             10                                   NaN   \n",
              "\n",
              "                acquisition.id              file.file_id  \\\n",
              "0     626c368f9d2d9e35cd43b882  626c44a2844917499743b502   \n",
              "1     626c368f9d2d9e35cd43b882  626c37d7db43ed5a0243a842   \n",
              "2     626c368f7a26f3654cd160ef  626c54aec345a39433d1592f   \n",
              "3     626c368f7a26f3654cd160ef  626c3c12db43ed5a0243aa01   \n",
              "4     626c368f9d2d9e35cd43b883  626c3f7d7a26f3654cd164e0   \n",
              "...                        ...                       ...   \n",
              "1803  626c36aa221ec26437d16874  626c3bc9d5aa2a45dbd1aaf0   \n",
              "1804  626c36aa9d2d9e35cd43b915  626c3e58d5aa2a45dbd1abf4   \n",
              "1805  626c36aa9d2d9e35cd43b915  626c52717a26f3654cd169ac   \n",
              "1806  626c36aa221ec26437d16875  626c51c19d2d9e35cd43bfdc   \n",
              "1807  626c36aa221ec26437d16875  626c48bedb43ed5a0243ae34   \n",
              "\n",
              "                        file.name errors  \n",
              "0                AAHScout.dcm.zip         \n",
              "1                 AAHScout.nii.gz         \n",
              "2               BIAS_64CH.dcm.zip         \n",
              "3                BIAS_64CH.nii.gz         \n",
              "4                 BIAS_BC.dcm.zip         \n",
              "...                           ...    ...  \n",
              "1803   rfMRI_REST_PA_SBRef.nii.gz         \n",
              "1804        rfMRI_REST_PA.dcm.zip         \n",
              "1805         rfMRI_REST_PA.nii.gz         \n",
              "1806  rfMRI_REST_PA_SBRef.dcm.zip         \n",
              "1807   rfMRI_REST_PA_SBRef.nii.gz         \n",
              "\n",
              "[1808 rows x 7 columns]"
            ],
            "text/html": [
              "\n",
              "  <div id=\"df-7c7faf9a-1ff3-480d-84ec-b779cd8ddbf9\">\n",
              "    <div class=\"colab-df-container\">\n",
              "      <div>\n",
              "<style scoped>\n",
              "    .dataframe tbody tr th:only-of-type {\n",
              "        vertical-align: middle;\n",
              "    }\n",
              "\n",
              "    .dataframe tbody tr th {\n",
              "        vertical-align: top;\n",
              "    }\n",
              "\n",
              "    .dataframe thead th {\n",
              "        text-align: right;\n",
              "    }\n",
              "</style>\n",
              "<table border=\"1\" class=\"dataframe\">\n",
              "  <thead>\n",
              "    <tr style=\"text-align: right;\">\n",
              "      <th></th>\n",
              "      <th>subject.label</th>\n",
              "      <th>subject.mlset</th>\n",
              "      <th>session.info.age_years</th>\n",
              "      <th>acquisition.id</th>\n",
              "      <th>file.file_id</th>\n",
              "      <th>file.name</th>\n",
              "      <th>errors</th>\n",
              "    </tr>\n",
              "  </thead>\n",
              "  <tbody>\n",
              "    <tr>\n",
              "      <th>0</th>\n",
              "      <td>1</td>\n",
              "      <td></td>\n",
              "      <td>NaN</td>\n",
              "      <td>626c368f9d2d9e35cd43b882</td>\n",
              "      <td>626c44a2844917499743b502</td>\n",
              "      <td>AAHScout.dcm.zip</td>\n",
              "      <td></td>\n",
              "    </tr>\n",
              "    <tr>\n",
              "      <th>1</th>\n",
              "      <td>1</td>\n",
              "      <td></td>\n",
              "      <td>NaN</td>\n",
              "      <td>626c368f9d2d9e35cd43b882</td>\n",
              "      <td>626c37d7db43ed5a0243a842</td>\n",
              "      <td>AAHScout.nii.gz</td>\n",
              "      <td></td>\n",
              "    </tr>\n",
              "    <tr>\n",
              "      <th>2</th>\n",
              "      <td>1</td>\n",
              "      <td></td>\n",
              "      <td>NaN</td>\n",
              "      <td>626c368f7a26f3654cd160ef</td>\n",
              "      <td>626c54aec345a39433d1592f</td>\n",
              "      <td>BIAS_64CH.dcm.zip</td>\n",
              "      <td></td>\n",
              "    </tr>\n",
              "    <tr>\n",
              "      <th>3</th>\n",
              "      <td>1</td>\n",
              "      <td></td>\n",
              "      <td>NaN</td>\n",
              "      <td>626c368f7a26f3654cd160ef</td>\n",
              "      <td>626c3c12db43ed5a0243aa01</td>\n",
              "      <td>BIAS_64CH.nii.gz</td>\n",
              "      <td></td>\n",
              "    </tr>\n",
              "    <tr>\n",
              "      <th>4</th>\n",
              "      <td>1</td>\n",
              "      <td></td>\n",
              "      <td>NaN</td>\n",
              "      <td>626c368f9d2d9e35cd43b883</td>\n",
              "      <td>626c3f7d7a26f3654cd164e0</td>\n",
              "      <td>BIAS_BC.dcm.zip</td>\n",
              "      <td></td>\n",
              "    </tr>\n",
              "    <tr>\n",
              "      <th>...</th>\n",
              "      <td>...</td>\n",
              "      <td>...</td>\n",
              "      <td>...</td>\n",
              "      <td>...</td>\n",
              "      <td>...</td>\n",
              "      <td>...</td>\n",
              "      <td>...</td>\n",
              "    </tr>\n",
              "    <tr>\n",
              "      <th>1803</th>\n",
              "      <td>10</td>\n",
              "      <td></td>\n",
              "      <td>NaN</td>\n",
              "      <td>626c36aa221ec26437d16874</td>\n",
              "      <td>626c3bc9d5aa2a45dbd1aaf0</td>\n",
              "      <td>rfMRI_REST_PA_SBRef.nii.gz</td>\n",
              "      <td></td>\n",
              "    </tr>\n",
              "    <tr>\n",
              "      <th>1804</th>\n",
              "      <td>10</td>\n",
              "      <td></td>\n",
              "      <td>NaN</td>\n",
              "      <td>626c36aa9d2d9e35cd43b915</td>\n",
              "      <td>626c3e58d5aa2a45dbd1abf4</td>\n",
              "      <td>rfMRI_REST_PA.dcm.zip</td>\n",
              "      <td></td>\n",
              "    </tr>\n",
              "    <tr>\n",
              "      <th>1805</th>\n",
              "      <td>10</td>\n",
              "      <td></td>\n",
              "      <td>NaN</td>\n",
              "      <td>626c36aa9d2d9e35cd43b915</td>\n",
              "      <td>626c52717a26f3654cd169ac</td>\n",
              "      <td>rfMRI_REST_PA.nii.gz</td>\n",
              "      <td></td>\n",
              "    </tr>\n",
              "    <tr>\n",
              "      <th>1806</th>\n",
              "      <td>10</td>\n",
              "      <td></td>\n",
              "      <td>NaN</td>\n",
              "      <td>626c36aa221ec26437d16875</td>\n",
              "      <td>626c51c19d2d9e35cd43bfdc</td>\n",
              "      <td>rfMRI_REST_PA_SBRef.dcm.zip</td>\n",
              "      <td></td>\n",
              "    </tr>\n",
              "    <tr>\n",
              "      <th>1807</th>\n",
              "      <td>10</td>\n",
              "      <td></td>\n",
              "      <td>NaN</td>\n",
              "      <td>626c36aa221ec26437d16875</td>\n",
              "      <td>626c48bedb43ed5a0243ae34</td>\n",
              "      <td>rfMRI_REST_PA_SBRef.nii.gz</td>\n",
              "      <td></td>\n",
              "    </tr>\n",
              "  </tbody>\n",
              "</table>\n",
              "<p>1808 rows × 7 columns</p>\n",
              "</div>\n",
              "      <button class=\"colab-df-convert\" onclick=\"convertToInteractive('df-7c7faf9a-1ff3-480d-84ec-b779cd8ddbf9')\"\n",
              "              title=\"Convert this dataframe to an interactive table.\"\n",
              "              style=\"display:none;\">\n",
              "        \n",
              "  <svg xmlns=\"http://www.w3.org/2000/svg\" height=\"24px\"viewBox=\"0 0 24 24\"\n",
              "       width=\"24px\">\n",
              "    <path d=\"M0 0h24v24H0V0z\" fill=\"none\"/>\n",
              "    <path d=\"M18.56 5.44l.94 2.06.94-2.06 2.06-.94-2.06-.94-.94-2.06-.94 2.06-2.06.94zm-11 1L8.5 8.5l.94-2.06 2.06-.94-2.06-.94L8.5 2.5l-.94 2.06-2.06.94zm10 10l.94 2.06.94-2.06 2.06-.94-2.06-.94-.94-2.06-.94 2.06-2.06.94z\"/><path d=\"M17.41 7.96l-1.37-1.37c-.4-.4-.92-.59-1.43-.59-.52 0-1.04.2-1.43.59L10.3 9.45l-7.72 7.72c-.78.78-.78 2.05 0 2.83L4 21.41c.39.39.9.59 1.41.59.51 0 1.02-.2 1.41-.59l7.78-7.78 2.81-2.81c.8-.78.8-2.07 0-2.86zM5.41 20L4 18.59l7.72-7.72 1.47 1.35L5.41 20z\"/>\n",
              "  </svg>\n",
              "      </button>\n",
              "      \n",
              "  <style>\n",
              "    .colab-df-container {\n",
              "      display:flex;\n",
              "      flex-wrap:wrap;\n",
              "      gap: 12px;\n",
              "    }\n",
              "\n",
              "    .colab-df-convert {\n",
              "      background-color: #E8F0FE;\n",
              "      border: none;\n",
              "      border-radius: 50%;\n",
              "      cursor: pointer;\n",
              "      display: none;\n",
              "      fill: #1967D2;\n",
              "      height: 32px;\n",
              "      padding: 0 0 0 0;\n",
              "      width: 32px;\n",
              "    }\n",
              "\n",
              "    .colab-df-convert:hover {\n",
              "      background-color: #E2EBFA;\n",
              "      box-shadow: 0px 1px 2px rgba(60, 64, 67, 0.3), 0px 1px 3px 1px rgba(60, 64, 67, 0.15);\n",
              "      fill: #174EA6;\n",
              "    }\n",
              "\n",
              "    [theme=dark] .colab-df-convert {\n",
              "      background-color: #3B4455;\n",
              "      fill: #D2E3FC;\n",
              "    }\n",
              "\n",
              "    [theme=dark] .colab-df-convert:hover {\n",
              "      background-color: #434B5C;\n",
              "      box-shadow: 0px 1px 3px 1px rgba(0, 0, 0, 0.15);\n",
              "      filter: drop-shadow(0px 1px 2px rgba(0, 0, 0, 0.3));\n",
              "      fill: #FFFFFF;\n",
              "    }\n",
              "  </style>\n",
              "\n",
              "      <script>\n",
              "        const buttonEl =\n",
              "          document.querySelector('#df-7c7faf9a-1ff3-480d-84ec-b779cd8ddbf9 button.colab-df-convert');\n",
              "        buttonEl.style.display =\n",
              "          google.colab.kernel.accessAllowed ? 'block' : 'none';\n",
              "\n",
              "        async function convertToInteractive(key) {\n",
              "          const element = document.querySelector('#df-7c7faf9a-1ff3-480d-84ec-b779cd8ddbf9');\n",
              "          const dataTable =\n",
              "            await google.colab.kernel.invokeFunction('convertToInteractive',\n",
              "                                                     [key], {});\n",
              "          if (!dataTable) return;\n",
              "\n",
              "          const docLinkHtml = 'Like what you see? Visit the ' +\n",
              "            '<a target=\"_blank\" href=https://colab.research.google.com/notebooks/data_table.ipynb>data table notebook</a>'\n",
              "            + ' to learn more about interactive tables.';\n",
              "          element.innerHTML = '';\n",
              "          dataTable['output_type'] = 'display_data';\n",
              "          await google.colab.output.renderOutput(dataTable, element);\n",
              "          const docLink = document.createElement('div');\n",
              "          docLink.innerHTML = docLinkHtml;\n",
              "          element.appendChild(docLink);\n",
              "        }\n",
              "      </script>\n",
              "    </div>\n",
              "  </div>\n",
              "  "
            ]
          },
          "metadata": {}
        }
      ]
    },
    {
      "cell_type": "markdown",
      "source": [
        "### Dataview Execution Read"
      ],
      "metadata": {
        "id": "0lu9ntRtRG-P"
      }
    },
    {
      "cell_type": "code",
      "source": [
        "# Get the list of all dataview executions on the project\n",
        "executions_list = fw.get_all_data_view_executions()"
      ],
      "metadata": {
        "id": "J4IRuFGqQnde"
      },
      "execution_count": null,
      "outputs": []
    },
    {
      "cell_type": "code",
      "source": [
        "# Here is the last one on the list\n",
        "last_execution = executions_list[-1]\n",
        "last_execution"
      ],
      "metadata": {
        "colab": {
          "base_uri": "https://localhost:8080/"
        },
        "id": "aVE5qTMfRk1o",
        "outputId": "1dea1040-ee85-455c-d041-1fca83ddc213"
      },
      "execution_count": null,
      "outputs": [
        {
          "output_type": "execute_result",
          "data": {
            "text/plain": [
              "{'created': datetime.datetime(2022, 6, 10, 20, 1, 47, 199000, tzinfo=tzlocal()),\n",
              " 'data_view_id': None,\n",
              " 'expires_on': datetime.datetime(2022, 7, 10, 20, 1, 47, 199000, tzinfo=tzlocal()),\n",
              " 'id': '62a3a32b21b90b162ac27752',\n",
              " 'modified': datetime.datetime(2022, 6, 10, 20, 1, 59, 42000, tzinfo=tzlocal()),\n",
              " 'project_id': '626c3557221ec26437d1675e',\n",
              " 'revision': 4,\n",
              " 'state': 'completed',\n",
              " 'storage_file_id': '62a3a337300bdd1b3235277b',\n",
              " 'task_id': '42e08468-684e-4032-b358-9ead2faa136e',\n",
              " 'timestamp_ran': datetime.datetime(2022, 6, 10, 20, 1, 47, 248000, tzinfo=tzlocal()),\n",
              " 'user_id': 'filipmulier@flywheel.io'}"
            ]
          },
          "metadata": {},
          "execution_count": 31
        }
      ]
    }
  ],
  "metadata": {
    "kernelspec": {
      "display_name": "Python 3",
      "language": "python",
      "name": "python3"
    },
    "language_info": {
      "codemirror_mode": {
        "name": "ipython",
        "version": 3
      },
      "file_extension": ".py",
      "mimetype": "text/x-python",
      "name": "python",
      "nbconvert_exporter": "python",
      "pygments_lexer": "ipython3",
      "version": "3.7.6"
    },
    "colab": {
      "name": "dataview-basic-create-read-update-delete-operations.ipynb",
      "provenance": []
    }
  },
  "nbformat": 4,
  "nbformat_minor": 0
}