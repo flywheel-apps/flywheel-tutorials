{
 "cells": [
  {
   "cell_type": "markdown",
   "metadata": {},
   "source": [
    "# Copy a job run on a Flywheel Instance"
   ]
  },
  {
   "cell_type": "markdown",
   "metadata": {},
   "source": [
    "Given the ID of a Flywheel job, this will create a python script to re-run it.  You can then edit and run that script.\n",
    "\n",
    "The cell below will get a Flywheel client if you are logged in to a Flywheel instance.  It prints out the URL of the instance so you know where you are logged in."
   ]
  },
  {
   "cell_type": "code",
   "execution_count": 1,
   "metadata": {},
   "outputs": [],
   "source": [
    "import argparse\n",
    "import os\n",
    "import pprint\n",
    "import stat\n",
    "\n",
    "import flywheel"
   ]
  },
  {
   "cell_type": "code",
   "execution_count": 2,
   "metadata": {},
   "outputs": [
    {
     "name": "stderr",
     "output_type": "stream",
     "text": [
      "/usr/local/lib/python3.9/site-packages/flywheel/flywheel.py:6300: UserWarning: Client version 15.8.0 does not match server version 16.9.6. Please update your client version!\n",
      "  warnings.warn('Client version {} does not match server version {}. Please update your client version!'.format(SDK_VERSION, release_version))\n",
      "WARNING:Flywheel:Use \"pip install flywheel-sdk~=16.9.0\" to install a compatible version for this server\n"
     ]
    },
    {
     "name": "stdout",
     "output_type": "stream",
     "text": [
      "Flywheel Instance https://ga.ce.flywheel.io/api\n"
     ]
    }
   ],
   "source": [
    "fw = flywheel.Client(\"\")\n",
    "print(\"Flywheel Instance\", fw.get_config().site.api_url)"
   ]
  },
  {
   "cell_type": "markdown",
   "metadata": {},
   "source": [
    "Get the job ID from the URL when you select the job of interest in the \"Jobs Log\" in the Flywheel UI."
   ]
  },
  {
   "cell_type": "markdown",
   "metadata": {},
   "source": [
    "Create a python script to re-run a job given the job ID for a gear that was run on Flywheel."
   ]
  },
  {
   "cell_type": "code",
   "execution_count": 24,
   "metadata": {},
   "outputs": [],
   "source": [
    "def write_script_to_run_job(job_id=None, analysis_id=None):\n",
    "\n",
    "    analysis = None\n",
    "    if analysis_id:\n",
    "        analysis = fw.get_analysis(analysis_id)\n",
    "        print(f\"Getting job_id from analysis '{analysis.label}'\")\n",
    "        job_id = analysis.job.id\n",
    "    elif job_id == None:\n",
    "        print(f\"Must provide either job_id or analysis_id.\")\n",
    "        os.sys.exit(1)\n",
    "\n",
    "    print(\"Job ID\", job_id)\n",
    "    job = fw.get_job(job_id)\n",
    "    gear = fw.get_gear(job.gear_id)\n",
    "    print(f\"gear.gear.name is {gear.gear.name}\")\n",
    "    destination_id = job.destination.id\n",
    "    destination_type = job.destination.type\n",
    "    print(f\"job's destination_id is {destination_id} type {destination_type}\")\n",
    "\n",
    "    if job.destination.type == \"analysis\":\n",
    "        analysis = fw.get_analysis(destination_id)\n",
    "        destination_id = analysis.parent.id\n",
    "        destination_type = analysis.parent.type\n",
    "        print(f\"job's analysis's parent id is {destination_id} type {destination_type}\")\n",
    "\n",
    "    destination = fw.get(destination_id)\n",
    "    destination_label = destination.label\n",
    "    print(f\"new job's destination is {destination_label} type {destination_type}\")\n",
    "\n",
    "    group_id = destination.parents.group\n",
    "    print(f\"Group id: {group_id}\")\n",
    "\n",
    "    if destination_type == \"project\":\n",
    "        project = destination\n",
    "    else:\n",
    "        project = fw.get_project(destination.parents.project)\n",
    "    project_label = project.label\n",
    "    print(f\"Project label: {project.label}\")\n",
    "\n",
    "    script_name = f\"{project_label}_{destination_type}_{destination.label}.py\"\n",
    "    script_name = script_name.replace(\" \", \"_\")\n",
    "\n",
    "    container_path = \"Invalid\"\n",
    "\n",
    "    if destination_type == \"project\":\n",
    "        container_path = f\"{group_id}/{project_label}\"\n",
    "\n",
    "    elif destination_type == \"subject\":\n",
    "        container_path = f\"{group_id}/{project_label}/{destination.label}\"\n",
    "\n",
    "    elif destination_type == \"session\":\n",
    "        container_path = (\n",
    "            f\"{group_id}/{project_label}/{destination.subject.label}/\"\n",
    "            + f\"{destination.label}\"\n",
    "        )\n",
    "\n",
    "    elif destination_type == \"acquisition\":\n",
    "        subject = fw.get_subject(destination.parents.subject)\n",
    "        session = fw.get_session(destination.parents.session)\n",
    "        container_path = (\n",
    "            f\"{group_id}/{project_label}/{subject.label}/{session.label}/\"\n",
    "            + f\"{destination.label}\"\n",
    "        )\n",
    "\n",
    "    else:\n",
    "        print(f\"Error: unknown destination type {destination_type}\")\n",
    "\n",
    "    print(f\"container_path: {container_path}\")\n",
    "    print(f\"Creating script: {script_name} ...\\n\")\n",
    "    \n",
    "    input_files = dict()\n",
    "    for key, val in job.config.get(\"inputs\").items():\n",
    "        if \"hierarchy\" in val:\n",
    "            input_files[key] = {\n",
    "                \"hierarchy_id\": val[\"hierarchy\"][\"id\"],\n",
    "                \"location_name\": val[\"location\"][\"name\"],\n",
    "            }\n",
    "\n",
    "    lines = f\"\"\"#! /usr/bin/env python3\n",
    "'''Run {gear.gear.name} on {destination_type} \"{destination.label}\"\n",
    "\n",
    "    This script was created to run Job ID {job_id}\n",
    "    In project \"{group_id}/{project_label}\"\n",
    "    On Flywheel Instance {fw.get_config().site.api_url}\n",
    "'''\n",
    "\n",
    "import os\n",
    "import argparse\n",
    "from datetime import datetime\n",
    "\n",
    "\n",
    "import flywheel\n",
    "\n",
    "\n",
    "input_files = {pprint.pformat(input_files)}\n",
    "\n",
    "def main(fw):\n",
    "\n",
    "    gear = fw.lookup(\"gears/{gear.gear.name}\")\n",
    "    print(\"gear.gear.version for job was = {gear.gear.version}\")\"\"\"\n",
    "\n",
    "    sfp = open(script_name, \"w\")\n",
    "    for line in lines.split(\"\\n\"):\n",
    "        sfp.write(line + \"\\n\")\n",
    "\n",
    "    sfp.write('    print(f\"gear.gear.version now = {gear.gear.version}\")\\n')\n",
    "    sfp.write(f'    print(\"destination_id = {destination_id}\")\\n')\n",
    "    sfp.write(f'    print(\"destination type is: {destination_type}\")\\n')\n",
    "\n",
    "    sfp.write(f'    destination = fw.lookup(\"{container_path}\")\\n')\n",
    "\n",
    "    sfp.write(\"\\n\")\n",
    "    sfp.write(\"    inputs = dict()\\n\")\n",
    "    sfp.write(\"    for key, val in input_files.items():\\n\")\n",
    "    sfp.write(\"         container = fw.get(val['hierarchy_id'])\\n\")\n",
    "    sfp.write(\"         inputs[key] = container.get_file(val['location_name'])\\n\")\n",
    "    sfp.write(\"\\n\")\n",
    "    sfp.write(f\"    config = {pprint.pformat(job['config']['config'], indent=4)}\\n\")\n",
    "    sfp.write(\"\\n\")\n",
    "\n",
    "    if job.destination.type == \"analysis\":\n",
    "        sfp.write(\"    now = datetime.now()\\n\")\n",
    "        sfp.write(\"    analysis_label = (\\n\")\n",
    "        sfp.write(\n",
    "            \"        f'{gear.gear.name} {now.strftime(\\\"%m-%d-%Y %H:%M:%S\\\")} SDK launched'\\n\"\n",
    "        )\n",
    "        sfp.write(\"    )\\n\")\n",
    "        sfp.write(\"    print(f'analysis_label = {analysis_label}')\\n\")\n",
    "\n",
    "        lines = f\"\"\"\n",
    "    analysis_id = gear.run(\n",
    "        analysis_label=analysis_label,\n",
    "        config=config,\n",
    "        inputs=inputs,\n",
    "        destination=destination,\n",
    "    )\"\"\"\n",
    "        for line in lines.split(\"\\n\"):\n",
    "            sfp.write(line + \"\\n\")\n",
    "        sfp.write(\"    print(f'analysis_id = {analysis_id}')\\n\")\n",
    "        sfp.write(\"    return analysis_id\\n\")\n",
    "\n",
    "    else:\n",
    "        lines = f\"\"\"\n",
    "    job_id = gear.run(\n",
    "        config=config,\n",
    "        inputs=inputs,\n",
    "        destination=destination\n",
    "    )\"\"\"\n",
    "        for line in lines.split(\"\\n\"):\n",
    "            sfp.write(line + \"\\n\")\n",
    "        sfp.write(\"    print(f'job_id = {job_id}')\\n\")\n",
    "        sfp.write(\"    return job_id\\n\")\n",
    "\n",
    "    lines = f\"\"\"\n",
    "if __name__ == '__main__':\n",
    "\n",
    "    parser = argparse.ArgumentParser(description=__doc__)\n",
    "    args = parser.parse_args()\n",
    "\n",
    "    fw = flywheel.Client('')\n",
    "    print(fw.get_config().site.api_url)\n",
    "\n",
    "    analysis_id = main(fw)\"\"\"\n",
    "\n",
    "    for line in lines.split(\"\\n\"):\n",
    "        sfp.write(line + \"\\n\")\n",
    "\n",
    "    sfp.write(\"\\n\")\n",
    "    sfp.write(\"    os.sys.exit(0)\\n\")\n",
    "\n",
    "    sfp.close()\n",
    "\n",
    "    os.system(f\"black {script_name}\")\n",
    "\n",
    "    st = os.stat(script_name)\n",
    "    os.chmod(script_name, st.st_mode | stat.S_IEXEC)"
   ]
  },
  {
   "cell_type": "markdown",
   "metadata": {},
   "source": [
    "## Utility Job, destination type is: acquisition"
   ]
  },
  {
   "cell_type": "code",
   "execution_count": 29,
   "metadata": {},
   "outputs": [
    {
     "name": "stdout",
     "output_type": "stream",
     "text": [
      "Job ID 60817598fb84816baf6f3572\n",
      "gear.gear.name is dcm2niix\n",
      "job's destination_id is 60798ec6c5a368b6b66f3475 type acquisition\n",
      "new job's destination is 4 - fmap-SE-PA type acquisition\n",
      "Group id: bids-curation-tests\n",
      "Project label: Levitas_Tutorial\n",
      "container_path: bids-curation-tests/Levitas_Tutorial/10462@thwjames_OpenScience/2020-01-22 14_29_46/4 - fmap-SE-PA\n",
      "Creating script: Levitas_Tutorial_acquisition_4_-_fmap-SE-PA.py ...\n",
      "\n"
     ]
    }
   ],
   "source": [
    "write_script_to_run_job(job_id=\"60817598fb84816baf6f3572\")"
   ]
  },
  {
   "cell_type": "markdown",
   "metadata": {},
   "source": [
    "## Utility Job, destination type is: session"
   ]
  },
  {
   "cell_type": "code",
   "execution_count": 25,
   "metadata": {},
   "outputs": [
    {
     "name": "stdout",
     "output_type": "stream",
     "text": [
      "Job ID 60817898f4a3a2bb836f35ca\n",
      "gear.gear.name is curate-bids\n",
      "job's destination_id is 60798ec5c5a368b6b66f3467 type session\n",
      "new job's destination is 2020-01-22 14_29_46 type session\n",
      "Group id: bids-curation-tests\n",
      "Project label: Levitas_Tutorial\n",
      "container_path: bids-curation-tests/Levitas_Tutorial/10462@thwjames_OpenScience/2020-01-22 14_29_46\n",
      "Creating script: Levitas_Tutorial_session_2020-01-22_14_29_46.py ...\n",
      "\n"
     ]
    }
   ],
   "source": [
    "write_script_to_run_job(job_id=\"60817898f4a3a2bb836f35ca\")"
   ]
  },
  {
   "cell_type": "code",
   "execution_count": 18,
   "metadata": {},
   "outputs": [
    {
     "data": {
      "text/plain": [
       "\u001b[0;31mSignature:\u001b[0m\n",
       "\u001b[0mgear\u001b[0m\u001b[0;34m.\u001b[0m\u001b[0mrun\u001b[0m\u001b[0;34m(\u001b[0m\u001b[0;34m\u001b[0m\n",
       "\u001b[0;34m\u001b[0m    \u001b[0mconfig\u001b[0m\u001b[0;34m=\u001b[0m\u001b[0;32mNone\u001b[0m\u001b[0;34m,\u001b[0m\u001b[0;34m\u001b[0m\n",
       "\u001b[0;34m\u001b[0m    \u001b[0manalysis_label\u001b[0m\u001b[0;34m=\u001b[0m\u001b[0;32mNone\u001b[0m\u001b[0;34m,\u001b[0m\u001b[0;34m\u001b[0m\n",
       "\u001b[0;34m\u001b[0m    \u001b[0mtags\u001b[0m\u001b[0;34m=\u001b[0m\u001b[0;32mNone\u001b[0m\u001b[0;34m,\u001b[0m\u001b[0;34m\u001b[0m\n",
       "\u001b[0;34m\u001b[0m    \u001b[0mdestination\u001b[0m\u001b[0;34m=\u001b[0m\u001b[0;32mNone\u001b[0m\u001b[0;34m,\u001b[0m\u001b[0;34m\u001b[0m\n",
       "\u001b[0;34m\u001b[0m    \u001b[0minputs\u001b[0m\u001b[0;34m=\u001b[0m\u001b[0;32mNone\u001b[0m\u001b[0;34m,\u001b[0m\u001b[0;34m\u001b[0m\n",
       "\u001b[0;34m\u001b[0m    \u001b[0;34m**\u001b[0m\u001b[0mkwargs\u001b[0m\u001b[0;34m,\u001b[0m\u001b[0;34m\u001b[0m\n",
       "\u001b[0;34m\u001b[0m\u001b[0;34m)\u001b[0m\u001b[0;34m\u001b[0m\u001b[0;34m\u001b[0m\u001b[0m\n",
       "\u001b[0;31mDocstring:\u001b[0m\n",
       "Run the gear.\n",
       "\n",
       ":param dict config: The configuration to use, if overriding defaults.\n",
       ":param str analysis_label: The label of the analysis, if running an analysis gear.\n",
       ":param list tags: The list of tags to set for the job.\n",
       ":param object destination: The destination container.\n",
       ":param dict inputs: The list of input containers or files.\n",
       "\n",
       ":return: The id of the job that was created\n",
       "\u001b[0;31mFile:\u001b[0m      /usr/local/lib/python3.9/site-packages/flywheel/models/gear_mixin.py\n",
       "\u001b[0;31mType:\u001b[0m      method\n"
      ]
     },
     "metadata": {},
     "output_type": "display_data"
    }
   ],
   "source": [
    "gear.run?"
   ]
  },
  {
   "cell_type": "markdown",
   "metadata": {},
   "source": [
    "## Analysis Job, destination type is: project"
   ]
  },
  {
   "cell_type": "code",
   "execution_count": 26,
   "metadata": {},
   "outputs": [
    {
     "name": "stdout",
     "output_type": "stream",
     "text": [
      "Job ID 603fb4ab146a36499c6e8aca\n",
      "gear.gear.name is bids-app-template\n",
      "job's destination_id is 603fb4ab146a36499c6e8ac9 type analysis\n",
      "job's analysis's parent id is 602ed7b21c5936816883e901 type project\n",
      "new job's destination is BIDS_multi_session type project\n",
      "Group id: scien\n",
      "Project label: BIDS_multi_session\n",
      "container_path: scien/BIDS_multi_session\n",
      "Creating script: BIDS_multi_session_project_BIDS_multi_session.py ...\n",
      "\n"
     ]
    }
   ],
   "source": [
    "write_script_to_run_job(job_id=\"603fb4ab146a36499c6e8aca\")"
   ]
  },
  {
   "cell_type": "markdown",
   "metadata": {},
   "source": [
    "## Analysis Job, destination type is: session"
   ]
  },
  {
   "cell_type": "code",
   "execution_count": 27,
   "metadata": {},
   "outputs": [
    {
     "name": "stdout",
     "output_type": "stream",
     "text": [
      "Job ID 603fb0c775f2cd6a236e8ab5\n",
      "gear.gear.name is bids-app-template\n",
      "job's destination_id is 603fb0c775f2cd6a236e8ab4 type analysis\n",
      "job's analysis's parent id is 602ed812abe32939b783e910 type session\n",
      "new job's destination is ses-Session2 type session\n",
      "Group id: scien\n",
      "Project label: BIDS_multi_session\n",
      "container_path: scien/BIDS_multi_session/sub-TOME3024/ses-Session2\n",
      "Creating script: BIDS_multi_session_session_ses-Session2.py ...\n",
      "\n"
     ]
    }
   ],
   "source": [
    "write_script_to_run_job(job_id=\"603fb0c775f2cd6a236e8ab5\")"
   ]
  },
  {
   "cell_type": "markdown",
   "metadata": {},
   "source": [
    "## Analysis Job, destination type is: subject"
   ]
  },
  {
   "cell_type": "code",
   "execution_count": 28,
   "metadata": {},
   "outputs": [
    {
     "name": "stdout",
     "output_type": "stream",
     "text": [
      "Job ID 603fb4f225960896416e8ab6\n",
      "gear.gear.name is bids-app-template\n",
      "job's destination_id is 603fb4f225960896416e8ab5 type analysis\n",
      "job's analysis's parent id is 602ed7bcabe32939b783e906 type subject\n",
      "new job's destination is sub-TOME3024 type subject\n",
      "Group id: scien\n",
      "Project label: BIDS_multi_session\n",
      "container_path: scien/BIDS_multi_session/sub-TOME3024\n",
      "Creating script: BIDS_multi_session_subject_sub-TOME3024.py ...\n",
      "\n"
     ]
    }
   ],
   "source": [
    "write_script_to_run_job(job_id=\"603fb4f225960896416e8ab6\")"
   ]
  },
  {
   "cell_type": "markdown",
   "metadata": {},
   "source": [
    "## Find path for input type: Analysis Output file"
   ]
  },
  {
   "cell_type": "code",
   "execution_count": 3,
   "metadata": {},
   "outputs": [],
   "source": [
    "job = fw.get_job(\"619ec13e3ac98adaf7b615a2\")"
   ]
  },
  {
   "cell_type": "code",
   "execution_count": 4,
   "metadata": {},
   "outputs": [
    {
     "data": {
      "text/plain": [
       "{'work-dir': {'hierarchy': {'id': '6151ec74577559af284ec883',\n",
       "   'type': 'analysis'},\n",
       "  'object': {'type': 'archive',\n",
       "   'mimetype': 'application/octet-stream',\n",
       "   'modality': None,\n",
       "   'classification': {},\n",
       "   'tags': [],\n",
       "   'info': {},\n",
       "   'size': 2051643709,\n",
       "   'zip_member_count': None,\n",
       "   'version': 1,\n",
       "   'file_id': '6152be7b803e71d5b44ec971',\n",
       "   'origin': {'type': 'job', 'id': '6151ec74577559af284ec884'}},\n",
       "  'location': {'path': '/flywheel/v0/input/work-dir/bids-fmriprep_sub-TOME3024_6151ec74577559af284ec883.zip',\n",
       "   'name': 'bids-fmriprep_sub-TOME3024_6151ec74577559af284ec883.zip'},\n",
       "  'base': 'file'}}"
      ]
     },
     "execution_count": 4,
     "metadata": {},
     "output_type": "execute_result"
    }
   ],
   "source": [
    "job.config.get(\"inputs\")"
   ]
  },
  {
   "cell_type": "code",
   "execution_count": 5,
   "metadata": {},
   "outputs": [],
   "source": [
    "input_container_id = job.config.get(\"inputs\")[\"work-dir\"][\"hierarchy\"][\"id\"]"
   ]
  },
  {
   "cell_type": "code",
   "execution_count": 6,
   "metadata": {},
   "outputs": [],
   "source": [
    "input_container = fw.get(input_container_id)"
   ]
  },
  {
   "cell_type": "code",
   "execution_count": 7,
   "metadata": {},
   "outputs": [
    {
     "data": {
      "text/plain": [
       "flywheel.models.container_analysis_output.ContainerAnalysisOutput"
      ]
     },
     "execution_count": 7,
     "metadata": {},
     "output_type": "execute_result"
    }
   ],
   "source": [
    "type(input_container)"
   ]
  },
  {
   "cell_type": "code",
   "execution_count": 8,
   "metadata": {},
   "outputs": [
    {
     "name": "stdout",
     "output_type": "stream",
     "text": [
      "yes\n"
     ]
    }
   ],
   "source": [
    "if isinstance(input_container, flywheel.models.ContainerAnalysisOutput):\n",
    "    print(\"yes\")\n",
    "else:\n",
    "    print(\"no\")"
   ]
  },
  {
   "cell_type": "markdown",
   "metadata": {},
   "source": [
    "So we know it is an analysis output.  The path depends on what level of the hierarchy its parent is in."
   ]
  },
  {
   "cell_type": "code",
   "execution_count": 9,
   "metadata": {},
   "outputs": [
    {
     "data": {
      "text/plain": [
       "{'acquisition': None,\n",
       " 'analysis': None,\n",
       " 'group': 'bids-apps',\n",
       " 'project': '6151e90263e0a8412b4ec863',\n",
       " 'session': None,\n",
       " 'subject': '6151e9043d956a115c4ec872'}"
      ]
     },
     "execution_count": 9,
     "metadata": {},
     "output_type": "execute_result"
    }
   ],
   "source": [
    "input_container.parents"
   ]
  },
  {
   "cell_type": "code",
   "execution_count": 10,
   "metadata": {},
   "outputs": [
    {
     "data": {
      "text/plain": [
       "'subject'"
      ]
     },
     "execution_count": 10,
     "metadata": {},
     "output_type": "execute_result"
    }
   ],
   "source": [
    "input_container.parent.type"
   ]
  },
  {
   "cell_type": "code",
   "execution_count": 11,
   "metadata": {},
   "outputs": [
    {
     "data": {
      "text/plain": [
       "'bids-fmriprep 09/27/2021 12:08:17'"
      ]
     },
     "execution_count": 11,
     "metadata": {},
     "output_type": "execute_result"
    }
   ],
   "source": [
    "input_container.label"
   ]
  },
  {
   "cell_type": "code",
   "execution_count": 12,
   "metadata": {},
   "outputs": [],
   "source": [
    "subject = fw.get_subject(input_container.parents.subject)"
   ]
  },
  {
   "cell_type": "code",
   "execution_count": 13,
   "metadata": {},
   "outputs": [
    {
     "data": {
      "text/plain": [
       "'sub-TOME3024'"
      ]
     },
     "execution_count": 13,
     "metadata": {},
     "output_type": "execute_result"
    }
   ],
   "source": [
    "subject.label"
   ]
  },
  {
   "cell_type": "code",
   "execution_count": 14,
   "metadata": {},
   "outputs": [
    {
     "name": "stdout",
     "output_type": "stream",
     "text": [
      "bids-apps/BIDS_multi_session/sub-TOME3024/analyses/bids-fmriprep 09/27/2021 12:08:17\n"
     ]
    }
   ],
   "source": [
    "path = f\"bids-apps/BIDS_multi_session/{subject.label}/analyses/{input_container.label}\"\n",
    "print(path)"
   ]
  },
  {
   "cell_type": "code",
   "execution_count": 16,
   "metadata": {},
   "outputs": [
    {
     "ename": "ApiException",
     "evalue": "(404) Reason: No match for session with label 27",
     "output_type": "error",
     "traceback": [
      "\u001b[0;31m---------------------------------------------------------------------------\u001b[0m",
      "\u001b[0;31mApiException\u001b[0m                              Traceback (most recent call last)",
      "\u001b[0;32m<ipython-input-16-10b57716dfa9>\u001b[0m in \u001b[0;36m<module>\u001b[0;34m\u001b[0m\n\u001b[0;32m----> 1\u001b[0;31m \u001b[0mcontainer\u001b[0m \u001b[0;34m=\u001b[0m \u001b[0mfw\u001b[0m\u001b[0;34m.\u001b[0m\u001b[0mlookup\u001b[0m\u001b[0;34m(\u001b[0m\u001b[0mpath\u001b[0m\u001b[0;34m)\u001b[0m\u001b[0;34m\u001b[0m\u001b[0;34m\u001b[0m\u001b[0m\n\u001b[0m",
      "\u001b[0;32m/usr/local/lib/python3.9/site-packages/flywheel/client.py\u001b[0m in \u001b[0;36mlookup\u001b[0;34m(self, path)\u001b[0m\n\u001b[1;32m    123\u001b[0m         \u001b[0;34m:\u001b[0m\u001b[0;32mreturn\u001b[0m\u001b[0;34m:\u001b[0m \u001b[0mResolverOutput\u001b[0m\u001b[0;34m\u001b[0m\u001b[0;34m\u001b[0m\u001b[0m\n\u001b[1;32m    124\u001b[0m         \"\"\"\n\u001b[0;32m--> 125\u001b[0;31m         \u001b[0;32mreturn\u001b[0m \u001b[0mself\u001b[0m\u001b[0;34m.\u001b[0m\u001b[0m_fw\u001b[0m\u001b[0;34m.\u001b[0m\u001b[0mlookup\u001b[0m\u001b[0;34m(\u001b[0m\u001b[0mpath\u001b[0m\u001b[0;34m)\u001b[0m\u001b[0;34m\u001b[0m\u001b[0;34m\u001b[0m\u001b[0m\n\u001b[0m\u001b[1;32m    126\u001b[0m \u001b[0;34m\u001b[0m\u001b[0m\n\u001b[1;32m    127\u001b[0m     \u001b[0;32mdef\u001b[0m \u001b[0mfile_url\u001b[0m\u001b[0;34m(\u001b[0m\u001b[0mself\u001b[0m\u001b[0;34m,\u001b[0m \u001b[0mpath\u001b[0m\u001b[0;34m)\u001b[0m\u001b[0;34m:\u001b[0m\u001b[0;34m\u001b[0m\u001b[0;34m\u001b[0m\u001b[0m\n",
      "\u001b[0;32m/usr/local/lib/python3.9/site-packages/flywheel/flywheel.py\u001b[0m in \u001b[0;36mlookup\u001b[0;34m(self, path)\u001b[0m\n\u001b[1;32m   6391\u001b[0m             \u001b[0mpath\u001b[0m \u001b[0;34m=\u001b[0m \u001b[0mpath\u001b[0m\u001b[0;34m.\u001b[0m\u001b[0msplit\u001b[0m\u001b[0;34m(\u001b[0m\u001b[0;34m'/'\u001b[0m\u001b[0;34m)\u001b[0m\u001b[0;34m\u001b[0m\u001b[0;34m\u001b[0m\u001b[0m\n\u001b[1;32m   6392\u001b[0m \u001b[0;34m\u001b[0m\u001b[0m\n\u001b[0;32m-> 6393\u001b[0;31m         \u001b[0;32mreturn\u001b[0m \u001b[0mself\u001b[0m\u001b[0;34m.\u001b[0m\u001b[0mlookup_path\u001b[0m\u001b[0;34m(\u001b[0m\u001b[0mflywheel\u001b[0m\u001b[0;34m.\u001b[0m\u001b[0mResolverInput\u001b[0m\u001b[0;34m(\u001b[0m\u001b[0mpath\u001b[0m\u001b[0;34m=\u001b[0m\u001b[0mpath\u001b[0m\u001b[0;34m)\u001b[0m\u001b[0;34m)\u001b[0m\u001b[0;34m\u001b[0m\u001b[0;34m\u001b[0m\u001b[0m\n\u001b[0m\u001b[1;32m   6394\u001b[0m \u001b[0;34m\u001b[0m\u001b[0m\n\u001b[1;32m   6395\u001b[0m     \u001b[0;32mdef\u001b[0m \u001b[0mfile_url\u001b[0m\u001b[0;34m(\u001b[0m\u001b[0mself\u001b[0m\u001b[0;34m,\u001b[0m \u001b[0mpath\u001b[0m\u001b[0;34m)\u001b[0m\u001b[0;34m:\u001b[0m\u001b[0;34m\u001b[0m\u001b[0;34m\u001b[0m\u001b[0m\n",
      "\u001b[0;32m/usr/local/lib/python3.9/site-packages/flywheel/flywheel.py\u001b[0m in \u001b[0;36mlookup_path\u001b[0;34m(self, body, **kwargs)\u001b[0m\n\u001b[1;32m   2541\u001b[0m         \u001b[0;34m:\u001b[0m\u001b[0;32mreturn\u001b[0m\u001b[0;34m:\u001b[0m \u001b[0mResolverNode\u001b[0m\u001b[0;34m\u001b[0m\u001b[0;34m\u001b[0m\u001b[0m\n\u001b[1;32m   2542\u001b[0m         \"\"\"\n\u001b[0;32m-> 2543\u001b[0;31m         \u001b[0;32mreturn\u001b[0m \u001b[0mself\u001b[0m\u001b[0;34m.\u001b[0m\u001b[0mdefault_api\u001b[0m\u001b[0;34m.\u001b[0m\u001b[0mlookup_path\u001b[0m\u001b[0;34m(\u001b[0m\u001b[0mbody\u001b[0m\u001b[0;34m,\u001b[0m \u001b[0;34m**\u001b[0m\u001b[0mkwargs\u001b[0m\u001b[0;34m)\u001b[0m\u001b[0;34m\u001b[0m\u001b[0;34m\u001b[0m\u001b[0m\n\u001b[0m\u001b[1;32m   2544\u001b[0m \u001b[0;34m\u001b[0m\u001b[0m\n\u001b[1;32m   2545\u001b[0m \u001b[0;34m\u001b[0m\u001b[0m\n",
      "\u001b[0;32m/usr/local/lib/python3.9/site-packages/flywheel/api/default_api.py\u001b[0m in \u001b[0;36mlookup_path\u001b[0;34m(self, body, **kwargs)\u001b[0m\n\u001b[1;32m    963\u001b[0m             \u001b[0;32mreturn\u001b[0m \u001b[0mself\u001b[0m\u001b[0;34m.\u001b[0m\u001b[0mlookup_path_with_http_info\u001b[0m\u001b[0;34m(\u001b[0m\u001b[0mbody\u001b[0m\u001b[0;34m,\u001b[0m \u001b[0;34m**\u001b[0m\u001b[0mkwargs\u001b[0m\u001b[0;34m)\u001b[0m  \u001b[0;31m# noqa: E501\u001b[0m\u001b[0;34m\u001b[0m\u001b[0;34m\u001b[0m\u001b[0m\n\u001b[1;32m    964\u001b[0m         \u001b[0;32melse\u001b[0m\u001b[0;34m:\u001b[0m\u001b[0;34m\u001b[0m\u001b[0;34m\u001b[0m\u001b[0m\n\u001b[0;32m--> 965\u001b[0;31m             \u001b[0;34m(\u001b[0m\u001b[0mdata\u001b[0m\u001b[0;34m)\u001b[0m \u001b[0;34m=\u001b[0m \u001b[0mself\u001b[0m\u001b[0;34m.\u001b[0m\u001b[0mlookup_path_with_http_info\u001b[0m\u001b[0;34m(\u001b[0m\u001b[0mbody\u001b[0m\u001b[0;34m,\u001b[0m \u001b[0;34m**\u001b[0m\u001b[0mkwargs\u001b[0m\u001b[0;34m)\u001b[0m  \u001b[0;31m# noqa: E501\u001b[0m\u001b[0;34m\u001b[0m\u001b[0;34m\u001b[0m\u001b[0m\n\u001b[0m\u001b[1;32m    966\u001b[0m             \u001b[0;32mif\u001b[0m \u001b[0mdata\u001b[0m \u001b[0;32mand\u001b[0m \u001b[0mhasattr\u001b[0m\u001b[0;34m(\u001b[0m\u001b[0mdata\u001b[0m\u001b[0;34m,\u001b[0m \u001b[0;34m'return_value'\u001b[0m\u001b[0;34m)\u001b[0m\u001b[0;34m:\u001b[0m\u001b[0;34m\u001b[0m\u001b[0;34m\u001b[0m\u001b[0m\n\u001b[1;32m    967\u001b[0m                 \u001b[0;32mreturn\u001b[0m \u001b[0mdata\u001b[0m\u001b[0;34m.\u001b[0m\u001b[0mreturn_value\u001b[0m\u001b[0;34m(\u001b[0m\u001b[0;34m)\u001b[0m\u001b[0;34m\u001b[0m\u001b[0;34m\u001b[0m\u001b[0m\n",
      "\u001b[0;32m/usr/local/lib/python3.9/site-packages/flywheel/api/default_api.py\u001b[0m in \u001b[0;36mlookup_path_with_http_info\u001b[0;34m(self, body, **kwargs)\u001b[0m\n\u001b[1;32m   1026\u001b[0m         \u001b[0mauth_settings\u001b[0m \u001b[0;34m=\u001b[0m \u001b[0;34m[\u001b[0m\u001b[0;34m'ApiKey'\u001b[0m\u001b[0;34m]\u001b[0m  \u001b[0;31m# noqa: E501\u001b[0m\u001b[0;34m\u001b[0m\u001b[0;34m\u001b[0m\u001b[0m\n\u001b[1;32m   1027\u001b[0m \u001b[0;34m\u001b[0m\u001b[0m\n\u001b[0;32m-> 1028\u001b[0;31m         return self.api_client.call_api(\n\u001b[0m\u001b[1;32m   1029\u001b[0m             \u001b[0;34m'/lookup'\u001b[0m\u001b[0;34m,\u001b[0m \u001b[0;34m'POST'\u001b[0m\u001b[0;34m,\u001b[0m\u001b[0;34m\u001b[0m\u001b[0;34m\u001b[0m\u001b[0m\n\u001b[1;32m   1030\u001b[0m             \u001b[0mpath_params\u001b[0m\u001b[0;34m,\u001b[0m\u001b[0;34m\u001b[0m\u001b[0;34m\u001b[0m\u001b[0m\n",
      "\u001b[0;32m/usr/local/lib/python3.9/site-packages/flywheel/api_client.py\u001b[0m in \u001b[0;36mcall_api\u001b[0;34m(self, resource_path, method, path_params, query_params, header_params, body, post_params, files, response_type, auth_settings, async_, _return_http_data_only, collection_formats, _preload_content, _request_timeout, _request_out)\u001b[0m\n\u001b[1;32m    354\u001b[0m         \"\"\"\n\u001b[1;32m    355\u001b[0m         \u001b[0;32mif\u001b[0m \u001b[0;32mnot\u001b[0m \u001b[0masync_\u001b[0m\u001b[0;34m:\u001b[0m\u001b[0;34m\u001b[0m\u001b[0;34m\u001b[0m\u001b[0m\n\u001b[0;32m--> 356\u001b[0;31m             return self.__call_api(resource_path, method,\n\u001b[0m\u001b[1;32m    357\u001b[0m                                    \u001b[0mpath_params\u001b[0m\u001b[0;34m,\u001b[0m \u001b[0mquery_params\u001b[0m\u001b[0;34m,\u001b[0m \u001b[0mheader_params\u001b[0m\u001b[0;34m,\u001b[0m\u001b[0;34m\u001b[0m\u001b[0;34m\u001b[0m\u001b[0m\n\u001b[1;32m    358\u001b[0m                                    \u001b[0mbody\u001b[0m\u001b[0;34m,\u001b[0m \u001b[0mpost_params\u001b[0m\u001b[0;34m,\u001b[0m \u001b[0mfiles\u001b[0m\u001b[0;34m,\u001b[0m\u001b[0;34m\u001b[0m\u001b[0;34m\u001b[0m\u001b[0m\n",
      "\u001b[0;32m/usr/local/lib/python3.9/site-packages/flywheel/api_client.py\u001b[0m in \u001b[0;36m__call_api\u001b[0;34m(self, resource_path, method, path_params, query_params, header_params, body, post_params, files, response_type, auth_settings, _return_http_data_only, collection_formats, _preload_content, _request_timeout, _request_out)\u001b[0m\n\u001b[1;32m    185\u001b[0m \u001b[0;34m\u001b[0m\u001b[0m\n\u001b[1;32m    186\u001b[0m         \u001b[0;31m# perform request and return response\u001b[0m\u001b[0;34m\u001b[0m\u001b[0;34m\u001b[0m\u001b[0m\n\u001b[0;32m--> 187\u001b[0;31m         response_data = self.request(\n\u001b[0m\u001b[1;32m    188\u001b[0m             \u001b[0mmethod\u001b[0m\u001b[0;34m,\u001b[0m \u001b[0murl\u001b[0m\u001b[0;34m,\u001b[0m \u001b[0mquery_params\u001b[0m\u001b[0;34m=\u001b[0m\u001b[0mquery_params\u001b[0m\u001b[0;34m,\u001b[0m \u001b[0mheaders\u001b[0m\u001b[0;34m=\u001b[0m\u001b[0mheader_params\u001b[0m\u001b[0;34m,\u001b[0m\u001b[0;34m\u001b[0m\u001b[0;34m\u001b[0m\u001b[0m\n\u001b[1;32m    189\u001b[0m             \u001b[0mpost_params\u001b[0m\u001b[0;34m=\u001b[0m\u001b[0mpost_params\u001b[0m\u001b[0;34m,\u001b[0m \u001b[0mbody\u001b[0m\u001b[0;34m=\u001b[0m\u001b[0mbody\u001b[0m\u001b[0;34m,\u001b[0m\u001b[0;34m\u001b[0m\u001b[0;34m\u001b[0m\u001b[0m\n",
      "\u001b[0;32m/usr/local/lib/python3.9/site-packages/flywheel/api_client.py\u001b[0m in \u001b[0;36mrequest\u001b[0;34m(self, method, url, query_params, headers, post_params, body, _preload_content, _request_timeout)\u001b[0m\n\u001b[1;32m    396\u001b[0m                                             body=body)\n\u001b[1;32m    397\u001b[0m         \u001b[0;32melif\u001b[0m \u001b[0mmethod\u001b[0m \u001b[0;34m==\u001b[0m \u001b[0;34m\"POST\"\u001b[0m\u001b[0;34m:\u001b[0m\u001b[0;34m\u001b[0m\u001b[0;34m\u001b[0m\u001b[0m\n\u001b[0;32m--> 398\u001b[0;31m             return self.rest_client.POST(url,\n\u001b[0m\u001b[1;32m    399\u001b[0m                                          \u001b[0mquery_params\u001b[0m\u001b[0;34m=\u001b[0m\u001b[0mquery_params\u001b[0m\u001b[0;34m,\u001b[0m\u001b[0;34m\u001b[0m\u001b[0;34m\u001b[0m\u001b[0m\n\u001b[1;32m    400\u001b[0m                                          \u001b[0mheaders\u001b[0m\u001b[0;34m=\u001b[0m\u001b[0mheaders\u001b[0m\u001b[0;34m,\u001b[0m\u001b[0;34m\u001b[0m\u001b[0;34m\u001b[0m\u001b[0m\n",
      "\u001b[0;32m/usr/local/lib/python3.9/site-packages/flywheel/rest.py\u001b[0m in \u001b[0;36mPOST\u001b[0;34m(self, url, headers, query_params, post_params, body, _preload_content, _request_timeout)\u001b[0m\n\u001b[1;32m    239\u001b[0m     def POST(self, url, headers=None, query_params=None, post_params=None,\n\u001b[1;32m    240\u001b[0m              body=None, _preload_content=True, _request_timeout=None):\n\u001b[0;32m--> 241\u001b[0;31m         return self.request(\"POST\", url,\n\u001b[0m\u001b[1;32m    242\u001b[0m                             \u001b[0mheaders\u001b[0m\u001b[0;34m=\u001b[0m\u001b[0mheaders\u001b[0m\u001b[0;34m,\u001b[0m\u001b[0;34m\u001b[0m\u001b[0;34m\u001b[0m\u001b[0m\n\u001b[1;32m    243\u001b[0m                             \u001b[0mquery_params\u001b[0m\u001b[0;34m=\u001b[0m\u001b[0mquery_params\u001b[0m\u001b[0;34m,\u001b[0m\u001b[0;34m\u001b[0m\u001b[0;34m\u001b[0m\u001b[0m\n",
      "\u001b[0;32m/usr/local/lib/python3.9/site-packages/flywheel/rest.py\u001b[0m in \u001b[0;36mrequest\u001b[0;34m(self, method, url, query_params, headers, body, post_params, _preload_content, _request_timeout)\u001b[0m\n\u001b[1;32m    143\u001b[0m                 \u001b[0;32mif\u001b[0m \u001b[0mbody\u001b[0m \u001b[0;32mis\u001b[0m \u001b[0;32mnot\u001b[0m \u001b[0;32mNone\u001b[0m\u001b[0;34m:\u001b[0m\u001b[0;34m\u001b[0m\u001b[0;34m\u001b[0m\u001b[0m\n\u001b[1;32m    144\u001b[0m                     \u001b[0mrequest_body\u001b[0m \u001b[0;34m=\u001b[0m \u001b[0mjson\u001b[0m\u001b[0;34m.\u001b[0m\u001b[0mdumps\u001b[0m\u001b[0;34m(\u001b[0m\u001b[0mbody\u001b[0m\u001b[0;34m)\u001b[0m\u001b[0;34m\u001b[0m\u001b[0;34m\u001b[0m\u001b[0m\n\u001b[0;32m--> 145\u001b[0;31m                 r = self.session.request(method, url,\n\u001b[0m\u001b[1;32m    146\u001b[0m                     \u001b[0mparams\u001b[0m\u001b[0;34m=\u001b[0m\u001b[0mquery_params\u001b[0m\u001b[0;34m,\u001b[0m\u001b[0;34m\u001b[0m\u001b[0;34m\u001b[0m\u001b[0m\n\u001b[1;32m    147\u001b[0m                     \u001b[0mdata\u001b[0m\u001b[0;34m=\u001b[0m\u001b[0mrequest_body\u001b[0m\u001b[0;34m,\u001b[0m\u001b[0;34m\u001b[0m\u001b[0;34m\u001b[0m\u001b[0m\n",
      "\u001b[0;32m/usr/local/lib/python3.9/site-packages/requests/sessions.py\u001b[0m in \u001b[0;36mrequest\u001b[0;34m(self, method, url, params, data, headers, cookies, files, auth, timeout, allow_redirects, proxies, hooks, stream, verify, cert, json)\u001b[0m\n\u001b[1;32m    540\u001b[0m         }\n\u001b[1;32m    541\u001b[0m         \u001b[0msend_kwargs\u001b[0m\u001b[0;34m.\u001b[0m\u001b[0mupdate\u001b[0m\u001b[0;34m(\u001b[0m\u001b[0msettings\u001b[0m\u001b[0;34m)\u001b[0m\u001b[0;34m\u001b[0m\u001b[0;34m\u001b[0m\u001b[0m\n\u001b[0;32m--> 542\u001b[0;31m         \u001b[0mresp\u001b[0m \u001b[0;34m=\u001b[0m \u001b[0mself\u001b[0m\u001b[0;34m.\u001b[0m\u001b[0msend\u001b[0m\u001b[0;34m(\u001b[0m\u001b[0mprep\u001b[0m\u001b[0;34m,\u001b[0m \u001b[0;34m**\u001b[0m\u001b[0msend_kwargs\u001b[0m\u001b[0;34m)\u001b[0m\u001b[0;34m\u001b[0m\u001b[0;34m\u001b[0m\u001b[0m\n\u001b[0m\u001b[1;32m    543\u001b[0m \u001b[0;34m\u001b[0m\u001b[0m\n\u001b[1;32m    544\u001b[0m         \u001b[0;32mreturn\u001b[0m \u001b[0mresp\u001b[0m\u001b[0;34m\u001b[0m\u001b[0;34m\u001b[0m\u001b[0m\n",
      "\u001b[0;32m/usr/local/lib/python3.9/site-packages/requests/sessions.py\u001b[0m in \u001b[0;36msend\u001b[0;34m(self, request, **kwargs)\u001b[0m\n\u001b[1;32m    660\u001b[0m \u001b[0;34m\u001b[0m\u001b[0m\n\u001b[1;32m    661\u001b[0m         \u001b[0;31m# Response manipulation hooks\u001b[0m\u001b[0;34m\u001b[0m\u001b[0;34m\u001b[0m\u001b[0m\n\u001b[0;32m--> 662\u001b[0;31m         \u001b[0mr\u001b[0m \u001b[0;34m=\u001b[0m \u001b[0mdispatch_hook\u001b[0m\u001b[0;34m(\u001b[0m\u001b[0;34m'response'\u001b[0m\u001b[0;34m,\u001b[0m \u001b[0mhooks\u001b[0m\u001b[0;34m,\u001b[0m \u001b[0mr\u001b[0m\u001b[0;34m,\u001b[0m \u001b[0;34m**\u001b[0m\u001b[0mkwargs\u001b[0m\u001b[0;34m)\u001b[0m\u001b[0;34m\u001b[0m\u001b[0;34m\u001b[0m\u001b[0m\n\u001b[0m\u001b[1;32m    663\u001b[0m \u001b[0;34m\u001b[0m\u001b[0m\n\u001b[1;32m    664\u001b[0m         \u001b[0;31m# Persist cookies\u001b[0m\u001b[0;34m\u001b[0m\u001b[0;34m\u001b[0m\u001b[0m\n",
      "\u001b[0;32m/usr/local/lib/python3.9/site-packages/requests/hooks.py\u001b[0m in \u001b[0;36mdispatch_hook\u001b[0;34m(key, hooks, hook_data, **kwargs)\u001b[0m\n\u001b[1;32m     29\u001b[0m             \u001b[0mhooks\u001b[0m \u001b[0;34m=\u001b[0m \u001b[0;34m[\u001b[0m\u001b[0mhooks\u001b[0m\u001b[0;34m]\u001b[0m\u001b[0;34m\u001b[0m\u001b[0;34m\u001b[0m\u001b[0m\n\u001b[1;32m     30\u001b[0m         \u001b[0;32mfor\u001b[0m \u001b[0mhook\u001b[0m \u001b[0;32min\u001b[0m \u001b[0mhooks\u001b[0m\u001b[0;34m:\u001b[0m\u001b[0;34m\u001b[0m\u001b[0;34m\u001b[0m\u001b[0m\n\u001b[0;32m---> 31\u001b[0;31m             \u001b[0m_hook_data\u001b[0m \u001b[0;34m=\u001b[0m \u001b[0mhook\u001b[0m\u001b[0;34m(\u001b[0m\u001b[0mhook_data\u001b[0m\u001b[0;34m,\u001b[0m \u001b[0;34m**\u001b[0m\u001b[0mkwargs\u001b[0m\u001b[0;34m)\u001b[0m\u001b[0;34m\u001b[0m\u001b[0;34m\u001b[0m\u001b[0m\n\u001b[0m\u001b[1;32m     32\u001b[0m             \u001b[0;32mif\u001b[0m \u001b[0m_hook_data\u001b[0m \u001b[0;32mis\u001b[0m \u001b[0;32mnot\u001b[0m \u001b[0;32mNone\u001b[0m\u001b[0;34m:\u001b[0m\u001b[0;34m\u001b[0m\u001b[0;34m\u001b[0m\u001b[0m\n\u001b[1;32m     33\u001b[0m                 \u001b[0mhook_data\u001b[0m \u001b[0;34m=\u001b[0m \u001b[0m_hook_data\u001b[0m\u001b[0;34m\u001b[0m\u001b[0;34m\u001b[0m\u001b[0m\n",
      "\u001b[0;32m/usr/local/lib/python3.9/site-packages/flywheel/rest.py\u001b[0m in \u001b[0;36mresponse_hook\u001b[0;34m(self, resp, *args, **kwargs)\u001b[0m\n\u001b[1;32m     97\u001b[0m     \u001b[0;32mdef\u001b[0m \u001b[0mresponse_hook\u001b[0m\u001b[0;34m(\u001b[0m\u001b[0mself\u001b[0m\u001b[0;34m,\u001b[0m \u001b[0mresp\u001b[0m\u001b[0;34m,\u001b[0m \u001b[0;34m*\u001b[0m\u001b[0margs\u001b[0m\u001b[0;34m,\u001b[0m \u001b[0;34m**\u001b[0m\u001b[0mkwargs\u001b[0m\u001b[0;34m)\u001b[0m\u001b[0;34m:\u001b[0m\u001b[0;34m\u001b[0m\u001b[0;34m\u001b[0m\u001b[0m\n\u001b[1;32m     98\u001b[0m         \u001b[0;32mif\u001b[0m \u001b[0;32mnot\u001b[0m \u001b[0;36m200\u001b[0m \u001b[0;34m<=\u001b[0m \u001b[0mresp\u001b[0m\u001b[0;34m.\u001b[0m\u001b[0mstatus_code\u001b[0m \u001b[0;34m<=\u001b[0m \u001b[0;36m299\u001b[0m \u001b[0;32mand\u001b[0m \u001b[0mresp\u001b[0m\u001b[0;34m.\u001b[0m\u001b[0mstatus_code\u001b[0m \u001b[0;34m!=\u001b[0m \u001b[0;36m302\u001b[0m\u001b[0;34m:\u001b[0m\u001b[0;34m\u001b[0m\u001b[0;34m\u001b[0m\u001b[0m\n\u001b[0;32m---> 99\u001b[0;31m             \u001b[0;32mraise\u001b[0m \u001b[0mApiException\u001b[0m\u001b[0;34m(\u001b[0m\u001b[0mhttp_resp\u001b[0m\u001b[0;34m=\u001b[0m\u001b[0mresp\u001b[0m\u001b[0;34m)\u001b[0m\u001b[0;34m\u001b[0m\u001b[0;34m\u001b[0m\u001b[0m\n\u001b[0m\u001b[1;32m    100\u001b[0m \u001b[0;34m\u001b[0m\u001b[0m\n\u001b[1;32m    101\u001b[0m     def request(self, method, url, query_params=None, headers=None,\n",
      "\u001b[0;31mApiException\u001b[0m: (404) Reason: No match for session with label 27"
     ]
    }
   ],
   "source": [
    "container = fw.lookup(path)"
   ]
  },
  {
   "cell_type": "markdown",
   "metadata": {},
   "source": [
    "So we can't find it by lookup because of the name.  I tried escaping various ways like \"bids-apps/BIDS_multi_session/sub-TOME3024/analyses/bids-fmriprep 09\\\\/27\\\\/2021 12:08:17\" and also `fw.resolve()` but no joy.  \n",
    "\n",
    "It can be found using the CLI though with `fw ls \"bids-apps/BIDS_multi_session/sub-TOME3024/analyses/bids-fmriprep 09/27/2021 12:08:17\"`.\n",
    "\n",
    "How about searching through all of the analyses looking for that file name.  The name should be unique because it has the analysis id: `bids-fmriprep_sub-TOME3024_6151ec74577559af284ec883.zip`  But that means this is particular to a given instanc/job run.  There could be more than one bids-fmriprep runs for a given subject.  To make it more general, it could just find the last run of that gear that has a file matching the file name without the analysis id.  Well, this might work for this case, but in general it could be any kind of file input so I guess using the actual name is the only way to go.\n",
    "\n",
    "The input's container can be found with `fw.lookup()` at whatever level of the heirarchy it is and then all analyses can be searched for a file with the proper namne."
   ]
  },
  {
   "cell_type": "code",
   "execution_count": 17,
   "metadata": {},
   "outputs": [],
   "source": [
    "analyses = subject.reload().analyses"
   ]
  },
  {
   "cell_type": "code",
   "execution_count": 18,
   "metadata": {},
   "outputs": [
    {
     "name": "stdout",
     "output_type": "stream",
     "text": [
      "bids-fmriprep_sub-TOME3024_6151ec74577559af284ec883.zip\n",
      "bids_tree.html\n",
      "sub-TOME3024_6151ec74577559af284ec883.html.zip\n",
      "bids-fmriprep_sub-TOME3024_615cd3a3c4b05d8a68bfd0e3.zip\n",
      "bids_tree.html\n",
      "sub-TOME3024_615cd3a3c4b05d8a68bfd0e3.html.zip\n",
      "bids-app-template_sub-TOME3024_6164b9f9ed5fcc2ee72d70fa.zip\n",
      "bids_tree.html\n",
      "bids-fmriprep_sub-TOME3024_6197df82255a0f1ccb161ef5.zip\n",
      "bids_tree.html\n",
      "sub-TOME3024_6197df82255a0f1ccb161ef5.html.zip\n"
     ]
    }
   ],
   "source": [
    "for analysis in analyses:\n",
    "    for file in analysis.files:\n",
    "        print(file.name)"
   ]
  },
  {
   "cell_type": "markdown",
   "metadata": {},
   "source": [
    "`copy-job.py` can save the input file's container path in a special way that will indicate the need to search for the file in the analyses. Normall the input is found by the container's path, but here the script to launch the job will have to find the analysis with the proper file name.  It will already have that file name:"
   ]
  },
  {
   "cell_type": "code",
   "execution_count": 26,
   "metadata": {},
   "outputs": [],
   "source": [
    "location_name = job.config.get(\"inputs\")[\"work-dir\"][\"location\"][\"name\"]"
   ]
  },
  {
   "cell_type": "code",
   "execution_count": 29,
   "metadata": {},
   "outputs": [
    {
     "name": "stdout",
     "output_type": "stream",
     "text": [
      "found bids-fmriprep_sub-TOME3024_6151ec74577559af284ec883.zip in analysis bids-fmriprep 09/27/2021 12:08:17 id 6151ec74577559af284ec883\n"
     ]
    }
   ],
   "source": [
    "for analysis in analyses:\n",
    "    for file in analysis.files:\n",
    "        if location_name == file.name:\n",
    "            print(f\"found {file.name} in analysis {analysis.label} id {analysis.id}\")"
   ]
  },
  {
   "cell_type": "code",
   "execution_count": 30,
   "metadata": {},
   "outputs": [
    {
     "data": {
      "text/plain": [
       "{'created': datetime.datetime(2021, 10, 13, 19, 3, 53, 753000, tzinfo=tzutc()),\n",
       " 'description': '',\n",
       " 'files': [{'classification': {},\n",
       "            'created': datetime.datetime(2021, 10, 14, 6, 56, 12, 80000, tzinfo=tzutc()),\n",
       "            'deid_log_id': None,\n",
       "            'file_id': '6167d48cfbfaba2ac22d76a8',\n",
       "            'hash': None,\n",
       "            'id': '5f5105d8-bf91-43de-bbfe-51f361b24712',\n",
       "            'info': {},\n",
       "            'info_exists': False,\n",
       "            'mimetype': 'application/octet-stream',\n",
       "            'modality': None,\n",
       "            'modified': datetime.datetime(2021, 10, 14, 6, 56, 12, 80000, tzinfo=tzutc()),\n",
       "            'name': 'bids-freesurfer_ses_Session2_61672d99ed5fcc2ee72d8488.zip',\n",
       "            'origin': {'id': '61672d99ed5fcc2ee72d8489',\n",
       "                       'method': None,\n",
       "                       'name': None,\n",
       "                       'type': 'job',\n",
       "                       'via': None},\n",
       "            'parent_ref': {'id': '61672d99ed5fcc2ee72d8488',\n",
       "                           'type': 'analysis'},\n",
       "            'parents': {'acquisition': None,\n",
       "                        'analysis': '61672d99ed5fcc2ee72d8488',\n",
       "                        'group': 'bids-apps',\n",
       "                        'project': '6151e90263e0a8412b4ec863',\n",
       "                        'session': '6151e91f3d956a115c4ec87e',\n",
       "                        'subject': '6151e9043d956a115c4ec872'},\n",
       "            'provider_id': '6047c661d4a7303a0bfe09d3',\n",
       "            'replaced': None,\n",
       "            'size': 740895760,\n",
       "            'tags': [],\n",
       "            'type': 'archive',\n",
       "            'version': 1,\n",
       "            'zip_member_count': None}],\n",
       " 'gear_info': {'category': 'analysis',\n",
       "               'id': '61672c8aaf0d9b1c452d72cd',\n",
       "               'name': 'bids-freesurfer',\n",
       "               'version': '1.0.5_6.0.1-5'},\n",
       " 'id': '61672d99ed5fcc2ee72d8488',\n",
       " 'info': None,\n",
       " 'inputs': [],\n",
       " 'job': {'attempt': None,\n",
       "         'compute_provider_id': None,\n",
       "         'config': None,\n",
       "         'created': None,\n",
       "         'destination': None,\n",
       "         'failure_reason': None,\n",
       "         'gear_id': None,\n",
       "         'gear_info': None,\n",
       "         'group': None,\n",
       "         'id': None,\n",
       "         'inputs': None,\n",
       "         'label': None,\n",
       "         'modified': None,\n",
       "         'origin': None,\n",
       "         'previous_job_id': None,\n",
       "         'profile': None,\n",
       "         'project': None,\n",
       "         'related_container_ids': None,\n",
       "         'request': None,\n",
       "         'retried': None,\n",
       "         'saved_files': None,\n",
       "         'state': None,\n",
       "         'tags': None,\n",
       "         'transitions': None},\n",
       " 'label': 'bids-freesurfer 10-13-2021 15:03:53 SDK launched',\n",
       " 'modified': datetime.datetime(2021, 10, 13, 19, 3, 53, 847000, tzinfo=tzutc()),\n",
       " 'notes': [],\n",
       " 'parent': {'id': '6151e91f3d956a115c4ec87e', 'type': 'session'},\n",
       " 'parents': {'acquisition': None,\n",
       "             'analysis': None,\n",
       "             'group': 'bids-apps',\n",
       "             'project': '6151e90263e0a8412b4ec863',\n",
       "             'session': '6151e91f3d956a115c4ec87e',\n",
       "             'subject': '6151e9043d956a115c4ec872'},\n",
       " 'revision': 2,\n",
       " 'tags': []}"
      ]
     },
     "execution_count": 30,
     "metadata": {},
     "output_type": "execute_result"
    }
   ],
   "source": [
    "fw.lookup(\"bids-apps/BIDS_multi_session/sub-TOME3024/ses-Session2/analyses/bids-freesurfer 10-13-2021 15:03:53 SDK launched\")"
   ]
  }
 ],
 "metadata": {
  "kernelspec": {
   "display_name": "Python 3",
   "language": "python",
   "name": "python3"
  },
  "language_info": {
   "codemirror_mode": {
    "name": "ipython",
    "version": 3
   },
   "file_extension": ".py",
   "mimetype": "text/x-python",
   "name": "python",
   "nbconvert_exporter": "python",
   "pygments_lexer": "ipython3",
   "version": "3.9.13"
  }
 },
 "nbformat": 4,
 "nbformat_minor": 4
}
