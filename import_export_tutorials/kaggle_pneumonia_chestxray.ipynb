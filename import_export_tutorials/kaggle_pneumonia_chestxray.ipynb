{
 "cells": [
  {
   "cell_type": "markdown",
   "metadata": {},
   "source": [
    "**Title**: Upload kaggle chest Xray.   \n",
    "**Description**:    \n",
    "* https://www.kaggle.com/c/rsna-pneumonia-detection-challenge/data  "
   ]
  },
  {
   "source": [
    "# Data Use Aggreement\n",
    "Before downloading this data, or any data, from kaggle, you must agree to the rules of this competition: \n",
    "\n",
    "* https://www.kaggle.com/c/rsna-pneumonia-detection-challenge/rules"
   ],
   "cell_type": "markdown",
   "metadata": {}
  },
  {
   "cell_type": "code",
   "execution_count": 1,
   "metadata": {},
   "outputs": [],
   "source": [
    "%reload_ext autoreload\n",
    "%autoreload 2\n",
    "%matplotlib inline"
   ]
  },
  {
   "cell_type": "markdown",
   "metadata": {},
   "source": [
    "# Install a few dependencies"
   ]
  },
  {
   "cell_type": "code",
   "execution_count": null,
   "metadata": {},
   "outputs": [],
   "source": [
    "!pip install pandas pydicom flywheel-sdk kaggle"
   ]
  },
  {
   "cell_type": "markdown",
   "metadata": {},
   "source": [
    "# Download kaggle dataset\n",
    "\n",
    "This requires that you have stored your Kaggle credentials in ~/.kaggle/kaggle.json. These can be acquired by creating a kaggle account at kaggle.com and using \"Create New API Token\" on the user account page. \n",
    "\n",
    "This dataset is currently 3.7 GB and may change in the future. Depending on the bandwidth of your internet connection, this may take some time to download."
   ]
  },
  {
   "cell_type": "code",
   "execution_count": 1,
   "metadata": {},
   "outputs": [
    {
     "output_type": "stream",
     "name": "stdout",
     "text": [
      "/bin/sh: kaggle: command not found\n"
     ]
    }
   ],
   "source": [
    "!kaggle competitions download -c rsna-pneumonia-detection-challenge"
   ]
  },
  {
   "cell_type": "code",
   "execution_count": 72,
   "metadata": {},
   "outputs": [],
   "source": [
    "import os\n",
    "from pathlib import Path\n",
    "import pandas as pd\n",
    "import flywheel\n",
    "import logging\n",
    "from tqdm.notebook import tqdm\n",
    "import pydicom\n",
    "import re\n",
    "import json\n",
    "import time\n",
    "import zipfile"
   ]
  },
  {
   "source": [
    "# Initialize variables\n",
    "Initialize path to dowload directory, default session label, and default acquisition label."
   ],
   "cell_type": "markdown",
   "metadata": {}
  },
  {
   "cell_type": "code",
   "execution_count": 63,
   "metadata": {},
   "outputs": [],
   "source": [
    "ROOT_KAGGLE_DATA = '/path/to/downloaded/dataset/'\n",
    "DEFAULT_SESSION_LABEL = 'NA'\n",
    "DEFAULT_ACQ_LABEL = 'Chest XR'"
   ]
  },
  {
   "cell_type": "markdown",
   "metadata": {},
   "source": [
    "# Initialize client\n",
    "The `COVID19_FW_KEY` is the Flywheel API-Key for the Flywheel instance you want to upload this dataset to. You can find or create your own API-Key using the instructions found [here](https://docs.flywheel.io/hc/en-us/articles/360015135654-User-Profile). You'll need to provide the api key in your notebook, or set it to the `COVID19_FW_KEY` environment variable in your operating system."
   ]
  },
  {
   "cell_type": "code",
   "execution_count": 64,
   "metadata": {},
   "outputs": [],
   "source": [
    "COVID19_FW_KEY = os.getenv('FW_COVID19_KEY')\n",
    "fw = flywheel.Client(COVID19_FW_KEY)"
   ]
  },
  {
   "cell_type": "markdown",
   "metadata": {},
   "source": [
    "# Containers helpers\n",
    "Documented container helper functions to find existing or create new containers."
   ]
  },
  {
   "cell_type": "code",
   "execution_count": 66,
   "metadata": {},
   "outputs": [],
   "source": [
    "def find_or_create_group(fw_client, id, label):\n",
    "    \"\"\"\n",
    "    Find or create group indictated by \"label\".\n",
    "\n",
    "    Args:\n",
    "        id (str): Instance-unique, lower-case alphabetic with \"_\" as id for group.\n",
    "        label (str): The label for the group. Less restricted than 'id'.\n",
    "\n",
    "    Returns:\n",
    "        flywheel.Group: The found or created group.\n",
    "    \"\"\"\n",
    "    if not label:\n",
    "        return None\n",
    "\n",
    "    group = fw_client.groups.find_first(f\"label={label}\")\n",
    "\n",
    "    if not group:\n",
    "        group = flywheel.Group(id=id, label=label)\n",
    "        group_id = fw_client.add_group(group)\n",
    "        group = fw_client.get_group(group_id)\n",
    "\n",
    "    if group:\n",
    "        group = group.reload()\n",
    "\n",
    "    return group\n",
    "\n",
    "\n",
    "def find_or_create_project(label, group):\n",
    "    \"\"\"\n",
    "    Find or create Flywheel project with \"label\" under \"group\".\n",
    "\n",
    "    Args:\n",
    "        label (str): [description]\n",
    "        group (flywheel.Group): The Flywheel group object to create this project under.\n",
    "\n",
    "    Returns:\n",
    "        flywheel.Project: The found or created Flywheel Project object.\n",
    "    \"\"\"\n",
    "    if not label:\n",
    "        return None\n",
    "    project = group.projects.find_first(f\"label={label}\")\n",
    "    return project\n",
    "\n",
    "\n",
    "def find_or_create_subject(label, sex, project):\n",
    "    \"\"\"\n",
    "    Find or create a subject with \"label\" under \"project\".\n",
    "\n",
    "    If subject is found, \"sex\" is disregarded.\n",
    "\n",
    "    Args:\n",
    "        label (str): The label to use for the subject name.\n",
    "        sex (str): The sex of the subject. Can be `None`.\n",
    "        project (flywheel.Project): The project object to create this subject under.\n",
    "\n",
    "    Returns:\n",
    "        flywheel.Subject: The found or created Flywheel Subject object.\n",
    "    \"\"\"\n",
    "    if not label:\n",
    "        return None\n",
    "    subject = project.subjects.find_first(f\"label={label}\")\n",
    "\n",
    "    if not subject:\n",
    "        subject = project.add_subject(code=label, label=label)\n",
    "        if sex:\n",
    "            subject.update(sex=sex)\n",
    "\n",
    "    if subject:\n",
    "        subject = subject.reload()\n",
    "\n",
    "    return subject\n",
    "\n",
    "\n",
    "def find_or_create_session(label, age, subject):\n",
    "    \"\"\"\n",
    "    Find or create a session with \"label\" under \"subject\".\n",
    "\n",
    "    If session is found, \"age\" is disregarded.\n",
    "\n",
    "    Args:\n",
    "        label (str): The label to display for this session.\n",
    "        age (int): The age of the subject at the event of this session.\n",
    "        subject (flywheel.Subject): The Flywheel subject to create the session under.\n",
    "\n",
    "    Returns:\n",
    "        flywheel.session: The found or created Flywheel session.\n",
    "    \"\"\"\n",
    "    if not label:\n",
    "        return None\n",
    "    session = subject.sessions.find_first(f\"label={label}\")\n",
    "\n",
    "    if not session:\n",
    "        session = subject.add_session(label=label)\n",
    "        if age:\n",
    "            session.update(age=age)\n",
    "\n",
    "    if session:\n",
    "        session = session.reload()\n",
    "\n",
    "    return session\n",
    "\n",
    "\n",
    "def find_or_create_acquisition(label, info_dict, fp, session, update_info=True):\n",
    "    \"\"\"\n",
    "    find_or_create_acquisition [summary]\n",
    "\n",
    "    Args:\n",
    "        label (str): The label to display for this acquisition\n",
    "        info_dict (dict): Dictionary to update or add to instance of acquisition.\n",
    "        fp (str): Fullpath to a file to upload into the found/created acquisition.\n",
    "        session (flywheel.Session): Session to find or create acquisition under.\n",
    "        update_info (bool, optional): Flag to update info of existing acquisition.\n",
    "            Defaults to True.\n",
    "\n",
    "    Returns:\n",
    "        flywheel.Acquisition: The found or created Flywheel Acquisition object.\n",
    "    \"\"\"\n",
    "    if not label:\n",
    "        return None\n",
    "    acq = session.acquisitions.find_first(f\"label={label}\")\n",
    "\n",
    "    if not acq:\n",
    "        acq = session.add_acquisition(label=label)\n",
    "\n",
    "        if info_dict:\n",
    "            acq.update(info=info_dict)\n",
    "\n",
    "    if acq:\n",
    "        basename = os.path.basename(fp)\n",
    "        if os.path.isfile(fp) and not acq.get_file(basename):\n",
    "\n",
    "            acq.upload_file(fp)\n",
    "\n",
    "            print(f\"Uploading {fp} to acquisition {acq.id}\")\n",
    "            while not acq.get_file(basename):\n",
    "                acq = acq.reload()\n",
    "                time.sleep(1)\n",
    "\n",
    "    if update_info:\n",
    "        f = acq.get_file(basename)\n",
    "        f.update({\"type\": \"dicom\", \"modality\": \"X-ray\"})\n",
    "        f.update_info(info_dict)\n",
    "\n",
    "    acq = acq.reload()\n",
    "\n",
    "    return acq\n"
   ]
  },
  {
   "cell_type": "markdown",
   "metadata": {},
   "source": [
    "# Create the project"
   ]
  },
  {
   "cell_type": "code",
   "execution_count": 65,
   "metadata": {},
   "outputs": [],
   "source": [
    "# Initialize the group\n",
    "public_data_group = find_or_create_group('public_data','public_data')\n",
    "# Initialize the project\n",
    "project_label = 'kaggle-rsna-pneumonia-detection-challenge'\n",
    "readme = 'https://www.kaggle.com/c/rsna-pneumonia-detection-challenge/data'\n",
    "chestxray_project = find_or_create_project(project_label, public_data_group)\n",
    "if chestxray_project:\n",
    "    chestxray_project.update(description=readme)"
   ]
  },
  {
   "cell_type": "markdown",
   "metadata": {},
   "source": [
    "# Read the csv"
   ]
  },
  {
   "cell_type": "code",
   "execution_count": 69,
   "metadata": {},
   "outputs": [],
   "source": [
    "df = pd.read_csv(Path(ROOT_KAGGLE_DATA) / 'stage_2_train_labels.csv')"
   ]
  },
  {
   "cell_type": "markdown",
   "metadata": {},
   "source": [
    "# Upload\n",
    "Iterate through the training data csv to create the container hierarchy for this project:\n",
    "* find or create each subject encountered\n",
    "* find or create each session (with `DEFAULT_SESSION_LABEL`) encountered\n",
    "* find or create each acquisition (with 'SeriesDescription' or `DEFAULT_ACQ_LABEL`) and add enclosed files."
   ]
  },
  {
   "cell_type": "code",
   "execution_count": null,
   "metadata": {},
   "outputs": [],
   "source": [
    "for i, row in tqdm(df.iterrows(), total=len(df)):\n",
    "    subject = find_or_create_subject(row['patientId'], None, chestxray_project)\n",
    "    if row['Target']:\n",
    "        row_dict = {\n",
    "            'box': {\n",
    "                'x': row['x'], \n",
    "                'y': row['y'], \n",
    "                'width': row['width'], \n",
    "                'height': row['height']\n",
    "            }, \n",
    "            'Target': row['Target']\n",
    "        }\n",
    "    else:\n",
    "        row_dict = {'Target': row['Target']}\n",
    "    if subject:\n",
    "        session = find_or_create_session(DEFAULT_SESSION_LABEL, None, subject)\n",
    "        if session:\n",
    "            filepath = str(Path(ROOT_KAGGLE_DATA) / 'stage_2_train_images' / f\"{row['patientId']}.dcm\")\n",
    "            dcm = pydicom.read_file(filepath, stop_before_pixels=True, force=True)\n",
    "            with zipfile.ZipFile(f'/tmp/{row[\"patientId\"]}.zip', 'w') as myzip:\n",
    "                myzip.write(filepath)\n",
    "            acq_label = dcm.get('SeriesDescription', DEFAULT_ACQ_LABEL)\n",
    "            acq = find_or_create_acquisition(acq_label, row_dict, f'/tmp/{row[\"patientId\"]}.zip', session)\n",
    "            os.remove(f'/tmp/{row[\"patientId\"]}.zip')"
   ]
  },
  {
   "cell_type": "code",
   "execution_count": null,
   "metadata": {},
   "outputs": [],
   "source": []
  }
 ],
 "metadata": {
  "kernelspec": {
   "display_name": "Python 3",
   "language": "python",
   "name": "python3"
  },
  "language_info": {
   "codemirror_mode": {
    "name": "ipython",
    "version": 3
   },
   "file_extension": ".py",
   "mimetype": "text/x-python",
   "name": "python",
   "nbconvert_exporter": "python",
   "pygments_lexer": "ipython3",
   "version": "3.6.7-final"
  }
 },
 "nbformat": 4,
 "nbformat_minor": 4
}