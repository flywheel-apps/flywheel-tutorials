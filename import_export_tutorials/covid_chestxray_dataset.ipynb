{
 "cells": [
  {
   "source": [
    "**Title**: Upload COVID Chest X-Ray Dataset.   \n",
    "**Description**:    \n",
    "* https://github.com/ieee8023/covid-chestxray-dataset\n",
    "* https://arxiv.org/abs/2004.12823\n",
    "* https://arxiv.org/abs/2004.05405"
   ],
   "cell_type": "markdown",
   "metadata": {}
  },
  {
   "source": [
    "# Data Use Aggreement\n",
    "Before downloading this data, or any data, make sure you understand the restrictions on the use of data."
   ],
   "cell_type": "markdown",
   "metadata": {}
  },
  {
   "cell_type": "code",
   "execution_count": null,
   "metadata": {},
   "outputs": [],
   "source": [
    "%reload_ext autoreload\n",
    "%autoreload 2\n",
    "%matplotlib inline"
   ]
  },
  {
   "source": [
    "# Install a few dependencies"
   ],
   "cell_type": "markdown",
   "metadata": {}
  },
  {
   "cell_type": "code",
   "execution_count": null,
   "metadata": {},
   "outputs": [],
   "source": [
    "!pip install pandas pydicom flywheel-sdk"
   ]
  },
  {
   "cell_type": "code",
   "execution_count": null,
   "metadata": {},
   "outputs": [],
   "source": [
    "import pandas as pd\n",
    "import flywheel\n",
    "import os\n",
    "import csv\n",
    "import time\n",
    "import datetime\n",
    "import copy"
   ]
  },
  {
   "source": [
    "# Download covid-chestxray dataset\n",
    "The following will download the entire github repository to the local drive."
   ],
   "cell_type": "markdown",
   "metadata": {}
  },
  {
   "cell_type": "code",
   "execution_count": null,
   "metadata": {},
   "outputs": [],
   "source": [
    "!git clone git@github.com:ieee8023/covid-chestxray-dataset.git"
   ]
  },
  {
   "source": [
    "# Initialize Variables"
   ],
   "cell_type": "markdown",
   "metadata": {}
  },
  {
   "cell_type": "code",
   "execution_count": null,
   "metadata": {},
   "outputs": [],
   "source": [
    "ROOT_CHESTXRAY_DATA = '/path/to/downloaded/repository/'\n",
    "DEFAULT_SESSION_LABEL = 'offset_NA'\n",
    "DEFAULT_ACQ_LABEL = 'Chest XR'"
   ]
  },
  {
   "cell_type": "markdown",
   "metadata": {},
   "source": [
    "# Initialize client\n",
    "The `COVID19_FW_KEY` is the Flywheel API-Key for the Flywheel instance you want to upload this dataset to.  You can find or create your own API-Key using the instructions found [here](https://docs.flywheel.io/hc/en-us/articles/360015135654-User-Profile). You'll need to provide the api key in your notebook, or set it to the `COVID19_FW_KEY` environment variable in your operating system."
   ]
  },
  {
   "cell_type": "code",
   "execution_count": null,
   "metadata": {},
   "outputs": [],
   "source": [
    "COVID19_FW_KEY = os.getenv('COVID19_FW_KEY')\n",
    "fw_client = flywheel.Client(COVID19_FW_KEY)"
   ]
  },
  {
   "source": [
    "# Containers helpers\n",
    "Documented container helper functions to find existing or create new containers."
   ],
   "cell_type": "markdown",
   "metadata": {}
  },
  {
   "cell_type": "code",
   "execution_count": null,
   "metadata": {},
   "outputs": [],
   "source": [
    "def find_or_create_group(fw_client, id, label):\n",
    "    \"\"\"\n",
    "    Find or create group indictated by \"label\".\n",
    "\n",
    "    Args:\n",
    "        id (str): Instance-unique, lower-case alphabetic with \"_\" as id for group.\n",
    "        label (str): The label for the group. Less restricted than 'id'.\n",
    "\n",
    "    Returns:\n",
    "        flywheel.Group: The found or created group.\n",
    "    \"\"\"\n",
    "    if not label:\n",
    "        return None\n",
    "\n",
    "    group = fw_client.groups.find_first(f\"label={label}\")\n",
    "\n",
    "    if not group:\n",
    "        group = flywheel.Group(id=id, label=label)\n",
    "        group_id = fw_client.add_group(group)\n",
    "        group = fw_client.get_group(group_id)\n",
    "\n",
    "    if group:\n",
    "        group = group.reload()\n",
    "\n",
    "    return group\n",
    "\n",
    "\n",
    "def find_or_create_project(label, group):\n",
    "    \"\"\"\n",
    "    Find or create Flywheel project with \"label\" under \"group\".\n",
    "\n",
    "    Args:\n",
    "        label (str): [description]\n",
    "        group (flywheel.Group): The Flywheel group object to create this project under.\n",
    "\n",
    "    Returns:\n",
    "        flywheel.Project: The found or created Flywheel Project object.\n",
    "    \"\"\"\n",
    "    if not label:\n",
    "        return None\n",
    "    project = group.projects.find_first(f\"label={label}\")\n",
    "    return project\n",
    "\n",
    "\n",
    "def find_or_create_subject(label, sex, project):\n",
    "    \"\"\"\n",
    "    Find or create a subject with \"label\" under \"project\".\n",
    "\n",
    "    If subject is found, \"sex\" is disregarded.\n",
    "\n",
    "    Args:\n",
    "        label (str): The label to use for the subject name.\n",
    "        sex (str): The sex of the subject. Can be `None`.\n",
    "        project (flywheel.Project): The project object to create this subject under.\n",
    "\n",
    "    Returns:\n",
    "        flywheel.Subject: The found or created Flywheel Subject object.\n",
    "    \"\"\"\n",
    "    if not label:\n",
    "        return None\n",
    "    subject = project.subjects.find_first(f\"label={label}\")\n",
    "\n",
    "    if not subject:\n",
    "        subject = project.add_subject(code=label, label=label)\n",
    "        if sex:\n",
    "            subject.update(sex=sex)\n",
    "\n",
    "    if subject:\n",
    "        subject = subject.reload()\n",
    "\n",
    "    return subject\n",
    "\n",
    "\n",
    "def find_or_create_session(label, age, subject):\n",
    "    \"\"\"\n",
    "    Find or create a session with \"label\" under \"subject\".\n",
    "\n",
    "    If session is found, \"age\" is disregarded.\n",
    "\n",
    "    Args:\n",
    "        label (str): The label to display for this session.\n",
    "        age (int): The age of the subject at the event of this session.\n",
    "        subject (flywheel.Subject): The Flywheel subject to create the session under.\n",
    "\n",
    "    Returns:\n",
    "        flywheel.session: The found or created Flywheel session.\n",
    "    \"\"\"\n",
    "    if not label:\n",
    "        return None\n",
    "    session = subject.sessions.find_first(f\"label={label}\")\n",
    "\n",
    "    if not session:\n",
    "        session = subject.add_session(label=label)\n",
    "        if age:\n",
    "            session.update(age=age)\n",
    "\n",
    "    if session:\n",
    "        session = session.reload()\n",
    "\n",
    "    return session\n",
    "\n",
    "\n",
    "def find_or_create_acquisition(label, info_dict, fp, session, update_info=True):\n",
    "    \"\"\"\n",
    "    Find or create a acquisition with \"label\" under \"session\".\n",
    "\n",
    "    If acquisition exists, upload filepath \"fp\" and update info if `update_info`==True.\n",
    "\n",
    "    Args:\n",
    "        label (str): The label to display for this acquisition\n",
    "        info_dict (dict): Dictionary to update or add to instance of acquisition.\n",
    "        fp (str): Fullpath to a file to upload into the found/created acquisition.\n",
    "        session (flywheel.Session): Session to find or create acquisition under.\n",
    "        update_info (bool, optional): Flag to update info of existing acquisition.\n",
    "            Defaults to True.\n",
    "\n",
    "    Returns:\n",
    "        flywheel.Acquisition: The found or created Flywheel Acquisition object.\n",
    "    \"\"\"\n",
    "    if not label:\n",
    "        return None\n",
    "    acq = session.acquisitions.find_first(f\"label={label}\")\n",
    "\n",
    "    if not acq:\n",
    "        acq = session.add_acquisition(label=label)\n",
    "\n",
    "        if info_dict:\n",
    "            acq.update(info=info_dict)\n",
    "\n",
    "    if acq:\n",
    "        basename = os.path.basename(fp)\n",
    "        if os.path.isfile(fp) and not acq.get_file(basename):\n",
    "\n",
    "            acq.upload_file(fp)\n",
    "\n",
    "            print(f\"Uploading {fp} to acquisition {acq.id}\")\n",
    "            while not acq.get_file(basename):\n",
    "                acq = acq.reload()\n",
    "                time.sleep(1)\n",
    "\n",
    "    if update_info:\n",
    "        f = acq.get_file(basename)\n",
    "        f.update({\"type\": \"dicom\", \"modality\": \"X-ray\"})\n",
    "        f.update_info(info_dict)\n",
    "\n",
    "    acq = acq.reload()\n",
    "\n",
    "    return acq\n"
   ]
  },
  {
   "cell_type": "markdown",
   "metadata": {},
   "source": [
    "# Find or Create Group and Project:\n",
    "Create a group with id \"public_data\" and label \"public_data\".\n",
    "\n",
    "Create a project with label 'covid-chestxray-dataset'.\n",
    "\n",
    "Replace with the id and labels of the group and project you want to create.\n",
    "\n",
    "If group and project are already created, the group and project with specified labels will be returned."
   ]
  },
  {
   "cell_type": "code",
   "execution_count": null,
   "metadata": {},
   "outputs": [],
   "source": [
    "# Initialize the group\n",
    "public_data_group = find_or_create_group(fw_client, 'public_data', 'public_data')\n",
    "\n",
    "# Initialize the project\n",
    "project_label = 'covid-chestxray-dataset'\n",
    "chestxray_project = find_or_create_project(project_label, public_data_group)\n",
    "\n",
    "# Parse the project description from the README markdown\n",
    "with open(os.path.join(ROOT_CHESTXRAY_DATA, 'covid-chestxray-dataset/README.md'), 'r') as fdata:\n",
    "    readme = fdata.read()\n",
    "    \n",
    "for local_file in ['(CONTRIBUTING.md)', '(metadata.csv)', '(images)']:\n",
    "    readme = readme.replace(\n",
    "        local_file, \n",
    "        '(https://github.com/ieee8023/covid-chestxray-dataset/blob/'\n",
    "        f'47685d20a1b77f0664ac8b7740ef6d4646be962d/{local_file[1:-1]})'\n",
    "    )\n",
    "\n",
    "if chestxray_project:\n",
    "    chestxray_project.update(description=readme)"
   ]
  },
  {
   "cell_type": "markdown",
   "metadata": {},
   "source": [
    "# Prepare Dataframe \n",
    "Read the csv, clean the dataframe, produce dictionary list"
   ]
  },
  {
   "source": [
    "### Formating and Cleaning Helper Functions"
   ],
   "cell_type": "markdown",
   "metadata": {}
  },
  {
   "cell_type": "code",
   "execution_count": null,
   "metadata": {},
   "outputs": [],
   "source": [
    "def convert_time_to_seconds(time_span, scale):\n",
    "    \"\"\"\n",
    "    Convert arbitrary time span to seconds.\n",
    "\n",
    "    On failure, returns 0 seconds.\n",
    "\n",
    "    Args:\n",
    "        time_span (str): The length of time specified by units \"scale\".\n",
    "        scale (str): The units of the length of time specified in \"time_span\".\n",
    "            Valid Entries: 'Y', 'M', 'W', 'D'\n",
    "    Returns:\n",
    "        datetime.timedelta: Total seconds in time_span.\n",
    "    \"\"\"\n",
    "\n",
    "    conversion = {\n",
    "        'Y': 365.25,\n",
    "        'M': 30,\n",
    "        'W': 7,\n",
    "        'D': 1,\n",
    "    }\n",
    "    try:\n",
    "        seconds = (\n",
    "            datetime.timedelta(int(time_span) * conversion.get(scale)).total_seconds()\n",
    "        )\n",
    "    except ValueError:\n",
    "        seconds = 0\n",
    "    return seconds\n",
    "\n",
    "\n",
    "def format_sex_string(sex_str):\n",
    "    \"\"\"\n",
    "    Converts 'M', 'F', or else to 'male', 'female', or empty string (e.g. '').\n",
    "\n",
    "    Args:\n",
    "        sex_str (str): String consisting of 'M', 'F', '', or None.\n",
    "\n",
    "    Returns:\n",
    "        str: 'M', 'F', or ''\n",
    "    \"\"\"\n",
    "    if sex_str == 'M':\n",
    "        sex = 'male'\n",
    "    elif sex_str == 'F':\n",
    "        sex = 'female'\n",
    "    else:\n",
    "        sex = ''\n",
    "    return sex\n",
    "\n",
    "\n",
    "def create_session_label(offset):\n",
    "    \"\"\"\n",
    "    Format session label\n",
    "\n",
    "    Args:\n",
    "        offset (str): Number of days since the start of symptoms or hospitalization\n",
    "            See SCHEMA.md.\n",
    "\n",
    "    Returns:\n",
    "        str: Label of session\n",
    "    \"\"\"\n",
    "    if not offset:\n",
    "        label = DEFAULT_SESSION_LABEL\n",
    "    elif np.isnan(offset):\n",
    "        label = DEFAULT_SESSION_LABEL\n",
    "    else:\n",
    "        label = f'offset_{str(int(offset)).zfill(3)}'\n",
    "    return label\n",
    "\n",
    "\n",
    "def cleanup_row_dict(row_dict):\n",
    "    \"\"\"\n",
    "    Cleanup session age, clinical notes, other notes, and empty values.\n",
    "    \n",
    "    Args:\n",
    "        row_dict (dict): Raw dictionary representation of dataframe row.\n",
    "\n",
    "    Returns:\n",
    "        dict: Cleaned version of row_dict.\n",
    "    \"\"\"\n",
    "    # fix session age\n",
    "    row_dict['session_age'] = int(row_dict['session_age'])\n",
    "    # fix notes \n",
    "    if row_dict.get('Unnamed: 16'):\n",
    "        row_dict['clinical notes'] = '\\s'.join(\n",
    "            [row_dict['clinical notes'], row_dict['other notes']]\n",
    "        )\n",
    "        row_dict['other notes'] = row_dict['Unnamed: 16']\n",
    "        row_dict['Unnamed: 16'] = ''\n",
    "\n",
    "    # Copy row_dict \n",
    "    return_dict = copy.deepcopy(row_dict)\n",
    "    \n",
    "    # To remove empty values\n",
    "    for key, value in row_dict.items():\n",
    "        if value in ['', None]:\n",
    "            return_dict.pop(key)\n",
    "    \n",
    "    return return_dict\n"
   ]
  },
  {
   "source": [
    "### Apply Helper Functions to Dataframe"
   ],
   "cell_type": "markdown",
   "metadata": {}
  },
  {
   "cell_type": "code",
   "execution_count": null,
   "metadata": {},
   "outputs": [],
   "source": [
    "# Load dataframe from downloaded csv file\n",
    "df = pd.read_csv(os.path.join(ROOT_CHESTXRAY_DATA, 'metadata.csv'))\n",
    "\n",
    "# format subject label\n",
    "df['subject_label'] = df['Patientid'].apply(lambda x: f'sub_{str(x).zfill(4)}')\n",
    "row_dict_list = df.to_dict(orient='records')\n",
    "\n",
    "# Apply age conversion\n",
    "df['session_age'] = (\n",
    "    df['age'].apply(convert_time_to_seconds, scale='Y') + \n",
    "    df['offset'].apply(convert_time_to_seconds, scale='D').astype('int64')\n",
    ")\n",
    "\n",
    "# Format subject sex\n",
    "df['subject_sex'] = df['sex'].apply(format_sex_string)\n",
    "\n",
    "# Apply to session labels with default \n",
    "df['session_label'] = df['offset'].apply(create_session_label)\n",
    "\n",
    "# format acquisition label\n",
    "df['acquisition_label'] = df['filename'].apply(lambda x: x.rsplit('.', maxsplit=1)[0])\n",
    "\n",
    "# throw out nans\n",
    "df.fillna('', inplace=True)\n",
    "\n",
    "# Produced cleaned row dictionary list\n",
    "row_dict_list = [cleanup_row_dict(row_dict) for row_dict in df.to_dict(orient='records')]"
   ]
  },
  {
   "cell_type": "markdown",
   "metadata": {},
   "source": [
    "# Create containers\n"
   ]
  },
  {
   "cell_type": "code",
   "execution_count": null,
   "metadata": {},
   "outputs": [],
   "source": [
    "\n",
    "# iterate through rows of dataframe\n",
    "for row_dict in row_dict_list:\n",
    "    subject_label = row_dict.get('subject_label')\n",
    "    subject_sex = row_dict.get('subject_sex')\n",
    "    subject = find_or_create_subject(subject_label, subject_sex, chestxray_project)\n",
    "    if subject:\n",
    "        session_label = row_dict.get('session_label')\n",
    "        age_at_session = row_dict.get('session_age')\n",
    "        session = find_or_create_session(session_label, age_at_session, subject)\n",
    "        if session:\n",
    "            filepath = os.path.join('./covid-chestxray-dataset/images', row_dict.get('filename'))\n",
    "            aqc_label = row_dict.get('acquisition_label')\n",
    "            acq = find_or_create_acquisition(aqc_label, row_dict, filepath, session)"
   ]
  },
  {
   "cell_type": "code",
   "execution_count": null,
   "metadata": {},
   "outputs": [],
   "source": [
    "# list unique subjects\n",
    "df.subject_label.unique()"
   ]
  }
 ],
 "metadata": {
  "kernelspec": {
   "display_name": "Python 3",
   "language": "python",
   "name": "python3"
  },
  "language_info": {
   "codemirror_mode": {
    "name": "ipython",
    "version": 3
   },
   "file_extension": ".py",
   "mimetype": "text/x-python",
   "name": "python",
   "nbconvert_exporter": "python",
   "pygments_lexer": "ipython3",
   "version": "3.6.7-final"
  }
 },
 "nbformat": 4,
 "nbformat_minor": 4
}