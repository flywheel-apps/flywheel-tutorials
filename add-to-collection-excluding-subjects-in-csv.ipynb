{
 "cells": [
  {
   "cell_type": "markdown",
   "metadata": {},
   "source": [
    "**Title**: Add subjects to collection excluding those in a CSV  \n",
    "**Date**: 10 March 2020  \n",
    "**Description**:  \n",
    "* Parse the csv\n",
    "* Add subject to a collection"
   ]
  },
  {
   "cell_type": "code",
   "execution_count": null,
   "metadata": {},
   "outputs": [],
   "source": [
    "%reload_ext autoreload\n",
    "%autoreload 2\n",
    "%matplotlib inline"
   ]
  },
  {
   "cell_type": "code",
   "execution_count": null,
   "metadata": {},
   "outputs": [],
   "source": [
    "import os\n",
    "from pathlib import Path\n",
    "import pandas as pd\n",
    "import flywheel\n",
    "import logging\n",
    "from tqdm.notebook import tqdm\n",
    "import re"
   ]
  },
  {
   "cell_type": "markdown",
   "metadata": {},
   "source": [
    "# A few constants"
   ]
  },
  {
   "cell_type": "code",
   "execution_count": null,
   "metadata": {},
   "outputs": [],
   "source": [
    "# Proj\n",
    "PROJECT_LABEL = 'MyProject'\n",
    "COLLECTION_LABEL = 'MyCollection'\n",
    "CSV_PATH = 'path/to/file.csv'  # with a column header nammed: SubjectID\n",
    "API_KEY = os.environ.get('FW_KEY')"
   ]
  },
  {
   "cell_type": "markdown",
   "metadata": {},
   "source": [
    "# Instantiate Flywheel client"
   ]
  },
  {
   "cell_type": "code",
   "execution_count": null,
   "metadata": {},
   "outputs": [],
   "source": [
    "fw = flywheel.Client(API_KEY)"
   ]
  },
  {
   "cell_type": "markdown",
   "metadata": {},
   "source": [
    "# Adding to collection"
   ]
  },
  {
   "cell_type": "code",
   "execution_count": null,
   "metadata": {},
   "outputs": [],
   "source": [
    "# Get collection\n",
    "collection = fw.collections.find_first(f'label={COLLECTION_LABEL}')\n",
    "if not collection:\n",
    "    collection_id = fw.add_collection({'label': COLLECTION_LABEL})\n",
    "    collection = fw.get(collection_id)"
   ]
  },
  {
   "cell_type": "code",
   "execution_count": null,
   "metadata": {},
   "outputs": [],
   "source": [
    "# Get find first project with that label\n",
    "project = fw.projects.find_first(f'label={PROJECT_LABEL}')"
   ]
  },
  {
   "cell_type": "code",
   "execution_count": null,
   "metadata": {},
   "outputs": [],
   "source": [
    "# Load csv\n",
    "df = pd.read_csv('test.csv', dtype={'SubjectID': str})\n",
    "subjects_to_exclude = df['SubjectID'].values\n",
    "df.head()"
   ]
  },
  {
   "cell_type": "code",
   "execution_count": null,
   "metadata": {},
   "outputs": [],
   "source": [
    "# Add to collection ignoring patient in csv\n",
    "subjects = project.subjects()\n",
    "for sub in tqdm(subjects):\n",
    "    if sub.label not in subjects_to_exclude:\n",
    "        for ses in sub.sessions():\n",
    "            collection.add_sessions(ses.id)"
   ]
  }
 ],
 "metadata": {
  "kernelspec": {
   "display_name": "Python 3",
   "language": "python",
   "name": "python3"
  },
  "language_info": {
   "codemirror_mode": {
    "name": "ipython",
    "version": 3
   },
   "file_extension": ".py",
   "mimetype": "text/x-python",
   "name": "python",
   "nbconvert_exporter": "python",
   "pygments_lexer": "ipython3",
   "version": "3.7.5"
  }
 },
 "nbformat": 4,
 "nbformat_minor": 4
}
