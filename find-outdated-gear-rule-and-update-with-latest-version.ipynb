{
 "cells": [
  {
   "cell_type": "markdown",
   "metadata": {},
   "source": [
    "**Title**: List outdated gear rules and update gear rules for project(s) with latest gear version.  \n",
    "**Date**: 6 April 2020  \n",
    "**Description**:    \n",
    "* Get project(s)\n",
    "* Search for latest gear version for a specific set of gears\n",
    "* Get outdated gear rules for project\n",
    "* Update project with latest gear version"
   ]
  },
  {
   "cell_type": "markdown",
   "metadata": {},
   "source": [
    "# Install and import dependencies"
   ]
  },
  {
   "cell_type": "code",
   "execution_count": null,
   "metadata": {},
   "outputs": [],
   "source": [
    "# Install specific packages required for this notebook\n",
    "!pip install flywheel-sdk tqdm pydicom pandas"
   ]
  },
  {
   "cell_type": "code",
   "execution_count": null,
   "metadata": {},
   "outputs": [],
   "source": [
    "# Import packages\n",
    "import os\n",
    "from pathlib import Path\n",
    "import re\n",
    "import json\n",
    "import copy\n",
    "import logging\n",
    "\n",
    "import pydicom\n",
    "from tqdm.notebook import tqdm\n",
    "import pandas as pd\n",
    "import flywheel"
   ]
  },
  {
   "cell_type": "code",
   "execution_count": null,
   "metadata": {},
   "outputs": [],
   "source": [
    "# Instantiate a logger\n",
    "logging.basicConfig(level=logging.INFO, format='%(asctime)s %(levelname)s %(message)s')\n",
    "log = logging.getLogger('root')"
   ]
  },
  {
   "cell_type": "markdown",
   "metadata": {},
   "source": [
    "# Flywheel API Key and Client"
   ]
  },
  {
   "cell_type": "markdown",
   "metadata": {},
   "source": [
    "Get a API_KEY. More on this in the Flywheel SDK doc [here](https://flywheel-io.gitlab.io/product/backend/sdk/branches/master/python/getting_started.html#api-key)."
   ]
  },
  {
   "cell_type": "code",
   "execution_count": null,
   "metadata": {},
   "outputs": [],
   "source": [
    "API_KEY = getpass('Enter API_KEY here: ')"
   ]
  },
  {
   "cell_type": "markdown",
   "metadata": {},
   "source": [
    "Instantiate the Flywheel API client"
   ]
  },
  {
   "cell_type": "code",
   "execution_count": null,
   "metadata": {},
   "outputs": [],
   "source": [
    "fw = flywheel.Client(API_KEY or os.environ.get('FW_KEY'))"
   ]
  },
  {
   "cell_type": "markdown",
   "metadata": {},
   "source": [
    "Show Flywheel logging information"
   ]
  },
  {
   "cell_type": "code",
   "execution_count": null,
   "metadata": {},
   "outputs": [],
   "source": [
    "log.info('You are now logged in as %s to %s', fw.get_current_user()['email'], fw.get_config()['site']['api_url'])"
   ]
  },
  {
   "cell_type": "markdown",
   "metadata": {},
   "source": [
    "# Constants"
   ]
  },
  {
   "cell_type": "code",
   "execution_count": null,
   "metadata": {},
   "outputs": [],
   "source": [
    "# Subset of projects to look at (list of project.label or None (=all project))\n",
    "PROJECT_LABEL_SUBSET = None\n",
    "# Subset of gear name to look at (list of gear.name or None (=all gears))\n",
    "GEAR_NAME_SUBSET = ['metadata-import-dicom']"
   ]
  },
  {
   "cell_type": "markdown",
   "metadata": {},
   "source": [
    "# Helper functions"
   ]
  },
  {
   "cell_type": "code",
   "execution_count": null,
   "metadata": {},
   "outputs": [],
   "source": [
    "def get_gear_latest_version(fw, gear_id):\n",
    "    \"\"\"Return the latest version a gear.\n",
    "    \n",
    "    Lookup is done on gear.name\n",
    "    \n",
    "    Args:\n",
    "        fw (flywheel.Client): A flywheel client\n",
    "        gear_id (str): An ID of a flywheel.Gear instance\n",
    "        \n",
    "    Return:\n",
    "        (flywheel.Gear or None): The latest version of a matching gear or None\n",
    "    \"\"\"\n",
    "    curr_gear = fw.get_gear(gear_id)\n",
    "    gears = fw.get_all_gears(all_versions=True, filter=f'gear.name={curr_gear.gear.name}')  # sort on version does not seem to work\n",
    "    if gears:\n",
    "        return sorted(gears, key=lambda x: x.gear.version, reverse=True)[0]\n",
    "    else:\n",
    "        return None"
   ]
  },
  {
   "cell_type": "code",
   "execution_count": null,
   "metadata": {},
   "outputs": [],
   "source": [
    "def cleanup_rule(rule, project=None):\n",
    "    \"\"\"Return a Rule object from input rule dictionary\n",
    "    \n",
    "    Clean the input rule dictionary and return a Rule object\n",
    "    \n",
    "    Args:\n",
    "        rule (dict): A dictionary containing rule key/value (e.g. extracted from a rule object).\n",
    "        project (flywheel.Project): A flywheel project instance\n",
    "        \n",
    "    Return: \n",
    "        (flywheel.Rule): A flywheel gear rule instance\n",
    "    \"\"\"\n",
    "    # For each fixed input, fix the project id\n",
    "    if rule.get('fixed_inputs'):\n",
    "        for fi in rule['fixed_inputs']:\n",
    "            if project:\n",
    "                fi['id'] = project.id\n",
    "            fi['type'] = \"project\"\n",
    "            if not fi['base']:\n",
    "                del fi['base']\n",
    "            if not fi['found']:\n",
    "                del fi['found']\n",
    "\n",
    "    # Fix all and any fields\n",
    "    if rule.get('all'):\n",
    "        for ar in rule['all']:\n",
    "            if not ar['regex']:\n",
    "                ar['regex'] = False\n",
    "    if rule.get('any'):\n",
    "        for ar in rule['any']:\n",
    "            if not ar['regex']:\n",
    "                ar['regex'] = False\n",
    "    if rule.get('_not'):\n",
    "        for ar in rule['_not']:\n",
    "            if not ar['regex']:\n",
    "                ar['regex'] = False\n",
    "\n",
    "    # Formulate the gear_rule\n",
    "    return flywheel.models.rule.Rule(project_id=rule['project_id'],\n",
    "                                         gear_id=rule['gear_id'],\n",
    "                                         name=rule['name'],\n",
    "                                         config=rule['config'],\n",
    "                                         fixed_inputs=rule['fixed_inputs'],\n",
    "                                         auto_update=rule['auto_update'],\n",
    "                                         any=rule['any'],\n",
    "                                         all=rule['all'],\n",
    "                                         _not=rule['_not'],\n",
    "                                         disabled=rule['disabled'])"
   ]
  },
  {
   "cell_type": "markdown",
   "metadata": {},
   "source": [
    "# Main script"
   ]
  },
  {
   "cell_type": "markdown",
   "metadata": {},
   "source": [
    "## Get list of projects to be updated"
   ]
  },
  {
   "cell_type": "markdown",
   "metadata": {},
   "source": [
    "Create a list of all projects in flywheel or a subset defined in `PROJECT_LABEL_SUBSET`"
   ]
  },
  {
   "cell_type": "code",
   "execution_count": null,
   "metadata": {},
   "outputs": [],
   "source": [
    "projects = []\n",
    "for p in fw.projects():\n",
    "    if PROJECT_LABEL_SUBSET:\n",
    "        if p.label in PROJECT_LABEL_SUBSET:\n",
    "            projects.append(p)\n",
    "    else:\n",
    "        projects.append(p)"
   ]
  },
  {
   "cell_type": "code",
   "execution_count": null,
   "metadata": {},
   "outputs": [],
   "source": [
    "len(projects)"
   ]
  },
  {
   "cell_type": "markdown",
   "metadata": {},
   "source": [
    "## List gear rules that use outdated gear"
   ]
  },
  {
   "cell_type": "code",
   "execution_count": null,
   "metadata": {},
   "outputs": [],
   "source": [
    "outdated_gears = []"
   ]
  },
  {
   "cell_type": "markdown",
   "metadata": {},
   "source": [
    "For each project in `projects`, get the gear-rules and check whether or not each gear-rule is using the latest version of the gear. If not, add it to the `outdated_gears` list."
   ]
  },
  {
   "cell_type": "code",
   "execution_count": null,
   "metadata": {},
   "outputs": [],
   "source": [
    "for project in tqdm(projects):\n",
    "    p_rules = fw.get_project_rules(project.id)\n",
    "    for i, rule in enumerate(p_rules):\n",
    "        rule = rule.to_dict()\n",
    "        try:\n",
    "            current_gear = fw.get_gear(rule['gear_id'])\n",
    "        except flywheel.ApiException:\n",
    "            outdated_gears.append(f'Project: {project.label}, not gear found for rule #{i}')\n",
    "            continue\n",
    "        latest_gear = get_gear_latest_version(fw, rule['gear_id'])\n",
    "        if latest_gear.gear.version != current_gear.gear.version:\n",
    "            outdated_gears.append(f'Project: {project.label}, Gear name: {current_gear.gear.name}, Current: {current_gear.gear.version}, Latest: {latest_gear.gear.version}')"
   ]
  },
  {
   "cell_type": "code",
   "execution_count": null,
   "metadata": {},
   "outputs": [],
   "source": [
    "outdated_gears"
   ]
  },
  {
   "cell_type": "markdown",
   "metadata": {},
   "source": [
    "## Update gear rule for gear in GEAR_NAME_SUBSET for projects"
   ]
  },
  {
   "cell_type": "markdown",
   "metadata": {},
   "source": [
    "For each project in `projects`, for each gear-rule in project, update the gear-rule with the latest gear version"
   ]
  },
  {
   "cell_type": "code",
   "execution_count": null,
   "metadata": {},
   "outputs": [],
   "source": [
    "for project in projects:\n",
    "    p_rules = fw.get_project_rules(project.id)\n",
    "    updated_rules = copy.deepcopy(p_rules)\n",
    "    # updating rules\n",
    "    for rule in updated_rules:\n",
    "        rule = rule.to_dict()\n",
    "        latest_gear = get_gear_latest_version(fw, rule['gear_id'])\n",
    "        if not GEAR_NAME_SUBSET or (GEAR_NAME_SUBSET and latest_gear.gear.name in GEAR_NAME_SUBSET):\n",
    "            if latest_gear:\n",
    "                log.info('Replacing gear_id in gear rule id=%s with gear_id=%s (previously gear_id=%s)', rule['id'], latest_gear.id, rule['gear_id'])\n",
    "                rule['gear_id'] = latest_gear.id\n",
    "                # removing gear rules\n",
    "                log.info('Removing gear rule id=%s in project id=%s', rule['id'], project.id)\n",
    "                fw.remove_project_rule(project.id, rule['id'])\n",
    "                # cleanup rule object\n",
    "                rule = cleanup_rule(rule)\n",
    "                # adding rule\n",
    "                log.info('Adding new gear rule to project id=%s:\\n %s ', project.id, rule)\n",
    "                fw.add_project_rule(project.id, rule)\n",
    "            else:\n",
    "                log.info('No gear matching for gear rule id=%s and gear_id=%s. Skipping.', rule['id'], rule['gear_id'])"
   ]
  }
 ],
 "metadata": {
  "kernelspec": {
   "display_name": "Python 3",
   "language": "python",
   "name": "python3"
  },
  "language_info": {
   "codemirror_mode": {
    "name": "ipython",
    "version": 3
   },
   "file_extension": ".py",
   "mimetype": "text/x-python",
   "name": "python",
   "nbconvert_exporter": "python",
   "pygments_lexer": "ipython3",
   "version": "3.7.6"
  }
 },
 "nbformat": 4,
 "nbformat_minor": 4
}
