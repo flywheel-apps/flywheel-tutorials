{
 "cells": [
  {
   "cell_type": "markdown",
   "metadata": {},
   "source": [
    "**Title**: Upload kaggle chest X-Ray.   \n",
    "**Date**:  12-Oct-2020     \n",
    "**Description**:  \n",
    "Pneumonia accounts for over 15% of all deaths of children under 5 years old internationally. Advanced detection of pneumonia could save thousands of lives a year.\n",
    "\n",
    "In 2018 the RSNA Pneumonia Detection Challenge was posted on Kaggle, an organization for machine learning training and purpose-driven competitions in Data Science.\n",
    "\n",
    "This notebook downloads the entire RSNA Pneumonia Detection Challenge Dataset (3.6 GB) and incorporates it into a Flywheel instance specified by the supplied API-Key.  A Data Use Agreement (DUA) is required to download this dataset.\n",
    "\n",
    "Reference:\n",
    "* https://www.kaggle.com/c/rsna-pneumonia-detection-challenge/data  "
   ]
  },
  {
   "source": [
    "# Data Use Aggreement\n",
    "Before downloading this data, or any data, from kaggle, you must agree to the rules of this competition: \n",
    "\n",
    "* https://www.kaggle.com/c/rsna-pneumonia-detection-challenge/rules"
   ],
   "cell_type": "markdown",
   "metadata": {}
  },
  {
   "cell_type": "code",
   "execution_count": null,
   "metadata": {},
   "outputs": [],
   "source": [
    "%reload_ext autoreload\n",
    "%autoreload 2 \n",
    "%matplotlib inline"
   ]
  },
  {
   "source": [
    "# Requirements:\n",
    "- **Python** (Preferably >= 3.6):  \n",
    "\n",
    "- Have admin permissions to create Flywheel Groups and Projects."
   ],
   "cell_type": "markdown",
   "metadata": {}
  },
  {
   "cell_type": "markdown",
   "metadata": {},
   "source": [
    "# Install and import dependencies"
   ]
  },
  {
   "cell_type": "code",
   "execution_count": null,
   "metadata": {},
   "outputs": [],
   "source": [
    "!pip install pandas pydicom flywheel-sdk tqdm kaggle jupyter ipywidgets"
   ]
  },
  {
   "cell_type": "code",
   "execution_count": null,
   "metadata": {},
   "outputs": [],
   "source": [
    "import json\n",
    "import logging\n",
    "import os\n",
    "import re\n",
    "import time\n",
    "import zipfile\n",
    "from getpass import getpass\n",
    "from pathlib import Path\n",
    "\n",
    "import flywheel\n",
    "import pandas as pd\n",
    "import pydicom\n",
    "from tqdm.notebook import tqdm"
   ]
  },
  {
   "cell_type": "code",
   "execution_count": null,
   "metadata": {},
   "outputs": [],
   "source": [
    "# Instantiate a logger\n",
    "logging.basicConfig(level=logging.INFO, format='%(asctime)s %(levelname)s %(message)s')\n",
    "log = logging.getLogger('root')"
   ]
  },
  {
   "cell_type": "markdown",
   "metadata": {},
   "source": [
    "# Download kaggle dataset\n",
    "\n",
    "This requires that you have stored your Kaggle credentials in ~/.kaggle/kaggle.json. These can be acquired by creating a kaggle account at kaggle.com and using \"Create New API Token\" on the user account page. \n",
    "\n",
    "This dataset is currently 3.7 GB and may change in the future. Depending on the bandwidth of your internet connection, this may take some time to download."
   ]
  },
  {
   "cell_type": "code",
   "execution_count": null,
   "metadata": {},
   "outputs": [],
   "source": [
    "!kaggle competitions download -c rsna-pneumonia-detection-challenge"
   ]
  },
  {
   "source": [
    "# Initialize Constants\n",
    "Initialize path to dowload directory, default session label, and default acquisition label."
   ],
   "cell_type": "markdown",
   "metadata": {}
  },
  {
   "cell_type": "code",
   "execution_count": null,
   "metadata": {},
   "outputs": [],
   "source": [
    "ROOT_KAGGLE_DATA = '/path/to/repository/rsna-pneumonia-detection-challenge'\n",
    "DEFAULT_SESSION_LABEL = 'NA'\n",
    "DEFAULT_ACQ_LABEL = 'Chest XR'"
   ]
  },
  {
   "cell_type": "markdown",
   "metadata": {},
   "source": [
    "# Flywheel API Key and Client\n",
    "Get an API_KEY. More on this in the Flywheel SDK doc [here](https://flywheel-io.gitlab.io/product/backend/sdk/branches/master/python/getting_started.html#api-key)."
   ]
  },
  {
   "cell_type": "code",
   "execution_count": null,
   "metadata": {},
   "outputs": [],
   "source": [
    "API_KEY = getpass('Enter API_KEY here: ')"
   ]
  },
  {
   "source": [
    "Instantiate the Flywheel API client"
   ],
   "cell_type": "markdown",
   "metadata": {}
  },
  {
   "cell_type": "code",
   "execution_count": null,
   "metadata": {},
   "outputs": [],
   "source": [
    "fw_client = flywheel.Client(API_KEY if 'API_KEY' in locals() else os.environ.get('FW_KEY'))"
   ]
  },
  {
   "source": [
    "Show Flywheel logging information"
   ],
   "cell_type": "markdown",
   "metadata": {}
  },
  {
   "cell_type": "code",
   "execution_count": null,
   "metadata": {},
   "outputs": [],
   "source": [
    "log.info('You are now logged in as %s to %s', fw_client.get_current_user()['email'], fw_client.get_config()['site']['api_url'])"
   ]
  },
  {
   "cell_type": "markdown",
   "metadata": {},
   "source": [
    "# Read the csv\n",
    "The CSV file consists of the patient id, whether the pnemonia was diagnosed (Target 0/1), and the rectangular region of the image it was found in (x,y,width,height).\n",
    "\n",
    "```\n",
    "patientId,x,y,width,height,Target\n",
    "0004cfab-14fd-4e49-80ba-63a80b6bddd6,,,,,0\n",
    "00436515-870c-4b36-a041-de91049b9ab4,264.0,152.0,213.0,379.0,1\n",
    "```"
   ]
  },
  {
   "cell_type": "code",
   "execution_count": null,
   "metadata": {},
   "outputs": [],
   "source": [
    "df = pd.read_csv(Path(ROOT_KAGGLE_DATA) / 'stage_2_train_labels.csv')"
   ]
  },
  {
   "cell_type": "markdown",
   "metadata": {},
   "source": [
    "# Container helpers\n",
    "Import container helper functions to find existing or create new containers."
   ]
  },
  {
   "source": [
    "from container_helpers import (\n",
    "    find_or_create_group, \n",
    "    find_or_create_project, \n",
    "    find_or_create_subject, \n",
    "    find_or_create_session, \n",
    "    find_or_create_acquisition,\n",
    "    upload_file_to_acquisition\n",
    ")"
   ],
   "cell_type": "code",
   "metadata": {},
   "execution_count": null,
   "outputs": []
  },
  {
   "cell_type": "markdown",
   "metadata": {},
   "source": [
    "# Create the project"
   ]
  },
  {
   "cell_type": "code",
   "execution_count": null,
   "metadata": {},
   "outputs": [],
   "source": [
    "# Initialize the group\n",
    "public_data_group = find_or_create_group(fw_client, 'public_data', 'public_data')\n",
    "# Initialize the project\n",
    "project_label = 'kaggle-rsna-pneumonia-detection-challenge'\n",
    "readme = 'https://www.kaggle.com/c/rsna-pneumonia-detection-challenge/data'\n",
    "chestxray_project = find_or_create_project(project_label, public_data_group)\n",
    "if chestxray_project:\n",
    "    chestxray_project.update(description=readme)"
   ]
  },
  {
   "cell_type": "markdown",
   "metadata": {},
   "source": [
    "# Iterate through dataframe and upload\n",
    "Iterate through the training data csv to create the container hierarchy for this project:\n",
    "\n",
    "1. find or create each subject encountered\n",
    "\n",
    "  a. Encode presence/absence of pneumonia (Target=0/1) and the rectangular region it was found in (box) into a dictionary.\n",
    "2. find or create each session (with `DEFAULT_SESSION_LABEL`) encountered\n",
    "3. find or create each acquisition (with 'SeriesDescription' or `DEFAULT_ACQ_LABEL`) and add enclosed files.\n",
    "\n",
    "  a. Incorporate presence/absence of pneumonia (Target) and--if found--the rectangular region it was found in (box) into the metadata of the acquisition file.\n"
   ]
  },
  {
   "cell_type": "code",
   "execution_count": 1,
   "metadata": {
    "tags": []
   },
   "outputs": [
    {
     "output_type": "error",
     "ename": "NameError",
     "evalue": "name 'tqdm' is not defined",
     "traceback": [
      "\u001b[0;31m---------------------------------------------------------------------------\u001b[0m",
      "\u001b[0;31mNameError\u001b[0m                                 Traceback (most recent call last)",
      "\u001b[0;32m<ipython-input-1-ca0d4d541ca3>\u001b[0m in \u001b[0;36m<module>\u001b[0;34m\u001b[0m\n\u001b[0;32m----> 1\u001b[0;31m \u001b[0;32mfor\u001b[0m \u001b[0mi\u001b[0m\u001b[0;34m,\u001b[0m \u001b[0mrow\u001b[0m \u001b[0;32min\u001b[0m \u001b[0mtqdm\u001b[0m\u001b[0;34m(\u001b[0m\u001b[0mdf\u001b[0m\u001b[0;34m.\u001b[0m\u001b[0miterrows\u001b[0m\u001b[0;34m(\u001b[0m\u001b[0;34m)\u001b[0m\u001b[0;34m,\u001b[0m \u001b[0mtotal\u001b[0m\u001b[0;34m=\u001b[0m\u001b[0mlen\u001b[0m\u001b[0;34m(\u001b[0m\u001b[0mdf\u001b[0m\u001b[0;34m)\u001b[0m\u001b[0;34m)\u001b[0m\u001b[0;34m:\u001b[0m\u001b[0;34m\u001b[0m\u001b[0;34m\u001b[0m\u001b[0m\n\u001b[0m\u001b[1;32m      2\u001b[0m     \u001b[0mlog\u001b[0m\u001b[0;34m.\u001b[0m\u001b[0minfo\u001b[0m\u001b[0;34m(\u001b[0m\u001b[0;34m'Processing Subject %s.'\u001b[0m\u001b[0;34m,\u001b[0m \u001b[0mrow\u001b[0m\u001b[0;34m[\u001b[0m\u001b[0;34m'patientId'\u001b[0m\u001b[0;34m]\u001b[0m\u001b[0;34m)\u001b[0m\u001b[0;34m\u001b[0m\u001b[0;34m\u001b[0m\u001b[0m\n\u001b[1;32m      3\u001b[0m     \u001b[0;31m# (1) Find or create subject\u001b[0m\u001b[0;34m\u001b[0m\u001b[0;34m\u001b[0m\u001b[0;34m\u001b[0m\u001b[0m\n\u001b[1;32m      4\u001b[0m     \u001b[0msubject\u001b[0m \u001b[0;34m=\u001b[0m \u001b[0mfind_or_create_subject\u001b[0m\u001b[0;34m(\u001b[0m\u001b[0mrow\u001b[0m\u001b[0;34m[\u001b[0m\u001b[0;34m'patientId'\u001b[0m\u001b[0;34m]\u001b[0m\u001b[0;34m,\u001b[0m \u001b[0mchestxray_project\u001b[0m\u001b[0;34m)\u001b[0m\u001b[0;34m\u001b[0m\u001b[0;34m\u001b[0m\u001b[0m\n\u001b[1;32m      5\u001b[0m     \u001b[0;31m# (1a) Encode pneumonia status and rectangular region of positive status in dictionary.\u001b[0m\u001b[0;34m\u001b[0m\u001b[0;34m\u001b[0m\u001b[0;34m\u001b[0m\u001b[0m\n",
      "\u001b[0;31mNameError\u001b[0m: name 'tqdm' is not defined"
     ]
    }
   ],
   "source": [
    "for i, row in tqdm(df.iterrows(), total=len(df)):\n",
    "    log.info('Processing Subject %s.', row['patientId'])\n",
    "    # (1) Find or create subject\n",
    "    subject = find_or_create_subject(row['patientId'], chestxray_project)\n",
    "    # (1a) Encode pneumonia status and rectangular region of positive status in dictionary.\n",
    "    if row['Target']:\n",
    "        row_dict = {\n",
    "            'box': {\n",
    "                'x': row['x'], \n",
    "                'y': row['y'], \n",
    "                'width': row['width'], \n",
    "                'height': row['height']\n",
    "            }, \n",
    "            'Target': row['Target']\n",
    "        }\n",
    "    else:\n",
    "        row_dict = {'Target': row['Target']}\n",
    "    if subject:\n",
    "        log.info('Processing Session %s.', DEFAULT_SESSION_LABEL)\n",
    "        # (2) Find or create session \n",
    "        session = find_or_create_session(DEFAULT_SESSION_LABEL, subject)\n",
    "        if session:\n",
    "            filepath = str(Path(ROOT_KAGGLE_DATA) / 'stage_2_train_images' / f\"{row['patientId']}.dcm\")\n",
    "            dcm = pydicom.read_file(filepath, stop_before_pixels=True, force=True)\n",
    "            # Pack dicoms into zip file\n",
    "            with zipfile.ZipFile(f'/tmp/{row[\"patientId\"]}.zip', 'w') as myzip:\n",
    "                myzip.write(filepath)\n",
    "\n",
    "            acq_label = dcm.get('SeriesDescription', DEFAULT_ACQ_LABEL)\n",
    "            log.info('Processing Acquisition %s.', acq_label)\n",
    "            # (3) Find or create acquisition\n",
    "            acq = find_or_create_acquisition(acq_label, session)\n",
    "            log.info(\n",
    "                'Uploading file, %s, to acquisition, %s',\n",
    "                f'/tmp/{row[\"patientId\"]}.zip',\n",
    "                acq.label\n",
    "            )\n",
    "            kwarg_dict = {\"type\": \"dicom\", \"modality\": \"X-ray\"}\n",
    "            kwarg_dict[\"info\"] = row_dict\n",
    "            # Upload file to acquisition and\n",
    "            # (3a) incorporate Target and box into file metadata\n",
    "            upload_file_to_acquisition(acq, f'/tmp/{row[\"patientId\"]}.zip', **kwarg_dict)\n",
    "            # remove temporary zipped dicom file\n",
    "            os.remove(f'/tmp/{row[\"patientId\"]}.zip')"
   ]
  },
  {
   "cell_type": "code",
   "execution_count": null,
   "metadata": {},
   "outputs": [],
   "source": []
  }
 ],
 "metadata": {
  "kernelspec": {
   "display_name": "Python 3",
   "language": "python",
   "name": "python3"
  },
  "language_info": {
   "codemirror_mode": {
    "name": "ipython",
    "version": 3
   },
   "file_extension": ".py",
   "mimetype": "text/x-python",
   "name": "python",
   "nbconvert_exporter": "python",
   "pygments_lexer": "ipython3",
   "version": "3.6.7-final"
  }
 },
 "nbformat": 4,
 "nbformat_minor": 4
}