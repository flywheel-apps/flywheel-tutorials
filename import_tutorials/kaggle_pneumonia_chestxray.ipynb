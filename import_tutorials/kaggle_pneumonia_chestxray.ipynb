{
 "cells": [
  {
   "cell_type": "markdown",
   "metadata": {},
   "source": [
    "**Title**: Upload kaggle chest X-Ray.   \n",
    "**Date**:  12-Oct-2020     \n",
    "**Description**:  \n",
    "This notebook downloads the entire RSNA Pneumonia Detection Challenge Dataset (3.6 GB) and incorporates it into a Flywheel instance specified by the supplied API-Key.  A Data Use Agreement (DUA) is required to download this dataset.\n",
    "\n",
    "Reference:\n",
    "* https://www.kaggle.com/c/rsna-pneumonia-detection-challenge/data  "
   ]
  },
  {
   "source": [
    "# Data Use Aggreement\n",
    "Before downloading this data, or any data, from kaggle, you must agree to the rules of this competition: \n",
    "\n",
    "* https://www.kaggle.com/c/rsna-pneumonia-detection-challenge/rules"
   ],
   "cell_type": "markdown",
   "metadata": {}
  },
  {
   "cell_type": "code",
   "execution_count": null,
   "metadata": {},
   "outputs": [],
   "source": [
    "%reload_ext autoreload\n",
    "%autoreload 2 \n",
    "%matplotlib inline"
   ]
  },
  {
   "source": [
    "# Requirements:\n",
    "- **Python** (Preferably >= 3.6):  \n",
    "\n",
    "- Have admin permissions to create Flywheel Groups and Projects."
   ],
   "cell_type": "markdown",
   "metadata": {}
  },
  {
   "cell_type": "markdown",
   "metadata": {},
   "source": [
    "# Install and import dependencies"
   ]
  },
  {
   "cell_type": "code",
   "execution_count": null,
   "metadata": {},
   "outputs": [],
   "source": [
    "!pip install pandas pydicom flywheel-sdk kaggle"
   ]
  },
  {
   "cell_type": "code",
   "execution_count": null,
   "metadata": {},
   "outputs": [],
   "source": [
    "import os\n",
    "from pathlib import Path\n",
    "import pandas as pd\n",
    "import flywheel\n",
    "import logging\n",
    "from tqdm.notebook import tqdm\n",
    "import pydicom\n",
    "import re\n",
    "import json\n",
    "import time\n",
    "import zipfile"
   ]
  },
  {
   "cell_type": "code",
   "execution_count": null,
   "metadata": {},
   "outputs": [],
   "source": [
    "# Instantiate a logger\n",
    "logging.basicConfig(level=logging.INFO, format='%(asctime)s %(levelname)s %(message)s')\n",
    "log = logging.getLogger('root')"
   ]
  },
  {
   "cell_type": "markdown",
   "metadata": {},
   "source": [
    "# Download kaggle dataset\n",
    "\n",
    "This requires that you have stored your Kaggle credentials in ~/.kaggle/kaggle.json. These can be acquired by creating a kaggle account at kaggle.com and using \"Create New API Token\" on the user account page. \n",
    "\n",
    "This dataset is currently 3.7 GB and may change in the future. Depending on the bandwidth of your internet connection, this may take some time to download."
   ]
  },
  {
   "cell_type": "code",
   "execution_count": null,
   "metadata": {},
   "outputs": [],
   "source": [
    "!kaggle competitions download -c rsna-pneumonia-detection-challenge"
   ]
  },
  {
   "source": [
    "# Initialize Constants\n",
    "Initialize path to dowload directory, default session label, and default acquisition label."
   ],
   "cell_type": "markdown",
   "metadata": {}
  },
  {
   "cell_type": "code",
   "execution_count": null,
   "metadata": {},
   "outputs": [],
   "source": [
    "ROOT_KAGGLE_DATA = '/path/to/downloaded/dataset/'\n",
    "DEFAULT_SESSION_LABEL = 'NA'\n",
    "DEFAULT_ACQ_LABEL = 'Chest XR'"
   ]
  },
  {
   "cell_type": "markdown",
   "metadata": {},
   "source": [
    "# Flywheel API Key and Client\n",
    "Get an API_KEY. More on this in the Flywheel SDK doc [here](https://flywheel-io.gitlab.io/product/backend/sdk/branches/master/python/getting_started.html#api-key)."
   ]
  },
  {
   "cell_type": "code",
   "execution_count": null,
   "metadata": {},
   "outputs": [],
   "source": [
    "API_KEY = getpass('Enter API_KEY here: ')"
   ]
  },
  {
   "source": [
    "Instantiate the Flywheel API client"
   ],
   "cell_type": "markdown",
   "metadata": {}
  },
  {
   "cell_type": "code",
   "execution_count": null,
   "metadata": {},
   "outputs": [],
   "source": [
    "fw_client = flywheel.Client(API_KEY if 'API_KEY' in locals() else os.environ.get('FW_KEY'))"
   ]
  },
  {
   "cell_type": "markdown",
   "metadata": {},
   "source": [
    "# Read the csv"
   ]
  },
  {
   "cell_type": "code",
   "execution_count": null,
   "metadata": {},
   "outputs": [],
   "source": [
    "df = pd.read_csv(Path(ROOT_KAGGLE_DATA) / 'stage_2_train_labels.csv')"
   ]
  },
  {
   "cell_type": "markdown",
   "metadata": {},
   "source": [
    "# Container helpers\n",
    "Import container helper functions to find existing or create new containers."
   ]
  },
  {
   "source": [
    "from container_helpers import (\n",
    "    find_or_create_group, \n",
    "    find_or_create_project, \n",
    "    find_or_create_subject, \n",
    "    find_or_create_session, \n",
    "    find_or_create_acquisition,\n",
    ")"
   ],
   "cell_type": "code",
   "metadata": {},
   "execution_count": null,
   "outputs": []
  },
  {
   "cell_type": "markdown",
   "metadata": {},
   "source": [
    "# Create the project"
   ]
  },
  {
   "cell_type": "code",
   "execution_count": null,
   "metadata": {},
   "outputs": [],
   "source": [
    "# Initialize the group\n",
    "public_data_group = find_or_create_group(fw_client, 'public_data', 'public_data')\n",
    "# Initialize the project\n",
    "project_label = 'kaggle-rsna-pneumonia-detection-challenge'\n",
    "readme = 'https://www.kaggle.com/c/rsna-pneumonia-detection-challenge/data'\n",
    "chestxray_project = find_or_create_project(project_label, public_data_group)\n",
    "if chestxray_project:\n",
    "    chestxray_project.update(description=readme)"
   ]
  },
  {
   "cell_type": "markdown",
   "metadata": {},
   "source": [
    "# Iterate through dataframe and upload\n",
    "Iterate through the training data csv to create the container hierarchy for this project:\n",
    "* find or create each subject encountered\n",
    "* find or create each session (with `DEFAULT_SESSION_LABEL`) encountered\n",
    "* find or create each acquisition (with 'SeriesDescription' or `DEFAULT_ACQ_LABEL`) and add enclosed files."
   ]
  },
  {
   "cell_type": "code",
   "execution_count": null,
   "metadata": {},
   "outputs": [],
   "source": [
    "for i, row in tqdm(df.iterrows(), total=len(df)):\n",
    "    subject = find_or_create_subject(row['patientId'], None, chestxray_project)\n",
    "    if row['Target']:\n",
    "        row_dict = {\n",
    "            'box': {\n",
    "                'x': row['x'], \n",
    "                'y': row['y'], \n",
    "                'width': row['width'], \n",
    "                'height': row['height']\n",
    "            }, \n",
    "            'Target': row['Target']\n",
    "        }\n",
    "    else:\n",
    "        row_dict = {'Target': row['Target']}\n",
    "    if subject:\n",
    "        session = find_or_create_session(DEFAULT_SESSION_LABEL, None, subject)\n",
    "        if session:\n",
    "            filepath = str(Path(ROOT_KAGGLE_DATA) / 'stage_2_train_images' / f\"{row['patientId']}.dcm\")\n",
    "            dcm = pydicom.read_file(filepath, stop_before_pixels=True, force=True)\n",
    "            with zipfile.ZipFile(f'/tmp/{row[\"patientId\"]}.zip', 'w') as myzip:\n",
    "                myzip.write(filepath)\n",
    "            acq_label = dcm.get('SeriesDescription', DEFAULT_ACQ_LABEL)\n",
    "            acq = find_or_create_acquisition(acq_label, row_dict, f'/tmp/{row[\"patientId\"]}.zip', session)\n",
    "            os.remove(f'/tmp/{row[\"patientId\"]}.zip')"
   ]
  },
  {
   "cell_type": "code",
   "execution_count": null,
   "metadata": {},
   "outputs": [],
   "source": []
  }
 ],
 "metadata": {
  "kernelspec": {
   "display_name": "Python 3",
   "language": "python",
   "name": "python3"
  },
  "language_info": {
   "codemirror_mode": {
    "name": "ipython",
    "version": 3
   },
   "file_extension": ".py",
   "mimetype": "text/x-python",
   "name": "python",
   "nbconvert_exporter": "python",
   "pygments_lexer": "ipython3",
   "version": "3.6.7-final"
  }
 },
 "nbformat": 4,
 "nbformat_minor": 4
}