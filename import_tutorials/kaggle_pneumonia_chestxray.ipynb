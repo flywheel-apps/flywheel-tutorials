{
 "cells": [
  {
   "cell_type": "markdown",
   "metadata": {},
   "source": [
    "**Title**: Upload kaggle chest X-Ray.   \n",
    "**Date**:  12-Oct-2020     \n",
    "**Description**:  \n",
    "This notebook downloads the entire RSNA Pneumonia Detection Challenge Dataset (3.6 GB) and incorporates it into a Flywheel instance specified by the supplied API-Key.  A Data Use Agreement (DUA) is required to download this dataset.\n",
    "\n",
    "Reference:\n",
    "* https://www.kaggle.com/c/rsna-pneumonia-detection-challenge/data  "
   ]
  },
  {
   "source": [
    "# Data Use Aggreement\n",
    "Before downloading this data, or any data, from kaggle, you must agree to the rules of this competition: \n",
    "\n",
    "* https://www.kaggle.com/c/rsna-pneumonia-detection-challenge/rules"
   ],
   "cell_type": "markdown",
   "metadata": {}
  },
  {
   "cell_type": "code",
   "execution_count": null,
   "metadata": {},
   "outputs": [],
   "source": [
    "%reload_ext autoreload\n",
    "%autoreload 2 \n",
    "%matplotlib inline"
   ]
  },
  {
   "source": [
    "# Requirements:\n",
    "- **Python** (Preferably >= 3.6):  \n",
    "\n",
    "- Have admin permissions to create Flywheel Groups and Projects."
   ],
   "cell_type": "markdown",
   "metadata": {}
  },
  {
   "cell_type": "markdown",
   "metadata": {},
   "source": [
    "# Install and import dependencies"
   ]
  },
  {
   "cell_type": "code",
   "execution_count": 1,
   "metadata": {},
   "outputs": [
    {
     "output_type": "stream",
     "name": "stdout",
     "text": [
      "Requirement already satisfied: pandas in /Users/joshuajacobs/anaconda2/envs/Py36/lib/python3.6/site-packages (0.25.1)\n",
      "Requirement already satisfied: pydicom in /Users/joshuajacobs/anaconda2/envs/Py36/lib/python3.6/site-packages (1.4.2)\n",
      "Requirement already satisfied: flywheel-sdk in /Users/joshuajacobs/anaconda2/envs/Py36/lib/python3.6/site-packages (11.0.1)\n",
      "Requirement already satisfied: tqdm in /Users/joshuajacobs/.local/lib/python3.6/site-packages (4.39.0)\n",
      "Collecting kaggle\n",
      "\u001b[?25l  Downloading https://files.pythonhosted.org/packages/fc/14/9db40d8d6230655e76fa12166006f952da4697c003610022683c514cf15f/kaggle-1.5.8.tar.gz (59kB)\n",
      "\u001b[K     |████████████████████████████████| 61kB 785kB/s \n",
      "\u001b[?25hRequirement already satisfied: pytz>=2017.2 in /Users/joshuajacobs/anaconda2/envs/Py36/lib/python3.6/site-packages (from pandas) (2019.2)\n",
      "Requirement already satisfied: python-dateutil>=2.6.1 in /Users/joshuajacobs/anaconda2/envs/Py36/lib/python3.6/site-packages (from pandas) (2.8.0)\n",
      "Requirement already satisfied: numpy>=1.13.3 in /Users/joshuajacobs/anaconda2/envs/Py36/lib/python3.6/site-packages (from pandas) (1.17.3)\n",
      "Requirement already satisfied: requests-toolbelt in /Users/joshuajacobs/.local/lib/python3.6/site-packages (from flywheel-sdk) (0.9.1)\n",
      "Requirement already satisfied: six>=1.10 in /Users/joshuajacobs/anaconda2/envs/Py36/lib/python3.6/site-packages (from flywheel-sdk) (1.12.0)\n",
      "Requirement already satisfied: requests>=2.18.4 in /Users/joshuajacobs/anaconda2/envs/Py36/lib/python3.6/site-packages (from flywheel-sdk) (2.22.0)\n",
      "Requirement already satisfied: urllib3>=1.15 in /Users/joshuajacobs/anaconda2/envs/Py36/lib/python3.6/site-packages (from flywheel-sdk) (1.25.6)\n",
      "Requirement already satisfied: certifi in /Users/joshuajacobs/anaconda2/envs/Py36/lib/python3.6/site-packages (from flywheel-sdk) (2020.6.20)\n",
      "Collecting python-slugify (from kaggle)\n",
      "  Downloading https://files.pythonhosted.org/packages/9f/42/e336f96a8b6007428df772d0d159b8eee9b2f1811593a4931150660402c0/python-slugify-4.0.1.tar.gz\n",
      "Collecting slugify (from kaggle)\n",
      "  Downloading https://files.pythonhosted.org/packages/7b/89/fbb7391d777b60c82d4e1376bb181b98e75adf506b3f7ffe837eca64570b/slugify-0.0.1.tar.gz\n",
      "\u001b[31m    ERROR: Command errored out with exit status 1:\n",
      "     command: /Users/joshuajacobs/anaconda2/envs/Py36/bin/python -c 'import sys, setuptools, tokenize; sys.argv[0] = '\"'\"'/private/var/folders/2b/ltbqpj_123q_sj2dz39874s80000gq/T/pip-install-byfwrtmu/slugify/setup.py'\"'\"'; __file__='\"'\"'/private/var/folders/2b/ltbqpj_123q_sj2dz39874s80000gq/T/pip-install-byfwrtmu/slugify/setup.py'\"'\"';f=getattr(tokenize, '\"'\"'open'\"'\"', open)(__file__);code=f.read().replace('\"'\"'\\r\\n'\"'\"', '\"'\"'\\n'\"'\"');f.close();exec(compile(code, __file__, '\"'\"'exec'\"'\"'))' egg_info --egg-base pip-egg-info\n",
      "         cwd: /private/var/folders/2b/ltbqpj_123q_sj2dz39874s80000gq/T/pip-install-byfwrtmu/slugify/\n",
      "    Complete output (11 lines):\n",
      "    Traceback (most recent call last):\n",
      "      File \"<string>\", line 1, in <module>\n",
      "      File \"/private/var/folders/2b/ltbqpj_123q_sj2dz39874s80000gq/T/pip-install-byfwrtmu/slugify/setup.py\", line 26, in <module>\n",
      "        version          = get_version(),\n",
      "      File \"/private/var/folders/2b/ltbqpj_123q_sj2dz39874s80000gq/T/pip-install-byfwrtmu/slugify/setup.py\", line 20, in get_version\n",
      "        data = read_from(rel_file('src', 'slugify.py'))\n",
      "      File \"/private/var/folders/2b/ltbqpj_123q_sj2dz39874s80000gq/T/pip-install-byfwrtmu/slugify/setup.py\", line 15, in read_from\n",
      "        return fp.read()\n",
      "      File \"/Users/joshuajacobs/anaconda2/envs/Py36/lib/python3.6/encodings/ascii.py\", line 26, in decode\n",
      "        return codecs.ascii_decode(input, self.errors)[0]\n",
      "    UnicodeDecodeError: 'ascii' codec can't decode byte 0xc3 in position 254: ordinal not in range(128)\n",
      "    ----------------------------------------\u001b[0m\n",
      "\u001b[31mERROR: Command errored out with exit status 1: python setup.py egg_info Check the logs for full command output.\u001b[0m\n"
     ]
    }
   ],
   "source": [
    "!pip install pandas pydicom getpass flywheel-sdk tqdm kaggle"
   ]
  },
  {
   "cell_type": "code",
   "execution_count": 6,
   "metadata": {},
   "outputs": [],
   "source": [
    "import json\n",
    "import logging\n",
    "import os\n",
    "import re\n",
    "import time\n",
    "import zipfile\n",
    "from getpass import getpass\n",
    "from pathlib import Path\n",
    "\n",
    "import flywheel\n",
    "import pandas as pd\n",
    "import pydicom\n",
    "from tqdm.notebook import tqdm"
   ]
  },
  {
   "cell_type": "code",
   "execution_count": 3,
   "metadata": {},
   "outputs": [],
   "source": [
    "# Instantiate a logger\n",
    "logging.basicConfig(level=logging.INFO, format='%(asctime)s %(levelname)s %(message)s')\n",
    "log = logging.getLogger('root')"
   ]
  },
  {
   "cell_type": "markdown",
   "metadata": {},
   "source": [
    "# Download kaggle dataset\n",
    "\n",
    "This requires that you have stored your Kaggle credentials in ~/.kaggle/kaggle.json. These can be acquired by creating a kaggle account at kaggle.com and using \"Create New API Token\" on the user account page. \n",
    "\n",
    "This dataset is currently 3.7 GB and may change in the future. Depending on the bandwidth of your internet connection, this may take some time to download."
   ]
  },
  {
   "cell_type": "code",
   "execution_count": null,
   "metadata": {},
   "outputs": [],
   "source": [
    "!kaggle competitions download -c rsna-pneumonia-detection-challenge"
   ]
  },
  {
   "source": [
    "# Initialize Constants\n",
    "Initialize path to dowload directory, default session label, and default acquisition label."
   ],
   "cell_type": "markdown",
   "metadata": {}
  },
  {
   "cell_type": "code",
   "execution_count": 4,
   "metadata": {},
   "outputs": [],
   "source": [
    "ROOT_KAGGLE_DATA = '/path/to/downloaded/dataset/'\n",
    "DEFAULT_SESSION_LABEL = 'NA'\n",
    "DEFAULT_ACQ_LABEL = 'Chest XR'"
   ]
  },
  {
   "cell_type": "markdown",
   "metadata": {},
   "source": [
    "# Flywheel API Key and Client\n",
    "Get an API_KEY. More on this in the Flywheel SDK doc [here](https://flywheel-io.gitlab.io/product/backend/sdk/branches/master/python/getting_started.html#api-key)."
   ]
  },
  {
   "cell_type": "code",
   "execution_count": 7,
   "metadata": {},
   "outputs": [],
   "source": [
    "API_KEY = getpass('Enter API_KEY here: ')"
   ]
  },
  {
   "source": [
    "Instantiate the Flywheel API client"
   ],
   "cell_type": "markdown",
   "metadata": {}
  },
  {
   "cell_type": "code",
   "execution_count": 8,
   "metadata": {},
   "outputs": [],
   "source": [
    "fw_client = flywheel.Client(API_KEY if 'API_KEY' in locals() else os.environ.get('FW_KEY'))"
   ]
  },
  {
   "source": [
    "Show Flywheel logging information"
   ],
   "cell_type": "markdown",
   "metadata": {}
  },
  {
   "cell_type": "code",
   "execution_count": 9,
   "metadata": {},
   "outputs": [
    {
     "output_type": "stream",
     "name": "stderr",
     "text": [
      "2020-10-14 14:35:34,534 WARNING Use \"pip install flywheel-sdk~=14.3.0\" to install a compatible version for this server\n",
      "2020-10-14 14:35:34,642 INFO You are now logged in as joshuajacobs@flywheel.io to https://covid19.flywheel.io/api\n"
     ]
    }
   ],
   "source": [
    "log.info('You are now logged in as %s to %s', fw_client.get_current_user()['email'], fw_client.get_config()['site']['api_url'])"
   ]
  },
  {
   "cell_type": "markdown",
   "metadata": {},
   "source": [
    "# Read the csv"
   ]
  },
  {
   "cell_type": "code",
   "execution_count": null,
   "metadata": {},
   "outputs": [],
   "source": [
    "df = pd.read_csv(Path(ROOT_KAGGLE_DATA) / 'stage_2_train_labels.csv')"
   ]
  },
  {
   "cell_type": "markdown",
   "metadata": {},
   "source": [
    "# Container helpers\n",
    "Import container helper functions to find existing or create new containers."
   ]
  },
  {
   "source": [
    "from container_helpers import (\n",
    "    find_or_create_group, \n",
    "    find_or_create_project, \n",
    "    find_or_create_subject, \n",
    "    find_or_create_session, \n",
    "    find_or_create_acquisition,\n",
    ")"
   ],
   "cell_type": "code",
   "metadata": {},
   "execution_count": null,
   "outputs": []
  },
  {
   "cell_type": "markdown",
   "metadata": {},
   "source": [
    "# Create the project"
   ]
  },
  {
   "cell_type": "code",
   "execution_count": null,
   "metadata": {},
   "outputs": [],
   "source": [
    "# Initialize the group\n",
    "public_data_group = find_or_create_group(fw_client, 'public_data', 'public_data')\n",
    "# Initialize the project\n",
    "project_label = 'kaggle-rsna-pneumonia-detection-challenge'\n",
    "readme = 'https://www.kaggle.com/c/rsna-pneumonia-detection-challenge/data'\n",
    "chestxray_project = find_or_create_project(project_label, public_data_group)\n",
    "if chestxray_project:\n",
    "    chestxray_project.update(description=readme)"
   ]
  },
  {
   "cell_type": "markdown",
   "metadata": {},
   "source": [
    "# Iterate through dataframe and upload\n",
    "Iterate through the training data csv to create the container hierarchy for this project:\n",
    "* find or create each subject encountered\n",
    "* find or create each session (with `DEFAULT_SESSION_LABEL`) encountered\n",
    "* find or create each acquisition (with 'SeriesDescription' or `DEFAULT_ACQ_LABEL`) and add enclosed files."
   ]
  },
  {
   "cell_type": "code",
   "execution_count": null,
   "metadata": {},
   "outputs": [],
   "source": [
    "for i, row in tqdm(df.iterrows(), total=len(df)):\n",
    "    log.info('Processing Subject %s.', row['patientId'])\n",
    "    subject = find_or_create_subject(row['patientId'], chestxray_project)\n",
    "    if row['Target']:\n",
    "        row_dict = {\n",
    "            'box': {\n",
    "                'x': row['x'], \n",
    "                'y': row['y'], \n",
    "                'width': row['width'], \n",
    "                'height': row['height']\n",
    "            }, \n",
    "            'Target': row['Target']\n",
    "        }\n",
    "    else:\n",
    "        row_dict = {'Target': row['Target']}\n",
    "    if subject:\n",
    "        log.info('Processing Session %s.', DEFAULT_SESSION_LABEL)\n",
    "        session = find_or_create_session(DEFAULT_SESSION_LABEL, subject)\n",
    "        if session:\n",
    "            filepath = str(Path(ROOT_KAGGLE_DATA) / 'stage_2_train_images' / f\"{row['patientId']}.dcm\")\n",
    "            dcm = pydicom.read_file(filepath, stop_before_pixels=True, force=True)\n",
    "            # Pack dicoms into zip file\n",
    "            with zipfile.ZipFile(f'/tmp/{row[\"patientId\"]}.zip', 'w') as myzip:\n",
    "                myzip.write(filepath)\n",
    "\n",
    "            acq_label = dcm.get('SeriesDescription', DEFAULT_ACQ_LABEL)\n",
    "            log.info('Processing Acquisition %s.', acq_label)\n",
    "            \n",
    "            acq = find_or_create_acquisition(acq_label, session)\n",
    "            log.info(\n",
    "                'Uploading file, %s, to acquisition, %s',\n",
    "                f'/tmp/{row[\"patientId\"]}.zip',\n",
    "                acq.label\n",
    "            )\n",
    "            kwarg_dict = {\"type\": \"dicom\", \"modality\": \"X-ray\"}\n",
    "            kwarg_dict[\"info\"] = row_dict\n",
    "            upload_file_to_acquistion(acq, f'/tmp/{row[\"patientId\"]}.zip', **kwarg_dict)\n",
    "            # remove temporary zipped dicom file\n",
    "            os.remove(f'/tmp/{row[\"patientId\"]}.zip')"
   ]
  },
  {
   "cell_type": "code",
   "execution_count": null,
   "metadata": {},
   "outputs": [],
   "source": []
  }
 ],
 "metadata": {
  "kernelspec": {
   "display_name": "Python 3",
   "language": "python",
   "name": "python3"
  },
  "language_info": {
   "codemirror_mode": {
    "name": "ipython",
    "version": 3
   },
   "file_extension": ".py",
   "mimetype": "text/x-python",
   "name": "python",
   "nbconvert_exporter": "python",
   "pygments_lexer": "ipython3",
   "version": "3.6.7-final"
  }
 },
 "nbformat": 4,
 "nbformat_minor": 4
}