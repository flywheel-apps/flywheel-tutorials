{
 "cells": [
  {
   "source": [
    "**Title**: Upload COVID Chest X-Ray Dataset.   \n",
    "**Description**:    \n",
    "* https://github.com/ieee8023/covid-chestxray-dataset\n",
    "* https://arxiv.org/abs/2004.12823\n",
    "* https://arxiv.org/abs/2004.05405"
   ],
   "cell_type": "markdown",
   "metadata": {}
  },
  {
   "source": [
    "# Data Use Aggreement\n",
    "Before downloading this data, or any data, make sure you understand the restrictions on the use of data."
   ],
   "cell_type": "markdown",
   "metadata": {}
  },
  {
   "source": [
    "# Requirements:\n",
    "- **Python** (Preferably >= 3.6):  \n",
    "\n",
    "- Have administrator permissions to create Flywheel Groups and Projects."
   ],
   "cell_type": "markdown",
   "metadata": {}
  },
  {
   "cell_type": "code",
   "execution_count": null,
   "metadata": {},
   "outputs": [],
   "source": [
    "%reload_ext autoreload\n",
    "%autoreload 2\n",
    "%matplotlib inline"
   ]
  },
  {
   "source": [
    "# Install and import dependencies"
   ],
   "cell_type": "markdown",
   "metadata": {}
  },
  {
   "cell_type": "code",
   "execution_count": null,
   "metadata": {},
   "outputs": [],
   "source": [
    "!pip install pandas getpass pydicom flywheel-sdk"
   ]
  },
  {
   "cell_type": "code",
   "execution_count": null,
   "metadata": {},
   "outputs": [],
   "source": [
    "import copy\n",
    "import csv\n",
    "import datetime\n",
    "import logging\n",
    "import os\n",
    "import time\n",
    "from getpass import getpass\n",
    "\n",
    "import flywheel\n",
    "import pandas as pd"
   ]
  },
  {
   "cell_type": "code",
   "execution_count": null,
   "metadata": {},
   "outputs": [],
   "source": [
    "# Instantiate a logger\n",
    "logging.basicConfig(level=logging.INFO, format='%(asctime)s %(levelname)s %(message)s')\n",
    "log = logging.getLogger('root')"
   ]
  },
  {
   "source": [
    "# Download covid-chestxray dataset\n",
    "The following will download the entire github repository to the local drive."
   ],
   "cell_type": "markdown",
   "metadata": {}
  },
  {
   "cell_type": "code",
   "execution_count": null,
   "metadata": {},
   "outputs": [],
   "source": [
    "!git clone git@github.com:ieee8023/covid-chestxray-dataset.git"
   ]
  },
  {
   "source": [
    "# Initialize Constants"
   ],
   "cell_type": "markdown",
   "metadata": {}
  },
  {
   "cell_type": "code",
   "execution_count": null,
   "metadata": {},
   "outputs": [],
   "source": [
    "ROOT_CHESTXRAY_DATA = '/Users/joshuajacobs/Projects/2020.10.09.Flywheel.Tutorials/Code/flywheel-tutorials/import_tutorials/covid-chestxray-dataset'\n",
    "DEFAULT_SESSION_LABEL = 'offset_NA'\n",
    "DEFAULT_ACQ_LABEL = 'Chest XR'"
   ]
  },
  {
   "cell_type": "markdown",
   "metadata": {},
   "source": [
    "# Flywheel API Key and Client\n",
    "Get an API_KEY. More on this in the Flywheel SDK doc [here](https://flywheel-io.gitlab.io/product/backend/sdk/branches/master/python/getting_started.html#api-key)."
   ]
  },
  {
   "cell_type": "code",
   "execution_count": null,
   "metadata": {},
   "outputs": [],
   "source": [
    "API_KEY = getpass('Enter API_KEY here: ')"
   ]
  },
  {
   "source": [
    "Instantiate the Flywheel API client"
   ],
   "cell_type": "markdown",
   "metadata": {}
  },
  {
   "cell_type": "code",
   "execution_count": null,
   "metadata": {},
   "outputs": [],
   "source": [
    "fw_client = flywheel.Client(API_KEY if 'API_KEY' in locals() else os.environ.get('FW_KEY'))"
   ]
  },
  {
   "source": [
    "Show Flywheel logging information"
   ],
   "cell_type": "markdown",
   "metadata": {}
  },
  {
   "cell_type": "code",
   "execution_count": null,
   "metadata": {},
   "outputs": [],
   "source": [
    "log.info('You are now logged in as %s to %s', fw_client.get_current_user()['email'], fw_client.get_config()['site']['api_url'])"
   ]
  },
  {
   "source": [
    "# Container helpers\n",
    "Import container helper functions to find existing or create new containers."
   ],
   "cell_type": "markdown",
   "metadata": {}
  },
  {
   "cell_type": "code",
   "execution_count": null,
   "metadata": {},
   "outputs": [],
   "source": [
    "from container_helpers import (\n",
    "    find_or_create_group, \n",
    "    find_or_create_project, \n",
    "    find_or_create_subject, \n",
    "    find_or_create_session, \n",
    "    find_or_create_acquisition,\n",
    ")\n"
   ]
  },
  {
   "cell_type": "markdown",
   "metadata": {},
   "source": [
    "# Find or Create Group and Project:\n",
    "Create a group with id \"public_data\" and label \"public_data\".\n",
    "\n",
    "Create a project with label 'covid-chestxray-dataset'.\n",
    "\n",
    "Replace with the id and labels of the group and project you want to create.\n",
    "\n",
    "If group and project are already created, the group and project with specified labels will be returned."
   ]
  },
  {
   "cell_type": "code",
   "execution_count": null,
   "metadata": {},
   "outputs": [],
   "source": [
    "# Initialize the group\n",
    "public_data_group = find_or_create_group(fw_client, 'public_data', 'public_data')\n",
    "\n",
    "# Initialize the project\n",
    "project_label = 'covid-chestxray-dataset'\n",
    "chestxray_project = find_or_create_project(project_label, public_data_group)\n",
    "\n",
    "# Parse the project description from the README markdown\n",
    "with open(\n",
    "    os.path.join(ROOT_CHESTXRAY_DATA, 'README.md'),\n",
    "    'r',\n",
    "    encoding='utf-8'\n",
    ") as fdata:\n",
    "    readme = fdata.read()\n",
    "    \n",
    "for local_file in ['(CONTRIBUTING.md)', '(metadata.csv)', '(images)']:\n",
    "    readme = readme.replace(\n",
    "        local_file, \n",
    "        '(https://github.com/ieee8023/covid-chestxray-dataset/blob/'\n",
    "        f'47685d20a1b77f0664ac8b7740ef6d4646be962d/{local_file[1:-1]})'\n",
    "    )\n",
    "\n",
    "if chestxray_project:\n",
    "    chestxray_project.update(description=readme)"
   ]
  },
  {
   "cell_type": "markdown",
   "metadata": {},
   "source": [
    "# Prepare Dataframe \n",
    "Read the csv, clean the dataframe, produce dictionary list"
   ]
  },
  {
   "source": [
    "### Formating and Cleaning Helper Functions"
   ],
   "cell_type": "markdown",
   "metadata": {}
  },
  {
   "cell_type": "code",
   "execution_count": null,
   "metadata": {},
   "outputs": [],
   "source": [
    "from dataframe_helpers import (\n",
    "    convert_time_to_seconds, \n",
    "    format_sex_string, \n",
    "    create_session_label, \n",
    "    cleanup_row_dict\n",
    ")\n"
   ]
  },
  {
   "source": [
    "### Apply Helper Functions to Dataframe"
   ],
   "cell_type": "markdown",
   "metadata": {}
  },
  {
   "cell_type": "code",
   "execution_count": null,
   "metadata": {
    "tags": [
     "outputPrepend"
    ]
   },
   "outputs": [],
   "source": [
    "# Load dataframe from downloaded csv file\n",
    "df = pd.read_csv(os.path.join(ROOT_CHESTXRAY_DATA, 'metadata.csv'))\n",
    "\n",
    "# format subject label\n",
    "df['subject_label'] = df['patientid'].apply(lambda x: f'sub_{str(x).zfill(4)}')\n",
    "row_dict_list = df.to_dict(orient='records')\n",
    "\n",
    "# Apply age conversion\n",
    "df['session_age'] = (\n",
    "    df['age'].apply(convert_time_to_seconds, scale='Y') + \n",
    "    df['offset'].apply(convert_time_to_seconds, scale='D').astype('int64')\n",
    ")\n",
    "\n",
    "# Format subject sex\n",
    "df['subject_sex'] = df['sex'].apply(format_sex_string)\n",
    "\n",
    "# Apply to session labels with default \n",
    "df['session_label'] = df['offset'].apply(\n",
    "    create_session_label, \n",
    "    default_session_label=DEFAULT_SESSION_LABEL\n",
    ")\n",
    "\n",
    "# format acquisition label\n",
    "df['acquisition_label'] = df['filename'].apply(lambda x: x.rsplit('.', maxsplit=1)[0])\n",
    "\n",
    "# throw out nans\n",
    "df.fillna('', inplace=True)\n",
    "\n",
    "# Produced cleaned row dictionary list\n",
    "row_dict_list = [cleanup_row_dict(row_dict) for row_dict in df.to_dict(orient='records')]"
   ]
  },
  {
   "cell_type": "code",
   "execution_count": null,
   "metadata": {},
   "outputs": [],
   "source": [
    "df['offset'].apply(convert_time_to_seconds, scale='D').astype('int64')\n"
   ]
  },
  {
   "cell_type": "markdown",
   "metadata": {},
   "source": [
    "# Create containers\n"
   ]
  },
  {
   "cell_type": "code",
   "execution_count": null,
   "metadata": {},
   "outputs": [],
   "source": [
    "\n",
    "# iterate through rows of dataframe\n",
    "for row_dict in row_dict_list:\n",
    "    subject_label = row_dict.get('subject_label')\n",
    "    log.info('Processing Subject %s.', subject_label)\n",
    "    subject_sex = row_dict.get('subject_sex')\n",
    "    kwargs_dict = {\"sex\": subject_sex}\n",
    "    subject = find_or_create_subject(subject_label, chestxray_project, **kwargs_dict)\n",
    "    if subject:\n",
    "        session_label = row_dict.get('session_label')\n",
    "        log.info('Processing Session %s.', session_label)\n",
    "        age_at_session = row_dict.get('session_age')\n",
    "        kwargs_dict = {\"age\": age_at_session}\n",
    "        session = find_or_create_session(session_label, subject, **kwargs_dict)\n",
    "        if session:\n",
    "            aqc_label = row_dict.get('acquisition_label')\n",
    "            log.info('Processing Acquisition %s.', aqc_label)\n",
    "            kwargs_dict = {\"info\": row_dict}\n",
    "            acq = find_or_create_acquisition(aqc_label, session, **kwargs_dict)\n",
    "            filepath = os.path.join(ROOT_CHESTXRAY_DATA, 'images', row_dict.get('filename'))\n",
    "            log.info('Uploading file, %s, to acquisition, %s', filepath, acq.label)\n",
    "            upload_file_to_acquistion(acq, filepath, **kwarg_dict)"
   ]
  },
  {
   "cell_type": "code",
   "execution_count": null,
   "metadata": {},
   "outputs": [],
   "source": [
    "# list unique subjects\n",
    "df.subject_label.unique()"
   ]
  }
 ],
 "metadata": {
  "kernelspec": {
   "display_name": "Python 3",
   "language": "python",
   "name": "python3"
  },
  "language_info": {
   "codemirror_mode": {
    "name": "ipython",
    "version": 3
   },
   "file_extension": ".py",
   "mimetype": "text/x-python",
   "name": "python",
   "nbconvert_exporter": "python",
   "pygments_lexer": "ipython3",
   "version": "3.6.7-final"
  }
 },
 "nbformat": 4,
 "nbformat_minor": 4
}