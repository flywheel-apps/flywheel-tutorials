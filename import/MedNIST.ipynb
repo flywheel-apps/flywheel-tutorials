{
 "cells": [
  {
   "cell_type": "markdown",
   "metadata": {},
   "source": [
    "**Title**: Upload the MedNIST dataset.   \n",
    "**Date**:  05-May-2021  \n",
    "**Description**:\n",
    "This notebook downloads the MedNIST dataset and upload it into a Flywheel instance project.\n",
    "   \n",
    "The MedNIST dataset was gathered from several sets from TCIA, the RSNA Bone Age Challenge, and the NIH Chest X-ray dataset.\n",
    "\n",
    "The dataset is kindly made available by [Dr. Bradley J. Erickson M.D., Ph.D.](https://www.mayo.edu/research/labs/radiology-informatics/overview) (Department of Radiology, Mayo Clinic) under the [Creative Commons CC BY-SA 4.0 license](https://creativecommons.org/licenses/by-sa/4.0/).\n",
    "\n",
    "If you use the MedNIST dataset, please acknowledge the source."
   ]
  },
  {
   "cell_type": "markdown",
   "metadata": {},
   "source": [
    "# Data Use Aggreement\n",
    "Before downloading this data, or any data, make sure you understand the restrictions on the use of data. "
   ]
  },
  {
   "cell_type": "markdown",
   "metadata": {},
   "source": [
    "# Requirements:\n",
    "- **Python** (Preferably >= 3.6):  \n",
    "\n",
    "- Have administrator permissions to create Flywheel Groups and Projects."
   ]
  },
  {
   "cell_type": "code",
   "execution_count": 3,
   "metadata": {},
   "outputs": [],
   "source": [
    "%reload_ext autoreload\n",
    "%autoreload 2\n",
    "%matplotlib inline"
   ]
  },
  {
   "cell_type": "markdown",
   "metadata": {},
   "source": [
    "# Install and import dependencies"
   ]
  },
  {
   "cell_type": "code",
   "execution_count": 4,
   "metadata": {},
   "outputs": [
    {
     "name": "stdout",
     "output_type": "stream",
     "text": [
      "Requirement already satisfied: pandas in /Users/nicolaspannetier/miniconda3/lib/python3.8/site-packages (1.2.0)\n",
      "Requirement already satisfied: pydicom in /Users/nicolaspannetier/miniconda3/lib/python3.8/site-packages (2.1.2)\n",
      "Requirement already satisfied: flywheel-sdk in /Users/nicolaspannetier/miniconda3/lib/python3.8/site-packages (15.6.0)\n",
      "Requirement already satisfied: monai in /Users/nicolaspannetier/miniconda3/lib/python3.8/site-packages (0.5.2)\n",
      "Requirement already satisfied: urllib3>=1.15 in /Users/nicolaspannetier/miniconda3/lib/python3.8/site-packages (from flywheel-sdk) (1.26.2)\n",
      "Requirement already satisfied: requests>=2.18.4 in /Users/nicolaspannetier/miniconda3/lib/python3.8/site-packages (from flywheel-sdk) (2.25.1)\n",
      "Requirement already satisfied: requests-toolbelt in /Users/nicolaspannetier/miniconda3/lib/python3.8/site-packages (from flywheel-sdk) (0.9.1)\n",
      "Requirement already satisfied: python-dateutil in /Users/nicolaspannetier/miniconda3/lib/python3.8/site-packages (from flywheel-sdk) (2.8.1)\n",
      "Requirement already satisfied: six>=1.10 in /Users/nicolaspannetier/miniconda3/lib/python3.8/site-packages (from flywheel-sdk) (1.15.0)\n",
      "Requirement already satisfied: certifi in /Users/nicolaspannetier/miniconda3/lib/python3.8/site-packages (from flywheel-sdk) (2020.12.5)\n",
      "Requirement already satisfied: idna<3,>=2.5 in /Users/nicolaspannetier/miniconda3/lib/python3.8/site-packages (from requests>=2.18.4->flywheel-sdk) (2.10)\n",
      "Requirement already satisfied: chardet<5,>=3.0.2 in /Users/nicolaspannetier/miniconda3/lib/python3.8/site-packages (from requests>=2.18.4->flywheel-sdk) (4.0.0)\n",
      "Requirement already satisfied: numpy>=1.17 in /Users/nicolaspannetier/miniconda3/lib/python3.8/site-packages (from monai) (1.20.1)\n",
      "Requirement already satisfied: torch>=1.5 in /Users/nicolaspannetier/miniconda3/lib/python3.8/site-packages (from monai) (1.8.1)\n",
      "Requirement already satisfied: typing-extensions in /Users/nicolaspannetier/miniconda3/lib/python3.8/site-packages (from torch>=1.5->monai) (3.7.4.3)\n",
      "Requirement already satisfied: pytz>=2017.3 in /Users/nicolaspannetier/miniconda3/lib/python3.8/site-packages (from pandas) (2021.1)\n"
     ]
    }
   ],
   "source": [
    "!pip install pandas pydicom flywheel-sdk monai"
   ]
  },
  {
   "cell_type": "code",
   "execution_count": 5,
   "metadata": {},
   "outputs": [],
   "source": [
    "import copy\n",
    "import csv\n",
    "import datetime\n",
    "import logging\n",
    "import os\n",
    "import time\n",
    "from getpass import getpass\n",
    "from pathlib import Path\n",
    "\n",
    "import flywheel\n",
    "import pandas as pd\n",
    "from monai.apps import download_and_extract"
   ]
  },
  {
   "cell_type": "code",
   "execution_count": 6,
   "metadata": {},
   "outputs": [],
   "source": [
    "# Instantiate a logger\n",
    "logging.basicConfig(level=logging.INFO, format='%(asctime)s %(levelname)s %(message)s')\n",
    "log = logging.getLogger('root')"
   ]
  },
  {
   "cell_type": "markdown",
   "metadata": {},
   "source": [
    "# Download dataset\n",
    "The following will download the entire github repository to the local drive."
   ]
  },
  {
   "cell_type": "code",
   "execution_count": 8,
   "metadata": {},
   "outputs": [],
   "source": [
    "ROOT_DIR = Path('/tmp/data')\n",
    "if not ROOT_DIR.exists():\n",
    "    ROOT_DIR.mkdir(parents=True, exist_ok=True)"
   ]
  },
  {
   "cell_type": "code",
   "execution_count": 9,
   "metadata": {},
   "outputs": [
    {
     "name": "stderr",
     "output_type": "stream",
     "text": [
      "MedNIST.tar.gz: 59.0MB [00:23, 2.66MB/s]                              \n"
     ]
    },
    {
     "name": "stdout",
     "output_type": "stream",
     "text": [
      "\n",
      "downloaded file: /tmp/data/MedNIST.tar.gz.\n",
      "Verified 'MedNIST.tar.gz', md5: 0bc7306e7427e00ad1c5526a6677552d.\n",
      "Verified 'MedNIST.tar.gz', md5: 0bc7306e7427e00ad1c5526a6677552d.\n"
     ]
    }
   ],
   "source": [
    "resource = \"https://www.dropbox.com/s/5wwskxctvcxiuea/MedNIST.tar.gz?dl=1\"\n",
    "md5 = \"0bc7306e7427e00ad1c5526a6677552d\"\n",
    "\n",
    "compressed_file = os.path.join(ROOT_DIR, \"MedNIST.tar.gz\")\n",
    "data_dir = os.path.join(ROOT_DIR, \"MedNIST\")\n",
    "if not os.path.exists(data_dir):\n",
    "    download_and_extract(resource, compressed_file, ROOT_DIR, md5)"
   ]
  },
  {
   "cell_type": "markdown",
   "metadata": {},
   "source": [
    "# Initialize Constants"
   ]
  },
  {
   "cell_type": "code",
   "execution_count": 23,
   "metadata": {},
   "outputs": [],
   "source": [
    "GROUP_ID = \"ml\"\n",
    "GROUP_Label = \"ML\""
   ]
  },
  {
   "cell_type": "code",
   "execution_count": 24,
   "metadata": {},
   "outputs": [],
   "source": [
    "PROJECT_LABEL = \"MedNIST\""
   ]
  },
  {
   "cell_type": "code",
   "execution_count": 35,
   "metadata": {},
   "outputs": [],
   "source": [
    "DESCRIPTION = \"\"\"\n",
    "The MedNIST dataset was gathered from several sets from TCIA, the RSNA Bone Age Challenge, and the NIH Chest X-ray dataset.\n",
    "\n",
    "The dataset is kindly made available by [Dr. Bradley J. Erickson M.D., Ph.D.](https://www.mayo.edu/research/labs/radiology-informatics/overview) (Department of Radiology, Mayo Clinic) under the [Creative Commons CC BY-SA 4.0 license](https://creativecommons.org/licenses/by-sa/4.0/).\n",
    "\n",
    "If you use the MedNIST dataset, please acknowledge the source.\n",
    "\"\"\""
   ]
  },
  {
   "cell_type": "markdown",
   "metadata": {},
   "source": [
    "# Flywheel API Key and Client\n",
    "Get an API_KEY. More on this in the Flywheel SDK doc [here](https://flywheel-io.gitlab.io/product/backend/sdk/branches/master/python/getting_started.html#api-key)."
   ]
  },
  {
   "cell_type": "code",
   "execution_count": 38,
   "metadata": {},
   "outputs": [
    {
     "name": "stdin",
     "output_type": "stream",
     "text": [
      "Enter API_KEY here:  ·········································\n"
     ]
    }
   ],
   "source": [
    "API_KEY = getpass('Enter API_KEY here: ')"
   ]
  },
  {
   "cell_type": "markdown",
   "metadata": {},
   "source": [
    "Instantiate the Flywheel API client"
   ]
  },
  {
   "cell_type": "code",
   "execution_count": 39,
   "metadata": {},
   "outputs": [],
   "source": [
    "fw_client = flywheel.Client(API_KEY if 'API_KEY' in locals() else os.environ.get('FW_KEY'))"
   ]
  },
  {
   "cell_type": "markdown",
   "metadata": {},
   "source": [
    "Show Flywheel logging information"
   ]
  },
  {
   "cell_type": "code",
   "execution_count": 40,
   "metadata": {},
   "outputs": [
    {
     "name": "stderr",
     "output_type": "stream",
     "text": [
      "/Users/nicolaspannetier/miniconda3/lib/python3.8/site-packages/flywheel/flywheel.py:6274: UserWarning: Client version 15.6.0 does not match server version 14.6.2. Please update your client version!\n",
      "  warnings.warn('Client version {} does not match server version {}. Please update your client version!'.format(SDK_VERSION, release_version))\n",
      "2021-05-15 15:27:20,315 WARNING Use \"pip install flywheel-sdk~=14.6.3\" to install a compatible version for this server\n",
      "2021-05-15 15:27:20,600 INFO You are now logged in as nicolaspannetier@flywheel.io to https://rollout.ce.flywheel.io/api\n"
     ]
    }
   ],
   "source": [
    "log.info('You are now logged in as %s to %s', fw_client.get_current_user()['email'], fw_client.get_config()['site']['api_url'])"
   ]
  },
  {
   "cell_type": "markdown",
   "metadata": {},
   "source": [
    "# Container helpers\n",
    "Import container helper functions to find existing or create new containers."
   ]
  },
  {
   "cell_type": "code",
   "execution_count": 41,
   "metadata": {},
   "outputs": [],
   "source": [
    "from container_helpers import (\n",
    "    find_or_create_group, \n",
    "    find_or_create_project, \n",
    "    find_or_create_subject, \n",
    "    find_or_create_session, \n",
    "    find_or_create_acquisition,\n",
    "    upload_file_to_acquisition\n",
    ")\n"
   ]
  },
  {
   "cell_type": "markdown",
   "metadata": {},
   "source": [
    "# Find or Create Group and Project:\n",
    "Create a group with id \"public_data\" and label \"public_data\".\n",
    "\n",
    "Create a project with label 'covid-chestxray-dataset'.\n",
    "\n",
    "Replace with the id and labels of the group and project you want to create.\n",
    "\n",
    "If group and project are already created, the group and project with specified labels will be returned."
   ]
  },
  {
   "cell_type": "code",
   "execution_count": 44,
   "metadata": {},
   "outputs": [],
   "source": [
    "x = fw_client.lookup(\"loni/adni-data\")"
   ]
  },
  {
   "cell_type": "code",
   "execution_count": 42,
   "metadata": {},
   "outputs": [
    {
     "name": "stderr",
     "output_type": "stream",
     "text": [
      "2021-05-15 15:27:23,311 INFO Group with label \"ML\" not found, creating.\n",
      "2021-05-15 15:27:23,817 INFO Project with label \"MedNIST\" not found, creating.\n"
     ]
    }
   ],
   "source": [
    "# Initialize the group\n",
    "public_data_group = find_or_create_group(fw_client, GROUP_ID, GROUP_Label)\n",
    "\n",
    "# Initialize the project\n",
    "project = find_or_create_project(PROJECT_LABEL, public_data_group)\n",
    "\n",
    "if project:\n",
    "    project.update(description=DESCRIPTION)"
   ]
  },
  {
   "cell_type": "markdown",
   "metadata": {},
   "source": [
    "# Inspect data structure"
   ]
  },
  {
   "cell_type": "code",
   "execution_count": 52,
   "metadata": {},
   "outputs": [
    {
     "name": "stdout",
     "output_type": "stream",
     "text": [
      "\u001b[34m/tmp/data\u001b[00m\n",
      "├── \u001b[34mMedNIST\u001b[00m\n",
      "│   ├── \u001b[34mAbdomenCT\u001b[00m\n",
      "│   ├── \u001b[34mBreastMRI\u001b[00m\n",
      "│   ├── \u001b[34mCXR\u001b[00m\n",
      "│   ├── \u001b[34mChestCT\u001b[00m\n",
      "│   ├── \u001b[34mHand\u001b[00m\n",
      "│   ├── \u001b[34mHeadCT\u001b[00m\n",
      "│   └── README.md\n",
      "└── MedNIST.tar.gz\n",
      "\n",
      "7 directories, 2 files\n"
     ]
    }
   ],
   "source": [
    "!tree -L 2 {ROOT_DIR}"
   ]
  },
  {
   "cell_type": "markdown",
   "metadata": {},
   "source": [
    "Each folder contains JPG images. "
   ]
  },
  {
   "cell_type": "code",
   "execution_count": 68,
   "metadata": {},
   "outputs": [
    {
     "name": "stdout",
     "output_type": "stream",
     "text": [
      "/tmp/data/MedNIST/Hand: 10000\n",
      "/tmp/data/MedNIST/BreastMRI: 8954\n",
      "/tmp/data/MedNIST/ChestCT: 10000\n",
      "/tmp/data/MedNIST/HeadCT: 10000\n",
      "/tmp/data/MedNIST/AbdomenCT: 10000\n",
      "/tmp/data/MedNIST/CXR: 10000\n"
     ]
    }
   ],
   "source": [
    "bodyparts = list((ROOT_DIR / \"MedNIST\").rglob(\"*/**\"))\n",
    "for x in bodyparts:\n",
    "    print(f\"{x}: {len(list(x.rglob('*')))}\")"
   ]
  },
  {
   "cell_type": "markdown",
   "metadata": {},
   "source": [
    "# Upload"
   ]
  },
  {
   "cell_type": "markdown",
   "metadata": {},
   "source": [
    "Following Flywheel hierarchy will be used:  \n",
    "* subject.label = bodypart\n",
    "* session.label = bodypart\n",
    "* acquisition.label = filename"
   ]
  },
  {
   "cell_type": "code",
   "execution_count": null,
   "metadata": {},
   "outputs": [],
   "source": [
    "for part in bodyparts:\n",
    "    log.info(f\"Uploading {part}\")\n",
    "    subject_label = part.parts[-1]\n",
    "    session_label = part.parts[-1]    \n",
    "    subject = find_or_create_subject(subject_label, project)\n",
    "    session = find_or_create_session(session_label, subject)\n",
    "    files = part.rglob('*')\n",
    "    for file_ in tqdm(files):\n",
    "        acq_label = file_.parts[-1].split('.')[0]\n",
    "        acq = find_or_create_acquisition(acq_label, session)\n",
    "        acq.update_file(file_)"
   ]
  }
 ],
 "metadata": {
  "kernelspec": {
   "display_name": "Python 3",
   "language": "python",
   "name": "python3"
  },
  "language_info": {
   "codemirror_mode": {
    "name": "ipython",
    "version": 3
   },
   "file_extension": ".py",
   "mimetype": "text/x-python",
   "name": "python",
   "nbconvert_exporter": "python",
   "pygments_lexer": "ipython3",
   "version": "3.8.5"
  }
 },
 "nbformat": 4,
 "nbformat_minor": 4
}
