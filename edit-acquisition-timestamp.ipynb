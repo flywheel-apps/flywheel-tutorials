{
  "nbformat": 4,
  "nbformat_minor": 0,
  "metadata": {
    "kernelspec": {
      "display_name": "Python 3",
      "language": "python",
      "name": "python3"
    },
    "language_info": {
      "codemirror_mode": {
        "name": "ipython",
        "version": 3
      },
      "file_extension": ".py",
      "mimetype": "text/x-python",
      "name": "python",
      "nbconvert_exporter": "python",
      "pygments_lexer": "ipython3",
      "version": "3.7.6"
    },
    "colab": {
      "name": "edit_acquisition_timestamp.ipynb",
      "provenance": []
    }
  },
  "cells": [
    {
      "cell_type": "markdown",
      "metadata": {
        "id": "dDuyJAjKpFBy",
        "colab_type": "text"
      },
      "source": [
<<<<<<< HEAD
        "**Title**: Update Acquisition container timestamp (shown in UI) from Dicom Tag SeriesTime in Dicom file \n",
        "**Date**:  04-03-2020  \n",
        "**Description**:  \n",
        "* This notebook can be used to update the Acquisition container timestamp (shown in UI) is not correct.  \n",
        "\n",
        "**Functions**: \n",
        "\n",
        "    1.   `get_updated_timestamp` : Get the updated timestamp\n",
        "    2.   `modify_time` : Comparing the timestamp shows on the Acquisition container and SeriesTime in Dicom file\n",
        "    3.  `update_container_timestamp` : Update the acquisition timestamp \n",
        "\n",
=======
        "**Title**: Update Timestamp on UI with Acquisition timestamp  \n",
        "**Date**:  04-03-2020  \n",
        "**Description**:  \n",
        "* This notebook is used to update the timestamp on the FW Web UI based on the scan timestamp\n",
        "* Functions: \n",
        "\n",
        "1.   `get_scan_moco_label` : Identify the original scan label\n",
        "2.   `modify_acq_name` : Modify Acquisition name based on the session timepoint\n",
        "3.  `update_acq_label` : Update the acquisition label on the FW instances\n",
>>>>>>> 5fc5debfbd604f08606712914633a4bce86ed569
        "\n",
        "\n",
        "\n"
      ]
    },
    {
      "cell_type": "markdown",
      "metadata": {
        "id": "dF3r6oQypFBy",
        "colab_type": "text"
      },
      "source": [
        "# Install and import dependencies"
      ]
    },
    {
      "cell_type": "code",
      "metadata": {
        "id": "tnHysje2pFBz",
        "colab_type": "code",
        "colab": {}
      },
      "source": [
        "# Install specific packages required for this notebook\n",
<<<<<<< HEAD
        "!pip install flywheel-sdk pandas"
=======
        "!pip install flywheel-sdk"
>>>>>>> 5fc5debfbd604f08606712914633a4bce86ed569
      ],
      "execution_count": 0,
      "outputs": []
    },
    {
      "cell_type": "code",
      "metadata": {
        "id": "VSRqCbbapFB3",
        "colab_type": "code",
        "colab": {}
      },
      "source": [
        "# Import packages\n",
        "from getpass import getpass\n",
        "import logging\n",
        "import os\n",
<<<<<<< HEAD
        "import datetime\n",
        "\n",
        "import pandas as pd\n",
=======
        "import pandas as pd\n",
        "import datetime\n",
>>>>>>> 5fc5debfbd604f08606712914633a4bce86ed569
        "import flywheel"
      ],
      "execution_count": 0,
      "outputs": []
    },
    {
      "cell_type": "code",
      "metadata": {
        "id": "vl-njZHWpFB6",
        "colab_type": "code",
        "colab": {}
      },
      "source": [
        "# Instantiate a logger\n",
        "logging.basicConfig(level=logging.INFO, format='%(asctime)s %(levelname)s %(message)s')\n",
        "log = logging.getLogger('root')"
      ],
      "execution_count": 0,
      "outputs": []
    },
    {
      "cell_type": "markdown",
      "metadata": {
        "id": "ESBJdNiJpFB9",
        "colab_type": "text"
      },
      "source": [
        "# Flywheel API Key and Client"
      ]
    },
    {
<<<<<<< HEAD
=======
      "cell_type": "markdown",
      "metadata": {
        "id": "P8a20roWpFB-",
        "colab_type": "text"
      },
      "source": [
        "Get a API_KEY. More on this at in the Flywheel SDK doc [here](https://flywheel-io.gitlab.io/product/backend/sdk/branches/master/python/getting_started.html#api-key)."
      ]
    },
    {
>>>>>>> 5fc5debfbd604f08606712914633a4bce86ed569
      "cell_type": "code",
      "metadata": {
        "id": "LWkEZ-JTpFB-",
        "colab_type": "code",
        "colab": {}
      },
      "source": [
        "API_KEY = getpass('Enter API_KEY here: ')"
      ],
      "execution_count": 0,
      "outputs": []
    },
    {
      "cell_type": "markdown",
      "metadata": {
        "id": "yl1SuWIdpFCB",
        "colab_type": "text"
      },
      "source": [
        "Instantiate the Flywheel API client"
      ]
    },
    {
      "cell_type": "code",
      "metadata": {
        "id": "yW3kAGFPpFCB",
        "colab_type": "code",
        "colab": {}
      },
      "source": [
        "fw = flywheel.Client(API_KEY or os.environ.get('FW_KEY'))"
      ],
      "execution_count": 0,
      "outputs": []
    },
    {
      "cell_type": "markdown",
      "metadata": {
        "id": "eav3GTHjpFCE",
        "colab_type": "text"
      },
      "source": [
        "Show Flywheel logging information"
      ]
    },
    {
      "cell_type": "code",
      "metadata": {
        "id": "0vk4MutVpFCF",
        "colab_type": "code",
        "colab": {}
      },
      "source": [
        "log.info('You are now logged in as %s to %s', fw.get_current_user()['email'], fw.get_config()['site']['api_url'])"
      ],
      "execution_count": 0,
      "outputs": []
    },
    {
      "cell_type": "markdown",
      "metadata": {
<<<<<<< HEAD
=======
        "id": "1VWss1-BpFCI",
        "colab_type": "text"
      },
      "source": [
        "# Suggestions on how to structure your notebook"
      ]
    },
    {
      "cell_type": "markdown",
      "metadata": {
>>>>>>> 5fc5debfbd604f08606712914633a4bce86ed569
        "id": "ADS0ARESpFCI",
        "colab_type": "text"
      },
      "source": [
<<<<<<< HEAD
        "# Constants"
=======
        "## Constants"
>>>>>>> 5fc5debfbd604f08606712914633a4bce86ed569
      ]
    },
    {
      "cell_type": "code",
      "metadata": {
        "id": "4-ufv-kEpFCJ",
        "colab_type": "code",
        "colab": {}
      },
      "source": [
<<<<<<< HEAD
        "\n",
        "PROJECT_LABEL = input('Enter your project label here: ')\n",
        "\n",
        "project = fw.projects.find_first(f'label={PROJECT_LABEL}')\n"
=======
        "project_id = '5e87a92c5201f10c5b44d8aa'\n",
        "\n",
        "project = fw.get_project(project_id)"
>>>>>>> 5fc5debfbd604f08606712914633a4bce86ed569
      ],
      "execution_count": 0,
      "outputs": []
    },
    {
      "cell_type": "markdown",
      "metadata": {
        "id": "7PFbx2E2pFCO",
        "colab_type": "text"
      },
      "source": [
<<<<<<< HEAD
        "# Helper functions"
=======
        "## Helper functions"
>>>>>>> 5fc5debfbd604f08606712914633a4bce86ed569
      ]
    },
    {
      "cell_type": "code",
      "metadata": {
        "id": "8kKuI4rxpFCP",
        "colab_type": "code",
        "colab": {}
      },
      "source": [
<<<<<<< HEAD
        "def update_acquisition_timestamp(item):\n",
        "  \"\"\"Get the updated timestamp.\n",
        "\n",
        "  Args:\n",
        "        item (dict): Dictionary with the following required keys: 'timestamp', 'series_time', 'acq_id'\n",
        "        \n",
=======
        "def get_updated_timestamp(item):\n",
        "  \"\"\"Getting the updated timestamp\n",
        "\n",
        "  Args:\n",
        "        item (dict): Dictionary with the timestamp on UI and from the scan \n",
        "\n",
>>>>>>> 5fc5debfbd604f08606712914633a4bce86ed569
        "  Return:\n",
        "\n",
        "        (datetime): Updated Timestamp\n",
        "        \n",
        "  \"\"\"\n",
        "\n",
        "   correctTmstmp = modify_time(item['timestamp'], item['series_time'])\n",
<<<<<<< HEAD
        "   if correctTmstmp != item['timestamp']:\n",
        "         update_container_timestamp(item['acq_id'], correctTmstmp)  \n",
=======
        "   update_container_timestamp(item['acq_id'], correctTmstmp)  \n",
>>>>>>> 5fc5debfbd604f08606712914633a4bce86ed569
        "   return correctTmstmp\n",
        "\n",
        "\n",
        "def modify_time(timestamp, series_time):\n",
<<<<<<< HEAD
        "  \"\"\"Modify the timestamp.\n",
        "\n",
        "  Args:\n",
        "        timestamp (datetime): Timestamp \n",
        "        series_time (datetime): Reference Timestamp\n",
=======
        "  \"\"\"Modify the timestamp\n",
        "\n",
        "  Args:\n",
        "        timestamp (datetime): Timestamp from the UI\n",
        "        series_time (datetime): Timestamp from the scan\n",
>>>>>>> 5fc5debfbd604f08606712914633a4bce86ed569
        "\n",
        "  Return:\n",
        "\n",
        "        (datetime): Updated Timestamp\n",
        "        \n",
        "  \"\"\"\n",
<<<<<<< HEAD
        "\n",
        "      if (timestamp.hour != series_time.hour) or (timestamp.minute != series_time.minute) or (timestamp.second != series_time.second):\n",
        "        timestamp = timestamp.replace(hour=series_time.hour, minute=series_time.minute, second=series_time.second)\n",
        "      return timestamp\n",
        "\n",
        "\n",
        "def update_container_timestamp(acq_id, ts):\n",
        "   \"\"\"Update the acquisition container timestamp with `ts`. \n",
        "\n",
        "  Args:\n",
        "        acq_id (str) : Acquisition ID\n",
        "        ts (datetime) : Timestamp\n",
=======
        "    if timestamp.hour != series_time.hour:\n",
        "        timestamp = timestamp.replace(hour=series_time.hour)\n",
        "    \n",
        "    if timestamp.minute != series_time.minute:\n",
        "        timestamp = timestamp.replace(minute=series_time.minute)\n",
        "\n",
        "    if timestamp.second != series_time.second:\n",
        "        timestamp = timestamp.replace(second=series_time.second)\n",
        "\n",
        "    return timestamp\n",
        "\n",
        "\n",
        "def update_container_timestamp(acq_id, ts):\n",
        "   \"\"\"Update the acquisition label on the project container\n",
        "\n",
        "  Args:\n",
        "        acq_id (str) : Acquisition ID\n",
        "        ts (datetime) : Updated Timestamp\n",
>>>>>>> 5fc5debfbd604f08606712914633a4bce86ed569
        "        \n",
        "  \"\"\"\n",
        "  acq = fw.get_acquisition(acq_id)\n",
        "  acq.update({'timestamp': ts})"
      ],
      "execution_count": 0,
      "outputs": []
    },
    {
      "cell_type": "markdown",
      "metadata": {
        "id": "KsUQzqT3pFCU",
        "colab_type": "text"
      },
      "source": [
<<<<<<< HEAD
        "# Main script"
=======
        "## Main script"
>>>>>>> 5fc5debfbd604f08606712914633a4bce86ed569
      ]
    },
    {
      "cell_type": "code",
      "metadata": {
        "id": "7dSNsglcpFCY",
        "colab_type": "code",
        "colab": {}
      },
      "source": [
        "df = pd.DataFrame()\n",
        "\n",
        "for session in project.sessions.iter():\n",
        "    for acquisition in session.acquisitions.iter():\n",
<<<<<<< HEAD
        "      #reload is necessary to load the entire acquisition\n",
        "      acquisition = acquisition.reload()\n",
        "      for file in acquisition.files : \n",
        "        if file['type'] == 'dicom':\n",
        "          item = {\n",
        "            'series_number': file.info.get('SeriesNumber'),\n",
        "            'acq_label': acquisition.label,\n",
        "            'acq_id': acquisition.id, \n",
        "            'timestamp': acquisition.timestamp,\n",
        "            'series_time': datetime.datetime.strptime(file.info.get('SeriesTime'), '%H%M%S.%f'), \n",
        "          }    \n",
        "          item['updated_timestamp'] = get_updated_timestamp(item)\n",
        "            \n",
        "          # append to the table\n",
        "          df = df.append(item, ignore_index=True)\n"
=======
        "        acquisition = acquisition.reload()\n",
        "        for file in acquisition.files : \n",
        "          if file['type'] == 'dicom':\n",
        "            item = {\n",
        "              'series_number': file.info.get('SeriesNumber'),\n",
        "              'acq_label': acquisition.label,\n",
        "              'acq_id': acquisition.id, \n",
        "              'timestamp': acquisition.timestamp,\n",
        "              'series_time': datetime.datetime.strptime(file.info.get('SeriesTime'), '%H%M%S.%f'), \n",
        "            }    \n",
        "            item['updated_timestamp'] = get_updated_timestamp(item)\n",
        "             \n",
        "            # append to the table\n",
        "            df = df.append(item, ignore_index=True)\n"
>>>>>>> 5fc5debfbd604f08606712914633a4bce86ed569
      ],
      "execution_count": 0,
      "outputs": []
    },
    {
      "cell_type": "markdown",
<<<<<<< HEAD
      "metadata": {},
      "source": [
        "Here, we will get the acquistion container timestamp (`timestamp`) and the series timestamp (`series_time`) generated from the DICOM file. The `get_updated_timestamp` function will be call and return with the updated_timestamp."
      ]
    },
    {
      "cell_type": "markdown",
=======
>>>>>>> 5fc5debfbd604f08606712914633a4bce86ed569
      "metadata": {
        "id": "v2rZHJOn5-gc",
        "colab_type": "text"
      },
      "source": [
        "## Display Updated Acquisition Info\n"
      ]
    },
    {
      "cell_type": "code",
      "metadata": {
        "id": "97f6EHh00M-n",
        "colab_type": "code",
        "colab": {}
      },
      "source": [
        "# display all of the columns \n",
        "pd.options.display.max_columns = None\n",
        "\n",
        "display(df.head(50))"
      ],
      "execution_count": 0,
      "outputs": []
    }
  ]
}