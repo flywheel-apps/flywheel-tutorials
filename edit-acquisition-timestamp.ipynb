{
  "nbformat": 4,
  "nbformat_minor": 0,
  "metadata": {
    "kernelspec": {
      "display_name": "Python 3",
      "language": "python",
      "name": "python3"
    },
    "language_info": {
      "codemirror_mode": {
        "name": "ipython",
        "version": 3
      },
      "file_extension": ".py",
      "mimetype": "text/x-python",
      "name": "python",
      "nbconvert_exporter": "python",
      "pygments_lexer": "ipython3",
      "version": "3.7.6"
    },
    "colab": {
      "name": "edit_acquisition_timestamp.ipynb",
      "provenance": []
    }
  },
  "cells": [
    {
      "cell_type": "markdown",
      "metadata": {
        "id": "dDuyJAjKpFBy",
        "colab_type": "text"
      },
      "source": [
        "**Title**: Update Acquisition container timestamp (shown in UI) from Dicom Tag SeriesTime in Dicom file \n",
        "\n",
        "**Date**:  04-03-2020  \n",
        "\n",
        "**Description**:  \n",
        "This notebook can be used to update the Acquisition container timestamp (shown in UI) is not correct.  \n",
        "\n",
        "**Functions**: \n",
        "\n",
        "    1.   `get_updated_timestamp` : Get the updated timestamp\n",
        "    2.   `modify_time` : Comparing the timestamp shows on the Acquisition container and SeriesTime in Dicom file\n",
        "    3.  `update_container_timestamp` : Update the acquisition timestamp \n",
        "\n",
        "\n",
        "\n",
        "\n"
      ]
    },
    {
      "cell_type": "markdown",
      "metadata": {
        "id": "dF3r6oQypFBy",
        "colab_type": "text"
      },
      "source": [
        "# Install and import dependencies"
      ]
    },
    {
      "cell_type": "code",
      "metadata": {
        "id": "tnHysje2pFBz",
        "colab_type": "code",
        "colab": {}
      },
      "source": [
        "# Install specific packages required for this notebook\n",
        "!pip install flywheel-sdk pandas"
      ],
      "execution_count": 0,
      "outputs": []
    },
    {
      "cell_type": "code",
      "metadata": {
        "id": "VSRqCbbapFB3",
        "colab_type": "code",
        "colab": {}
      },
      "source": [
        "# Import packages\n",
        "from getpass import getpass\n",
        "import logging\n",
        "import os\n",
        "import datetime\n",
        "\n",
        "import pandas as pd\n",
        "import flywheel"
      ],
      "execution_count": 0,
      "outputs": []
    },
    {
      "cell_type": "code",
      "metadata": {
        "id": "vl-njZHWpFB6",
        "colab_type": "code",
        "colab": {}
      },
      "source": [
        "# Instantiate a logger\n",
        "logging.basicConfig(level=logging.INFO, format='%(asctime)s %(levelname)s %(message)s')\n",
        "log = logging.getLogger('root')"
      ],
      "execution_count": 0,
      "outputs": []
    },
    {
      "cell_type": "markdown",
      "metadata": {
        "id": "ESBJdNiJpFB9",
        "colab_type": "text"
      },
      "source": [
        "# Flywheel API Key and Client"
      ]
    },
    {
      "cell_type": "code",
      "metadata": {
        "id": "LWkEZ-JTpFB-",
        "colab_type": "code",
        "colab": {}
      },
      "source": [
        "API_KEY = getpass('Enter API_KEY here: ')"
      ],
      "execution_count": 0,
      "outputs": []
    },
    {
      "cell_type": "markdown",
      "metadata": {
        "id": "yl1SuWIdpFCB",
        "colab_type": "text"
      },
      "source": [
        "Instantiate the Flywheel API client"
      ]
    },
    {
      "cell_type": "code",
      "metadata": {
        "id": "yW3kAGFPpFCB",
        "colab_type": "code",
        "colab": {}
      },
      "source": [
        "fw = flywheel.Client(API_KEY or os.environ.get('FW_KEY'))"
      ],
      "execution_count": 0,
      "outputs": []
    },
    {
      "cell_type": "markdown",
      "metadata": {
        "id": "eav3GTHjpFCE",
        "colab_type": "text"
      },
      "source": [
        "Show Flywheel logging information"
      ]
    },
    {
      "cell_type": "code",
      "metadata": {
        "id": "0vk4MutVpFCF",
        "colab_type": "code",
        "colab": {}
      },
      "source": [
        "log.info('You are now logged in as %s to %s', fw.get_current_user()['email'], fw.get_config()['site']['api_url'])"
      ],
      "execution_count": 0,
      "outputs": []
    },
    {
      "cell_type": "markdown",
      "metadata": {
        "id": "ADS0ARESpFCI",
        "colab_type": "text"
      },
      "source": [
        "# Constants"
      ]
    },
    {
      "cell_type": "code",
      "metadata": {
        "id": "4-ufv-kEpFCJ",
        "colab_type": "code",
        "colab": {}
      },
      "source": [
        "\n",
        "PROJECT_LABEL = input('Enter your project label here: ')\n",
        "\n",
        "project = fw.projects.find_first(f'label={PROJECT_LABEL}')\n"
      ],
      "execution_count": 0,
      "outputs": []
    },
    {
      "cell_type": "markdown",
      "metadata": {
        "id": "7PFbx2E2pFCO",
        "colab_type": "text"
      },
      "source": [
        "# Helper functions"
      ]
    },
    {
      "cell_type": "code",
      "metadata": {
        "id": "8kKuI4rxpFCP",
        "colab_type": "code",
        "colab": {}
      },
      "source": [
        "def update_acquisition_timestamp(item):\n",
        "  \"\"\"Get and modify the updated timestamp., if there is any discrepancy between the two timestamps.\n",
        "\n",
        "  Args:\n",
        "        item (dict): Dictionary with the following required keys: 'timestamp', 'series_time', 'acq_id'\n",
        "        \n",
        "  Return:\n",
        "\n",
        "        (datetime): Updated Timestamp\n",
        "        \n",
        "  \"\"\"\n",
        "\n",
        "   correctTmstmp = modify_time(item['timestamp'], item['series_time'])\n",
        "   #only update the container if there is any changes\n",
        "   if correctTmstmp != item['timestamp']:\n",
        "         update_container_timestamp(item['acq_id'], correctTmstmp)  \n",
        "   return correctTmstmp\n",
        "\n",
        "\n",
        "def modify_time(timestamp, series_time):\n",
        "  \"\"\"Modify the timestamp.\n",
        "\n",
        "  Args:\n",
        "        timestamp (datetime): Timestamp \n",
        "        series_time (datetime): Reference Timestamp\n",
        "\n",
        "  Return:\n",
        "\n",
        "        (datetime): Updated Timestamp\n",
        "        \n",
        "  \"\"\"\n",
        "\n",
        "      if (timestamp.hour != series_time.hour) or (timestamp.minute != series_time.minute) or (timestamp.second != series_time.second):\n",
        "        timestamp = timestamp.replace(hour=series_time.hour, minute=series_time.minute, second=series_time.second)\n",
        "      return timestamp\n",
        "\n",
        "\n",
        "def update_container_timestamp(acq_id, ts):\n",
        "   \"\"\"Update the acquisition container timestamp with `ts`. \n",
        "\n",
        "  Args:\n",
        "        acq_id (str) : Acquisition ID\n",
        "        ts (datetime) : Timestamp\n",
        "        \n",
        "  \"\"\"\n",
        "  acq = fw.get_acquisition(acq_id)\n",
        "  acq.update({'timestamp': ts})"
      ],
      "execution_count": 0,
      "outputs": []
    },
    {
      "cell_type": "markdown",
      "metadata": {
        "id": "KsUQzqT3pFCU",
        "colab_type": "text"
      },
      "source": [
        "# Main script"
      ]
    },
    {
      "cell_type": "code",
      "metadata": {
        "id": "7dSNsglcpFCY",
        "colab_type": "code",
        "colab": {}
      },
      "source": [
        "df = pd.DataFrame()\n",
        "\n",
        "for session in project.sessions.iter():\n",
        "    for acquisition in session.acquisitions.iter():\n",
        "      #reload is necessary to load the entire acquisition\n",
        "      acquisition = acquisition.reload()\n",
        "      for file in acquisition.files : \n",
        "        if file['type'] == 'dicom':\n",
        "          item = {\n",
        "            'series_number': file.info.get('SeriesNumber'),\n",
        "            'acq_label': acquisition.label,\n",
        "            'acq_id': acquisition.id, \n",
        "            'timestamp': acquisition.timestamp,\n",
        "            'series_time': datetime.datetime.strptime(file.info.get('SeriesTime'), '%H%M%S.%f'), \n",
        "          }    \n",
        "          item['updated_timestamp'] = get_updated_timestamp(item)\n",
        "            \n",
        "          # append to the table\n",
        "          df = df.append(item, ignore_index=True)\n"
      ],
      "execution_count": 0,
      "outputs": []
    },
    {
      "cell_type": "markdown",
      "metadata": {},
      "source": [
        "Here, we will get the acquistion container timestamp (`timestamp`) and the series timestamp (`series_time`) generated from the DICOM file. The `get_updated_timestamp` function will be call and return with the updated_timestamp."
      ]
    },
    {
      "cell_type": "markdown",
      "metadata": {
        "id": "v2rZHJOn5-gc",
        "colab_type": "text"
      },
      "source": [
        "## Display Updated Acquisition Info\n"
      ]
    },
    {
      "cell_type": "code",
      "metadata": {
        "id": "97f6EHh00M-n",
        "colab_type": "code",
        "colab": {}
      },
      "source": [
        "# display all of the columns \n",
        "pd.options.display.max_columns = None\n",
        "\n",
        "display(df.head(50))"
      ],
      "execution_count": 0,
      "outputs": []
    }
  ]
}