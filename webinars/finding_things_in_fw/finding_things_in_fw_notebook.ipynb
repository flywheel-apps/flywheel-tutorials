{
 "cells": [
  {
   "cell_type": "markdown",
   "metadata": {},
   "source": [
    "# **Title**: Finding Your Stuff in Flywheel with the Flywheel Python SDK - Part 1\n",
    "## **Date**:  May 12th, 2020\n",
    "### **Description**:  \n",
    "* This notebook is intended to accompany a two-part webinar series on finding and accessing containers in Flywheel using the Flywheel Python SDK.\n",
    "* The code herein will not change any metadata in Flywheel - only \"read\" actions will be performed.\n",
    "\n",
    "### **Requirements**:\n",
    "    1. Read access to a Flywheel project that contains a DICOM acquisition file\n",
    "    2. A Flywheel API key\n",
    "    3. An environment in which to execute the notebook (Binder/Colab/JupyterLab/etc.)    "
   ]
  },
  {
   "cell_type": "markdown",
   "metadata": {},
   "source": [
    "---"
   ]
  },
  {
   "cell_type": "markdown",
   "metadata": {},
   "source": [
    "# 1. Install and import dependencies"
   ]
  },
  {
   "cell_type": "code",
   "execution_count": 2,
   "metadata": {},
   "outputs": [
    {
     "name": "stdout",
     "output_type": "stream",
     "text": [
      "Requirement already satisfied: flywheel-sdk in /Users/kalebfischer/.local/share/virtualenvs/flywheel-tutorials-uwaFS-T5/lib/python3.8/site-packages (11.3.3)\n",
      "Requirement already satisfied: python-dateutil in /Users/kalebfischer/.local/share/virtualenvs/flywheel-tutorials-uwaFS-T5/lib/python3.8/site-packages (from flywheel-sdk) (2.8.1)\n",
      "Requirement already satisfied: urllib3>=1.15 in /Users/kalebfischer/.local/share/virtualenvs/flywheel-tutorials-uwaFS-T5/lib/python3.8/site-packages (from flywheel-sdk) (1.25.9)\n",
      "Requirement already satisfied: six>=1.10 in /Users/kalebfischer/.local/share/virtualenvs/flywheel-tutorials-uwaFS-T5/lib/python3.8/site-packages (from flywheel-sdk) (1.14.0)\n",
      "Requirement already satisfied: requests-toolbelt in /Users/kalebfischer/.local/share/virtualenvs/flywheel-tutorials-uwaFS-T5/lib/python3.8/site-packages (from flywheel-sdk) (0.9.1)\n",
      "Requirement already satisfied: certifi in /Users/kalebfischer/.local/share/virtualenvs/flywheel-tutorials-uwaFS-T5/lib/python3.8/site-packages (from flywheel-sdk) (2020.4.5.1)\n",
      "Requirement already satisfied: requests>=2.18.4 in /Users/kalebfischer/.local/share/virtualenvs/flywheel-tutorials-uwaFS-T5/lib/python3.8/site-packages (from flywheel-sdk) (2.23.0)\n",
      "Requirement already satisfied: idna<3,>=2.5 in /Users/kalebfischer/.local/share/virtualenvs/flywheel-tutorials-uwaFS-T5/lib/python3.8/site-packages (from requests>=2.18.4->flywheel-sdk) (2.9)\n",
      "Requirement already satisfied: chardet<4,>=3.0.2 in /Users/kalebfischer/.local/share/virtualenvs/flywheel-tutorials-uwaFS-T5/lib/python3.8/site-packages (from requests>=2.18.4->flywheel-sdk) (3.0.4)\n"
     ]
    }
   ],
   "source": [
    "# Install specific packages required for this notebook\n",
    "!pip install flywheel-sdk"
   ]
  },
  {
   "cell_type": "markdown",
   "metadata": {},
   "source": [
    "Resource: [Flywheel Python SDK Documentation](https://flywheel-io.gitlab.io/product/backend/sdk/branches/master/python/getting_started.html)"
   ]
  },
  {
   "cell_type": "code",
   "execution_count": 3,
   "metadata": {},
   "outputs": [],
   "source": [
    "# Import packages\n",
    "import logging\n",
    "import os\n",
    "import pprint\n",
    "import re\n",
    "from getpass import getpass\n",
    "from IPython.display import Markdown as md\n",
    "from IPython.display import display, HTML\n",
    "\n",
    "import flywheel"
   ]
  },
  {
   "cell_type": "code",
   "execution_count": 4,
   "metadata": {},
   "outputs": [],
   "source": [
    "# Instantiate a logger\n",
    "logging.basicConfig(level=logging.INFO, format='%(asctime)s %(levelname)s %(message)s')\n",
    "log = logging.getLogger('root')"
   ]
  },
  {
   "cell_type": "markdown",
   "metadata": {},
   "source": [
    "---"
   ]
  },
  {
   "cell_type": "markdown",
   "metadata": {},
   "source": [
    "# 2. Flywheel client initialization with an API key\n",
    "\n",
    "Any time you use the Flywheel SDK, you will need to initialize a client with your API key. \n",
    "\n",
    "To find your API key, first click on the circle in the top right corner of Flywheel, then click on `Profile` as shown below: \n",
    "\n",
    "![profile_location](assets/profile_location.png)\n",
    "\n",
    "On your profile page, your API key will be located under the `Your API Key` as below:\n",
    "\n",
    "![api_key_location](assets/api_key_location.png)\n",
    "\n",
    "Copy this key, run the cell below, paste the key into the `Enter API_KEY here:` box and press return. Note: you must include the full cell in `Your API Key`. For example, `ss.ce.flywheel.io:123456ABCDEF789zyxw`.\n",
    "\n",
    "*TIP*: While you can initialize your client as `fw` with `fw = flywheel.Client('<your api key>')`, it is essential to obscure credentials from your code, especially when sharing with others/commiting to a shared repository.\n",
    "\n",
    "**WARNING: Do NOT share your API key with anyone for any reason - it is the same as sharing your password and constitutes a HIPAA violation.**"
   ]
  },
  {
   "cell_type": "code",
   "execution_count": 6,
   "metadata": {},
   "outputs": [
    {
     "name": "stdin",
     "output_type": "stream",
     "text": [
      "Enter API_KEY here:  ····································\n"
     ]
    },
    {
     "name": "stderr",
     "output_type": "stream",
     "text": [
      "2020-05-11 14:38:17,631 INFO You are now logged in as kalebfischer@flywheel.io to https://ss.ce.flywheel.io:443/api\n"
     ]
    }
   ],
   "source": [
    "# Password prompt (good security practice)\n",
    "API_KEY = getpass('Enter API_KEY here: ')\n",
    "\n",
    "# Initialize the client\n",
    "fw = flywheel.Client(API_KEY or os.environ.get('FW_KEY'))\n",
    "\n",
    "# Clean up the API_KEY\n",
    "del API_KEY\n",
    "\n",
    "# Log information about the user and site\n",
    "log.info('You are now logged in as %s to %s', fw.get_current_user()['email'], fw.get_config()['site']['api_url'])"
   ]
  },
  {
   "cell_type": "markdown",
   "metadata": {},
   "source": [
    "--------"
   ]
  },
  {
   "cell_type": "markdown",
   "metadata": {},
   "source": [
    "# 3. Using `lookup` to find items in Flywheel\n",
    "\n",
    "If you know the group **id** and container (project/subject/session/acquisition) labels, `fw.lookup()` can be used to return container and file objects via the SDK. In order to use lookup, we need to know how to format the **resolver path**, the Flywheel equivalent to a local file path.\n",
    "\n",
    "Let's look at how to locate the components of a resolver path and some examples!"
   ]
  },
  {
   "cell_type": "markdown",
   "metadata": {},
   "source": [
    "*HINT*: Data in Flywheel is organized into a hierarchy of containers. Resource: [Flywheel Hierarchy](https://docs.flywheel.io/hc/en-us/articles/360008411054-Getting-Started-Flywheel-Hierarchy)"
   ]
  },
  {
   "cell_type": "markdown",
   "metadata": {},
   "source": [
    "## Locating group id and project label\n",
    "\n",
    "It is important to distinguish between group ID, group label, and project label. This is illustrated in the image below:\n",
    "\n",
    "![group_id_label](assets/group_id_label.png)\n",
    "\n",
    "\n",
    "In the above image:\n",
    "* group id is `scien`\n",
    "* group label is `Scientific Solutions`\n",
    "* project label is `MIDAS_veggies`\n",
    "\n",
    "To retrieve the project via lookup, we can use the group id and project label, for example:\n",
    "\n",
    "```python\n",
    "fw.lookup('scien/MIDAS_veggies')\n",
    "```"
   ]
  },
  {
   "cell_type": "markdown",
   "metadata": {},
   "source": [
    "## Locating subject, session, and acquisition labels\n",
    "\n",
    "![labels_file_name](assets/labels_file_name.png)\n",
    "\n",
    "To retrieve subject `dragon_fruit` via lookup:\n",
    "\n",
    "```python\n",
    "fw.lookup('scien/MIDAS_veggies/dragon_fruit')\n",
    "```\n",
    "\n",
    "To retrieve subject `dragon_fruit`'s `session_1` via lookup:\n",
    "\n",
    "```python\n",
    "fw.lookup('scien/MIDAS_veggies/dragon_fruit/session_1')\n",
    "```\n",
    "\n",
    "To retrieve `acq1` from `dragon_fruit`'s `session_1` via lookup:\n",
    "\n",
    "```python\n",
    "fw.lookup('scien/MIDAS_veggies/dragon_fruit/session_1/acq1')\n",
    "```"
   ]
  },
  {
   "cell_type": "markdown",
   "metadata": {},
   "source": [
    "## Locating file name\n",
    "\n",
    "To retrieve file `IM_0001` from `acq1` we need to add `files` to the path as below:\n",
    "\n",
    "```python\n",
    "fw.lookup('scien/MIDAS_veggies/dragon_fruit/session_1/acq1/files/IM_0001')\n",
    "```\n",
    "\n",
    "Files for any container can be retrieved by adding `/files/<your file name here>` to the container path."
   ]
  },
  {
   "cell_type": "markdown",
   "metadata": {},
   "source": [
    "## Putting it together\n",
    "\n",
    "Now that we know how to format a **resolver path**, we create a function that wraps this **resolver path** and the connect to Flywheel to retrieve information about a container's label, type, and id."
   ]
  },
  {
   "cell_type": "code",
   "execution_count": null,
   "metadata": {},
   "outputs": [],
   "source": [
    "def lookup_demo(fw, resolver_path, log):\n",
    "    \"\"\" Lookup a container at the specified resolver path using Flywheel Client\n",
    "    \n",
    "    Args:\n",
    "        fw (flywheel.Client): an instance of the Flywheel client\n",
    "        resolver_path (str): the resolver path to a Flywheel container\n",
    "        log (logging.Logger): the logger to use for storing output\n",
    "        \n",
    "    Returns:\n",
    "        A Flywheel container object (the result of fw.lookup(resolver_path)\n",
    "\n",
    "    \"\"\"\n",
    "    log.info(f'resolver_path:\\t {resolver_path}')\n",
    "    try:\n",
    "        container = fw.lookup(resolver_path)\n",
    "        label = container.get('label') or container.get('name')\n",
    "        print_str = (f'{label} is a {container.container_type} with id {container.id}\\n')\n",
    "        log.info(print_str)\n",
    "        return container\n",
    "    \n",
    "    except flywheel.rest.ApiException as e:\n",
    "        log.error(\n",
    "            'An exception was raised when trying to resolve the container at resolver path %s', \n",
    "            resolver_path,\n",
    "            exc_info=True\n",
    "        )\n",
    "        return None"
   ]
  },
  {
   "cell_type": "markdown",
   "metadata": {},
   "source": [
    "## TRY: \n",
    "In the code cells below, substitute the inputs for group id, container labels (project, subject, session, & acquisition), and file name variables with those from your data."
   ]
  },
  {
   "cell_type": "code",
   "execution_count": null,
   "metadata": {},
   "outputs": [],
   "source": [
    "# Set group id and container labels (add your labels within the single quotes)\n",
    "group_id = 'scien'\n",
    "project_label = 'MIDAS_veggies'\n",
    "subject_label = 'dragon_fruit'\n",
    "session_label = 'session_1'\n",
    "acquisition_label = 'acq1'\n",
    "file_name = 'IM_0001'"
   ]
  },
  {
   "cell_type": "code",
   "execution_count": null,
   "metadata": {},
   "outputs": [],
   "source": [
    "# Lookup group\n",
    "resolver_path = group_id\n",
    "group = lookup_demo(fw, resolver_path, log)"
   ]
  },
  {
   "cell_type": "code",
   "execution_count": null,
   "metadata": {},
   "outputs": [],
   "source": [
    "# Lookup project\n",
    "resolver_path = '/'.join([group_id, project_label])\n",
    "project = lookup_demo(fw, resolver_path, log)"
   ]
  },
  {
   "cell_type": "code",
   "execution_count": null,
   "metadata": {},
   "outputs": [],
   "source": [
    "# Lookup subject\n",
    "resolver_path = '/'.join([group_id, project_label, subject_label])\n",
    "subject = lookup_demo(fw, resolver_path, log)"
   ]
  },
  {
   "cell_type": "code",
   "execution_count": null,
   "metadata": {},
   "outputs": [],
   "source": [
    "# Lookup session\n",
    "resolver_path = '/'.join([group_id, project_label, subject_label, session_label])\n",
    "session = lookup_demo(fw, resolver_path, log)"
   ]
  },
  {
   "cell_type": "code",
   "execution_count": null,
   "metadata": {},
   "outputs": [],
   "source": [
    "# Lookup acquisition\n",
    "resolver_path = '/'.join([group_id, project_label, subject_label, session_label, acquisition_label])\n",
    "acquisition = lookup_demo(fw, resolver_path, log)"
   ]
  },
  {
   "cell_type": "code",
   "execution_count": null,
   "metadata": {},
   "outputs": [],
   "source": [
    "# Lookup acquisition file \n",
    "resolver_path = '/'.join([group_id, project_label, subject_label, session_label, acquisition_label, 'files', file_name])\n",
    "acquisition_file = lookup_demo(fw, resolver_path, log)"
   ]
  },
  {
   "cell_type": "code",
   "execution_count": null,
   "metadata": {},
   "outputs": [],
   "source": [
    "# Lookup non-existent resolver - we expect a traceback here since it does not exist!\n",
    "resolver_path = 'group/does/not/exist'\n",
    "none_result = lookup_demo(fw, resolver_path, log)"
   ]
  },
  {
   "cell_type": "markdown",
   "metadata": {},
   "source": [
    "##### Pitstop: Questions? Comments?"
   ]
  },
  {
   "cell_type": "markdown",
   "metadata": {},
   "source": [
    "----"
   ]
  },
  {
   "cell_type": "markdown",
   "metadata": {},
   "source": [
    "# 4. Using `get` to retrieve containers\n",
    "\n",
    "`fw.lookup()` works well when the resolver path is uniquely descriptive for the file/container in question. However, if you have multiple sessions/acquisitions/files with the same labels/resolver paths, it can be time consuming. Typically, `get` is faster than `lookup`, especially for large projects. Even more so, `get_<container type>` (for example, `get_session`) functions are typically faster than `get` and can be used when you know the type of container you are trying to retrieve."
   ]
  },
  {
   "cell_type": "markdown",
   "metadata": {},
   "source": [
    "## Locating container id to pass to `get` methods\n",
    "\n",
    "In order to retrieve a container via `get`, we need to obtain its **id**, a value that is assigned by Flywheel to uniquely identify containers."
   ]
  },
  {
   "cell_type": "markdown",
   "metadata": {},
   "source": [
    "### Project id and session id\n",
    "\n",
    "Within sessions view, the URL will contain project id to the right of `projects/` and session id to the right of `sessions/`\n",
    "\n",
    "![project_session_id](assets/project_session_id.png)\n",
    "\n",
    "In this example, we could use either of the following methods to retrieve the project container:\n",
    "\n",
    "``` python\n",
    "fw.get('5e90d7a5a3803400a8e63b13')\n",
    "fw.get_project('5e90d7a5a3803400a8e63b13')\n",
    "```\n",
    "\n",
    "And to retrieve the session container:\n",
    "\n",
    "``` python\n",
    "fw.get('5e948782a38034010ce63ac7')\n",
    "fw.get_session('5e948782a38034010ce63ac7')\n",
    "```"
   ]
  },
  {
   "cell_type": "markdown",
   "metadata": {},
   "source": [
    "### Subject id\n",
    "\n",
    "To obtain the subject id from Flywheel, click on the person icon to enter the subject view, then click on the row with the subject label. The URL will now have `subjects/`, followed by the subject id:\n",
    "\n",
    "![subject_id](assets/subject_id.png)\n",
    "\n",
    "To retrieve the subject container in this example, we would use either of the following:\n",
    "\n",
    "```python\n",
    "fw.get('5e948782a38034010ce63ac6')\n",
    "fw.get_subject('5e948782a38034010ce63ac6')\n",
    "```"
   ]
  },
  {
   "cell_type": "markdown",
   "metadata": {},
   "source": [
    "### Acquisition id\n",
    "\n",
    "To obtain the acquisition id from Flywheel, we take the following three steps:\n",
    "\n",
    "1. On an acquisition, right-click + \"Inspect\" - an inspection window is displayed (as shown in Step 3):\n",
    "\n",
    "    ![inspect](assets/inspect.png)\n",
    "    \n",
    "\n",
    "2. Click the \"kebab\" menu to the right of the acquisition label, then select information:\n",
    "\n",
    "    ![kebab_info](assets/kebab_info.png)\n",
    "    \n",
    "    \n",
    "3. Select the \"Network\" tab within the inspection window and locate acquisition id:\n",
    "    \n",
    "    ![acquisition_id_network](assets/acquisition_id_network.png)\n",
    "    \n",
    "    \n",
    "To retrieve the acquisition container in this example, we would use either of the following methods:\n",
    "\n",
    "```python\n",
    "fw.get('5e948799a380340100e63acb')\n",
    "fw.get_acquisition('5e948799a380340100e63acb')\n",
    "```"
   ]
  },
  {
   "cell_type": "markdown",
   "metadata": {},
   "source": [
    "### Getting a file\n",
    "\n",
    "Files cannot be obtained via `get` methods. Instead, you must get the parent container and use the `get_file` method to return the file object.\n",
    "\n",
    "To illustrate, the following code would be used to retrieve acq1's IM_0001 file:\n",
    "\n",
    "```python\n",
    "acq = fw.get_acquisition('5e948799a380340100e63acb')\n",
    "\n",
    "acq.get_file('IM_0001')\n",
    "```"
   ]
  },
  {
   "cell_type": "markdown",
   "metadata": {},
   "source": [
    "### TIP: Python object attributes\n",
    "\n",
    "* When examining a python object, it is useful to examine its attributes with `dir`\n",
    "\n",
    "```python\n",
    "acq = fw.get_acquisition('5e948799a380340100e63acb')\n",
    "print(dir(acq))\n",
    "```\n",
    "    \n",
    "* Notebooks will display information about a function/method when followed by a `?`; for example, `dir?`\n",
    "    * You can also print the docstring in other IDEs with `print(dir.__doc__)`"
   ]
  },
  {
   "cell_type": "markdown",
   "metadata": {},
   "source": [
    "## Putting it together\n",
    "\n",
    "Now that we know how to find a container id, we can use this to retrieve information about a container's label, type, and id."
   ]
  },
  {
   "cell_type": "markdown",
   "metadata": {},
   "source": [
    "## TRY: \n",
    "In the code cells below, substitute the input for container id variable with those from your data."
   ]
  },
  {
   "cell_type": "code",
   "execution_count": null,
   "metadata": {},
   "outputs": [],
   "source": [
    "# Add your container id between the single quotes\n",
    "container_id = '5e948799a380340100e63acb'\n",
    "container = fw.get(container_id)\n",
    "print(f'{container.label} is a {container.container_type} with id: {container.id}\\n')"
   ]
  },
  {
   "cell_type": "code",
   "execution_count": null,
   "metadata": {},
   "outputs": [],
   "source": [
    "# What attributes are available?\n",
    "print('dir(container):\\n')\n",
    "pprint.pprint(dir(container))\n",
    "print('\\n')"
   ]
  },
  {
   "cell_type": "code",
   "execution_count": null,
   "metadata": {},
   "outputs": [],
   "source": [
    "# Print out the container JSON\n",
    "pprint.pprint(container.to_dict())"
   ]
  },
  {
   "cell_type": "markdown",
   "metadata": {},
   "source": [
    "##### Pitstop: Questions? Comments?"
   ]
  },
  {
   "cell_type": "markdown",
   "metadata": {},
   "source": [
    "---"
   ]
  },
  {
   "cell_type": "markdown",
   "metadata": {},
   "source": [
    "# 5. Generate the URL for a project, subject, or session"
   ]
  },
  {
   "cell_type": "code",
   "execution_count": 11,
   "metadata": {},
   "outputs": [],
   "source": [
    "def get_url_prefix(client_config_site_api_url):\n",
    "    \"\"\"Removes /api and port (i.e., :443) from client_config_site_api_url.\n",
    "    \n",
    "    Args:\n",
    "        client_config_site_api_url (str): the value for client.get_config().site.api_url\n",
    "\n",
    "    Returns:\n",
    "        return_prefix (str): the url without /api or port information\n",
    "        \n",
    "    \"\"\"\n",
    "    remove_regex = r'(:[\\d]+)?/api'\n",
    "    return_prefix = re.sub(remove_regex, '', client_config_site_api_url)\n",
    "    \n",
    "    return return_prefix\n",
    "\n",
    "\n",
    "def create_container_link(fw, container):\n",
    "    \"\"\"Create a link to a specified container in Flywheel.\n",
    "    \n",
    "    Args:\n",
    "        fw (flywheel.Client): an instance of the Flywheel client\n",
    "        container (str): a Flywheel container object\n",
    "        \n",
    "    Returns:\n",
    "        A URL link to the Flywheel container\n",
    "    \n",
    "    \"\"\"\n",
    "    api_url = fw.get_config().site.api_url\n",
    "    prefix = get_url_prefix(api_url)\n",
    "    \n",
    "    if container.container_type == 'project':\n",
    "        return_url = '/'.join([prefix, '#', 'projects', container.id])\n",
    "        \n",
    "    elif container.container_type == 'session':\n",
    "        return_url = '/'.join([prefix, '#', 'projects', container.project, 'sessions', container.id])\n",
    "        \n",
    "    elif container.container_type == 'subject':\n",
    "        return_url = '/'.join([prefix, '#', 'projects', container.project, 'subjects', container.id])\n",
    "        \n",
    "    else:\n",
    "        log.error('Link creation is not supported for %s containers', container.container_type)\n",
    "        return_url = None\n",
    "        \n",
    "    return return_url\n",
    "\n",
    "\n",
    "def display_link(link_address, link_description):\n",
    "    \"\"\"Formats HTML to display a link to link_address with link_description\"\"\"\n",
    "    link_t = f'<a href=\\'{link_address}\\'> {link_description} </a>'\n",
    "    html = HTML(link_t)\n",
    "    display(html)"
   ]
  },
  {
   "cell_type": "code",
   "execution_count": 12,
   "metadata": {},
   "outputs": [
    {
     "data": {
      "text/html": [
       "<a href='https://ss.ce.flywheel.io/#/projects/5e90d7a5a3803400a8e63b13'> Project Link </a>"
      ],
      "text/plain": [
       "<IPython.core.display.HTML object>"
      ]
     },
     "metadata": {},
     "output_type": "display_data"
    }
   ],
   "source": [
    "# Retrieve a project container link\n",
    "project = fw.get_project('5e90d7a5a3803400a8e63b13')\n",
    "project_link = create_container_link(fw, project)\n",
    "display_link(project_link, 'Project Link')"
   ]
  },
  {
   "cell_type": "code",
   "execution_count": null,
   "metadata": {},
   "outputs": [],
   "source": [
    "# Retrieve a subject container link\n",
    "subject = fw.get_subject('5e948782a38034010ce63ac6')\n",
    "subject_link = create_container_link(fw, subject)\n",
    "display_link(subject_link, 'Subject Link')"
   ]
  },
  {
   "cell_type": "code",
   "execution_count": 15,
   "metadata": {},
   "outputs": [
    {
     "data": {
      "text/html": [
       "<a href='https://ss.ce.flywheel.io/#/projects/5e90d7a5a3803400a8e63b13/sessions/5e948782a38034010ce63ac7'> Session Link </a>"
      ],
      "text/plain": [
       "<IPython.core.display.HTML object>"
      ]
     },
     "metadata": {},
     "output_type": "display_data"
    }
   ],
   "source": [
    "# Retrieve a session container link\n",
    "session = fw.get_session('5e948782a38034010ce63ac7')\n",
    "session_link = create_container_link(fw, session)\n",
    "subject_link = create_container_link(fw, subject)\n",
    "display_link(session_link, 'Session Link')"
   ]
  },
  {
   "cell_type": "markdown",
   "metadata": {},
   "source": [
    "##### Pitstop: Questions? Comments?"
   ]
  },
  {
   "cell_type": "markdown",
   "metadata": {},
   "source": [
    "---"
   ]
  },
  {
   "cell_type": "markdown",
   "metadata": {},
   "source": [
    "# 6. Constructing advanced search queries\n",
    "Advanced Search streamlines searching for files/containers that meet search criteria at multiple levels of the container hierarchy. \n",
    "\n",
    "## Query Interface\n",
    "![adv_search_query](assets/adv_search_query.png)\n",
    "\n",
    "\n",
    "## Query Results\n",
    "![adv_search_results](assets/adv_search_results.png)\n",
    "\n",
    "## Features\n",
    "* suggestions for field(s) and value(s)\n",
    "* search terms can be combined with nested AND/OR logic\n",
    "* variety of comparators available:\n",
    "    * IS/IS NOT\n",
    "    * CONTAINS/DOES NOT CONTAIN\n",
    "    * EXISTS/DOES NOT EXIST\n",
    "* supports:\n",
    "    * Sessions\n",
    "    * Acquisitions\n",
    "    * Files\n",
    "    * Analyses\n",
    "* all data option for site admins\n",
    "\n",
    "## Limitations\n",
    "* metadata must first be indexed in order to appear in advanced search - depending on site scale and rate of upload, this may not be immediate\n",
    "* results are not paginated, so advanced search is not suited for locating all files meeting general criteria (i.e. all files of type DICOM)\n",
    "\n",
    "## Code Example\n",
    "To run a query formatted with the UI tool:\n",
    "\n",
    "```python\n",
    "query = 'file.type = dicom AND subject.label = dragon_fruit'\n",
    "fw.search({'return_type': 'acquisition', 'structured_query': query})\n",
    "```\n",
    "\n"
   ]
  },
  {
   "cell_type": "code",
   "execution_count": 13,
   "metadata": {},
   "outputs": [
    {
     "data": {
      "text/html": [
       "<a href='https://ss.ce.flywheel.io/#/search/advanced'> Advanced Search Link </a>"
      ],
      "text/plain": [
       "<IPython.core.display.HTML object>"
      ]
     },
     "metadata": {},
     "output_type": "display_data"
    }
   ],
   "source": [
    "# Get advanced search link from client\n",
    "api_url = fw.get_config().site.api_url\n",
    "prefix = get_url_prefix(api_url)\n",
    "advanced_search_link = prefix + '/#/search/advanced'\n",
    "display_link(advanced_search_link, 'Advanced Search Link')"
   ]
  },
  {
   "cell_type": "markdown",
   "metadata": {},
   "source": [
    "## TRY:\n",
    "Format your search query in the UI by following the link above, copy-paste to set `query` equal to the search string obtained from the UI in the cell below:"
   ]
  },
  {
   "cell_type": "code",
   "execution_count": 21,
   "metadata": {},
   "outputs": [
    {
     "data": {
      "text/plain": [
       "[{'acquisition': None,\n",
       "  'analysis': None,\n",
       "  'collection': None,\n",
       "  'file': {'classification': {},\n",
       "           'created': datetime.datetime(2020, 4, 23, 14, 44, 21, 747000, tzinfo=tzutc()),\n",
       "           'name': 'IM_0001',\n",
       "           'size': 96454778,\n",
       "           'type': 'dicom'},\n",
       "  'group': {'id': 'scien', 'label': 'Scientific Solutions'},\n",
       "  'parent': {'analyses': None,\n",
       "             'collections': None,\n",
       "             'created': None,\n",
       "             'files': None,\n",
       "             'id': '5ea1a9c02971c8017cf876c5',\n",
       "             'info': None,\n",
       "             'info_exists': None,\n",
       "             'label': None,\n",
       "             'modified': None,\n",
       "             'notes': None,\n",
       "             'parents': None,\n",
       "             'permissions': None,\n",
       "             'revision': None,\n",
       "             'session': None,\n",
       "             'tags': None,\n",
       "             'timestamp': None,\n",
       "             'timezone': None,\n",
       "             'uid': None},\n",
       "  'permissions': [{'access': 'admin', 'id': 'michaelperry@flywheel.io'},\n",
       "                  {'access': 'admin', 'id': 'sinaaslan@flywheel.io'},\n",
       "                  {'access': 'admin', 'id': 'joshuajacobs@flywheel.io'},\n",
       "                  {'access': 'admin', 'id': 'kalebfischer@flywheel.io'},\n",
       "                  {'access': 'admin', 'id': 'andyworth@flywheel.io'},\n",
       "                  {'access': 'admin', 'id': 'KalebFischer@flywheel.io'},\n",
       "                  {'access': 'admin', 'id': 'davidparker@flywheel.io'},\n",
       "                  {'access': 'admin', 'id': 'michaelburling@flywheel.io'},\n",
       "                  {'access': 'admin', 'id': 'nicolaspannetier@flywheel.io'},\n",
       "                  {'access': 'ro', 'id': 'NicolasPannetier@flywheel.io'},\n",
       "                  {'access': 'admin', 'id': 'maggiemahan@flywheel.io'},\n",
       "                  {'access': 'admin', 'id': 'harshakethineni@flywheel.io'},\n",
       "                  {'access': 'ro', 'id': 'jodyzeitler@flywheel.io'}],\n",
       "  'project': {'id': '5df7c16cf999360023e1a9dd', 'label': 'Dumpster'},\n",
       "  'return_type': 'file',\n",
       "  'session': {'created': datetime.datetime(2020, 4, 23, 14, 44, 16, 285000, tzinfo=tzutc()),\n",
       "              'id': '5ea1a9c02971c8017cf876c2',\n",
       "              'label': 'dragon_fruit',\n",
       "              'timestamp': datetime.datetime(2020, 4, 13, 15, 38, tzinfo=tzutc())},\n",
       "  'subject': {'code': 'dragon_fruit'}},\n",
       " {'acquisition': None,\n",
       "  'analysis': None,\n",
       "  'collection': None,\n",
       "  'file': {'classification': {'Custom': []},\n",
       "           'created': datetime.datetime(2020, 4, 13, 15, 44, 48, 360000, tzinfo=tzutc()),\n",
       "           'name': 'IM_0001',\n",
       "           'size': 96454778,\n",
       "           'type': 'dicom'},\n",
       "  'group': {'id': 'scien', 'label': 'Scientific Solutions'},\n",
       "  'parent': {'analyses': None,\n",
       "             'collections': None,\n",
       "             'created': None,\n",
       "             'files': None,\n",
       "             'id': '5e948799a380340100e63acb',\n",
       "             'info': None,\n",
       "             'info_exists': None,\n",
       "             'label': None,\n",
       "             'modified': None,\n",
       "             'notes': None,\n",
       "             'parents': None,\n",
       "             'permissions': None,\n",
       "             'revision': None,\n",
       "             'session': None,\n",
       "             'tags': None,\n",
       "             'timestamp': None,\n",
       "             'timezone': None,\n",
       "             'uid': None},\n",
       "  'permissions': [{'access': 'admin', 'id': 'kalebfischer@flywheel.io'},\n",
       "                  {'access': 'admin', 'id': 'davidparker@flywheel.io'},\n",
       "                  {'access': 'admin', 'id': 'andyworth@flywheel.io'}],\n",
       "  'project': {'id': '5e90d7a5a3803400a8e63b13', 'label': 'MIDAS_veggies'},\n",
       "  'return_type': 'file',\n",
       "  'session': {'created': datetime.datetime(2020, 4, 13, 15, 38, 42, 850000, tzinfo=tzutc()),\n",
       "              'id': '5e948782a38034010ce63ac7',\n",
       "              'label': 'session_1',\n",
       "              'timestamp': datetime.datetime(2020, 4, 13, 15, 38, tzinfo=tzutc())},\n",
       "  'subject': {'code': 'dragon_fruit'}}]"
      ]
     },
     "execution_count": 21,
     "metadata": {},
     "output_type": "execute_result"
    }
   ],
   "source": [
    "# Replace with your query between the single quotes\n",
    "query = 'file.type = dicom AND subject.label = dragon_fruit'\n",
    "# Set return_type to 'acquisition', 'session', 'file', or 'analysis' \n",
    "return_type = 'file'\n",
    "fw.search({'return_type': return_type, 'structured_query': query})"
   ]
  },
  {
   "cell_type": "markdown",
   "metadata": {},
   "source": [
    "##### Any remaining questions or comments?"
   ]
  },
  {
   "cell_type": "markdown",
   "metadata": {},
   "source": [
    "# Stay tuned for Part 2!"
   ]
  }
 ],
 "metadata": {
  "kernelspec": {
   "display_name": "Python 3",
   "language": "python",
   "name": "python3"
  },
  "language_info": {
   "codemirror_mode": {
    "name": "ipython",
    "version": 3
   },
   "file_extension": ".py",
   "mimetype": "text/x-python",
   "name": "python",
   "nbconvert_exporter": "python",
   "pygments_lexer": "ipython3",
   "version": "3.8.2"
  }
 },
 "nbformat": 4,
 "nbformat_minor": 4
}
