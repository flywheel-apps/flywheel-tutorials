{
 "cells": [
  {
   "cell_type": "markdown",
   "metadata": {},
   "source": [
    "**Title**: Uploading and Editing Metadata with Flywheel SDK\n",
    "\n",
    "**Date**:  July 23rd 2020\n",
    "\n",
    "**Description**:  \n",
    "\n",
    "Topics that we will be covering in this webinars:\n",
    "1. Creating the Project to host our data.\n",
    "2. Creating the hierarchy of Subject/Session/Acquisition matching our data input.\n",
    "3. Uploading the DICOM archive to each Acquisition.\n",
    "4. Showing how to update metadata of a container.\n"
   ]
  },
  {
   "cell_type": "markdown",
   "metadata": {},
   "source": [
    "<div class=\"alert alert-block alert-danger\"><b>DISCLAIMER:</b> We assumed that you have Flywheel 12+ Version.</div>"
   ]
  },
  {
   "cell_type": "markdown",
   "metadata": {},
   "source": [
    "***"
   ]
  },
  {
   "cell_type": "markdown",
   "metadata": {},
   "source": [
    "# Setup Before Webinar \n",
    "\n",
    "1. Requirements \n",
    "2. Download some test data"
   ]
  },
  {
   "cell_type": "markdown",
   "metadata": {},
   "source": [
    "## 1. Requirements\n",
    "\n",
    "Before getting started, we want to make sure that you have the right permission to create a new project on your instance. Below, we will be calling the `check_user_permission` function to validate whether you meet the `min_reqs` that is defined below. "
   ]
  },
  {
   "cell_type": "markdown",
   "metadata": {},
   "source": [
    "## Install and import dependencies"
   ]
  },
  {
   "cell_type": "code",
   "execution_count": null,
   "metadata": {},
   "outputs": [],
   "source": [
    "# Install specific packages required for this notebook\n",
    "!pip install flywheel-sdk "
   ]
  },
  {
   "cell_type": "code",
   "execution_count": null,
   "metadata": {},
   "outputs": [],
   "source": [
    "import flywheel\n",
    "from permission import check_user_permission # To check user permission on Flywheel Instance"
   ]
  },
  {
   "cell_type": "markdown",
   "metadata": {},
   "source": [
    "## Flywheel API Key and Client"
   ]
  },
  {
   "cell_type": "markdown",
   "metadata": {},
   "source": [
    "To find your API key, first click on the circle in the top right corner of Flywheel, then click on `Profile` as shown below: \n",
    "\n",
    "![profile_location](https://gitlab.com/flywheel-io/public/flywheel-tutorials/-/raw/master/webinars/finding_things_in_fw/assets/profile_location.png)\n",
    "\n",
    "On your profile page, your API key will be located under the `Your API Key` as below:\n",
    "\n",
    "![api_key_location](https://gitlab.com/flywheel-io/public/flywheel-tutorials/-/raw/master/webinars/finding_things_in_fw/assets/api_key_location.png)\n",
    "\n",
    "Copy this key, run the cell below, paste the key into the `Enter API_KEY here:` box and press return. Note: you must include the full cell in `Your API Key`. For example, `ss.ce.flywheel.io:123456ABCDEF789zyxw`.\n",
    "\n",
    "<div class=\"alert alert-block alert-info\" style=\"color:black\"><b>TIP: </b> While you can initialize your client as <code>fw</code> with <code>fw = flywheel.Client('your-api-key')</code>, it is essential to obscure credentials from your code, especially when sharing with others/commiting to a shared repository.</div>\n",
    "\n",
    "<div class=\"alert alert-block alert-danger\"><b>WARNING:</b> Do NOT share your API key with anyone for any reason - it is the same as sharing your password and constitutes a HIPAA violation.</div>\n"
   ]
  },
  {
   "cell_type": "code",
   "execution_count": null,
   "metadata": {},
   "outputs": [],
   "source": [
    "# Password prompt (good security practice)\n",
    "API_KEY = getpass('Enter API_KEY here: ')\n",
    "\n",
    "# Initialize the client\n",
    "fw = flywheel.Client(API_KEY if 'API_KEY' in locals() else os.environ.get('FW_KEY'))\n",
    "\n",
    "# Clean up the API_KEY\n",
    "del API_KEY"
   ]
  },
  {
   "cell_type": "markdown",
   "metadata": {},
   "source": [
    "## Check Permission"
   ]
  },
  {
   "cell_type": "code",
   "execution_count": null,
   "metadata": {},
   "outputs": [],
   "source": [
    "# Minimum requirements that you will need to create a new project\n",
    "min_reqs = {\n",
    "\"site\": \"user\",\n",
    "\"group\": \"admin\"\n",
    "}"
   ]
  },
  {
   "cell_type": "markdown",
   "metadata": {},
   "source": [
    "Next step, please provide a Group ID that you are planning to use for this tutorial. Feel free to refer to the snippet below on how to find Group ID on the Flywheel Instance. \n",
    "\n",
    "![find-group-id](https://gitlab.com/flywheel-io/public/flywheel-tutorials/-/raw/master/webinars/upload_data_modify_metadata_w_fw/assets/find-group-id.png)\n"
   ]
  },
  {
   "cell_type": "code",
   "execution_count": null,
   "metadata": {},
   "outputs": [],
   "source": [
    "CHECK_GROUP_ID = input('Please enter the Group ID that you will be using to create the new project: ')"
   ]
  },
  {
   "cell_type": "markdown",
   "metadata": {},
   "source": [
    "If you have the right permission on the Site and Group container, the function below will `True` otherwise, a message with a list of compatible Group(s) which you have the right permission for will be displayed.\n",
    "\n",
    "\n",
    "Here is an example of how the message will look like.\n",
    "\n",
    "![compatible-list](https://gitlab.com/flywheel-io/public/flywheel-tutorials/-/raw/master/webinars/upload_data_modify_metadata_w_fw/assets/expected-output-compatible-list.png)\n"
   ]
  },
  {
   "cell_type": "code",
   "execution_count": null,
   "metadata": {},
   "outputs": [],
   "source": [
    "check_user_permission(fw, min_reqs, group = CHECK_GROUP_ID)"
   ]
  },
  {
   "cell_type": "markdown",
   "metadata": {},
   "source": [
    "## 2. Download some test data"
   ]
  },
  {
   "cell_type": "markdown",
   "metadata": {},
   "source": [
    "First, we will be uploading images to a Flywheel Instance.  \n",
    "To get started, your first need to download the test dataset that will be used throughout this webinars."
   ]
  },
  {
   "cell_type": "markdown",
   "metadata": {},
   "source": [
    "On mybinder.org or any Mac/Linux system, the following commands will download a zip archive and unzip the data into a folder called `data-upload-notebook` in your current directory:"
   ]
  },
  {
   "cell_type": "code",
   "execution_count": null,
   "metadata": {},
   "outputs": [],
   "source": [
    "!curl -L -o data.zip \"https://drive.google.com/a/umn.edu/uc?export=download&id=1UhGymg0UgoKdigGEmHbN3EcWbG5KGQ1Q\"\n",
    "!unzip -qf data.zip -d data-upload-notebook"
   ]
  },
  {
   "cell_type": "markdown",
   "metadata": {},
   "source": [
    "If the previous commands return an errors, download the file directly using the link provided to the `curl` command\n",
    "above and extract the archive in the current working directory to a folder named `data-upload-notebook`"
   ]
  },
  {
   "cell_type": "markdown",
   "metadata": {},
   "source": [
    "The file tree of `data-upload-notebook` should like this:\n",
    "```\n",
    "data-upload-notebook\n",
    "├── anx_s1\n",
    "│   └── anx_s1_anx_ses1_protA\n",
    "│       └── T1_high-res_inplane_Ret_knk_0\n",
    "│           └── 6879_3_1_t1.dcm.zip\n",
    "├── anx_s2\n",
    "│   └── anx_s2_anx_ses1_protA\n",
    "│       └── T1\\ high-res\\ inplane\\ FSPGR\\ BRAVO_0\n",
    "│           └── 4784_3_1_t1.dcm.zip\n",
    "├── anx_s3\n",
    "│   └── anx_s3_anx_ses1_protA\n",
    "│       ├── T1_high-res_inplane_Ret_knk_0\n",
    "│       │   └── 6879_3_1_t1.dcm.zip\n",
    "│       └── fMRI\\ Loc\\ Word\\ Face\\ Obj\n",
    "│           └── 4784_5_1_fmri.dcm.zip\n",
    "├── anx_s4\n",
    "│   └── anx_s4_anx_ses2_protB\n",
    "│       └── T1_high-res_inplane_Ret_knk_1\n",
    "│           └── 8403_4_1_t1.dcm.zip\n",
    "├── anx_s5\n",
    "│   └── anx_s5_anx_ses1_protA\n",
    "│       └── T1_high-res_inplane_Ret_knk_1\n",
    "│           └── 8403_4_1_t1.dcm.zip\n",
    "└── participants.csv\n",
    "\n",
    "```"
   ]
  },
  {
   "cell_type": "markdown",
   "metadata": {},
   "source": [
    "# SETUP COMPLETE!"
   ]
  },
  {
   "cell_type": "markdown",
   "metadata": {},
   "source": [
    "***"
   ]
  },
  {
   "cell_type": "markdown",
   "metadata": {},
   "source": [
    "<div class=\"alert alert-block alert-warning\" style=\"color:black\"><b>NOTES:</b> Run the <code>Install and Import Dependencies</code> and <code>Flywheel API Key and Client</code> section in the beginning of the webinar.</div>"
   ]
  },
  {
   "cell_type": "markdown",
   "metadata": {
    "colab_type": "text",
    "id": "ay1WSTNnycu9"
   },
   "source": [
    "# Install and Import Dependencies"
   ]
  },
  {
   "cell_type": "code",
   "execution_count": null,
   "metadata": {
    "colab": {
     "base_uri": "https://localhost:8080/",
     "height": 292
    },
    "colab_type": "code",
    "id": "TvSB-YzJycd9",
    "outputId": "88896fc2-0cd1-4745-d1d7-5752fae84b64"
   },
   "outputs": [],
   "source": [
    "# Install specific packages required for this notebook\n",
    "!pip install flywheel-sdk pandas"
   ]
  },
  {
   "cell_type": "code",
   "execution_count": null,
   "metadata": {
    "colab": {},
    "colab_type": "code",
    "id": "wgIDvfT3yi2B"
   },
   "outputs": [],
   "source": [
    "# Import packages\n",
    "from getpass import getpass # Handle sensitive information securely eg: API key or password\n",
    "import logging # To write status message \n",
    "import os # To interact with the Operating System\n",
    "from pathlib import Path # Simpler method to interact with files on your local machine\n",
    "import re # Regex\n",
    "import time # To deal with time access\n",
    "import pandas as pd\n",
    "import pprint\n",
    "\n",
    "import flywheel\n",
    "from permission import check_user_permission # To check user permission on Flywheel Instance"
   ]
  },
  {
   "cell_type": "code",
   "execution_count": null,
   "metadata": {
    "colab": {},
    "colab_type": "code",
    "id": "ZtWGHIEBykZz"
   },
   "outputs": [],
   "source": [
    "# Instantiate a logger\n",
    "logging.basicConfig(level=logging.INFO, format='%(asctime)s %(levelname)s %(message)s')\n",
    "log = logging.getLogger('root')"
   ]
  },
  {
   "cell_type": "markdown",
   "metadata": {
    "colab_type": "text",
    "id": "RAnUF3QkynxV"
   },
   "source": [
    "# Flywheel API Key and Client"
   ]
  },
  {
   "cell_type": "markdown",
   "metadata": {
    "colab_type": "text",
    "id": "P8a20roWpFB-"
   },
   "source": [
    "Get your API_KEY. More on this at in the Flywheel SDK doc [here](https://flywheel-io.gitlab.io/product/backend/sdk/branches/master/python/getting_started.html#api-key)."
   ]
  },
  {
   "cell_type": "code",
   "execution_count": null,
   "metadata": {
    "colab": {
     "base_uri": "https://localhost:8080/",
     "height": 34
    },
    "colab_type": "code",
    "id": "LWkEZ-JTpFB-",
    "outputId": "47a9c115-7839-404b-b73c-69e57887ad5c"
   },
   "outputs": [],
   "source": [
    "API_KEY = getpass('Enter API_KEY here: ')"
   ]
  },
  {
   "cell_type": "markdown",
   "metadata": {
    "colab_type": "text",
    "id": "yl1SuWIdpFCB"
   },
   "source": [
    "Instantiate the Flywheel API client"
   ]
  },
  {
   "cell_type": "code",
   "execution_count": null,
   "metadata": {
    "colab": {},
    "colab_type": "code",
    "id": "yW3kAGFPpFCB"
   },
   "outputs": [],
   "source": [
    "fw = flywheel.Client(API_KEY if 'API_KEY' in locals() else os.environ.get('FW_KEY'))"
   ]
  },
  {
   "cell_type": "markdown",
   "metadata": {
    "colab_type": "text",
    "id": "XPQg0AFey16p"
   },
   "source": [
    "Show Flywheel logging information"
   ]
  },
  {
   "cell_type": "code",
   "execution_count": null,
   "metadata": {
    "colab": {
     "base_uri": "https://localhost:8080/",
     "height": 54
    },
    "colab_type": "code",
    "id": "88-D948hy3uS",
    "outputId": "21183a89-d336-449b-aabd-df02adac3b55"
   },
   "outputs": [],
   "source": [
    "log.info('You are now logged in as %s to %s', fw.get_current_user()['email'], fw.get_config()['site']['api_url'])"
   ]
  },
  {
   "cell_type": "markdown",
   "metadata": {},
   "source": [
    "***"
   ]
  },
  {
   "cell_type": "markdown",
   "metadata": {},
   "source": [
    "# *The webinar will begin from here*"
   ]
  },
  {
   "cell_type": "markdown",
   "metadata": {},
   "source": [
    "# Initialize a few values\n",
    "\n",
    "Now, we will be uploading data to a Project. The label of the Project will be defined by the `PROJECT_LABEL` variable defined below. \n",
    "Here we set it up to be `AnxietyStudy01` but feel free to change it to something that makes more sense to you. "
   ]
  },
  {
   "cell_type": "code",
   "execution_count": null,
   "metadata": {},
   "outputs": [],
   "source": [
    "PROJECT_LABEL = 'AnxietyStudy01'"
   ]
  },
  {
   "cell_type": "markdown",
   "metadata": {},
   "source": [
    "In Flywheel each project belongs to a Group. The label of the Group that will be used to create the Project is defined by the `GROUP_ID` variable below.\n",
    "\n",
    "\n",
    "Specify the Group you have admin permission on and where the Project will be created:"
   ]
  },
  {
   "cell_type": "code",
   "execution_count": null,
   "metadata": {},
   "outputs": [],
   "source": [
    "GROUP_ID = input(\"Enter the Group ID here: \")"
   ]
  },
  {
   "cell_type": "markdown",
   "metadata": {},
   "source": [
    "We also define a varibale that pointed to the root directory where the data got downloaded.<br>If you have followed the steps above to download your data, you should have all the data in a folder called `data-upload-notebook`. If that's not the case, edit the below variable accordingly."
   ]
  },
  {
   "cell_type": "code",
   "execution_count": null,
   "metadata": {},
   "outputs": [],
   "source": [
    "# Define Path to your data with Path()\n",
    "PATH_TO_DATA = Path('data-upload-notebook')"
   ]
  },
  {
   "cell_type": "markdown",
   "metadata": {},
   "source": [
    "# Add a New Project\n",
    "\n",
    "In this section, we will be creating a new project with label `PROJECT_LABEL` in the Group's `GROUP_ID`.\n"
   ]
  },
  {
   "cell_type": "markdown",
   "metadata": {},
   "source": [
    "First, we will be getting the Group container using the `fw.lookup()` method. "
   ]
  },
  {
   "cell_type": "code",
   "execution_count": null,
   "metadata": {},
   "outputs": [],
   "source": [
    "my_group = fw.lookup(GROUP_ID)"
   ]
  },
  {
   "cell_type": "markdown",
   "metadata": {},
   "source": [
    "Before creating a new project, it is a good practice to check if the Project you are trying to create exists in the Flywheel instance or not. We can do this by checking if a Project with label=PROJECT_LABEL exists in the Group you have specified:"
   ]
  },
  {
   "cell_type": "code",
   "execution_count": null,
   "metadata": {},
   "outputs": [],
   "source": [
    "project = my_group.projects.find_first(f'label={PROJECT_LABEL}')"
   ]
  },
  {
   "cell_type": "code",
   "execution_count": null,
   "metadata": {},
   "outputs": [],
   "source": [
    "while project:\n",
    "    log.info(f'Project {GROUP_ID}/{PROJECT_LABEL} already exists. Please update your PROJECT_LABEL variable.')\n",
    "    PROJECT_LABEL = input('Please enter a new label for your new project: ')\n",
    "    project = my_group.projects.find_first(f'label={PROJECT_LABEL}')\n",
    "\n",
    "    \n",
    "log.info(f'Project {GROUP_ID}/{PROJECT_LABEL} does not exist. Looking all good.') \n"
   ]
  },
  {
   "cell_type": "markdown",
   "metadata": {},
   "source": [
    "If the Project does not exist, it will return False and we can create it. "
   ]
  },
  {
   "cell_type": "code",
   "execution_count": null,
   "metadata": {},
   "outputs": [],
   "source": [
    "if not project:\n",
    "    project = my_group.add_project(label=PROJECT_LABEL)\n",
    "    log.info(f'Project {PROJECT_LABEL} has successfully added to the group {GROUP_ID}.')"
   ]
  },
  {
   "cell_type": "markdown",
   "metadata": {},
   "source": [
    "***"
   ]
  },
  {
   "cell_type": "markdown",
   "metadata": {},
   "source": [
    "# Create Subjects, Sessions and Acquisitions and upload files\n",
    "\n",
    "Now that we have a Project, we can create all the containers that are required to host our dataset.\n",
    "\n",
    "## What's the plan?\n",
    "\n",
    "Following the Flywheel Hierarchy, we will loop through each subject folders and create the subject containers. We will be doing the same step to create the Session and Acquisition containers. Once we get down to the Acquisition container, we will upload the corresponding DICOM archive to it"
   ]
  },
  {
   "cell_type": "markdown",
   "metadata": {},
   "source": [
    "## Processing"
   ]
  },
  {
   "cell_type": "markdown",
   "metadata": {},
   "source": [
    "In this notebook we will parse the Subject, Session and Acquisition labels from the folders and subfolder path directly. \n",
    "\n",
    "If we wanted to do more, we could use regular expression (aka REGEX) on the path. \n",
    "\n",
    "Example on how to use regular expression in Python:\n",
    "\n",
    "```python\n",
    "# To match a few date strings\n",
    "regex = r\"[a-zA-Z]+ \\d+\"\n",
    "matches = re.findall(regex, \"June 24, August 9, Dec 12\")\n",
    "for match in matches:\n",
    "    # This will print:\n",
    "    #   June 24\n",
    "    #   August 9\n",
    "    #   Dec 12\n",
    "    print(\"Full match: %s\" % (match))\n",
    "```\n"
   ]
  },
  {
   "cell_type": "markdown",
   "metadata": {},
   "source": [
    "<div class=\"alert alert-block alert-info\" style=\"color: black\"><b>Tip:</b> Use <a href=\"https://regex101.com/\" style=\"color:white\">Regex101</a>, an online regex tester and debugger, to write and test on example inputs before putting it in your code .</div>"
   ]
  },
  {
   "cell_type": "markdown",
   "metadata": {},
   "source": [
    "<div class=\"alert alert-block alert-info\" style=\"color: black\"><b>Tip: </b><code>Path.glob(pattern)</code> is a Python built in module that returns any matching files with the given pattern parameters. For more information, you can visit the documentations <a href=\"https://docs.python.org/dev/library/pathlib.html#pathlib.Path.glob\" style=\"color:white\">here</a> to learn more.</div>"
   ]
  },
  {
   "cell_type": "markdown",
   "metadata": {},
   "source": [
    "We are now ready to walk our folders, create the containers accordingly and upload the DICOM zip archive to the Acquisition container."
   ]
  },
  {
   "cell_type": "code",
   "execution_count": null,
   "metadata": {},
   "outputs": [],
   "source": [
    "log.info('Starting upload...')\n",
    "\n",
    "# Get Subjects that have label starts with `anx`\n",
    "for subj in PATH_TO_DATA.glob('anx*'):\n",
    "    log.info('Processing subject %s', str(subj))\n",
    "    subject = project.add_subject(label=subj.name)\n",
    "    \n",
    "    # Get Sessions folder that starts with `anx`\n",
    "    for ses in subj.glob('anx*'):\n",
    "        log.info('Processing session %s', str(ses))\n",
    "        session = subject.add_session(label=ses.name)\n",
    "        \n",
    "        # Get Acquisition folder that starts with `T1`\n",
    "        for acq in ses.glob('T1*'):            \n",
    "            log.info('Processing acquisition %s', str(acq))            \n",
    "            acquisition = session.add_acquisition(label=acq.name)\n",
    "            # Upload file into each Acquisition container\n",
    "            for file in acq.glob('*.dcm.zip'):\n",
    "                acquisition.upload_file(file)\n",
    "\n",
    "log.info('DONE')"
   ]
  },
  {
   "cell_type": "markdown",
   "metadata": {},
   "source": [
    "Once the upload is done, you should have all your data available in your Flywheel Project, which should look like this:  \n",
    "\n",
    "<img src=\"https://gitlab.com/flywheel-io/public/flywheel-tutorials/-/raw/master/python/assets/anxiety_project_session_view.png\" align=\"center\"/>"
   ]
  },
  {
   "cell_type": "markdown",
   "metadata": {},
   "source": [
    "# Update Subject Metadata\n",
    "\n",
    "## Overview\n",
    "\n",
    "For sake of example, let's demonstarate how we can update the metadata for Subject `anx_s1`.\n",
    "\n",
    "Let's first see how the subject container looks like on the Flywheel Instance. \n",
    "\n",
    "<img src=\"https://gitlab.com/flywheel-io/public/flywheel-tutorials/-/raw/master/webinars/upload_data_modify_metadata_w_fw/assets/subject-container-ui.png\" align=\"center\"/>\n",
    "\n",
    "## Getting Started \n",
    "\n",
    "As you can see from the snippet above, we have 6 basic metadata for Human subject: `First Name`, `Last Name`, `Sex`, `Cohort`, `Race` and `Ethinicity`.\n",
    "This list will vary depending on which subject type is selected."
   ]
  },
  {
   "cell_type": "markdown",
   "metadata": {},
   "source": [
    "Now, we will find that specific Subject by calling `flywheel.finder.find_first()`."
   ]
  },
  {
   "cell_type": "code",
   "execution_count": null,
   "metadata": {},
   "outputs": [],
   "source": [
    "anx_s1 = project.subjects.find_first('label=anx_s1').reload()"
   ]
  },
  {
   "cell_type": "markdown",
   "metadata": {},
   "source": [
    "<div class=\"alert alert-block alert-info\" style=\"color: black\" >\n",
    "    <b>Tip:</b> Using <code>reload()</code> is <b>nessecary</b> to load the entire container.\n",
    "</div>"
   ]
  },
  {
   "cell_type": "markdown",
   "metadata": {},
   "source": [
    "We are going to update the firstname, lastname and the sex of this Subject in this tutorial. Let's check what we have currently:"
   ]
  },
  {
   "cell_type": "code",
   "execution_count": null,
   "metadata": {},
   "outputs": [],
   "source": [
    "print(f'Subject anx_s1 sex is: {anx_s1.sex}, first name is: {anx_s1.firstname}, last name is: {anx_s1.lastname}')"
   ]
  },
  {
   "cell_type": "markdown",
   "metadata": {},
   "source": [
    "We can update it with the `update` method of the container:"
   ]
  },
  {
   "cell_type": "code",
   "execution_count": null,
   "metadata": {},
   "outputs": [],
   "source": [
    "anx_s1.update(\n",
    "            firstname='John',\n",
    "            lastname='Doe',\n",
    "            sex='male',\n",
    ")    "
   ]
  },
  {
   "cell_type": "markdown",
   "metadata": {},
   "source": [
    "Let's reload the subject from the database to make sure the update went through:"
   ]
  },
  {
   "cell_type": "code",
   "execution_count": null,
   "metadata": {},
   "outputs": [],
   "source": [
    "anx_s1 = project.subjects.find_first('label=anx_s1').reload()\n",
    "print(f'Subject anx_s1 sex is: {anx_s1.sex}, first name is: {anx_s1.firstname}, last name is: {anx_s1.lastname}')"
   ]
  },
  {
   "cell_type": "markdown",
   "metadata": {},
   "source": [
    "## Custom Information\n",
    "\n",
    "### Overview\n",
    "\n",
    "Each container also contains a field called `info` (aka `Custom Information` on the Flywheel Instance) which can be used to stored unstructured information in a dictionary.\n",
    "\n",
    "There is 5 different data types that you can use for the `info` section. \n",
    "\n",
    "Here is how it looks like on the Flywheel Instance:\n",
    "\n",
    "<img src=\"https://gitlab.com/flywheel-io/public/flywheel-tutorials/-/raw/master/webinars/upload_data_modify_metadata_w_fw/assets/custom-info-ui.png\" align=\"center\"/>\n",
    "\n",
    "How they look like on Python:\n",
    "\n",
    "<img src=\"https://gitlab.com/flywheel-io/public/flywheel-tutorials/-/raw/master/webinars/upload_data_modify_metadata_w_fw/assets/example-data-type-python.png\" align=\"center\"/>\n",
    "\n",
    "\n",
    "### To demostrate, we will be using the `object` data type. "
   ]
  },
  {
   "cell_type": "code",
   "execution_count": null,
   "metadata": {},
   "outputs": [],
   "source": [
    "complicated_nested_dict = {'a_complicated_nested_dict': {'key1': [1, 2, 3, 4], \n",
    "                                                        'key2': [{'an': 'other', 'list': 'with'}, \n",
    "                                                                {'dictionaries': ['in', 'it']}]\n",
    "                                                        }\n",
    "                            }"
   ]
  },
  {
   "cell_type": "code",
   "execution_count": null,
   "metadata": {},
   "outputs": [],
   "source": [
    "anx_s1.update_info(complicated_nested_dict)"
   ]
  },
  {
   "cell_type": "code",
   "execution_count": null,
   "metadata": {},
   "outputs": [],
   "source": [
    "anx_s1 = project.subjects.find_first('label=anx_s1').reload()\n",
    "pprint.pprint(f'Info field: {anx_s1.info}')"
   ]
  },
  {
   "cell_type": "markdown",
   "metadata": {},
   "source": [
    "<b>What to expect on the Flywheel Instance:</b>\n",
    "\n",
    "<img src=\"https://gitlab.com/flywheel-io/public/flywheel-tutorials/-/raw/master/webinars/upload_data_modify_metadata_w_fw/assets/complicated-nested-dict-ui.png\" align=\"center\"/>"
   ]
  },
  {
   "cell_type": "markdown",
   "metadata": {},
   "source": [
    "# Update all Subject Metadata with a CSV file\n",
    "\n",
    "Updating Subject Metadata/Info can be made by parsing CSV file or TSV file. By using this method, you can modify metadata for each Subject all at once. \n",
    "\n",
    "In this example, you will need to access the `participants.csv` file which can be found in the .zip folder you downloaded earlier. \n",
    "\n",
    "## First, you will need read the csv file with `pandas` (which imported as `pd`)."
   ]
  },
  {
   "cell_type": "markdown",
   "metadata": {},
   "source": [
    "<div class=\"alert alert-block alert-info\" style=\"color: black\"><b>INFO: </b><code>pandas</code> is a Python library that takes data (like a CSV or TSC file, or a SQL database) and creates a Pyton object with rowls and columns called data frame that look very similar to table in Excel or SPSS and R. It is useful for data manipulation and data analysis.</div>"
   ]
  },
  {
   "cell_type": "code",
   "execution_count": null,
   "metadata": {},
   "outputs": [],
   "source": [
    "metadata = pd.read_csv(PATH_TO_DATA/'participants.csv')"
   ]
  },
  {
   "cell_type": "code",
   "execution_count": null,
   "metadata": {},
   "outputs": [],
   "source": [
    "# View the data in the csv file \n",
    "display(metadata)"
   ]
  },
  {
   "cell_type": "markdown",
   "metadata": {},
   "source": [
    "We are going to loop through each Subjects in the Flywheel instance and check if there is any metadata stored in the `metadata` dataframe.\n",
    "\n",
    "<div class=\"alert alert-block alert-info\" style=\"color: black\"><b>INFO: </b><code>any()</code> function looks through the elements in an iterable and return True if any item in the iterable is true, else it returns false.</div>\n",
    "\n",
    "If the Subject is in the `metadata` dataframe, we will add the `age` and `treatment` information into the Subject container and update the `sex` metadata for each Subject. "
   ]
  },
  {
   "cell_type": "markdown",
   "metadata": {},
   "source": [
    "<div class=\"alert alert-block alert-info\" style=\"color: black\"><b>INFO: </b><code>dataframe.loc[]</code> method is being used to retrieve the row for the specific subject from the dataframe. While <code>dataframe.iloc[]</code> is used for integer-location based indexing/selection by position.</div>"
   ]
  },
  {
   "cell_type": "code",
   "execution_count": null,
   "metadata": {},
   "outputs": [],
   "source": [
    "# Iterate through each subjects \n",
    "for subj in project.subjects.iter():\n",
    "    \n",
    "    # Check if there is any matches for subj.label in the participant_id columns\n",
    "    if (metadata[\"participant_id\"] == subj.label).any():\n",
    "        # Get data of the subject from the `metadata`\n",
    "        tmp_info = metadata.loc[(metadata[\"participant_id\"] == subj.label)]\n",
    "        # Get the age and treatment for the subject\n",
    "        # Convert the information to a dictionary with the value being stored in a list\n",
    "        other_metadata = tmp_info[['age', 'treatment']].to_dict('l')\n",
    "        # Update the metadata contains in the subject container\n",
    "        sex = tmp_info.iloc[0]['sex']\n",
    "        subj.update(type='human', sex = sex)\n",
    "        subj.update_info(other_metadata)\n",
    "        \n",
    "    else:\n",
    "        print(subj.label + ' does not have metadata stored in the CSV file.')"
   ]
  },
  {
   "cell_type": "markdown",
   "metadata": {},
   "source": [
    "View the updated metadata in the Subject container"
   ]
  },
  {
   "cell_type": "code",
   "execution_count": null,
   "metadata": {},
   "outputs": [],
   "source": [
    "for subj in project.subjects.iter():\n",
    "    subj = subj.reload()\n",
    "    print(f'Subject Label: {subj.label}, Sex: {subj.sex}, Info: {subj.info}')"
   ]
  },
  {
   "cell_type": "markdown",
   "metadata": {},
   "source": [
    "***\n",
    "\n",
    "# Appendix \n",
    "\n",
    "Below is a few helpful functions that you can include in your script to streamline the process of getting or creating the subject/sessions/acquisition containers. \n"
   ]
  },
  {
   "cell_type": "markdown",
   "metadata": {},
   "source": [
    "## Helpful Functions"
   ]
  },
  {
   "cell_type": "code",
   "execution_count": null,
   "metadata": {},
   "outputs": [],
   "source": [
    "def get_or_create_subject(project, label, update=True, **kwargs):\n",
    "    \"\"\"Get the Subject container if it exists, else create a new Subject container.\n",
    "    \n",
    "    Args:\n",
    "        project (flywheel.Project): A Flywheel Project.\n",
    "        label (str): The subject label.\n",
    "        update (bool): If true, update container with key/value passed as kwargs.\n",
    "        kwargs (dict): Any key/value properties of subject you would like to update.\n",
    "\n",
    "    Returns:\n",
    "        (flywheel.Subject): A Flywheel Subject container.\n",
    "    \"\"\"\n",
    "    \n",
    "    if not label:\n",
    "        raise ValueError(f'label is required (currently {label})')\n",
    "        \n",
    "    subject = project.subjects.find_first(f'label={label}')\n",
    "    if not subject:\n",
    "        subject = project.add_subject(label=label)\n",
    "        \n",
    "    if update and kwargs:\n",
    "        subject.update(**kwargs)\n",
    "\n",
    "    if subject:\n",
    "        subject = subject.reload()\n",
    "\n",
    "    return subject"
   ]
  },
  {
   "cell_type": "code",
   "execution_count": null,
   "metadata": {},
   "outputs": [],
   "source": [
    "def get_or_create_session(subject, label, update=True, **kwargs):\n",
    "    \"\"\"Get the Session container if it exists, else create a new Session container.\n",
    "    \n",
    "    Args:\n",
    "        subject (flywheel.Subject): A Flywheel Subject.\n",
    "        label (str): The session label.\n",
    "        update (bool): If true, update container with key/value passed as kwargs.        \n",
    "        kwargs (dict): Any key/value properties of Session you would like to update.\n",
    "\n",
    "    Returns:\n",
    "        (flywheel.Session): A flywheel Session container.\n",
    "    \"\"\"\n",
    "    \n",
    "    if not label:\n",
    "        raise ValueError(f'label is required (currently {label})')\n",
    "        \n",
    "    session = subject.sessions.find_first(f'label={label}')\n",
    "    if not session:\n",
    "        session = subject.add_session(label=label)\n",
    "        \n",
    "    if update and kwargs:\n",
    "        session.update(**kwargs)\n",
    "\n",
    "    if session:\n",
    "        session = session.reload()\n",
    "\n",
    "    return session"
   ]
  },
  {
   "cell_type": "code",
   "execution_count": null,
   "metadata": {},
   "outputs": [],
   "source": [
    "def get_or_create_acquisition(session, label, update=True, **kwargs):\n",
    "    \"\"\"Get the Acquisition container if it exists, else create a new Acquisition container.\n",
    "    \n",
    "    Args:\n",
    "        session (flywheel.Session): A Flywheel Session.\n",
    "        label (str): The Acquisition label.\n",
    "        update (bool): If true, update container with key/value passed as kwargs.        \n",
    "        kwargs (dict): Any key/value properties of Acquisition you would like to update.\n",
    "\n",
    "    Returns:\n",
    "        (flywheel.Acquisition): A Flywheel Acquisition container.\n",
    "    \"\"\"\n",
    "    \n",
    "    if not label:\n",
    "        raise ValueError(f'label is required (currently {label})')\n",
    "        \n",
    "    acquisition = session.acquisitions.find_first(f'label={label}')\n",
    "    if not acquisition:\n",
    "        acquisition = session.add_acquisition(label=label)\n",
    "        \n",
    "    if update and kwargs:\n",
    "        acquisition.update(**kwargs)\n",
    "\n",
    "    if acquisition:\n",
    "        acquisition = acquisition.reload()\n",
    "\n",
    "    return acquisition"
   ]
  },
  {
   "cell_type": "code",
   "execution_count": null,
   "metadata": {},
   "outputs": [],
   "source": [
    "def upload_file_to_acquistion(acquistion, fp, update=True, **kwargs):\n",
    "    \"\"\"Upload file to Acquisition container and update info if `update=True`\n",
    "    \n",
    "    Args:\n",
    "        acquisition (flywheel.Acquisition): A Flywheel Acquisition\n",
    "        fp (Path-like): Path to file to upload\n",
    "        update (bool): If true, update container with key/value passed as kwargs.        \n",
    "        kwargs (dict): Any key/value properties of Acquisition you would like to update.        \n",
    "    \"\"\"\n",
    "    basename = os.path.basename(fp)\n",
    "    if not os.path.isfile(fp):\n",
    "        raise ValueError(f'{fp} is not file.')\n",
    "        \n",
    "    if acquistion.get_file(basename):\n",
    "        log.info(f'File {basename} already exists in container. Skipping.')\n",
    "        return\n",
    "    else:\n",
    "        log.info(f'Uploading {fp} to acquisition {acquistion.id}')\n",
    "        acquistion.upload_file(fp)\n",
    "        while not acquistion.get_file(basename):   # to make sure the file is available before performing an update\n",
    "            acquistion = acquistion.reload()\n",
    "            time.sleep(1)\n",
    "            \n",
    "    if update and kwargs:\n",
    "        f = acquisition.get_file(basename)\n",
    "        f.update(**kwargs)"
   ]
  },
  {
   "cell_type": "markdown",
   "metadata": {},
   "source": [
    "Following the Flywheel Hierarchy, you can loop through each subject folders and either get the Subject if it exists in the Project already or create it if not ( this can be done by using the `get_or_create_subject` function above). You can do the same to get/create the Session and Acquisition containers. Once you get down to the Acqusition container, you can upload the corresponding DICOM archive to it by using the `upload_file_to_acquistion` function above."
   ]
  },
  {
   "cell_type": "markdown",
   "metadata": {},
   "source": [
    "Below is an example on how you can utilize the functions above to upload data into your project container.\n",
    "\n",
    "*Feel free to modify the code below that correspond to your dataset*"
   ]
  },
  {
   "cell_type": "code",
   "execution_count": null,
   "metadata": {},
   "outputs": [],
   "source": [
    "log.info('Starting upload...')\n",
    "\n",
    "# Get Subjects that have label starts with `anx`\n",
    "for subj in PATH_TO_DATA.glob('anx*'):\n",
    "    log.info('Processing subject %s', str(subj))\n",
    "    subject = get_or_create_subject(project, subj.name, update=True, type='human', sex='female')  \n",
    "    # Get Sessions folder that starts with `anx`\n",
    "    for ses in subj.glob('anx*'):\n",
    "        log.info('Processing session %s', str(ses))\n",
    "        session = get_or_create_session(subject, ses.name)\n",
    "        # Get Acquisition folder that starts with `T1` only\n",
    "        for acq in ses.glob('T1*'):            \n",
    "            log.info('Processing acquisition %s', str(acq))            \n",
    "            acquisition = get_or_create_acquisition(session, acq.name)\n",
    "            # Get DICOM File \n",
    "            for file in acq.glob('*.dcm.zip'):\n",
    "                upload_file_to_acquistion(acquisition, file)\n",
    "log.info('DONE')"
   ]
  }
 ],
 "metadata": {
  "kernelspec": {
   "display_name": "Python 3",
   "language": "python",
   "name": "python3"
  },
  "language_info": {
   "codemirror_mode": {
    "name": "ipython",
    "version": 3
   },
   "file_extension": ".py",
   "mimetype": "text/x-python",
   "name": "python",
   "nbconvert_exporter": "python",
   "pygments_lexer": "ipython3",
   "version": "3.7.6"
  }
 },
 "nbformat": 4,
 "nbformat_minor": 4
}
