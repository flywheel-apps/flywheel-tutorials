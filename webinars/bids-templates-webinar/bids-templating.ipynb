{
 "cells": [
  {
   "cell_type": "markdown",
   "metadata": {
    "slideshow": {
     "slide_type": "slide"
    }
   },
   "source": [
    "# BIDS Templating\n",
    "August 6th, 2020  \n",
    "Margaret Mahan, Ph.D.  \n",
    "Scientific Solutions Engineer  \n",
    "Flywheel.io"
   ]
  },
  {
   "cell_type": "markdown",
   "metadata": {
    "slideshow": {
     "slide_type": "subslide"
    }
   },
   "source": [
    "#### Table of Contents\n",
    "1. BIDS 101\n",
    "2. Flywheel BIDS Overview\n",
    "3. Demo: Flywheel BIDS Curation Overview in the UI\n",
    "4. BIDS Curation Gear\n",
    "5. Project Curation Template Components\n",
    "6. Demo: Extend bids-v1.json"
   ]
  },
  {
   "cell_type": "markdown",
   "metadata": {
    "slideshow": {
     "slide_type": "slide"
    }
   },
   "source": [
    "## 1. BIDS 101\n",
    "\n",
    "[Brain Imaging Data Structure](https://bids-specification.readthedocs.io/en/stable/) (BIDS):\n",
    "    \n",
    "> A filename convention and directory layout for organzing and describing neuroimaging datasets."
   ]
  },
  {
   "cell_type": "markdown",
   "metadata": {
    "slideshow": {
     "slide_type": "fragment"
    }
   },
   "source": [
    "⏱ PROTIP ⏱: Download a [PDF](https://zenodo.org/record/3890439) of the latest BIDS specification and take an hour to read through, paying particular attention to the Common Principles section."
   ]
  },
  {
   "cell_type": "markdown",
   "metadata": {
    "slideshow": {
     "slide_type": "subslide"
    }
   },
   "source": [
    "#### Example of a BIDS formatted dataset file tree\n",
    "```\n",
    ".\n",
    "|\n",
    "|--📦 sub-42\n",
    "|  |----📂 anat\n",
    "|  |    |----📕 sub-42_acq-mprage_T1w.nii.gz\n",
    "|  |    |----📜 sub-42_acq-mprage_T1w.json\n",
    "|  |    |----📕 sub-42_acq-space_T2w.nii.gz\n",
    "|  |    |----📜 sub-42_acq-space_T2w.json\n",
    "|  |\n",
    "|  |----📂 func\n",
    "|  |    |----📕 sub-42_task-nback_bold.nii.gz\n",
    "|  |    |----📜 sub-42_task-nback_bold.json\n",
    "|  |    |----📋 sub-42_task-nback_events.tsv\n",
    "|  |    |----📋 sub-42_task-nback_physio.tsv.gz\n",
    "|  |    \n",
    "|  |----📂 dwi\n",
    "|       |----📕 sub-42_acq-dti6dxb5_dir-PA_dwi.nii.gz\n",
    "|       |----📜 sub-42_acq-dti6dxb5_dir-PA_dwi.json\n",
    "|       |----📋 sub-42_acq-dti6dxb5_dir-PA_dwi.bval\n",
    "|       |----📋 sub-42_acq-dti6dxb5_dir-PA_dwi.bvec\n",
    "|\n",
    "|--📂 code\n",
    "|  |----deface.py\n",
    "|--📂 derivatives\n",
    "|  |----README\n",
    "|--📋 participants.tsv\n",
    "|--📜 dataset_description.json\n",
    "|--🗄 README\n",
    "|--🗄 CHANGES\n",
    "```"
   ]
  },
  {
   "cell_type": "markdown",
   "metadata": {
    "slideshow": {
     "slide_type": "subslide"
    }
   },
   "source": [
    "#### BIDS building blocks\n",
    "\n",
    "**type** - a functional group of different types of data.\n",
    "   - func, dwi, fmap, anat, meg, eeg, ieeg, beh\n",
    "    \n",
    "**`<index>`** - a numeric value, possibly prefixed with arbitrary number of 0s for consistent indentation\n",
    "   - e.g., `01` in `run-01` following `run-<index>` specification\n",
    "    \n",
    "**`<label>`** - an alphanumeric value\n",
    "   - e.g., `rest` in `task-rest` following `task-<label>` specification\n",
    "\n",
    "**suffix** - an alphanumeric value, located after the `key-value` pairs and before the file extension\n",
    "\n",
    "**extension** - a portion of the filename after the left-most period (.) preceded by any other alphanumeric\n",
    "   - e.g., .nii.gz"
   ]
  },
  {
   "cell_type": "markdown",
   "metadata": {
    "slideshow": {
     "slide_type": "subslide"
    }
   },
   "source": [
    "#### Filename structure\n",
    "\n",
    "The BIDS filename convention consists of a chain of *entities* or `key-value` pairs, a *suffix* and an *extension*.\n",
    "\n",
    "One *entity* `sub-<label>` corresponds to the *subject* entity because it has the `sub-` \"key\" and `<label>` \"value\", where `<label>` would in a real data file correspond to a unique identifier of that subject, such as `42`. For example, `sub-42`."
   ]
  },
  {
   "cell_type": "markdown",
   "metadata": {
    "slideshow": {
     "slide_type": "subslide"
    }
   },
   "source": [
    "#### Anatomy imaging data\n",
    "\n",
    "`sub-<label>[_ses-<label>][_acq-<label>][_ce-<label>][_rec-<label>][_run-<index>]_<modality_label>.nii[.gz]`\n",
    "\n",
    "----------------------------------------------------------------------\n",
    "\n",
    "*entities* `sub-<label>`, `ses-<label>`, `acq-<label>`, etc.\n",
    "    \n",
    "    - Brackets [ ] indicate the entity is optional\n",
    "\n",
    "**type** - anat\n",
    "    \n",
    "**suffix** - `<modality_label>`\n",
    "   - Options: T1w, T2w, T1rho, T1map, T2map, T2star, FLAIR, FLASH, PD, PDmap, PDT2, inplaneT1, inplaceT2, angio\n",
    "\n",
    "**extension** - `.nii.gz`"
   ]
  },
  {
   "cell_type": "markdown",
   "metadata": {
    "slideshow": {
     "slide_type": "subslide"
    }
   },
   "source": [
    "1. Fill in the above, along with **`<index>`** and **`<label>`** for each *entity* to get the filename:\n",
    "\n",
    "    `sub-<label>` -> `sub-42`\n",
    "   \n",
    "    `acq-<label>` -> `acq-mprage`\n",
    "    \n",
    "    `<modality_label>` -> `T1w`\n",
    "    \n",
    "    `.nii[.gz]` -> `.nii.gz`\n",
    "<br>\n",
    "\n",
    "2. Stitch together with `_` (underscores)\n",
    "\n",
    "    `sub-<label>_acq-<label>_<modality_label>.nii[.gz]` -> `sub-42_acq-mprage_T1w.nii.gz`"
   ]
  },
  {
   "cell_type": "markdown",
   "metadata": {
    "slideshow": {
     "slide_type": "slide"
    }
   },
   "source": [
    "## 2. Flywheel BIDS Overview\n",
    "\n",
    "[OHBM 2020 Talk: Automating BIDS Workflow with Flywheel](https://docs.flywheel.io/hc/en-us/articles/360051918273-OHBM-2020-Automating-BIDS-Workflow-with-Flywheel)\n",
    "    \n",
    "    - Talk on BIDS support in Flywheel, including import, curate, export, & analyze \n",
    "\n",
    "[BIDS Overview](https://docs.flywheel.io/hc/en-us/articles/360008162154-BIDS-Overview)\n",
    "    \n",
    "    - Documentaion introducing BIDS in Flywheel"
   ]
  },
  {
   "cell_type": "markdown",
   "metadata": {
    "slideshow": {
     "slide_type": "skip"
    }
   },
   "source": [
    "Curation is the process of producing metadata on an existing Flywheel Project so the project can then be utilized as a BIDS formatted dataset. BIDS metadata is stored in the open-ended info.BIDS attribute that is associated on every Project, Session, Acquisition, Analysis, and File Container in the Flywheel system."
   ]
  },
  {
   "cell_type": "markdown",
   "metadata": {
    "slideshow": {
     "slide_type": "subslide"
    }
   },
   "source": [
    "#### Flywheel BIDS\n",
    "\n",
    "- Curation:\n",
    "    - The process of producing BIDS metadata that maps your Flywheel Project to the BIDS standard\n",
    "\n",
    "\n",
    "- Metadata:\n",
    "    - Stored in the info.BIDS attribute on each Container\n",
    "    \n",
    "    \n",
    "- Template:\n",
    "    - A JSON file used during curation to populate metadata"
   ]
  },
  {
   "cell_type": "markdown",
   "metadata": {
    "slideshow": {
     "slide_type": "subslide"
    }
   },
   "source": [
    "![alt text](assets/flywheel_bids_view.png)"
   ]
  },
  {
   "cell_type": "markdown",
   "metadata": {
    "slideshow": {
     "slide_type": "slide"
    }
   },
   "source": [
    "## 3. Demo: Flywheel BIDS Curation Overview in the UI"
   ]
  },
  {
   "cell_type": "markdown",
   "metadata": {
    "slideshow": {
     "slide_type": "subslide"
    }
   },
   "source": [
    "Flywheel | BIDS\n",
    "-------------------|--------------\n",
    "![alt text](assets/ui_example_dataset.png) | ![alt text](assets/ui_example_dataset_bids_view.png)"
   ]
  },
  {
   "cell_type": "markdown",
   "metadata": {
    "slideshow": {
     "slide_type": "slide"
    }
   },
   "source": [
    "## 4. BIDS Curation Gear\n",
    "\n",
    "[curate-bids repository](https://github.com/flywheel-apps/curate-bids)\n",
    "\n",
    "- Input:\n",
    "    - Project Curation Template\n",
    "    \n",
    "    \n",
    "- Process:\n",
    "    - Producing BIDS metadata that maps your Flywheel Project to the BIDS standard\n",
    "    - i.e., given a Flywheel Container, fill in and stitch together the BIDS building blocks\n",
    "\n",
    "\n",
    "- Output:\n",
    "    - `info.BIDS.<METADATA>`"
   ]
  },
  {
   "cell_type": "markdown",
   "metadata": {
    "slideshow": {
     "slide_type": "skip"
    }
   },
   "source": [
    "#### Flywheel BIDS Curation Overview\n",
    "\n",
    "BIDS curation in Flywheel is built on a JSON template that dictates a metadata mapping. The JSON template provides flexibility for adapting to the continuously evolving standards of BIDS; however, this process involves project-specific modifications in order to ensure the process runs smoothly. The Flywheel implementation of BIDS empowers users to achieve BIDS compliant datasets; however, with the flexibility and constantly changing specifications, there will inevitably be a setup cost. With Flywheel, this setup cost is the construction of a Project Curation Template."
   ]
  },
  {
   "cell_type": "markdown",
   "metadata": {
    "slideshow": {
     "slide_type": "skip"
    }
   },
   "source": [
    "#### Project Curation Templates Overview\n",
    "\n",
    "There is one default template maintained in the `bids-client` repo, which is called by the `curate-bids` Gear if no `project-template.json` is provided as an attachment on the project. Any project can have a `project-template.json` that provides the specific metadata mapping needed for BIDS curation on that project. This `project-template.json` may be reformulated in its entirety or extend the default template. In any of these cases, when referring to the BIDS curation process, these templates are referred to as the Project Curation JSON Templates."
   ]
  },
  {
   "cell_type": "markdown",
   "metadata": {
    "slideshow": {
     "slide_type": "subslide"
    }
   },
   "source": [
    "_Definition_\n",
    "\n",
    "> Project Curation Template: the master template defining the BIDS standard for the project and used by the curate-bids Gear for BIDS metadata mapping."
   ]
  },
  {
   "cell_type": "markdown",
   "metadata": {
    "slideshow": {
     "slide_type": "fragment"
    }
   },
   "source": [
    "⏱ PROTIP ⏱: Some knowledge of JSON Schemas and regular expressions will be useful."
   ]
  },
  {
   "cell_type": "markdown",
   "metadata": {
    "slideshow": {
     "slide_type": "slide"
    }
   },
   "source": [
    "### Default Project Curation Template\n",
    "[bids-client repository](https://gitlab.com/flywheel-io/public/bids-client/-/tree/master/flywheel_bids/templates)\n",
    "\n",
    "- `bids-v1.json` is stored in the `bids-client` repository which contains the core functionality of all FLywheel BIDS (i.e., import, curation, export)"
   ]
  },
  {
   "cell_type": "markdown",
   "metadata": {
    "slideshow": {
     "slide_type": "fragment"
    }
   },
   "source": [
    "- `curate-bids` Gear will default to this template if:\n",
    "    - A custom template is not provided as project attachment\n",
    "    - The custom template is not JSON Schema compliant"
   ]
  },
  {
   "cell_type": "markdown",
   "metadata": {
    "slideshow": {
     "slide_type": "subslide"
    }
   },
   "source": [
    "### Custom Project Curation Templates\n",
    "[bids-templates repository](https://gitlab.com/flywheel-io/public/bids-templates)\n",
    "\n",
    "- Attached at the project-level\n",
    "- Name of file must include _project-template_\n",
    "\n",
    "    e.g., `custom-project-template.json`"
   ]
  },
  {
   "cell_type": "markdown",
   "metadata": {
    "slideshow": {
     "slide_type": "subslide"
    }
   },
   "source": [
    "#### Recommended approaches\n",
    "\n",
    "1. Automating BIDS Curation achieved via ReproIn Project Curation Template<br>\n",
    "    - ReproIn is part of the ReproNim Center suite of tools and frameworks\n",
    "    - [ReproIn repository](https://github.com/ReproNim/reproin) -> A setup for automatic generation of shareable, version-controlled BIDS datasets from MR scanners\n",
    "    - [ReproNim](https://www.repronim.org/) -> A center for reproducible neuroimaging computation\n",
    "\n",
    "<br>\n",
    "\n",
    "2. Extend `bids-v1.json` - the default Project Curation Template<br>\n",
    "    - Modify only components of the Template that are relevant for your project"
   ]
  },
  {
   "cell_type": "markdown",
   "metadata": {
    "slideshow": {
     "slide_type": "subslide"
    }
   },
   "source": [
    "⏱ PROTIP ⏱: Check the log for `curate-bids` Gear to make sure your Custom Project Curation Template was selected."
   ]
  },
  {
   "cell_type": "markdown",
   "metadata": {
    "slideshow": {
     "slide_type": "subslide"
    }
   },
   "source": [
    "Default Template   | Custom Metadata\n",
    "-------------------|-----------------\n",
    "![alt text](assets/default_template_log.png) | ![alt text](assets/custom_template_log.png)"
   ]
  },
  {
   "cell_type": "markdown",
   "metadata": {
    "slideshow": {
     "slide_type": "slide"
    }
   },
   "source": [
    "## 5. Project Curation Template Components\n",
    "\n",
    "Within the Project Curation Template are sections, most commonly, *definitions* and *rules*, along with other, more optional, sections (e.g., *initializers*, *resolvers*, etc.)."
   ]
  },
  {
   "cell_type": "code",
   "execution_count": 1,
   "metadata": {
    "slideshow": {
     "slide_type": "skip"
    }
   },
   "outputs": [],
   "source": [
    "import json\n",
    "import uuid\n",
    "from IPython.display import display_javascript, display_html, display\n",
    "\n",
    "class RenderJSON(object):\n",
    "    def __init__(self, json_data):\n",
    "        if isinstance(json_data, dict) or isinstance(json_data, list):\n",
    "            self.json_str = json.dumps(json_data)\n",
    "        else:\n",
    "            self.json_str = json_data\n",
    "        self.uuid = str(uuid.uuid4())\n",
    "\n",
    "    def _ipython_display_(self):\n",
    "        display_html('<div id=\"{}\" style=\"height: 600px; width:100%;font: 22px/22px monospace !important;\"></div>'.format(self.uuid), raw=True)\n",
    "        display_javascript(\"\"\"\n",
    "        require([\"https://rawgit.com/caldwell/renderjson/master/renderjson.js\"], function() {\n",
    "            renderjson.set_show_to_level(2);\n",
    "            document.getElementById('%s').appendChild(renderjson(%s))\n",
    "        });\n",
    "      \"\"\" % (self.uuid, self.json_str), raw=True)"
   ]
  },
  {
   "cell_type": "code",
   "execution_count": 2,
   "metadata": {
    "slideshow": {
     "slide_type": "skip"
    }
   },
   "outputs": [],
   "source": [
    "with open('assets/bids-v1.json') as jfile:\n",
    "      bids_v1_template = json.load(jfile)"
   ]
  },
  {
   "cell_type": "code",
   "execution_count": 3,
   "metadata": {
    "slideshow": {
     "slide_type": "subslide"
    }
   },
   "outputs": [
    {
     "data": {
      "text/html": [
       "<div id=\"df34ca5c-7906-4641-9393-7f1b37921993\" style=\"height: 600px; width:100%;font: 22px/22px monospace !important;\"></div>"
      ]
     },
     "metadata": {},
     "output_type": "display_data"
    },
    {
     "data": {
      "application/javascript": [
       "\n",
       "        require([\"https://rawgit.com/caldwell/renderjson/master/renderjson.js\"], function() {\n",
       "            renderjson.set_show_to_level(2);\n",
       "            document.getElementById('df34ca5c-7906-4641-9393-7f1b37921993').appendChild(renderjson({\"namespace\": \"BIDS\", \"description\": \"Namespace for BIDS info objects in Flywheel\", \"definitions\": {\"Acq\": {\"type\": \"string\", \"title\": \"Acquisition Label\", \"default\": \"\", \"pattern\": \"^[a-zA-Z0-9]*$\"}, \"Ce\": {\"type\": \"string\", \"title\": \"Contrast Agent Label\", \"default\": \"\", \"pattern\": \"^[a-zA-Z0-9]*$\"}, \"Echo\": {\"type\": \"string\", \"title\": \"Echo Index\", \"default\": \"\", \"pattern\": \"^[0-9]*$\"}, \"Filename\": {\"type\": \"string\", \"title\": \"Filename\", \"default\": \"\", \"minLength\": 1}, \"IntendedFor\": {\"type\": \"array\", \"title\": \"IntendedFor\", \"default\": [{\"Folder\": \"anat\"}, {\"Folder\": \"func\"}]}, \"Mod\": {\"type\": \"string\", \"title\": \"Mod Label\", \"default\": \"\", \"pattern\": \"^[a-zA-Z0-9]*$\"}, \"Rec\": {\"type\": \"string\", \"title\": \"Reconstruction Algorithm Label\", \"default\": \"\", \"pattern\": \"^[a-zA-Z0-9]*$\"}, \"Run\": {\"type\": \"string\", \"title\": \"Run Index\", \"default\": \"\", \"pattern\": \"^[0-9]*$\"}, \"Task\": {\"type\": \"string\", \"title\": \"Task Label\", \"default\": \"\", \"pattern\": \"^[a-zA-Z0-9]+$\"}, \"project\": {\"description\": \"BIDS project template\", \"properties\": {\"Name\": {\"type\": \"string\", \"title\": \"Name\", \"default\": \"\", \"auto_update\": \"{project.label}\"}, \"BIDSVersion\": {\"type\": \"string\", \"title\": \"BIDS Version\", \"default\": \"1.0.2\"}, \"License\": {\"type\": \"string\", \"title\": \"License\", \"default\": \"\"}, \"Authors\": {\"type\": \"string\", \"title\": \"Authors\", \"default\": []}, \"Acknowledgements\": {\"type\": \"string\", \"title\": \"Acknowledgements\", \"default\": \"\"}, \"HowToAcknowledge\": {\"type\": \"string\", \"title\": \"How To Acknowledge\", \"default\": \"\"}, \"Funding\": {\"type\": \"string\", \"title\": \"Funding Sources\", \"default\": []}, \"ReferencesAndLinks\": {\"type\": \"string\", \"title\": \"Reference and Links\", \"default\": []}, \"DatasetDOI\": {\"type\": \"string\", \"title\": \"Dataset DOI\", \"default\": \"\"}}, \"required\": []}, \"project_file\": {\"description\": \"BIDS project file template\", \"properties\": {\"Filename\": {\"$ref\": \"#/definitions/Filename\"}, \"Folder\": {\"type\": \"string\", \"title\": \"Folder\", \"default\": \"\"}, \"Path\": {\"type\": \"string\", \"title\": \"Path\", \"default\": \"\"}}, \"required\": [\"Filename\"]}, \"session\": {\"description\": \"BIDS session template\", \"properties\": {\"Label\": {\"type\": \"string\", \"title\": \"Label\", \"default\": \"\", \"auto_update\": \"<session.label>\"}, \"Subject\": {\"type\": \"string\", \"title\": \"Subject Code\", \"default\": \"\", \"auto_update\": \"<subject.code>\"}}, \"required\": []}, \"session_file\": {\"description\": \"BIDS session file template\", \"properties\": {\"Filename\": {\"$ref\": \"#/definitions/Filename\"}, \"Folder\": {\"type\": \"string\", \"title\": \"Folder\", \"default\": \"\", \"auto_update\": \"[ses-{session.info.BIDS.Label}]\"}, \"Path\": {\"type\": \"string\", \"title\": \"Path\", \"default\": \"\", \"auto_update\": \"sub-{session.info.BIDS.Subject}[/ses-{session.info.BIDS.Label}]\"}}, \"required\": [\"Filename\"]}, \"acquisition\": {\"description\": \"BIDS acquisition template\", \"properties\": {}, \"required\": []}, \"acquisition_file\": {\"description\": \"BIDS acquisition file template\", \"properties\": {\"Filename\": {\"$ref\": \"#/definitions/Filename\"}, \"Folder\": {\"type\": \"string\", \"title\": \"Folder\", \"default\": \"\", \"auto_update\": {\"$process\": true, \"$value\": \"acq-<acquisition.label>\", \"$format\": [{\"$lower\": true}]}}, \"Path\": {\"type\": \"string\", \"title\": \"Path\", \"default\": \"\", \"auto_update\": {\"$process\": true, \"$value\": \"sub-{session.info.BIDS.Subject}[/ses-{session.info.BIDS.Label}]/acq-<acquisition.label>\", \"$format\": [{\"$lower\": true}]}}}, \"required\": [\"Filename\"]}, \"anat_file\": {\"description\": \"BIDS template for anat files\", \"properties\": {\"Filename\": {\"type\": \"string\", \"title\": \"Filename\", \"default\": \"\", \"minLength\": 1, \"auto_update\": \"sub-{session.info.BIDS.Subject}[_ses-{session.info.BIDS.Label}][_acq-{file.info.BIDS.Acq}][_ce-{file.info.BIDS.Ce}][_rec-{file.info.BIDS.Rec}][_run-{file.info.BIDS.Run}][_mod-{file.info.BIDS.Mod}]_{file.info.BIDS.Modality}{ext}\"}, \"Folder\": {\"type\": \"string\", \"title\": \"Folder\", \"default\": \"anat\"}, \"Path\": {\"type\": \"string\", \"title\": \"Path\", \"default\": \"\", \"auto_update\": \"sub-{session.info.BIDS.Subject}[/ses-{session.info.BIDS.Label}]/{file.info.BIDS.Folder}\"}, \"Acq\": {\"$ref\": \"#/definitions/Acq\"}, \"Ce\": {\"$ref\": \"#/definitions/Ce\"}, \"Rec\": {\"$ref\": \"#/definitions/Rec\"}, \"Run\": {\"$ref\": \"#/definitions/Run\"}, \"Mod\": {\"$ref\": \"#/definitions/Mod\"}, \"Modality\": {\"type\": \"string\", \"title\": \"Modality Label\", \"default\": \"\", \"enum\": [\"T1w\", \"T2w\", \"T1rho\", \"T1map\", \"T2map\", \"FLAIR\", \"FLASH\", \"PD\", \"PDmap\", \"PDT2\", \"inplaneT1\", \"inplaneT2\", \"angio\", \"defacemask\", \"SWImagandphase\"]}}, \"required\": [\"Filename\", \"Modality\"]}, \"func_file\": {\"description\": \"BIDS template for func files\", \"properties\": {\"Filename\": {\"type\": \"string\", \"title\": \"Filename\", \"default\": \"\", \"minLength\": 1, \"auto_update\": \"sub-{session.info.BIDS.Subject}[_ses-{session.info.BIDS.Label}]_task-{file.info.BIDS.Task}[_acq-{file.info.BIDS.Acq}][_rec-{file.info.BIDS.Rec}][_run-{file.info.BIDS.Run}][_echo-{file.info.BIDS.Echo}]_{file.info.BIDS.Modality}{ext}\"}, \"Folder\": {\"type\": \"string\", \"title\": \"Folder\", \"default\": \"func\"}, \"Path\": {\"type\": \"string\", \"title\": \"Path\", \"default\": \"\", \"auto_update\": \"sub-{session.info.BIDS.Subject}[/ses-{session.info.BIDS.Label}]/{file.info.BIDS.Folder}\"}, \"Acq\": {\"$ref\": \"#/definitions/Acq\"}, \"Task\": {\"$ref\": \"#/definitions/Task\"}, \"Rec\": {\"$ref\": \"#/definitions/Rec\"}, \"Run\": {\"$ref\": \"#/definitions/Run\"}, \"Echo\": {\"$ref\": \"#/definitions/Echo\"}, \"Modality\": {\"type\": \"string\", \"title\": \"Modality Label\", \"default\": \"bold\", \"enum\": [\"bold\", \"sbref\", \"stim\", \"physio\"]}}, \"required\": [\"Filename\", \"Task\", \"Modality\"]}, \"task_events_file\": {\"description\": \"BIDS template for task events files\", \"properties\": {\"Filename\": {\"type\": \"string\", \"title\": \"Filename\", \"default\": \"\", \"minLength\": 1, \"auto_update\": \"sub-{session.info.BIDS.Subject}[_ses-{session.info.BIDS.Label}]_task-{file.info.BIDS.Task}[_acq-{file.info.BIDS.Acq}][_rec-{file.info.BIDS.Rec}][_run-{file.info.BIDS.Run}][_echo-{file.info.BIDS.Echo}]_events.tsv\"}, \"Folder\": {\"type\": \"string\", \"title\": \"Folder\", \"default\": \"func\"}, \"Path\": {\"type\": \"string\", \"title\": \"Path\", \"default\": \"\", \"auto_update\": \"sub-{session.info.BIDS.Subject}[/ses-{session.info.BIDS.Label}]/{file.info.BIDS.Folder}\"}, \"Task\": {\"$ref\": \"#/definitions/Task\"}, \"Acq\": {\"$ref\": \"#/definitions/Acq\"}, \"Rec\": {\"$ref\": \"#/definitions/Rec\"}, \"Run\": {\"$ref\": \"#/definitions/Run\"}, \"Echo\": {\"$ref\": \"#/definitions/Echo\"}}, \"required\": [\"Filename\", \"Task\"]}, \"beh_events_file\": {\"description\": \"BIDS template for behavioral events files\", \"properties\": {\"Filename\": {\"type\": \"string\", \"title\": \"Filename\", \"default\": \"\", \"minLength\": 1, \"auto_update\": \"sub-{session.info.BIDS.Subject}[_ses-{session.info.BIDS.Label}]_task-{file.info.BIDS.Task}_events.tsv\"}, \"Folder\": {\"type\": \"string\", \"title\": \"Folder\", \"default\": \"beh\"}, \"Path\": {\"type\": \"string\", \"title\": \"Path\", \"default\": \"\", \"auto_update\": \"sub-{session.info.BIDS.Subject}[/ses-{session.info.BIDS.Label}]/{file.info.BIDS.Folder}\"}, \"Task\": {\"$ref\": \"#/definitions/Task\"}}, \"required\": [\"Filename\", \"Task\"]}, \"physio_task_file\": {\"description\": \"BIDS template for physio files\", \"properties\": {\"Filename\": {\"type\": \"string\", \"title\": \"Filename\", \"default\": \"\", \"minLength\": 1, \"auto_update\": \"sub-{session.info.BIDS.Subject}[_ses-{session.info.BIDS.Label}]_task-{file.info.BIDS.Task}[_acq-{file.info.BIDS.Acq}][_rec-{file.info.BIDS.Rec}][_run-{file.info.BIDS.Run}][_echo-{file.info.BIDS.Echo}][_recording-{file.info.BIDS.recording}]_{file.info.BIDS.Modality}{ext}\"}, \"Folder\": {\"type\": \"string\", \"title\": \"Folder\", \"default\": \"func\"}, \"Path\": {\"type\": \"string\", \"title\": \"Path\", \"default\": \"\", \"auto_update\": \"sub-{session.info.BIDS.Subject}[/ses-{session.info.BIDS.Label}]/{file.info.BIDS.Folder}\"}, \"Acq\": {\"$ref\": \"#/definitions/Acq\"}, \"Task\": {\"$ref\": \"#/definitions/Task\"}, \"Rec\": {\"$ref\": \"#/definitions/Rec\"}, \"Run\": {\"$ref\": \"#/definitions/Run\"}, \"Echo\": {\"$ref\": \"#/definitions/Echo\"}, \"Recording\": {\"type\": \"string\", \"title\": \"Recording Label\", \"default\": \"\"}, \"Modality\": {\"type\": \"string\", \"title\": \"Modality Label\", \"default\": \"physio\", \"enum\": [\"stim\", \"physio\"]}}, \"required\": [\"Filename\", \"Task\", \"Modality\"]}, \"diffusion_file\": {\"description\": \"BIDS template for diffusion files\", \"properties\": {\"Filename\": {\"type\": \"string\", \"title\": \"Filename\", \"default\": \"\", \"minLength\": 1, \"auto_update\": \"sub-{session.info.BIDS.Subject}[_ses-{session.info.BIDS.Label}][_acq-{file.info.BIDS.Acq}][_run-{file.info.BIDS.Run}]_{file.info.BIDS.Modality}{ext}\"}, \"Folder\": {\"type\": \"string\", \"title\": \"Folder\", \"default\": \"dwi\"}, \"Path\": {\"type\": \"string\", \"title\": \"Path\", \"default\": \"\", \"auto_update\": \"sub-{session.info.BIDS.Subject}[/ses-{session.info.BIDS.Label}]/{file.info.BIDS.Folder}\"}, \"Acq\": {\"$ref\": \"#/definitions/Acq\"}, \"Run\": {\"$ref\": \"#/definitions/Run\"}, \"Modality\": {\"type\": \"string\", \"title\": \"Modality Label\", \"default\": \"dwi\", \"enum\": [\"dwi\", \"sbref\"]}}, \"required\": [\"Filename\", \"Modality\"]}, \"fieldmap_file\": {\"description\": \"BIDS template for field map files\", \"properties\": {\"Filename\": {\"type\": \"string\", \"title\": \"Filename\", \"default\": \"\", \"minLength\": 1, \"auto_update\": \"sub-{session.info.BIDS.Subject}[_ses-{session.info.BIDS.Label}][_acq-{file.info.BIDS.Acq}][_run-{file.info.BIDS.Run}][_dir-{file.info.BIDS.Dir}]_{file.info.BIDS.Modality}{ext}\"}, \"Folder\": {\"type\": \"string\", \"title\": \"Folder\", \"default\": \"fmap\"}, \"Path\": {\"type\": \"string\", \"title\": \"Path\", \"default\": \"\", \"auto_update\": \"sub-{session.info.BIDS.Subject}[/ses-{session.info.BIDS.Label}]/{file.info.BIDS.Folder}\"}, \"Acq\": {\"$ref\": \"#/definitions/Acq\"}, \"Run\": {\"$ref\": \"#/definitions/Run\"}, \"Dir\": {\"type\": \"string\", \"title\": \"Dir Label\", \"default\": \"\"}, \"IntendedFor\": {\"$ref\": \"#/definitions/IntendedFor\"}, \"Modality\": {\"type\": \"string\", \"title\": \"Modality Label\", \"default\": \"fieldmap\", \"enum\": [\"phasediff\", \"magnitude1\", \"magnitude2\", \"phase1\", \"phase2\", \"magnitude\", \"fieldmap\", \"epi\"]}}, \"required\": [\"Filename\", \"Modality\"]}, \"fieldmap_phase_encoded_file\": {\"description\": \"BIDS template for phase encoded field map files\", \"properties\": {\"Filename\": {\"type\": \"string\", \"label\": \"Filename\", \"default\": \"\", \"auto_update\": \"sub-{session.info.BIDS.Subject}[_ses-{session.info.BIDS.Label}][_acq-{file.info.BIDS.Acq}][_run-{file.info.BIDS.Run}]_dir-{file.info.BIDS.Dir}_{file.info.BIDS.Modality}{ext}\"}, \"Folder\": {\"type\": \"string\", \"label\": \"Folder\", \"default\": \"fmap\"}, \"Path\": {\"type\": \"string\", \"label\": \"Path\", \"default\": \"\", \"auto_update\": \"sub-{session.info.BIDS.Subject}[/ses-{session.info.BIDS.Label}]/{file.info.BIDS.Folder}\"}, \"Acq\": {\"type\": \"string\", \"label\": \"Acq Label\", \"default\": \"\"}, \"Run\": {\"type\": \"string\", \"label\": \"Run Index\", \"default\": \"\"}, \"Dir\": {\"type\": \"string\", \"label\": \"Dir Label\", \"default\": \"\"}, \"IntendedFor\": {\"$ref\": \"#/definitions/IntendedFor\"}, \"Modality\": {\"type\": \"string\", \"label\": \"Modality Label\", \"default\": \"epi\", \"enum\": [\"phasediff\", \"magnitude1\", \"magnitude2\", \"phase1\", \"phase2\", \"magnitude\", \"fieldmap\", \"epi\"]}}, \"required\": [\"Filename\", \"Folder\", \"Path\", \"Modality\", \"Dir\"]}, \"dicom_file\": {\"description\": \"BIDS template for DICOM files\", \"properties\": {\"Filename\": {\"$ref\": \"#/definitions/Filename\"}, \"Folder\": {\"type\": \"string\", \"title\": \"Folder\", \"default\": \"sourcedata\"}, \"Path\": {\"type\": \"string\", \"title\": \"Path\", \"default\": \"\", \"auto_update\": \"{file.info.BIDS.Folder}/sub-{session.info.BIDS.Subject}[/ses-{session.info.BIDS.Label}]\"}}, \"required\": [\"Filename\", \"Folder\"]}, \"json_file\": {\"description\": \"BIDS template for JSON files\", \"properties\": {\"Filename\": {\"$ref\": \"#/definitions/Filename\"}, \"Folder\": {\"type\": \"string\", \"title\": \"Folder\", \"default\": \"\"}, \"Path\": {\"type\": \"string\", \"title\": \"Path\", \"default\": \"\"}}, \"required\": [\"Filename\"]}}, \"rules\": [{\"id\": \"bids_project\", \"template\": \"project\", \"where\": {\"container_type\": \"project\"}}, {\"id\": \"bids_project_file\", \"template\": \"project_file\", \"where\": {\"container_type\": \"file\", \"parent_container_type\": \"project\"}}, {\"id\": \"bids_session\", \"template\": \"session\", \"where\": {\"container_type\": \"session\"}}, {\"id\": \"bids_session_file\", \"template\": \"session_file\", \"where\": {\"container_type\": \"file\", \"parent_container_type\": \"session\"}}, {\"id\": \"bids_acquisition\", \"template\": \"acquisition\", \"where\": {\"container_type\": \"acquisition\"}, \"initialize\": {\"ignore\": {\"$switch\": {\"$on\": \"acquisition.label\", \"$cases\": [{\"$regex\": \"(^|_)ignore-BIDS\", \"$value\": true}, {\"$default\": true, \"$value\": false}]}}}}, {\"id\": \"bids_anat_file\", \"template\": \"anat_file\", \"where\": {\"container_type\": \"file\", \"parent_container_type\": \"acquisition\", \"file.type\": {\"$in\": [\"nifti\", \"NIfTI\"]}, \"file.classification.Measurement\": {\"$in\": [\"T1\", \"PD\", \"T2\"]}, \"file.classification.Intent\": {\"$in\": [\"Structural\"]}}, \"initialize\": {\"Task\": {\"acquisition.label\": {\"$regex\": \"(^|_)task-(?P<value>[^-_]+)\"}}, \"Run\": {\"acquisition.label\": {\"$regex\": [\"(^|_)run-(?P<value>\\\\d+)\", \"(^|_)run(?P<value>[=+])\"]}, \"$run_counter\": {\"key\": \"anat.{file.info.BIDS.Task}\"}}}}, {\"id\": \"bids_func_file\", \"template\": \"func_file\", \"where\": {\"container_type\": \"file\", \"file.type\": {\"$in\": [\"nifti\", \"NIfTI\"]}, \"file.classification.Intent\": {\"$in\": [\"Functional\"]}}, \"initialize\": {\"Task\": {\"acquisition.label\": {\"$regex\": \"(^|_)task-(?P<value>[^-_]+)\"}}, \"Run\": {\"acquisition.label\": {\"$regex\": [\"(^|_)run-(?P<value>\\\\d+)\", \"(^|_)run(?P<value>[=+])\"]}, \"$run_counter\": {\"key\": \"functional.{file.info.BIDS.Task}\"}}, \"Modality\": {\"$switch\": {\"$on\": \"file.info.ImageType\", \"$cases\": [{\"$eq\": [\"ORIGINAL\", \"PRIMARY\", \"P\", \"ND\", \"MOSAIC\"], \"$value\": \"sbref\"}, {\"$eq\": [\"ORIGINAL\", \"PRIMARY\", \"M\", \"ND\", \"MOSAIC\"], \"$value\": \"sbref\"}, {\"$eq\": [\"ORIGINAL\", \"PRIMARY\", \"M\", \"ND\", \"NORM\", \"MOSAIC\"], \"$value\": \"sbref\"}]}}}}, {\"id\": \"bids_task_events_file\", \"template\": \"task_events_file\", \"where\": {\"container_type\": \"file\", \"file.type\": {\"$in\": [\"tabular data\", \"Tabular Data\"]}, \"file.classification.Intent\": {\"$in\": [\"Functional\"]}}, \"initialize\": {\"Task\": {\"acquisition.label\": {\"$regex\": \"(^|_)task-(?P<value>[^-_]+)\"}}, \"Run\": {\"acquisition.label\": {\"$regex\": [\"(^|_)run-(?P<value>\\\\d+)\", \"(^|_)run(?P<value>[=+])\"]}, \"$run_counter\": {\"key\": \"task_events.{file.info.BIDS.Task}\"}}}}, {\"id\": \"bids_task_events_file_by_name\", \"template\": \"task_events_file\", \"where\": {\"container_type\": \"file\", \"file.name\": {\"$regex\": \"^.*events\\\\.tsv$\"}}, \"initialize\": {\"Task\": {\"acquisition.label\": {\"$regex\": \"(^|_)task-(?P<value>[^-_]+)\"}}, \"Run\": {\"acquisition.label\": {\"$regex\": [\"(^|_)run-(?P<value>\\\\d+)\", \"(^|_)run(?P<value>[=+])\"]}, \"$run_counter\": {\"key\": \"task_events.{file.info.BIDS.Task}\"}}}}, {\"id\": \"bids_beh_events_file\", \"template\": \"beh_events_file\", \"where\": {\"container_type\": \"file\", \"file.type\": {\"$in\": [\"tabular data\", \"Tabular Data\"]}, \"file.classification.Custom\": {\"$in\": [\"Behavioral\"]}}, \"initialize\": {\"Task\": {\"acquisition.label\": {\"$regex\": \"(^|_)task-(?P<value>[^-_]+)\"}}}}, {\"id\": \"bids_physio_task_file\", \"template\": \"physio_task_file\", \"where\": {\"container_type\": \"file\", \"file.type\": {\"$in\": [\"tabular data\", \"Tabular Data\"]}, \"file.classification.Custom\": {\"$in\": [\"Physio\"]}}, \"initialize\": {\"Task\": {\"acquisition.label\": {\"$regex\": \"(^|_)task-(?P<value>[^-_]+)\"}}, \"Run\": {\"acquisition.label\": {\"$regex\": [\"(^|_)run-(?P<value>\\\\d+)\", \"(^|_)run(?P<value>[=+])\"]}, \"$run_counter\": {\"key\": \"physio.{file.info.BIDS.Task}\"}}}}, {\"id\": \"bids_diffusion_file\", \"template\": \"diffusion_file\", \"where\": {\"container_type\": \"file\", \"file.type\": {\"$in\": [\"nifti\", \"bvec\", \"bval\", \"NIfTI\", \"BVEC\", \"BVAL\"]}, \"file.classification.Measurement\": {\"$in\": [\"Diffusion\"]}, \"file.classification.Intent\": {\"$in\": [\"Structural\"]}}, \"initialize\": {\"Run\": {\"acquisition.label\": {\"$regex\": [\"(^|_)run-(?P<value>\\\\d+)\", \"(^|_)run(?P<value>[=+])\"]}, \"$run_counter\": {\"key\": \"diffusion\"}}}}, {\"id\": \"bids_fieldmap_phase_encoded_file\", \"template\": \"fieldmap_phase_encoded_file\", \"where\": {\"container_type\": \"file\", \"file.type\": {\"$in\": [\"nifti\", \"NIfTI\"]}, \"file.classification.Intent\": {\"$in\": [\"Fieldmap\"]}, \"acquisition.label\": {\"$regex\": \"[T|t]opup\"}}, \"initialize\": {\"Dir\": {\"$comment\": \"Currently matching bipedal orientations\", \"acquisition.label\": {\"$regex\": \"([^a-zA-Z0-9]|^)(?P<value>[aprlhfAPRLHF]{2})([^a-zA-Z0-9]|$)\"}}, \"Run\": {\"acquisition.label\": {\"$regex\": [\"(^|_)run-(?P<value>\\\\d+)\", \"(^|_)run(?P<value>[=+])\"]}, \"$run_counter\": {\"key\": \"field_map.{file.info.BIDS.Dir}\"}}}}, {\"id\": \"bids_fieldmap_file\", \"template\": \"fieldmap_file\", \"where\": {\"container_type\": \"file\", \"file.type\": {\"$in\": [\"nifti\", \"NIfTI\"]}, \"file.classification.Intent\": {\"$in\": [\"Fieldmap\"]}}, \"initialize\": {\"Run\": {\"acquisition.label\": {\"$regex\": [\"(^|_)run-(?P<value>\\\\d+)\", \"(^|_)run(?P<value>[=+])\"]}, \"$run_counter\": {\"key\": \"field_map\"}}}}, {\"id\": \"bids_dicom_file\", \"template\": \"dicom_file\", \"where\": {\"container_type\": \"file\", \"file.type\": {\"$in\": [\"dicom\", \"DICOM\"]}, \"file.classification.Intent\": {\"$in\": [\"Structural\", \"Fieldmap\", \"Functional\"]}}, \"initialize\": {\"Filename\": {\"file.name\": {\"$take\": true}}}}, {\"id\": \"bids_json_file\", \"template\": \"json_file\", \"where\": {\"container_type\": \"file\", \"file.type\": {\"$in\": [\"source code\", \"JSON\"]}}}], \"upload_rules\": [{\"id\": \"bids_acquisition_file\", \"template\": \"acquisition_file\", \"where\": {\"container_type\": \"file\", \"parent_container_type\": \"acquisition\"}}], \"resolvers\": [{\"id\": \"bids_intended_for\", \"templates\": [\"fieldmap_file\", \"fieldmap_phase_encoded_file\"], \"update\": \"file.info.IntendedFor\", \"filter\": \"file.info.BIDS.IntendedFor\", \"resolveFor\": \"session\", \"type\": \"file\", \"format\": \"[ses-{session.info.BIDS.Label}/]{file.info.BIDS.Folder}/{file.info.BIDS.Filename}\"}]}))\n",
       "        });\n",
       "      "
      ]
     },
     "metadata": {},
     "output_type": "display_data"
    }
   ],
   "source": [
    "RenderJSON(bids_v1_template)"
   ]
  },
  {
   "cell_type": "markdown",
   "metadata": {
    "slideshow": {
     "slide_type": "subslide"
    }
   },
   "source": [
    "Within the *definitions* are **Container Template** definitions, which refer to the pattern template applied to a particular Flywheel Container."
   ]
  },
  {
   "cell_type": "markdown",
   "metadata": {
    "slideshow": {
     "slide_type": "fragment"
    }
   },
   "source": [
    "_Definition_\n",
    "\n",
    "> Container Template: a portion of the Project Curation Template that dictates the information needed to structure one container, such as an anatomy file."
   ]
  },
  {
   "cell_type": "code",
   "execution_count": 4,
   "metadata": {
    "slideshow": {
     "slide_type": "skip"
    }
   },
   "outputs": [],
   "source": [
    "with open('assets/container_template_example.json') as jfile:\n",
    "    container_template = json.load(jfile)"
   ]
  },
  {
   "cell_type": "code",
   "execution_count": 5,
   "metadata": {
    "slideshow": {
     "slide_type": "subslide"
    }
   },
   "outputs": [
    {
     "data": {
      "text/html": [
       "<div id=\"7af11956-5a5f-4ccb-b9c0-1848eb4959e3\" style=\"height: 600px; width:100%;font: 22px/22px monospace !important;\"></div>"
      ]
     },
     "metadata": {},
     "output_type": "display_data"
    },
    {
     "data": {
      "application/javascript": [
       "\n",
       "        require([\"https://rawgit.com/caldwell/renderjson/master/renderjson.js\"], function() {\n",
       "            renderjson.set_show_to_level(2);\n",
       "            document.getElementById('7af11956-5a5f-4ccb-b9c0-1848eb4959e3').appendChild(renderjson({\"anat_file\": {\"description\": \"BIDS anat file template\", \"properties\": {\"Filename\": {\"type\": \"string\", \"title\": \"Filename\", \"default\": \"\", \"minLength\": 1, \"auto_update\": \"sub-{subject.code}[_ses-{session.info.BIDS.Label}][_acq-{file.info.BIDS.Acq}][_ce-{file.info.BIDS.Ce}][_rec-{file.info.BIDS.Rec}][_run-{file.info.BIDS.Run}][_mod-{file.info.BIDS.Mod}]_{file.info.BIDS.Modality}{ext}\"}, \"Folder\": {\"type\": \"string\", \"title\": \"Folder\", \"default\": \"anat\"}, \"Path\": {\"type\": \"string\", \"title\": \"Path\", \"default\": \"\", \"auto_update\": \"sub-{subject.code}[/ses-{session.info.BIDS.Label}]/{file.info.BIDS.Folder}\"}, \"Acq\": {\"$ref\": \"#/definitions/Acq\"}, \"Ce\": {\"$ref\": \"#/definitions/Ce\"}, \"Rec\": {\"$ref\": \"#/definitions/Rec\"}, \"Run\": {\"$ref\": \"#/definitions/Run\"}, \"Mod\": {\"$ref\": \"#/definitions/Mod\"}, \"Modality\": {\"type\": \"string\", \"title\": \"Modality Label\", \"default\": \"\", \"enum\": [\"T1w\", \"T2w\"]}}, \"required\": [\"Filename\", \"Modality\"]}}))\n",
       "        });\n",
       "      "
      ]
     },
     "metadata": {},
     "output_type": "display_data"
    }
   ],
   "source": [
    "RenderJSON(container_template)"
   ]
  },
  {
   "cell_type": "markdown",
   "metadata": {
    "slideshow": {
     "slide_type": "subslide"
    }
   },
   "source": [
    "_Definition_\n",
    "\n",
    "> BIDS Metadata: the set of metadata attached to a Flywheel Container (e.g., file, acquisition, session) that contains information for the BIDS standard stored as `info.BIDS.<METADATA>`. Defined via the Project Curation Template."
   ]
  },
  {
   "cell_type": "markdown",
   "metadata": {
    "slideshow": {
     "slide_type": "subslide"
    }
   },
   "source": [
    "Container Template | BIDS Metadata\n",
    "-------------------|--------------\n",
    "![](assets/container_template_properties.png) | ![](assets/bids_metadata_example.png)"
   ]
  },
  {
   "cell_type": "markdown",
   "metadata": {
    "slideshow": {
     "slide_type": "subslide"
    }
   },
   "source": [
    "To apply the **Container Template** definitions, the *rules* are applied as follows:\n",
    "\n",
    "1. Determine if an object encountered should have that **Container Template** applied (i.e., the where clause of the *rule* definition)\n",
    "\n",
    "2. If so, initialize the `<label>` and `<index>` sections for the chain of *entities*, or `key-value` pairs, relevant to the data type of the object encountered to capture the BIDS metadata necessary to stitch together the BIDS filename."
   ]
  },
  {
   "cell_type": "code",
   "execution_count": 6,
   "metadata": {
    "slideshow": {
     "slide_type": "skip"
    }
   },
   "outputs": [],
   "source": [
    "with open('assets/rules_example.json') as jfile:\n",
    "    rules_example = json.load(jfile)"
   ]
  },
  {
   "cell_type": "code",
   "execution_count": 7,
   "metadata": {
    "slideshow": {
     "slide_type": "subslide"
    }
   },
   "outputs": [
    {
     "data": {
      "text/html": [
       "<div id=\"f55a906a-576f-491d-a697-01e91628e2af\" style=\"height: 600px; width:100%;font: 22px/22px monospace !important;\"></div>"
      ]
     },
     "metadata": {},
     "output_type": "display_data"
    },
    {
     "data": {
      "application/javascript": [
       "\n",
       "        require([\"https://rawgit.com/caldwell/renderjson/master/renderjson.js\"], function() {\n",
       "            renderjson.set_show_to_level(2);\n",
       "            document.getElementById('f55a906a-576f-491d-a697-01e91628e2af').appendChild(renderjson({\"id\": \"bids_anat_file\", \"template\": \"anat_file\", \"where\": {\"container_type\": \"file\", \"parent_container_type\": \"acquisition\", \"file.type\": {\"$in\": [\"nifti\", \"NIfTI\"]}, \"file.classification.Intent\": {\"$in\": [\"Structural\"]}, \"acquisition.label\": {\"$regex\": \".*(anat(_.+|$))\"}}, \"initialize\": {\"Acq\": {\"acquisition.label\": {\"$regex\": \"(^|_)acq-(?P<value>.*?)(_(acq|ce|dir|echo|mod|proc|rec|recording|run|task)-|$|_)\"}}, \"Mod\": {\"acquisition.label\": {\"$regex\": \"(^|_)mod-(?P<value>.*?)(_(acq|ce|dir|echo|mod|proc|rec|recording|run|task)-|$|_)\"}}, \"Modality\": {\"acquisition.label\": {\"$regex\": \".*anat-(?P<value>.+?)(_)\"}}}}))\n",
       "        });\n",
       "      "
      ]
     },
     "metadata": {},
     "output_type": "display_data"
    }
   ],
   "source": [
    "RenderJSON(rules_example)"
   ]
  },
  {
   "cell_type": "markdown",
   "metadata": {
    "slideshow": {
     "slide_type": "slide"
    }
   },
   "source": [
    "## 6. Demo: Extend bids-v1.json"
   ]
  },
  {
   "cell_type": "code",
   "execution_count": 8,
   "metadata": {
    "slideshow": {
     "slide_type": "skip"
    }
   },
   "outputs": [],
   "source": [
    "with open('assets/bids-v1-extension-project-template.json') as jfile:\n",
    "    extension_example = json.load(jfile)"
   ]
  },
  {
   "cell_type": "markdown",
   "metadata": {
    "slideshow": {
     "slide_type": "subslide"
    }
   },
   "source": [
    "🧑🏾‍💻 _Debug Protip_ 🧑🏾‍💻\n",
    "\n",
    "> Check your Project Curation Template with a JSON linter to ensure proper syntax. For example: https://jsoneditoronline.org/"
   ]
  },
  {
   "cell_type": "markdown",
   "metadata": {
    "slideshow": {
     "slide_type": "subslide"
    }
   },
   "source": [
    "👩🏻‍💻 _Debug Protip_ 👩🏻‍💻\n",
    "\n",
    "> Check your regular expressions against the strings you are parsing (e.g., acquisition.label). For example: https://regex101.com/"
   ]
  },
  {
   "cell_type": "code",
   "execution_count": 9,
   "metadata": {
    "slideshow": {
     "slide_type": "subslide"
    }
   },
   "outputs": [
    {
     "data": {
      "text/html": [
       "<div id=\"72d87a17-2c7b-4570-88ea-d4ec273d8581\" style=\"height: 600px; width:100%;font: 22px/22px monospace !important;\"></div>"
      ]
     },
     "metadata": {},
     "output_type": "display_data"
    },
    {
     "data": {
      "application/javascript": [
       "\n",
       "        require([\"https://rawgit.com/caldwell/renderjson/master/renderjson.js\"], function() {\n",
       "            renderjson.set_show_to_level(2);\n",
       "            document.getElementById('72d87a17-2c7b-4570-88ea-d4ec273d8581').appendChild(renderjson({\"extends\": \"bids-v1\", \"description\": \"Additional rules for matching project data\", \"definitions\": {}, \"exclude_rules\": [\"bids_anat_file\"], \"rules\": [{\"id\": \"bids_anat_file_extended\", \"template\": \"anat_file\", \"where\": {\"container_type\": \"file\", \"parent_container_type\": \"acquisition\", \"file.type\": {\"$in\": [\"nifti\", \"NIfTI\"]}, \"file.classification.Measurement\": {\"$in\": [\"T1\", \"PD\", \"T2\"]}, \"file.classification.Intent\": {\"$in\": [\"Structural\"]}}, \"initialize\": {\"Acq\": {\"acquisition.label\": {\"$regex\": \"(^|_)acq-(?P<value>.*?)(_(acq|ce|dir|echo|mod|proc|rec|recording|run|task)-|$|_)\"}}}}]}))\n",
       "        });\n",
       "      "
      ]
     },
     "metadata": {},
     "output_type": "display_data"
    }
   ],
   "source": [
    "RenderJSON(extension_example)"
   ]
  }
 ],
 "metadata": {
  "celltoolbar": "Slideshow",
  "kernelspec": {
   "display_name": "Python 3",
   "language": "python",
   "name": "python3"
  },
  "language_info": {
   "codemirror_mode": {
    "name": "ipython",
    "version": 3
   },
   "file_extension": ".py",
   "mimetype": "text/x-python",
   "name": "python",
   "nbconvert_exporter": "python",
   "pygments_lexer": "ipython3",
   "version": "3.8.3"
  },
  "rise": {
   "autolaunch": false,
   "enable_chalkboard": true,
   "scroll": true,
   "theme": "simple",
   "transition": "none"
  }
 },
 "nbformat": 4,
 "nbformat_minor": 4
}
