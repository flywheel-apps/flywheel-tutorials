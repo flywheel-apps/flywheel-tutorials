{
  "nbformat": 4,
  "nbformat_minor": 0,
  "metadata": {
    "kernelspec": {
      "display_name": "Python 3",
      "language": "python",
      "name": "python3"
    },
    "language_info": {
      "codemirror_mode": {
        "name": "ipython",
        "version": 3
      },
      "file_extension": ".py",
      "mimetype": "text/x-python",
      "name": "python",
      "nbconvert_exporter": "python",
      "pygments_lexer": "ipython3",
      "version": "3.7.6"
    },
    "colab": {
      "name": "rename_moco_acq_label.ipynb",
      "provenance": []
    }
  },
  "cells": [
    {
      "cell_type": "markdown",
      "metadata": {
        "id": "dDuyJAjKpFBy",
        "colab_type": "text"
      },
      "source": [
        "**Title**: Update MoCo Acquisition Label \n",
        "\n",
        "**Date**:  04-03-2020  \n",
        "\n",
        "**Description**:  \n",
        "This notebook is used to rename MoCo Series based on the Scan Name, end with `_moco` prefix \n",
        "\n",
        "**Functions**: \n",
        "\n",
        "1.   `get_scan_moco_label` : Identify the original scan label\n",
        "2.   `modify_acq_name` : Modify Acquisition name based on the session timepoint\n",
        "3.  `update_acq_label` : Update the acquisition label on the FW instances\n",
        "\n",
        "\n",
        "\n"
      ]
    },
    {
      "cell_type": "markdown",
      "metadata": {
        "id": "dF3r6oQypFBy",
        "colab_type": "text"
      },
      "source": [
        "# Install and import dependencies"
      ]
    },
    {
      "cell_type": "code",
      "metadata": {
        "id": "tnHysje2pFBz",
        "colab_type": "code",
        "colab": {}
      },
      "source": [
        "# Install specific packages required for this notebook\n",
        "!pip install flywheel-sdk pandas"
      ],
      "execution_count": 0,
      "outputs": []
    },
    {
      "cell_type": "code",
      "metadata": {
        "id": "VSRqCbbapFB3",
        "colab_type": "code",
        "colab": {}
      },
      "source": [
        "# Import packages\n",
        "from getpass import getpass\n",
        "import logging\n",
        "import os\n",
        "\n",
        "import pandas as pd\n",
        "import flywheel"
      ],
      "execution_count": 0,
      "outputs": []
    },
    {
      "cell_type": "code",
      "metadata": {
        "id": "vl-njZHWpFB6",
        "colab_type": "code",
        "colab": {}
      },
      "source": [
        "# Instantiate a logger\n",
        "logging.basicConfig(level=logging.INFO, format='%(asctime)s %(levelname)s %(message)s')\n",
        "log = logging.getLogger('root')"
      ],
      "execution_count": 0,
      "outputs": []
    },
    {
      "cell_type": "markdown",
      "metadata": {
        "id": "ESBJdNiJpFB9",
        "colab_type": "text"
      },
      "source": [
        "# Flywheel API Key and Client"
      ]
    },
    {
      "cell_type": "markdown",
      "metadata": {
        "id": "P8a20roWpFB-",
        "colab_type": "text"
      },
      "source": [
        "Get a API_KEY. More on this at in the Flywheel SDK doc [here](https://flywheel-io.gitlab.io/product/backend/sdk/branches/master/python/getting_started.html#api-key)."
      ]
    },
    {
      "cell_type": "code",
      "metadata": {
        "id": "LWkEZ-JTpFB-",
        "colab_type": "code",
        "colab": {}
      },
      "source": [
        "API_KEY = getpass('Enter API_KEY here: ')"
      ],
      "execution_count": 0,
      "outputs": []
    },
    {
      "cell_type": "markdown",
      "metadata": {
        "id": "yl1SuWIdpFCB",
        "colab_type": "text"
      },
      "source": [
        "Instantiate the Flywheel API client"
      ]
    },
    {
      "cell_type": "code",
      "metadata": {
        "id": "yW3kAGFPpFCB",
        "colab_type": "code",
        "colab": {}
      },
      "source": [
        "fw = flywheel.Client(API_KEY or os.environ.get('FW_KEY'))"
      ],
      "execution_count": 0,
      "outputs": []
    },
    {
      "cell_type": "markdown",
      "metadata": {
        "id": "eav3GTHjpFCE",
        "colab_type": "text"
      },
      "source": [
        "Show Flywheel logging information"
      ]
    },
    {
      "cell_type": "code",
      "metadata": {
        "id": "0vk4MutVpFCF",
        "colab_type": "code",
        "colab": {}
      },
      "source": [
        "log.info('You are now logged in as %s to %s', fw.get_current_user()['email'], fw.get_config()['site']['api_url'])"
      ],
      "execution_count": 0,
      "outputs": []
    },
    {
      "cell_type": "markdown",
      "metadata": {
        "id": "ADS0ARESpFCI",
        "colab_type": "text"
      },
      "source": [
        "# Constants"
      ]
    },
    {
      "cell_type": "code",
      "metadata": {
        "id": "4-ufv-kEpFCJ",
        "colab_type": "code",
        "colab": {}
      },
      "source": [
        "PROJECT_LABEL = input('Enter your project label here: ')"
      ],
      "execution_count": 0,
      "outputs": []
    },
    {
      "cell_type": "markdown",
      "metadata": {
        "id": "7PFbx2E2pFCO",
        "colab_type": "text"
      },
      "source": [
        "# Helper functions"
      ]
    },
    {
      "cell_type": "code",
      "metadata": {
        "id": "8kKuI4rxpFCP",
        "colab_type": "code",
        "colab": {}
      },
      "source": [
        "def update_moco_acq_label(acq_list):\n",
        "  \"\"\"Return `acq_list` with the updated MoCo label.\n",
        "\n",
        "  The `acq_label` is updated if the `acq_label` starts with ('MoCo') or ends with ('_moco') as well as the previous `acq_label` item in the `acq_list`.\n",
        "\n",
        "  Args:\n",
        "       acq_list : List of dictionaries that consists of \n",
        "                  each acquisition label (`acq_label`), \n",
        "                  acquisition id (`acq_id`) ,and \n",
        "                  series number (`series_number`) \n",
        "                  on one Session\n",
        "       \n",
        "    Returns:\n",
        "       (list): `acq_list` with updated label name if label name is modified, NaN otherwise.\n",
        "\n",
        "  \"\"\"\n",
        "\n",
        "  for index, acq in enumerate(acq_list):\n",
        "\n",
        "    acq_label = acq['acq_label']\n",
        "\n",
        "    if acq_label.startswith('MoCo') or acq_label.endswith('_moco'):\n",
        "      # Get the original scan label (item before MoCo series is generated)\n",
        "      scan_acq_label = acq_list[index - 1]['acq_label']\n",
        "      scan_acq_id = acq_list[index - 1]['acq_id']\n",
        "      # modified the original scan label and update on the acquisition container\n",
        "      new_scan_label = modify_acq_name(scan_acq_label)\n",
        "      acq_list[index-1]['updated_label'] = new_scan_label\n",
        "      update_acq_label(scan_acq_id, new_scan_label)\n",
        "      # Rename the label for MoCo series with modified acq_label that ends with '_moco' prefix\n",
        "      moco_label = new_scan_label + '_moco'\n",
        "      acq_list[index]['updated_label'] = moco_label\n",
        "      update_acq_label(acq['acq_id'], moco_label)\n",
        "\n",
        "\n",
        "  return acq_list\n",
        "\n",
        "def modify_acq_name(acq_name):\n",
        "    \"\"\"Get the modified Acquisition Label Name.\n",
        "\n",
        "    Note: \n",
        "        This function can be modified accordingly based on how you would like to structure your acquisition label.\n",
        "\n",
        "    Args:\n",
        "        acq_name (str) : Name for the Acquisition\n",
        "\n",
        "    Returns:\n",
        "      (str): `acq_name` with updated value if they matches the prefix\n",
        "    \"\"\"\n",
        "    \n",
        "    separator = '_'\n",
        "\n",
        "    # In this use case, `r1` means run 1 and if the label ends either with `_0` or `_1` will be identified as run 2 and run 3 respectively\n",
        "    if acq_name.endswith('_0'):\n",
        "        split_name = acq_name.replace('0', 'r2').split(separator)\n",
        "        acq_name = split_name[0] + '_' + split_name[2]\n",
        "    elif acq_name.endswith('_1'):\n",
        "        split_name = acq_name.replace('_1', '_r3').split(separator)\n",
        "        acq_name = split_name[0] + '_' + split_name[2]\n",
        "    elif acq_name.endswith('fmri'):\n",
        "        split_name = acq_name.replace('_fmri', '_r1').split(separator)\n",
        "        acq_name = split_name[0] + '_' + split_name[1]\n",
        "\n",
        "    return acq_name\n",
        "\n",
        "\n",
        "def update_acq_label(acq_id, new_label):\n",
        "\n",
        "  \"\"\"Update the acquisition label on the project container.\n",
        "\n",
        "  Args:\n",
        "        acq_id (str) : Acquisition ID\n",
        "        new_label (str) : Updated Acquisition Label\n",
        "        \n",
        "  \"\"\"\n",
        "  new_acq_object = flywheel.models.Acquisition(label = new_label)\n",
        "  # modifying the acquisition label here \n",
        "  fw.modify_acquisition(acquisition_id= acq_id, body = new_acq_object)"
      ],
      "execution_count": 0,
      "outputs": []
    },
    {
      "cell_type": "markdown",
      "metadata": {
        "id": "KsUQzqT3pFCU",
        "colab_type": "text"
      },
      "source": [
        "# Main script"
      ]
    },
    {
      "cell_type": "markdown",
      "metadata": {},
      "source": [
        "Here we will be iterating through each sessions and respective acquisitions, within the project container, to get the `series_number`, `acq_label` and the `acq_id`. Then we will call the `update_moco_acq_label` function to update the acquisition label. "
      ]
    },
    {
      "cell_type": "code",
      "metadata": {
        "id": "7dSNsglcpFCY",
        "colab_type": "code",
        "colab": {}
      },
      "source": [
        "# Get the project container\n",
        "project = fw.projects.find_first(f'label={PROJECT_LABEL}')\n",
        "# Generate an empty dataframe to be append later\n",
        "df = pd.DataFrame()\n",
        "\n",
        "for session in project.sessions.iter():\n",
        "    # session_name = session.label\n",
        "    all_acq_list = []\n",
        "    for acquisition in session.acquisitions.iter():\n",
        "        # reload is necessary to load the entire acquisition\n",
        "        acquisition = acquisition.reload()\n",
        "\n",
        "        for file in acquisition.files:\n",
        "            if file['type'] == 'dicom':\n",
        "                item = {\n",
        "                    'series_number': file.info.get('SeriesNumber'),\n",
        "                    'acq_label': acquisition.label,\n",
        "                    'acq_id': acquisition.id\n",
        "                }\n",
        "                all_acq_list.append(item)\n",
        "    \n",
        "    # sort the list by their series number that is generated from the scanner\n",
        "    all_acq_list = sorted(all_acq_list, key=lambda k: k['series_number'])\n",
        "\n",
        "    acq_list = update_moco_acq_label(all_acq_list)\n",
        "    # to vizualize what has been modified in a tableview.\n",
        "    df = df.append(acq_list, ignore_index=True)\n"
      ],
      "execution_count": 0,
      "outputs": []
    },
    {
      "cell_type": "markdown",
      "metadata": {
        "id": "v2rZHJOn5-gc",
        "colab_type": "text"
      },
      "source": [
        "# Display Updated Acquisition Label\n"
      ]
    },
    {
      "cell_type": "code",
      "metadata": {
        "id": "97f6EHh00M-n",
        "colab_type": "code",
        "colab": {}
      },
      "source": [
        "pd.options.display.max_columns = None\n",
        "\n",
        "display(df.head(50))"
      ],
      "execution_count": 0,
      "outputs": []
    }
  ]
}