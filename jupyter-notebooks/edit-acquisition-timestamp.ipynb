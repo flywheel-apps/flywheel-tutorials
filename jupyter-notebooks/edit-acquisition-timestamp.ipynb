{
 "cells": [
  {
   "cell_type": "markdown",
   "metadata": {
    "colab_type": "text",
    "id": "dDuyJAjKpFBy"
   },
   "source": [
    "**Title**: Update Acquisition container timestamp (shown in UI) from Dicom Tag SeriesTime in Dicom file \n",
    "\n",
    "**Date**:  04-03-2020  \n",
    "\n",
    "**Description**:  \n",
    "This notebook can be used to update the Acquisition container timestamp (shown in UI) is not correct.  \n",
    "\n",
    "\n",
    "\n",
    "\n",
    "\n"
   ]
  },
  {
   "cell_type": "markdown",
   "metadata": {
    "colab_type": "text",
    "id": "dF3r6oQypFBy"
   },
   "source": [
    "# Install and import dependencies"
   ]
  },
  {
   "cell_type": "code",
   "execution_count": null,
   "metadata": {
    "colab": {},
    "colab_type": "code",
    "id": "tnHysje2pFBz"
   },
   "outputs": [],
   "source": [
    "# Install specific packages required for this notebook\n",
    "!pip install flywheel-sdk pandas"
   ]
  },
  {
   "cell_type": "code",
   "execution_count": null,
   "metadata": {
    "colab": {},
    "colab_type": "code",
    "id": "VSRqCbbapFB3"
   },
   "outputs": [],
   "source": [
    "# Import packages\n",
    "from getpass import getpass\n",
    "import logging\n",
    "import os\n",
    "import datetime\n",
    "\n",
    "import pandas as pd\n",
    "import flywheel\n",
    "from permission import check_user_permission\n"
   ]
  },
  {
   "cell_type": "code",
   "execution_count": null,
   "metadata": {
    "colab": {},
    "colab_type": "code",
    "id": "vl-njZHWpFB6"
   },
   "outputs": [],
   "source": [
    "# Instantiate a logger\n",
    "logging.basicConfig(level=logging.INFO, format='%(asctime)s %(levelname)s %(message)s')\n",
    "log = logging.getLogger('root')"
   ]
  },
  {
   "cell_type": "markdown",
   "metadata": {
    "colab_type": "text",
    "id": "ESBJdNiJpFB9"
   },
   "source": [
    "# Flywheel API Key and Client"
   ]
  },
  {
   "cell_type": "code",
   "execution_count": null,
   "metadata": {
    "colab": {},
    "colab_type": "code",
    "id": "LWkEZ-JTpFB-"
   },
   "outputs": [],
   "source": [
    "API_KEY = getpass('Enter API_KEY here: ')"
   ]
  },
  {
   "cell_type": "markdown",
   "metadata": {
    "colab_type": "text",
    "id": "yl1SuWIdpFCB"
   },
   "source": [
    "Instantiate the Flywheel API client"
   ]
  },
  {
   "cell_type": "code",
   "execution_count": null,
   "metadata": {
    "colab": {},
    "colab_type": "code",
    "id": "yW3kAGFPpFCB"
   },
   "outputs": [],
   "source": [
    "fw = flywheel.Client(API_KEY if 'API_KEY' in locals() else os.environ.get('FW_KEY'))"
   ]
  },
  {
   "cell_type": "markdown",
   "metadata": {
    "colab_type": "text",
    "id": "eav3GTHjpFCE"
   },
   "source": [
    "Show Flywheel logging information"
   ]
  },
  {
   "cell_type": "code",
   "execution_count": null,
   "metadata": {
    "colab": {},
    "colab_type": "code",
    "id": "0vk4MutVpFCF"
   },
   "outputs": [],
   "source": [
    "log.info('You are now logged in as %s to %s', fw.get_current_user()['email'], fw.get_config()['site']['api_url'])"
   ]
  },
  {
   "cell_type": "markdown",
   "metadata": {
    "colab_type": "text",
    "id": "ADS0ARESpFCI"
   },
   "source": [
    "# Constants"
   ]
  },
  {
   "cell_type": "code",
   "execution_count": null,
   "metadata": {
    "colab": {},
    "colab_type": "code",
    "id": "4-ufv-kEpFCJ"
   },
   "outputs": [],
   "source": [
    "PROJECT_LABEL = input('Enter your project label here: ')\n",
    "\n",
    "project = fw.projects.find_first(f'label={PROJECT_LABEL}')\n"
   ]
  },
  {
   "cell_type": "markdown",
   "metadata": {},
   "source": [
    "# Requirements\n",
    "\n",
    "Before starting off, we want to check your permission on the Flywheel Instance in order to proceed in this notebook. "
   ]
  },
  {
   "cell_type": "code",
   "execution_count": null,
   "metadata": {},
   "outputs": [],
   "source": [
    "min_reqs = {\n",
    "\"site\": \"user\",\n",
    "\"group\": \"ro\",\n",
    "\"project\": ['containers_modify_metadata','files_view_metadata','files_view_contents','files_modify_metadata']\n",
    "}"
   ]
  },
  {
   "cell_type": "markdown",
   "metadata": {},
   "source": [
    "<div class=\"alert alert-block alert-info\" style=\"color:black\"><b>Tip:</b> Group ID and Project Label can be found on top of the Project page on the Flywheel Instance as shown in the snippet below.</div>\n",
    "\n",
    "<img src=\"https://gitlab.com/flywheel-io/public/flywheel-tutorials/-/raw/update-old-notebooks-and-TOC/python/assets/find-group-id-and-project-label.png\" title=\"how-to-find-group-id-and-project-label\"/>"
   ]
  },
  {
   "cell_type": "code",
   "execution_count": null,
   "metadata": {},
   "outputs": [],
   "source": [
    "GROUP_ID = input('Please enter the Group ID that you will be working with: ')"
   ]
  },
  {
   "cell_type": "markdown",
   "metadata": {},
   "source": [
    "`check_user_permission` will return True if both the group and project meet the minimum requirement, else a compatible list will be printed."
   ]
  },
  {
   "cell_type": "code",
   "execution_count": null,
   "metadata": {},
   "outputs": [],
   "source": [
    "check_user_permission(fw, min_reqs, group=GROUP_ID, project=PROJECT_LABEL)"
   ]
  },
  {
   "cell_type": "markdown",
   "metadata": {
    "colab_type": "text",
    "id": "7PFbx2E2pFCO"
   },
   "source": [
    "# Helper functions"
   ]
  },
  {
   "cell_type": "code",
   "execution_count": null,
   "metadata": {
    "colab": {},
    "colab_type": "code",
    "id": "8kKuI4rxpFCP"
   },
   "outputs": [],
   "source": [
    "def update_acquisition_timestamp(item):\n",
    "    \"\"\"Get and modify the updated timestamp., if there is any discrepancy between the two timestamps.\n",
    "\n",
    "    Args:\n",
    "        item (dict): Dictionary with the following required keys: 'timestamp', 'series_time', 'acq_id'\n",
    "\n",
    "    Return:\n",
    "\n",
    "        (datetime): Updated Timestamp\n",
    "\n",
    "    \"\"\"\n",
    "\n",
    "    correctTmstmp = modify_time(item['timestamp'], item['series_time'])\n",
    "    #only update the container if there is any changes\n",
    "    if correctTmstmp != item['timestamp']:\n",
    "        update_container_timestamp(item['acq_id'], correctTmstmp)  \n",
    "    return correctTmstmp\n",
    "\n",
    "\n",
    "def modify_time(timestamp, series_time):\n",
    "    \"\"\"Modify the timestamp.\n",
    "\n",
    "    Args:\n",
    "        timestamp (datetime): Timestamp \n",
    "        series_time (datetime): Reference Timestamp\n",
    "\n",
    "    Return:\n",
    "\n",
    "        (datetime): Updated Timestamp\n",
    "\n",
    "    \"\"\"\n",
    "\n",
    "    if (timestamp.hour != series_time.hour) or (timestamp.minute != series_time.minute) or (timestamp.second != series_time.second):\n",
    "        timestamp = timestamp.replace(hour=series_time.hour, minute=series_time.minute, second=series_time.second)\n",
    "    return timestamp\n",
    "\n",
    "\n",
    "def update_container_timestamp(acq_id, ts):\n",
    "    \"\"\"Update the acquisition container timestamp with `ts`. \n",
    "\n",
    "    Args:\n",
    "        acq_id (str) : Acquisition ID\n",
    "        ts (datetime) : Timestamp\n",
    "\n",
    "    \"\"\"\n",
    "    acq = fw.get_acquisition(acq_id)\n",
    "    acq.update({'timestamp': ts})"
   ]
  },
  {
   "cell_type": "markdown",
   "metadata": {
    "colab_type": "text",
    "id": "KsUQzqT3pFCU"
   },
   "source": [
    "# Main script"
   ]
  },
  {
   "cell_type": "markdown",
   "metadata": {},
   "source": [
    "Here, we will get the acquistion container timestamp (`timestamp`) and the series timestamp (`series_time`) generated from the DICOM file. The `get_updated_timestamp` function will be call and return with the updated_timestamp."
   ]
  },
  {
   "cell_type": "code",
   "execution_count": null,
   "metadata": {
    "colab": {},
    "colab_type": "code",
    "id": "7dSNsglcpFCY"
   },
   "outputs": [],
   "source": [
    "df = pd.DataFrame()\n",
    "\n",
    "for session in project.sessions.iter():\n",
    "    for acquisition in session.acquisitions.iter():\n",
    "        #reload is necessary to load the entire acquisition\n",
    "        acquisition = acquisition.reload()\n",
    "        for file in acquisition.files : \n",
    "            if file['type'] == 'dicom':\n",
    "                item = {\n",
    "                    'series_number': file.info.get('SeriesNumber'),\n",
    "                    'acq_label': acquisition.label,\n",
    "                    'acq_id': acquisition.id, \n",
    "                    'timestamp': acquisition.timestamp,\n",
    "                    'series_time': datetime.datetime.strptime(file.info.get('SeriesTime'), '%H%M%S.%f'), \n",
    "                  }    \n",
    "                item['updated_timestamp'] = update_acquisition_timestamp(item)\n",
    "\n",
    "                # append to the table\n",
    "                df = df.append(item, ignore_index=True)\n"
   ]
  },
  {
   "cell_type": "markdown",
   "metadata": {
    "colab_type": "text",
    "id": "v2rZHJOn5-gc"
   },
   "source": [
    "## Display Updated Acquisition Info\n"
   ]
  },
  {
   "cell_type": "code",
   "execution_count": 33,
   "metadata": {
    "colab": {},
    "colab_type": "code",
    "id": "97f6EHh00M-n"
   },
   "outputs": [
    {
     "data": {
      "text/html": [
       "<div>\n",
       "<style scoped>\n",
       "    .dataframe tbody tr th:only-of-type {\n",
       "        vertical-align: middle;\n",
       "    }\n",
       "\n",
       "    .dataframe tbody tr th {\n",
       "        vertical-align: top;\n",
       "    }\n",
       "\n",
       "    .dataframe thead th {\n",
       "        text-align: right;\n",
       "    }\n",
       "</style>\n",
       "<table border=\"1\" class=\"dataframe\">\n",
       "  <thead>\n",
       "    <tr style=\"text-align: right;\">\n",
       "      <th></th>\n",
       "      <th>series_time</th>\n",
       "      <th>timestamp</th>\n",
       "      <th>updated_timestamp</th>\n",
       "    </tr>\n",
       "  </thead>\n",
       "  <tbody>\n",
       "    <tr>\n",
       "      <th>0</th>\n",
       "      <td>1900-01-01 13:28:08.418</td>\n",
       "      <td>2019-10-27 13:30:08+00:00</td>\n",
       "      <td>2019-10-27 13:28:08+00:00</td>\n",
       "    </tr>\n",
       "    <tr>\n",
       "      <th>1</th>\n",
       "      <td>1900-01-01 13:12:28.470</td>\n",
       "      <td>2019-10-27 13:14:14+00:00</td>\n",
       "      <td>2019-10-27 13:12:28+00:00</td>\n",
       "    </tr>\n",
       "    <tr>\n",
       "      <th>2</th>\n",
       "      <td>1900-01-01 13:40:49.388</td>\n",
       "      <td>2019-10-27 13:30:45+00:00</td>\n",
       "      <td>2019-10-27 13:40:49+00:00</td>\n",
       "    </tr>\n",
       "    <tr>\n",
       "      <th>3</th>\n",
       "      <td>1900-01-01 13:40:18.805</td>\n",
       "      <td>2019-10-27 08:24:33+00:00</td>\n",
       "      <td>2019-10-27 13:40:18+00:00</td>\n",
       "    </tr>\n",
       "    <tr>\n",
       "      <th>4</th>\n",
       "      <td>1900-01-01 12:28:54.360</td>\n",
       "      <td>2019-10-27 12:28:35+00:00</td>\n",
       "      <td>2019-10-27 12:28:54+00:00</td>\n",
       "    </tr>\n",
       "    <tr>\n",
       "      <th>5</th>\n",
       "      <td>1900-01-01 12:59:48.381</td>\n",
       "      <td>2019-10-27 13:03:34+00:00</td>\n",
       "      <td>2019-10-27 12:59:48+00:00</td>\n",
       "    </tr>\n",
       "    <tr>\n",
       "      <th>6</th>\n",
       "      <td>1900-01-01 12:59:48.265</td>\n",
       "      <td>2019-10-27 13:03:32+00:00</td>\n",
       "      <td>2019-10-27 12:59:48+00:00</td>\n",
       "    </tr>\n",
       "    <tr>\n",
       "      <th>7</th>\n",
       "      <td>1900-01-01 12:28:54.324</td>\n",
       "      <td>2019-10-27 12:28:35+00:00</td>\n",
       "      <td>2019-10-27 12:28:54+00:00</td>\n",
       "    </tr>\n",
       "    <tr>\n",
       "      <th>8</th>\n",
       "      <td>1900-01-01 13:26:22.327</td>\n",
       "      <td>2019-10-27 13:15:31+00:00</td>\n",
       "      <td>2019-10-27 13:26:22+00:00</td>\n",
       "    </tr>\n",
       "    <tr>\n",
       "      <th>9</th>\n",
       "      <td>1900-01-01 13:05:28.439</td>\n",
       "      <td>2019-10-27 13:08:44+00:00</td>\n",
       "      <td>2019-10-27 13:05:28+00:00</td>\n",
       "    </tr>\n",
       "  </tbody>\n",
       "</table>\n",
       "</div>"
      ],
      "text/plain": [
       "              series_time                  timestamp  \\\n",
       "0 1900-01-01 13:28:08.418  2019-10-27 13:30:08+00:00   \n",
       "1 1900-01-01 13:12:28.470  2019-10-27 13:14:14+00:00   \n",
       "2 1900-01-01 13:40:49.388  2019-10-27 13:30:45+00:00   \n",
       "3 1900-01-01 13:40:18.805  2019-10-27 08:24:33+00:00   \n",
       "4 1900-01-01 12:28:54.360  2019-10-27 12:28:35+00:00   \n",
       "5 1900-01-01 12:59:48.381  2019-10-27 13:03:34+00:00   \n",
       "6 1900-01-01 12:59:48.265  2019-10-27 13:03:32+00:00   \n",
       "7 1900-01-01 12:28:54.324  2019-10-27 12:28:35+00:00   \n",
       "8 1900-01-01 13:26:22.327  2019-10-27 13:15:31+00:00   \n",
       "9 1900-01-01 13:05:28.439  2019-10-27 13:08:44+00:00   \n",
       "\n",
       "           updated_timestamp  \n",
       "0  2019-10-27 13:28:08+00:00  \n",
       "1  2019-10-27 13:12:28+00:00  \n",
       "2  2019-10-27 13:40:49+00:00  \n",
       "3  2019-10-27 13:40:18+00:00  \n",
       "4  2019-10-27 12:28:54+00:00  \n",
       "5  2019-10-27 12:59:48+00:00  \n",
       "6  2019-10-27 12:59:48+00:00  \n",
       "7  2019-10-27 12:28:54+00:00  \n",
       "8  2019-10-27 13:26:22+00:00  \n",
       "9  2019-10-27 13:05:28+00:00  "
      ]
     },
     "execution_count": 33,
     "metadata": {},
     "output_type": "execute_result"
    }
   ],
   "source": [
    "df.iloc[:, [3,4,5]].head(10)"
   ]
  }
 ],
 "metadata": {
  "colab": {
   "name": "edit_acquisition_timestamp.ipynb",
   "provenance": []
  },
  "kernelspec": {
   "display_name": "Python 3",
   "language": "python",
   "name": "python3"
  },
  "language_info": {
   "codemirror_mode": {
    "name": "ipython",
    "version": 3
   },
   "file_extension": ".py",
   "mimetype": "text/x-python",
   "name": "python",
   "nbconvert_exporter": "python",
   "pygments_lexer": "ipython3",
   "version": "3.7.6"
  }
 },
 "nbformat": 4,
 "nbformat_minor": 4
}
