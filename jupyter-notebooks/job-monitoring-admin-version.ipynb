{
 "cells": [
  {
   "cell_type": "markdown",
   "metadata": {},
   "source": [
    "**Title**: Job Monitoring - Admin Version\n",
    "\n",
    "**Date**:  July 9th 2020\n",
    "\n",
    "**Description**:  \n",
    "A simple tutorial about job monitoring for Admin only. \n",
    "\n",
    "Topics that are included:\n",
    "1. Jobs that I have launched\n",
    "2. Filter jobs based on gear name, date range, and state\n",
    "3. Cancelling Jobs\n",
    "4. Restarting Jobs\n",
    "5. Get summary of job status"
   ]
  },
  {
   "cell_type": "markdown",
   "metadata": {},
   "source": [
    "Capture information about jobs: Execution time, queue time, by job, sorting, plots with information about the job id on hover "
   ]
  },
  {
   "cell_type": "markdown",
   "metadata": {},
   "source": [
    "### **Requirements**:\n",
    "1. Access to a Flywheel instance.\n",
    "3. A Flywheel API key.\n",
    "2. A Flywheel Project with ideally the dataset used in the [upload-data notebook](https://gitlab.com/flywheel-io/public/flywheel-tutorials/-/blob/master/python/upload-data-to-a-new-project.ipynb).\n",
    "2. Site Admin Permission\n",
    "3. Have some jobs running in your Flywheel Project"
   ]
  },
  {
   "cell_type": "markdown",
   "metadata": {},
   "source": [
    "<div class=\"alert alert-block alert-warning\" >\n",
    "    <b>NOTE:</b> This notebook is using a test dataset provided by the <a href=\"https://gitlab.com/flywheel-io/public/flywheel-tutorials/-/blob/master/python/upload-data-to-a-new-project.ipynb\" style=\"color:black\">upload-data notebook</a>. If you have not uploaded this test dataset yet, we strongly recommend you do so now following steps in <a href=\"https://gitlab.com/flywheel-io/public/flywheel-tutorials/-/blob/master/python/upload-data-to-a-new-project.ipynb\" style=\"color:black\">here</a> before proceeding because this notebook is based on a specific project structure.\n",
    "</div>"
   ]
  },
  {
   "cell_type": "markdown",
   "metadata": {},
   "source": [
    "<div class=\"alert alert-block alert-danger\" >\n",
    "    <b>WARNING:</b> The metadata of the acquisitions in your test project will be updated and new files will be created after running the scripts below. \n",
    "</div>"
   ]
  },
  {
   "cell_type": "markdown",
   "metadata": {
    "colab_type": "text",
    "id": "ay1WSTNnycu9"
   },
   "source": [
    "# Install and Import Dependencies"
   ]
  },
  {
   "cell_type": "code",
   "execution_count": null,
   "metadata": {
    "colab": {
     "base_uri": "https://localhost:8080/",
     "height": 292
    },
    "colab_type": "code",
    "id": "TvSB-YzJycd9",
    "outputId": "88896fc2-0cd1-4745-d1d7-5752fae84b64"
   },
   "outputs": [],
   "source": [
    "# Install specific packages required for this notebook\n",
    "!pip install flywheel-sdk pandas"
   ]
  },
  {
   "cell_type": "code",
   "execution_count": null,
   "metadata": {
    "colab": {},
    "colab_type": "code",
    "id": "wgIDvfT3yi2B"
   },
   "outputs": [],
   "source": [
    "# Import packages\n",
    "from getpass import getpass\n",
    "import logging\n",
    "import os\n",
    "import datetime\n",
    "import time\n",
    "import pprint\n",
    "from dateutil.tz import tzutc\n",
    "\n",
    "from IPython.display import display, Image\n",
    "import flywheel\n",
    "from permission import check_user_permission\n",
    "import numpy as np\n",
    "from tqdm import tqdm\n",
    "import statistics as stats\n",
    "from scipy import stats as st\n",
    "import matplotlib.pyplot as plt\n",
    "from scipy.stats import normaltest"
   ]
  },
  {
   "cell_type": "code",
   "execution_count": null,
   "metadata": {
    "colab": {},
    "colab_type": "code",
    "id": "ZtWGHIEBykZz"
   },
   "outputs": [],
   "source": [
    "# Instantiate a logger\n",
    "logging.basicConfig(level=logging.INFO, format='%(asctime)s %(levelname)s %(message)s')\n",
    "log = logging.getLogger('root')"
   ]
  },
  {
   "cell_type": "markdown",
   "metadata": {
    "colab_type": "text",
    "id": "RAnUF3QkynxV"
   },
   "source": [
    "# Flywheel API Key and Client"
   ]
  },
  {
   "cell_type": "markdown",
   "metadata": {
    "colab_type": "text",
    "id": "P8a20roWpFB-"
   },
   "source": [
    "Get a API_KEY. More on this at in the Flywheel SDK doc [here](https://flywheel-io.gitlab.io/product/backend/sdk/branches/master/python/getting_started.html#api-key)."
   ]
  },
  {
   "cell_type": "code",
   "execution_count": null,
   "metadata": {
    "colab": {
     "base_uri": "https://localhost:8080/",
     "height": 34
    },
    "colab_type": "code",
    "id": "LWkEZ-JTpFB-",
    "outputId": "47a9c115-7839-404b-b73c-69e57887ad5c"
   },
   "outputs": [],
   "source": [
    "API_KEY = getpass('Enter API_KEY here: ')"
   ]
  },
  {
   "cell_type": "markdown",
   "metadata": {
    "colab_type": "text",
    "id": "yl1SuWIdpFCB"
   },
   "source": [
    "Instantiate the Flywheel API client"
   ]
  },
  {
   "cell_type": "code",
   "execution_count": null,
   "metadata": {
    "colab": {},
    "colab_type": "code",
    "id": "yW3kAGFPpFCB"
   },
   "outputs": [],
   "source": [
    "fw = flywheel.Client(API_KEY or os.environ.get('FW_KEY'))\n",
    "\n",
    "del API_KEY"
   ]
  },
  {
   "cell_type": "markdown",
   "metadata": {
    "colab_type": "text",
    "id": "XPQg0AFey16p"
   },
   "source": [
    "Show Flywheel logging information"
   ]
  },
  {
   "cell_type": "code",
   "execution_count": null,
   "metadata": {
    "colab": {
     "base_uri": "https://localhost:8080/",
     "height": 54
    },
    "colab_type": "code",
    "id": "88-D948hy3uS",
    "outputId": "21183a89-d336-449b-aabd-df02adac3b55"
   },
   "outputs": [],
   "source": [
    "log.info('You are now logged in as %s to %s', fw.get_current_user()['email'], fw.get_config()['site']['api_url'])"
   ]
  },
  {
   "cell_type": "markdown",
   "metadata": {},
   "source": [
    "***"
   ]
  },
  {
   "cell_type": "markdown",
   "metadata": {},
   "source": [
    "# Check User Minimum Requirements\n",
    "\n",
    "Before we started our section, we would like to verify that you have the right permission to proceed in this notebook. \n"
   ]
  },
  {
   "cell_type": "code",
   "execution_count": null,
   "metadata": {},
   "outputs": [],
   "source": [
    "min_reqs = {\n",
    "\"site\": \"site_admin\",\n",
    "\"group\": \"ro\",\n",
    "\"project\": ['jobs_view',\n",
    "             'jobs_run_cancel',\n",
    "             'jobs_cancel_any']\n",
    "}"
   ]
  },
  {
   "cell_type": "markdown",
   "metadata": {},
   "source": [
    "***"
   ]
  },
  {
   "cell_type": "markdown",
   "metadata": {},
   "source": [
    "# Find Jobs\n",
    "\n",
    "Firstly, we will show you how to find the jobs that you have run previously. \n",
    "\n",
    "In the example below, we will be getting 2 jobs that you have launched within your instance. You can change the number of jobs that will be returned by modified the `limit` variable."
   ]
  },
  {
   "cell_type": "code",
   "execution_count": null,
   "metadata": {},
   "outputs": [],
   "source": [
    "user_id = fw.get_current_user()['email']"
   ]
  },
  {
   "cell_type": "code",
   "execution_count": null,
   "metadata": {},
   "outputs": [],
   "source": [
    "user_jobs = fw.jobs.find(f'origin.id={user_id}',limit = '2')"
   ]
  },
  {
   "cell_type": "code",
   "execution_count": null,
   "metadata": {},
   "outputs": [],
   "source": [
    "pprint.pprint(user_jobs)"
   ]
  },
  {
   "cell_type": "markdown",
   "metadata": {},
   "source": [
    "<div class=\"alert alert-block alert-info\" style=\"color:black\"><b>Info:</b>To learn more about the different attributes, please visit our SDK Docs <a href=\"https://flywheel-io.gitlab.io/product/backend/sdk/branches/master/python/flywheel.models.html?highlight=job#module-flywheel.models.job\">here</a>. It will come in handy when you try to filter jobs.</div>"
   ]
  },
  {
   "cell_type": "markdown",
   "metadata": {},
   "source": [
    "Essentially, you can search for the jobs that launched by other users as well. \n"
   ]
  },
  {
   "cell_type": "code",
   "execution_count": null,
   "metadata": {},
   "outputs": [],
   "source": [
    "sample_id = input('Please enter the user\\'s email address that you wished to search for:  ')"
   ]
  },
  {
   "cell_type": "code",
   "execution_count": null,
   "metadata": {},
   "outputs": [],
   "source": [
    "user_jobs = fw.jobs.find(f'origin.id={sample_id}',limit = '2')"
   ]
  },
  {
   "cell_type": "code",
   "execution_count": null,
   "metadata": {},
   "outputs": [],
   "source": [
    "pprint.pprint(user_jobs)"
   ]
  },
  {
   "cell_type": "markdown",
   "metadata": {},
   "source": [
    "***"
   ]
  },
  {
   "cell_type": "markdown",
   "metadata": {},
   "source": [
    "# Filter jobs based on gear name, date range, and state"
   ]
  },
  {
   "cell_type": "markdown",
   "metadata": {},
   "source": [
    "## Gear Name"
   ]
  },
  {
   "cell_type": "code",
   "execution_count": null,
   "metadata": {},
   "outputs": [],
   "source": [
    "gear_name = 'mriqc'"
   ]
  },
  {
   "cell_type": "code",
   "execution_count": null,
   "metadata": {},
   "outputs": [],
   "source": [
    "mriqc_jobs = fw.jobs.find(f'gear_info.name={gear_name}', limit='2')\n"
   ]
  },
  {
   "cell_type": "code",
   "execution_count": null,
   "metadata": {},
   "outputs": [],
   "source": [
    "pprint.pprint(mriqc_jobs)"
   ]
  },
  {
   "cell_type": "markdown",
   "metadata": {},
   "source": [
    "## Date Range"
   ]
  },
  {
   "cell_type": "code",
   "execution_count": null,
   "metadata": {},
   "outputs": [],
   "source": [
    "created_by = '2020-07-01'"
   ]
  },
  {
   "cell_type": "code",
   "execution_count": null,
   "metadata": {},
   "outputs": [],
   "source": [
    "filtered_jobs = fw.jobs.find(f'created>{created_by}', limit='2')"
   ]
  },
  {
   "cell_type": "code",
   "execution_count": null,
   "metadata": {},
   "outputs": [],
   "source": [
    "pprint.pprint(filtered_jobs)"
   ]
  },
  {
   "cell_type": "markdown",
   "metadata": {},
   "source": [
    "## State"
   ]
  },
  {
   "cell_type": "code",
   "execution_count": null,
   "metadata": {},
   "outputs": [],
   "source": [
    "state = 'complete'"
   ]
  },
  {
   "cell_type": "code",
   "execution_count": null,
   "metadata": {},
   "outputs": [],
   "source": [
    "filtered_jobs = fw.jobs.find(f'state={state}', limit='2')"
   ]
  },
  {
   "cell_type": "code",
   "execution_count": null,
   "metadata": {},
   "outputs": [],
   "source": [
    "pprint.pprint(filtered_jobs)"
   ]
  },
  {
   "cell_type": "markdown",
   "metadata": {},
   "source": [
    "***"
   ]
  },
  {
   "cell_type": "markdown",
   "metadata": {},
   "source": [
    "# Cancel Jobs"
   ]
  },
  {
   "cell_type": "markdown",
   "metadata": {},
   "source": [
    "Simply use the `update` method to cancel the job that is on pending."
   ]
  },
  {
   "cell_type": "code",
   "execution_count": null,
   "metadata": {},
   "outputs": [],
   "source": [
    "filtered_jobs = fw.jobs.find('state=pending', limit='2')\n",
    "\n",
    "for job in filtered_jobs:\n",
    "    job.update(state='cancelled')"
   ]
  },
  {
   "cell_type": "markdown",
   "metadata": {},
   "source": [
    "***"
   ]
  },
  {
   "cell_type": "markdown",
   "metadata": {},
   "source": [
    "# Restart Jobs"
   ]
  },
  {
   "cell_type": "markdown",
   "metadata": {},
   "source": [
    "You can also restart a job that has a state of `failed`. However, each job can only be retried once."
   ]
  },
  {
   "cell_type": "markdown",
   "metadata": {},
   "source": [
    "To demonstrate, we will be restarting `mriqc` job that has `failed` by iterating through the `user_jobs` list that we defined earlier with `fw.jobs.find()` method .\n",
    "We will be using exception handling to prevent from restarting job for more than one times. \n",
    "\n",
    "Once the job has been successfully restarted, it will return a new `job_id`. We will append this new `job_id` to a list named `retried_job`."
   ]
  },
  {
   "cell_type": "code",
   "execution_count": null,
   "metadata": {},
   "outputs": [],
   "source": [
    "retried_job = list()\n",
    "\n",
    "for job in user_jobs:\n",
    "    try:\n",
    "        if job.state == 'failed' and job.gear_info['name'] == 'mriqc' and len(retried_job)< 2:\n",
    "            new_job_id = fw.retry_job(job.id)\n",
    "            retried_job.append(new_job_id)\n",
    "            \n",
    "    except:\n",
    "        pass"
   ]
  },
  {
   "cell_type": "code",
   "execution_count": null,
   "metadata": {},
   "outputs": [],
   "source": [
    "# View the job ID that has been retried\n",
    "retried_job"
   ]
  },
  {
   "cell_type": "markdown",
   "metadata": {},
   "source": [
    "***"
   ]
  },
  {
   "cell_type": "markdown",
   "metadata": {},
   "source": [
    "# Job Statistics"
   ]
  },
  {
   "cell_type": "markdown",
   "metadata": {},
   "source": [
    "In this section, we will present an example of calculating, plotting and then using job statistics for the purpose of cancelling jobs that take too long.\n",
    "\n"
   ]
  },
  {
   "cell_type": "markdown",
   "metadata": {},
   "source": [
    "To give you an overview, you can use `fw.get_jobs_stats()` method to view the status of all current jobs within the Flywheel Instance."
   ]
  },
  {
   "cell_type": "code",
   "execution_count": null,
   "metadata": {},
   "outputs": [],
   "source": [
    "fw.get_jobs_stats()"
   ]
  },
  {
   "cell_type": "markdown",
   "metadata": {},
   "source": [
    "Before getting started, we will be defining a few values like the gear name, date of the jobs created and sample size etc."
   ]
  },
  {
   "cell_type": "markdown",
   "metadata": {},
   "source": [
    "## Initialize a few values"
   ]
  },
  {
   "cell_type": "code",
   "execution_count": null,
   "metadata": {},
   "outputs": [],
   "source": [
    "def validate(date_text):\n",
    "    try:\n",
    "        datetime.datetime.strptime(date_text, '%Y-%m-%d')\n",
    "        log.info('Please proceed to the next cell')\n",
    "    except ValueError:\n",
    "        raise ValueError(\"Incorrect data format, should be YYYY-MM-DD\")"
   ]
  },
  {
   "cell_type": "code",
   "execution_count": null,
   "metadata": {},
   "outputs": [],
   "source": [
    "GEAR_NAME = input('Please enter the gear that you wish to print out the information about: ')\n",
    "CREATED_BY = input('Please enter the date you wish to filter by in this format (yyyy-mm-dd): ')\n",
    "MAX_SAMPLE_SIZE = input('Please enter the max number of jobs you want to analyze: ')"
   ]
  },
  {
   "cell_type": "code",
   "execution_count": null,
   "metadata": {},
   "outputs": [],
   "source": [
    "# Verify if you have entered the right date format\n",
    "validate(CREATED_BY)"
   ]
  },
  {
   "cell_type": "markdown",
   "metadata": {},
   "source": [
    "## Helpful Function"
   ]
  },
  {
   "cell_type": "code",
   "execution_count": null,
   "metadata": {},
   "outputs": [],
   "source": [
    "def plot(fw_client, gear_name, created_by, sample_size):\n",
    "    run_times = list()\n",
    "    \n",
    "    for job in tqdm(fw_client.jobs.find(f'gear_info.name={gear_name},state=\"complete\",created>{created_by}', limit=sample_size)):\n",
    "        job_container = fw_client.get_job(job.id)\n",
    "        time_delta = job_container.transitions.complete - job_container.transitions.running\n",
    "        run_times.append(time_delta.total_seconds()/60)\n",
    "        \n",
    "    if run_times:\n",
    "        plt.hist(run_times)\n",
    "        plt.title(f'{gear_name} run times in minutes')\n",
    "        plt.show()\n",
    "        \n",
    "        max_run_time = max(run_times) \n",
    "        min_run_time = min(run_times)\n",
    "        run_time_range = max_run_time - min_run_time\n",
    "        mu = stats.mean(run_times)\n",
    "        sd = stats.stdev(run_times)\n",
    "\n",
    "        # Determine a run_time_cutoff \n",
    "        s, pval = normaltest(run_times)\n",
    "        if pval < 0.01:\n",
    "            print(f's = {s:.2f}. Distribution is normal (enough)... Using 2*sd + mu a cutoff')\n",
    "            run_time_cutoff = 2*sd + mu\n",
    "        else:\n",
    "            print(f's = {s:.2f}. Distribution is not normal (enough)... Using max time + 1sd as a cutoff')\n",
    "            \n",
    "            run_time_cutoff = max_run_time + 1*sd\n",
    "\n",
    "        print(f'range={run_time_range:.2f}\\nmu = {mu:.2f}\\nsd = {sd:.2f}\\ncut off = {run_time_cutoff:.2f}')\n",
    "       "
   ]
  },
  {
   "cell_type": "code",
   "execution_count": null,
   "metadata": {},
   "outputs": [],
   "source": [
    "plot(fw, GEAR_NAME, CREATED_BY, MAX_SAMPLE_SIZE)"
   ]
  },
  {
   "cell_type": "code",
   "execution_count": null,
   "metadata": {},
   "outputs": [],
   "source": [
    "\n",
    "sleep_time = 1              # Amount of time (in min) to sleep between checks\n",
    "\n",
    "while True:\n",
    "    print(f\"==============================\\n{datetime.datetime.now()}\\n==============================\\n\")\n",
    "   \n",
    "    \n",
    "    num_pending = len(fw.jobs.find(f'state=pending,created>{CREATED_BY},gear_info.name={GEAR_NAME}', limit=MAX_SAMPLE_SIZE))\n",
    "    print(f'{num_pending} pending {GEAR_NAME} jobs')\n",
    "\n",
    "    running_jobs = fw.jobs.find(f'state=running,created>{CREATED_BY},gear_info.name={GEAR_NAME}', limit=MAX_SAMPLE_SIZE)\n",
    "    print(f'{running_jobs} running {GEAR_NAME} jobs\\n')\n",
    "\n",
    "    for j in running_jobs:\n",
    "        job = fw.get_job(j.id)\n",
    "        time_delta = datetime.datetime.now(tz=tzutc()) - job.transitions.running\n",
    "        run_time_min = time_delta.total_seconds()/60\n",
    "        print('{} running for {:.2f} min'.format(job.id, run_time_min))\n",
    "        if run_time_min > run_time_cutoff:\n",
    "            print(f\"{job.id} running for {run_time_min} -- cancelled as it is more than the cutoff of {run_time_cutoff}\")\n",
    "            \n",
    "    print(f'Sleeping {sleep_time} min...')\n",
    "    time.sleep(60*sleep_time)"
   ]
  },
  {
   "cell_type": "code",
   "execution_count": null,
   "metadata": {},
   "outputs": [],
   "source": []
  }
 ],
 "metadata": {
  "kernelspec": {
   "display_name": "Python 3",
   "language": "python",
   "name": "python3"
  },
  "language_info": {
   "codemirror_mode": {
    "name": "ipython",
    "version": 3
   },
   "file_extension": ".py",
   "mimetype": "text/x-python",
   "name": "python",
   "nbconvert_exporter": "python",
   "pygments_lexer": "ipython3",
   "version": "3.7.6"
  }
 },
 "nbformat": 4,
 "nbformat_minor": 4
}
