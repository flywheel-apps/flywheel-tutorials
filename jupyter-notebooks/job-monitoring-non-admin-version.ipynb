{
 "cells": [
  {
   "cell_type": "markdown",
   "metadata": {},
   "source": [
    "**Title**: Job Monitoring - User and Developer Version\n",
    "\n",
    "**Date**:  July 8th 2020\n",
    "\n",
    "**Description**:  \n",
    "A simple tutorial about job monitoring for user and developer only. \n",
    "\n",
    "Topics that are included:\n",
    "1. Jobs that I have launched\n",
    "2. Filter jobs based on gear name, date range, and state\n",
    "3. Cancelling Jobs\n",
    "4. Restarting Jobs\n",
    "5. Get summary of job status"
   ]
  },
  {
   "cell_type": "markdown",
   "metadata": {},
   "source": [
    "### **Requirements**:\n",
    "1. Access to a Flywheel instance.\n",
    "2. A Flywheel Project with ideally the dataset used in the [upload-data notebook](https://gitlab.com/flywheel-io/public/flywheel-tutorials/-/blob/master/python/upload-data-to-a-new-project.ipynb).\n",
    "3. Have some jobs running in your Flywheel Project"
   ]
  },
  {
   "cell_type": "markdown",
   "metadata": {},
   "source": [
    "<div class=\"alert alert-block alert-warning\" >\n",
    "    <b>NOTE:</b> This notebook is using a test dataset provided by the <a href=\"https://gitlab.com/flywheel-io/public/flywheel-tutorials/-/blob/master/python/upload-data-to-a-new-project.ipynb\" style=\"color:black\">upload-data notebook</a>. If you have not uploaded this test dataset yet, we strongly recommend you do so now following steps in <a href=\"https://gitlab.com/flywheel-io/public/flywheel-tutorials/-/blob/master/python/upload-data-to-a-new-project.ipynb\" style=\"color:black\">here</a> before proceeding because this notebook is based on a specific project structure.\n",
    "</div>"
   ]
  },
  {
   "cell_type": "markdown",
   "metadata": {},
   "source": [
    "<div class=\"alert alert-block alert-danger\" >\n",
    "    <b>WARNING:</b> The metadata of the acquisitions in your test project will be updated and new files will be created after running the scripts below. \n",
    "</div>"
   ]
  },
  {
   "cell_type": "markdown",
   "metadata": {
    "colab_type": "text",
    "id": "ay1WSTNnycu9"
   },
   "source": [
    "# Install and Import Dependencies"
   ]
  },
  {
   "cell_type": "code",
   "execution_count": null,
   "metadata": {
    "colab": {
     "base_uri": "https://localhost:8080/",
     "height": 292
    },
    "colab_type": "code",
    "id": "TvSB-YzJycd9",
    "outputId": "88896fc2-0cd1-4745-d1d7-5752fae84b64"
   },
   "outputs": [],
   "source": [
    "# Install specific packages required for this notebook\n",
    "!pip install flywheel-sdk pandas"
   ]
  },
  {
   "cell_type": "code",
   "execution_count": null,
   "metadata": {
    "colab": {},
    "colab_type": "code",
    "id": "wgIDvfT3yi2B"
   },
   "outputs": [],
   "source": [
    "# Import packages\n",
    "from getpass import getpass\n",
    "import logging\n",
    "import os\n",
    "import datetime\n",
    "import pprint\n",
    "from dateutil.tz import tzutc\n",
    "\n",
    "from IPython.display import display, Image\n",
    "import flywheel\n",
    "from permission import check_user_permission\n"
   ]
  },
  {
   "cell_type": "code",
   "execution_count": null,
   "metadata": {
    "colab": {},
    "colab_type": "code",
    "id": "ZtWGHIEBykZz"
   },
   "outputs": [],
   "source": [
    "# Instantiate a logger\n",
    "logging.basicConfig(level=logging.INFO, format='%(asctime)s %(levelname)s %(message)s')\n",
    "log = logging.getLogger('root')"
   ]
  },
  {
   "cell_type": "markdown",
   "metadata": {
    "colab_type": "text",
    "id": "RAnUF3QkynxV"
   },
   "source": [
    "# Flywheel API Key and Client"
   ]
  },
  {
   "cell_type": "markdown",
   "metadata": {
    "colab_type": "text",
    "id": "P8a20roWpFB-"
   },
   "source": [
    "Get a API_KEY. More on this at in the Flywheel SDK doc [here](https://flywheel-io.gitlab.io/product/backend/sdk/branches/master/python/getting_started.html#api-key)."
   ]
  },
  {
   "cell_type": "code",
   "execution_count": null,
   "metadata": {
    "colab": {
     "base_uri": "https://localhost:8080/",
     "height": 34
    },
    "colab_type": "code",
    "id": "LWkEZ-JTpFB-",
    "outputId": "47a9c115-7839-404b-b73c-69e57887ad5c"
   },
   "outputs": [],
   "source": [
    "API_KEY = getpass('Enter API_KEY here: ')"
   ]
  },
  {
   "cell_type": "markdown",
   "metadata": {
    "colab_type": "text",
    "id": "yl1SuWIdpFCB"
   },
   "source": [
    "Instantiate the Flywheel API client"
   ]
  },
  {
   "cell_type": "code",
   "execution_count": null,
   "metadata": {
    "colab": {},
    "colab_type": "code",
    "id": "yW3kAGFPpFCB"
   },
   "outputs": [],
   "source": [
    "fw = flywheel.Client(API_KEY if 'API_KEY' in locals() else os.environ.get('FW_KEY'))\n",
    "\n",
    "del API_KEY"
   ]
  },
  {
   "cell_type": "markdown",
   "metadata": {
    "colab_type": "text",
    "id": "XPQg0AFey16p"
   },
   "source": [
    "Show Flywheel logging information"
   ]
  },
  {
   "cell_type": "code",
   "execution_count": null,
   "metadata": {
    "colab": {
     "base_uri": "https://localhost:8080/",
     "height": 54
    },
    "colab_type": "code",
    "id": "88-D948hy3uS",
    "outputId": "21183a89-d336-449b-aabd-df02adac3b55"
   },
   "outputs": [],
   "source": [
    "log.info('You are now logged in as %s to %s', fw.get_current_user()['email'], fw.get_config()['site']['api_url'])"
   ]
  },
  {
   "cell_type": "markdown",
   "metadata": {},
   "source": [
    "***"
   ]
  },
  {
   "cell_type": "markdown",
   "metadata": {},
   "source": [
    "# Requirements\n",
    "\n",
    "Before we started our section, we would like to verify that you have the right permission to proceed in this notebook. \n"
   ]
  },
  {
   "cell_type": "code",
   "execution_count": null,
   "metadata": {},
   "outputs": [],
   "source": [
    "min_reqs = {\n",
    "\"site\": \"user\",\n",
    "\"group\": \"ro\",\n",
    "\"project\": ['jobs_view',\n",
    "            'jobs_run_cancel']\n",
    "}"
   ]
  },
  {
   "cell_type": "code",
   "execution_count": null,
   "metadata": {},
   "outputs": [],
   "source": [
    "GROUP_ID = input('Please enter the one of the Group ID that you have access to: ')"
   ]
  },
  {
   "cell_type": "code",
   "execution_count": null,
   "metadata": {},
   "outputs": [],
   "source": [
    "PORJECT_LABEL = input('Please enter the one Project Label that you have access to: ')"
   ]
  },
  {
   "cell_type": "markdown",
   "metadata": {},
   "source": [
    "`check_user_permission` will return True if both the group and project meet the minimum requirement, else a compatible list will be printed."
   ]
  },
  {
   "cell_type": "code",
   "execution_count": null,
   "metadata": {},
   "outputs": [],
   "source": [
    "check_user_permission(fw, min_reqs)"
   ]
  },
  {
   "cell_type": "markdown",
   "metadata": {},
   "source": [
    "<div class=\"alert alert-block alert-danger\"><b>WARNING:</b> If there is <b>NO Project</b> meet the minimum requirements, you will not be able to proceed in this notebook. Please contact your site admin in order to gain access to run/cancel a job for at least one project on your Flywheel Instance.</div>"
   ]
  },
  {
   "cell_type": "markdown",
   "metadata": {},
   "source": [
    "***"
   ]
  },
  {
   "cell_type": "markdown",
   "metadata": {},
   "source": [
    "# How to get Job that I launched?"
   ]
  },
  {
   "cell_type": "markdown",
   "metadata": {},
   "source": [
    "In this section, we will be showing you how to use `get_current_user_jobs` method to get the jobs that you have launched in the past.\n",
    "\n",
    "\n",
    "Within the Job container, we will be printing the a few attributes within the job such as the `gear_info` that run the job, `state` of the job, and job `id`. \n"
   ]
  },
  {
   "cell_type": "code",
   "execution_count": null,
   "metadata": {},
   "outputs": [],
   "source": [
    "jobs = fw.get_current_user_jobs()['jobs']\n",
    "\n",
    "\n",
    "for i, job in enumerate(jobs):\n",
    "    print(f'Gear Info: {job.gear_info}')\n",
    "    print(f'Job State: {job.state}')\n",
    "    print(f'Job ID: {job.id}')\n",
    "    print()\n",
    "    if i > 5:\n",
    "        break\n",
    "    "
   ]
  },
  {
   "cell_type": "markdown",
   "metadata": {},
   "source": [
    "> Expected Output:\n",
    "\n",
    "```\n",
    "Gear Info: {'category': 'qa',\n",
    " 'id': None,\n",
    " 'name': 'mriqc-demo',\n",
    " 'version': '0.7.0_0.15.1-hbcd-dev-h'}\n",
    "Job State: complete\n",
    "Job ID: 5aee8a5e10a8c402961e70f0\n",
    "\n",
    "Gear Info: {'category': 'qa',\n",
    " 'id': None,\n",
    " 'name': 'mriqc-demo',\n",
    " 'version': '0.7.0_0.15.1-hbcd-dev-h'}\n",
    "Job State: complete\n",
    "Job ID: 5bee77bc10a8c402e21e6f1d\n",
    "```\n"
   ]
  },
  {
   "cell_type": "markdown",
   "metadata": {},
   "source": [
    "# Find Specific Job with the Job ID\n",
    "\n",
    "To view a specific job via the Job ID, you can use `get_job_detail`. This will only work for the job you have launched yourself. "
   ]
  },
  {
   "cell_type": "code",
   "execution_count": null,
   "metadata": {},
   "outputs": [],
   "source": [
    "# Get the latest job that you have launched \n",
    "JOB_ID = jobs[0].id"
   ]
  },
  {
   "cell_type": "code",
   "execution_count": null,
   "metadata": {},
   "outputs": [],
   "source": [
    "specific_job_detail = fw.get_job_detail(JOB_ID)"
   ]
  },
  {
   "cell_type": "code",
   "execution_count": null,
   "metadata": {},
   "outputs": [],
   "source": [
    "print(f'Gear Info: {specific_job_detail.gear_info}')\n",
    "print(f'Job State: {specific_job_detail.state}')\n",
    "print(f'Job ID: {specific_job_detail.id}')"
   ]
  },
  {
   "cell_type": "markdown",
   "metadata": {},
   "source": [
    "> Expected Output:\n",
    "\n",
    "```\n",
    "Gear Info: {'category': 'qa', 'id': None, 'name': 'mriqc-demo', 'version': '0.7.0_0.15.1-hbcd-dev-h'}\n",
    "Job State: complete\n",
    "Job ID: 5bee77bc10a8c402e21e6f1d\n",
    "```"
   ]
  },
  {
   "cell_type": "markdown",
   "metadata": {},
   "source": [
    "***"
   ]
  },
  {
   "cell_type": "markdown",
   "metadata": {},
   "source": [
    "# Filter Job\n"
   ]
  },
  {
   "cell_type": "markdown",
   "metadata": {},
   "source": [
    "In this section, we will showcase how to filter job based on the Gear Name, Date and the State of the Job."
   ]
  },
  {
   "cell_type": "markdown",
   "metadata": {},
   "source": [
    "# Initialize a few values"
   ]
  },
  {
   "cell_type": "markdown",
   "metadata": {},
   "source": [
    "First, we will need you to initialize the gear you would like to filter the job with, date of the jobs that are created by, and state of the job you would like to search by. "
   ]
  },
  {
   "cell_type": "code",
   "execution_count": null,
   "metadata": {},
   "outputs": [],
   "source": [
    "GEAR_NAME = input('Please enter the gear that you would like to filter by: ')"
   ]
  },
  {
   "cell_type": "code",
   "execution_count": null,
   "metadata": {},
   "outputs": [],
   "source": [
    "CREATED_BY = input('Please enter the date you would like to filter by: ')"
   ]
  },
  {
   "cell_type": "code",
   "execution_count": null,
   "metadata": {},
   "outputs": [],
   "source": [
    "JOB_STATE = input('Please enter the state of the job you would like to filter by: ')"
   ]
  },
  {
   "cell_type": "markdown",
   "metadata": {},
   "source": [
    "## 1. Gear Name\n",
    "\n"
   ]
  },
  {
   "cell_type": "code",
   "execution_count": null,
   "metadata": {},
   "outputs": [],
   "source": [
    "filtered_job = list(filter(lambda x : x['gear_info']['name'] == GEAR_NAME, jobs))\n",
    "\n",
    "for i, job in enumerate(filtered_job):\n",
    "    print(f'Gear Info: {job.gear_info}')\n",
    "    print(f'Job State: {job.state}')\n",
    "    print(f'Job ID: {job.id}')\n",
    "    print()\n",
    "    if i >= 5:\n",
    "        break"
   ]
  },
  {
   "cell_type": "markdown",
   "metadata": {},
   "source": [
    "## 2. Date"
   ]
  },
  {
   "cell_type": "code",
   "execution_count": null,
   "metadata": {},
   "outputs": [],
   "source": [
    "CREATED_BY = \"2020-06-05\""
   ]
  },
  {
   "cell_type": "code",
   "execution_count": null,
   "metadata": {},
   "outputs": [],
   "source": [
    "def filter_date(job):\n",
    "    if job.created.strftime(\"%Y-%m-%d\") > CREATED_BY:\n",
    "        return job\n",
    "    "
   ]
  },
  {
   "cell_type": "code",
   "execution_count": null,
   "metadata": {},
   "outputs": [],
   "source": [
    "filtered_job = list(filter(lambda x:x.created.strftime(\"%Y-%m-%d\") > CREATED_BY, jobs))\n",
    "\n",
    "for i, job in enumerate(filtered_job):\n",
    "    print(f'Gear Info: {job.gear_info}')\n",
    "    print(f'Job State: {job.state}')\n",
    "    print(f'Job ID: {job.id}')\n",
    "    print()\n",
    "    if i >= 5:\n",
    "        break"
   ]
  },
  {
   "cell_type": "markdown",
   "metadata": {},
   "source": [
    "## 3. State of the job"
   ]
  },
  {
   "cell_type": "code",
   "execution_count": null,
   "metadata": {},
   "outputs": [],
   "source": [
    "filtered_job = list(filter(lambda x:x.state == JOB_STATE, jobs))\n",
    "\n",
    "for i, job in enumerate(filtered_job):\n",
    "    print(f'Gear Info: {job.gear_info}')\n",
    "    print(f'Job State: {job.state}')\n",
    "    print(f'Job ID: {job.id}')\n",
    "    print()\n",
    "    if i > 5:\n",
    "        break"
   ]
  },
  {
   "cell_type": "markdown",
   "metadata": {},
   "source": [
    "***"
   ]
  },
  {
   "cell_type": "markdown",
   "metadata": {},
   "source": [
    "# Cancelling Job"
   ]
  },
  {
   "cell_type": "markdown",
   "metadata": {},
   "source": [
    "Simply use the `update` method to cancel the job that is on pending."
   ]
  },
  {
   "cell_type": "code",
   "execution_count": null,
   "metadata": {},
   "outputs": [],
   "source": [
    "JOB_STATE = 'pending'\n",
    "\n",
    "filtered_job = list(filter(JOB_STATE, jobs))\n",
    "\n",
    "for job in filtered_job:\n",
    "    job.update(state='cancelled')\n",
    "    \n"
   ]
  },
  {
   "cell_type": "markdown",
   "metadata": {},
   "source": [
    "***"
   ]
  },
  {
   "cell_type": "markdown",
   "metadata": {},
   "source": [
    "# Restarting Job\n",
    "\n",
    "You can also restart a job that has a state of `failed`. However, each job can only be retried once.\n",
    "\n",
    "In this example, we will be iterate through the `jobs` list that we defined earlier with `fw.get_current_user_jobs()`. We will only be focusing on retrying the `mriqc` job. Then, we will be using the exception handling to ensure we are retrying job that has not been retried before. A new `job_id` will be generated when it has been successfully retried. This new `job_id` will then be appended to the `retried_job` list."
   ]
  },
  {
   "cell_type": "code",
   "execution_count": null,
   "metadata": {},
   "outputs": [],
   "source": [
    "retried_job = list()\n",
    "\n",
    "for job in jobs:\n",
    "    try:\n",
    "        if job.state == 'failed' and job.gear_info['name'] == 'mriqc' and len(retried_job)< 2:\n",
    "            new_job_id = fw.retry_job(job.id)\n",
    "            retried_job.append(new_job_id)\n",
    "            \n",
    "    except:\n",
    "        pass"
   ]
  },
  {
   "cell_type": "markdown",
   "metadata": {},
   "source": [
    "***"
   ]
  },
  {
   "cell_type": "markdown",
   "metadata": {},
   "source": [
    "# Pulling Statistics of the Jobs\n",
    "\n",
    "In this section, we want to showcase a simple example on getting a quick summary of the pending and running jobs on your instance. "
   ]
  },
  {
   "cell_type": "code",
   "execution_count": null,
   "metadata": {},
   "outputs": [],
   "source": [
    "\n",
    "pending_jobs = list(filter(lambda x:x.state == 'pending', jobs))\n",
    "\n",
    "running_jobs = list(filter(lambda x:x.state == 'running', jobs))\n",
    "\n",
    "\n"
   ]
  },
  {
   "cell_type": "code",
   "execution_count": null,
   "metadata": {},
   "outputs": [],
   "source": [
    "print(f'==============================\\n{datetime.datetime.now()}\\n==============================\\n')\n",
    "print(f'Check Job States \\n')\n",
    "print(f'{len(pending_jobs)} pending jobs \\n')\n",
    "print(f'{len(running_jobs)} running jobs \\n')"
   ]
  }
 ],
 "metadata": {
  "kernelspec": {
   "display_name": "Python 3",
   "language": "python",
   "name": "python3"
  },
  "language_info": {
   "codemirror_mode": {
    "name": "ipython",
    "version": 3
   },
   "file_extension": ".py",
   "mimetype": "text/x-python",
   "name": "python",
   "nbconvert_exporter": "python",
   "pygments_lexer": "ipython3",
   "version": "3.7.6"
  }
 },
 "nbformat": 4,
 "nbformat_minor": 4
}
